{
 "cells": [
  {
   "cell_type": "code",
   "execution_count": 333,
   "outputs": [],
   "source": [
    "# imports\n",
    "from pathlib import Path\n",
    "import pandas as pd\n",
    "import re\n",
    "import numpy as np\n",
    "import matplotlib.pyplot as plt\n",
    "from sklearn.tree import plot_tree\n",
    "from sklearn.preprocessing import MinMaxScaler\n",
    "import seaborn as sns\n",
    "from sklearn import metrics\n",
    "from sklearn import tree\n",
    "from keras.utils import to_categorical\n",
    "from sklearn.model_selection import train_test_split\n",
    "from keras.models import Sequential\n",
    "from keras.layers import Dense\n",
    "from keras.optimizers import SGD, Adam, Adagrad, RMSprop\n",
    "import joblib\n"
   ],
   "metadata": {
    "collapsed": false,
    "pycharm": {
     "name": "#%%\n"
    }
   }
  },
  {
   "cell_type": "code",
   "execution_count": 259,
   "outputs": [
    {
     "data": {
      "text/plain": "                                         name      id  minutes  \\\n0  arriba   baked winter squash mexican style  137739       55   \n1            a bit different  breakfast pizza   31490       30   \n2                   all in the kitchen  chili  112140      130   \n3                          alouette  potatoes   59389       45   \n4          amish  tomato ketchup  for canning   44061      190   \n\n   contributor_id   submitted  \\\n0           47892  2005-09-16   \n1           26278  2002-06-17   \n2          196586  2005-02-25   \n3           68585  2003-04-14   \n4           41706  2002-10-25   \n\n                                                tags  \\\n0  ['60-minutes-or-less', 'time-to-make', 'course...   \n1  ['30-minutes-or-less', 'time-to-make', 'course...   \n2  ['time-to-make', 'course', 'preparation', 'mai...   \n3  ['60-minutes-or-less', 'time-to-make', 'course...   \n4  ['weeknight', 'time-to-make', 'course', 'main-...   \n\n                                    nutrition  n_steps  \\\n0       [51.5, 0.0, 13.0, 0.0, 2.0, 0.0, 4.0]       11   \n1   [173.4, 18.0, 0.0, 17.0, 22.0, 35.0, 1.0]        9   \n2  [269.8, 22.0, 32.0, 48.0, 39.0, 27.0, 5.0]        6   \n3   [368.1, 17.0, 10.0, 2.0, 14.0, 8.0, 20.0]       11   \n4   [352.9, 1.0, 337.0, 23.0, 3.0, 0.0, 28.0]        5   \n\n                                               steps  \\\n0  ['make a choice and proceed with recipe', 'dep...   \n1  ['preheat oven to 425 degrees f', 'press dough...   \n2  ['brown ground beef in large pot', 'add choppe...   \n3  ['place potatoes in a large pot of lightly sal...   \n4  ['mix all ingredients& boil for 2 1 / 2 hours ...   \n\n                                         description  \\\n0  autumn is my favorite time of year to cook! th...   \n1  this recipe calls for the crust to be prebaked...   \n2  this modified version of 'mom's' chili was a h...   \n3  this is a super easy, great tasting, make ahea...   \n4  my dh's amish mother raised him on this recipe...   \n\n                                         ingredients  n_ingredients  \n0  ['winter squash', 'mexican seasoning', 'mixed ...              7  \n1  ['prepared pizza crust', 'sausage patty', 'egg...              6  \n2  ['ground beef', 'yellow onions', 'diced tomato...             13  \n3  ['spreadable cheese with garlic and herbs', 'n...             11  \n4  ['tomato juice', 'apple cider vinegar', 'sugar...              8  ",
      "text/html": "<div>\n<style scoped>\n    .dataframe tbody tr th:only-of-type {\n        vertical-align: middle;\n    }\n\n    .dataframe tbody tr th {\n        vertical-align: top;\n    }\n\n    .dataframe thead th {\n        text-align: right;\n    }\n</style>\n<table border=\"1\" class=\"dataframe\">\n  <thead>\n    <tr style=\"text-align: right;\">\n      <th></th>\n      <th>name</th>\n      <th>id</th>\n      <th>minutes</th>\n      <th>contributor_id</th>\n      <th>submitted</th>\n      <th>tags</th>\n      <th>nutrition</th>\n      <th>n_steps</th>\n      <th>steps</th>\n      <th>description</th>\n      <th>ingredients</th>\n      <th>n_ingredients</th>\n    </tr>\n  </thead>\n  <tbody>\n    <tr>\n      <th>0</th>\n      <td>arriba   baked winter squash mexican style</td>\n      <td>137739</td>\n      <td>55</td>\n      <td>47892</td>\n      <td>2005-09-16</td>\n      <td>['60-minutes-or-less', 'time-to-make', 'course...</td>\n      <td>[51.5, 0.0, 13.0, 0.0, 2.0, 0.0, 4.0]</td>\n      <td>11</td>\n      <td>['make a choice and proceed with recipe', 'dep...</td>\n      <td>autumn is my favorite time of year to cook! th...</td>\n      <td>['winter squash', 'mexican seasoning', 'mixed ...</td>\n      <td>7</td>\n    </tr>\n    <tr>\n      <th>1</th>\n      <td>a bit different  breakfast pizza</td>\n      <td>31490</td>\n      <td>30</td>\n      <td>26278</td>\n      <td>2002-06-17</td>\n      <td>['30-minutes-or-less', 'time-to-make', 'course...</td>\n      <td>[173.4, 18.0, 0.0, 17.0, 22.0, 35.0, 1.0]</td>\n      <td>9</td>\n      <td>['preheat oven to 425 degrees f', 'press dough...</td>\n      <td>this recipe calls for the crust to be prebaked...</td>\n      <td>['prepared pizza crust', 'sausage patty', 'egg...</td>\n      <td>6</td>\n    </tr>\n    <tr>\n      <th>2</th>\n      <td>all in the kitchen  chili</td>\n      <td>112140</td>\n      <td>130</td>\n      <td>196586</td>\n      <td>2005-02-25</td>\n      <td>['time-to-make', 'course', 'preparation', 'mai...</td>\n      <td>[269.8, 22.0, 32.0, 48.0, 39.0, 27.0, 5.0]</td>\n      <td>6</td>\n      <td>['brown ground beef in large pot', 'add choppe...</td>\n      <td>this modified version of 'mom's' chili was a h...</td>\n      <td>['ground beef', 'yellow onions', 'diced tomato...</td>\n      <td>13</td>\n    </tr>\n    <tr>\n      <th>3</th>\n      <td>alouette  potatoes</td>\n      <td>59389</td>\n      <td>45</td>\n      <td>68585</td>\n      <td>2003-04-14</td>\n      <td>['60-minutes-or-less', 'time-to-make', 'course...</td>\n      <td>[368.1, 17.0, 10.0, 2.0, 14.0, 8.0, 20.0]</td>\n      <td>11</td>\n      <td>['place potatoes in a large pot of lightly sal...</td>\n      <td>this is a super easy, great tasting, make ahea...</td>\n      <td>['spreadable cheese with garlic and herbs', 'n...</td>\n      <td>11</td>\n    </tr>\n    <tr>\n      <th>4</th>\n      <td>amish  tomato ketchup  for canning</td>\n      <td>44061</td>\n      <td>190</td>\n      <td>41706</td>\n      <td>2002-10-25</td>\n      <td>['weeknight', 'time-to-make', 'course', 'main-...</td>\n      <td>[352.9, 1.0, 337.0, 23.0, 3.0, 0.0, 28.0]</td>\n      <td>5</td>\n      <td>['mix all ingredients&amp; boil for 2 1 / 2 hours ...</td>\n      <td>my dh's amish mother raised him on this recipe...</td>\n      <td>['tomato juice', 'apple cider vinegar', 'sugar...</td>\n      <td>8</td>\n    </tr>\n  </tbody>\n</table>\n</div>"
     },
     "execution_count": 259,
     "metadata": {},
     "output_type": "execute_result"
    }
   ],
   "source": [
    "# inlezen dataset recepten\n",
    "df_recipes = pd.read_csv(\"./Datasets/recipes.csv\", converters={\"nutrition\": pd.eval})\n",
    "df_recipes.head()"
   ],
   "metadata": {
    "collapsed": false,
    "pycharm": {
     "name": "#%%\n"
    }
   }
  },
  {
   "cell_type": "code",
   "execution_count": 260,
   "outputs": [
    {
     "data": {
      "text/plain": "0         ['60-minutes-or-less', 'time-to-make', 'course...\n1         ['30-minutes-or-less', 'time-to-make', 'course...\n2         ['time-to-make', 'course', 'preparation', 'mai...\n3         ['60-minutes-or-less', 'time-to-make', 'course...\n4         ['weeknight', 'time-to-make', 'course', 'main-...\n                                ...                        \n231632    ['ham', '60-minutes-or-less', 'time-to-make', ...\n231633    ['15-minutes-or-less', 'time-to-make', 'course...\n231634    ['60-minutes-or-less', 'time-to-make', 'course...\n231635    ['30-minutes-or-less', 'time-to-make', 'course...\n231636    ['30-minutes-or-less', 'time-to-make', 'course...\nName: tags, Length: 231637, dtype: object"
     },
     "execution_count": 260,
     "metadata": {},
     "output_type": "execute_result"
    }
   ],
   "source": [
    "# Which cuisine\n",
    "df_recipes[\"tags\"]"
   ],
   "metadata": {
    "collapsed": false,
    "pycharm": {
     "name": "#%%\n"
    }
   }
  },
  {
   "cell_type": "code",
   "execution_count": 261,
   "outputs": [
    {
     "data": {
      "text/plain": "array([     0,      1,      2, ..., 231634, 231635, 231636], dtype=int64)"
     },
     "execution_count": 261,
     "metadata": {},
     "output_type": "execute_result"
    }
   ],
   "source": [
    "select_indices_tags = list(np.where(df_recipes.loc[:,\"tags\"]))[0]\n",
    "select_indices_tags"
   ],
   "metadata": {
    "collapsed": false,
    "pycharm": {
     "name": "#%%\n"
    }
   }
  },
  {
   "cell_type": "code",
   "execution_count": 262,
   "outputs": [],
   "source": [
    "df_recipes[\"Vegetarian\"] = \"\""
   ],
   "metadata": {
    "collapsed": false,
    "pycharm": {
     "name": "#%%\n"
    }
   }
  },
  {
   "cell_type": "code",
   "execution_count": 263,
   "outputs": [],
   "source": [
    "for j in select_indices_tags:\n",
    "    try:\n",
    "        vegetarian = re.search('vegetarian' or 'vegan', df_recipes.loc[j,\"tags\"]).group(0)\n",
    "        df_recipes.loc[j, \"Vegetarian\"] = vegetarian\n",
    "\n",
    "    except AttributeError:\n",
    "        pass"
   ],
   "metadata": {
    "collapsed": false,
    "pycharm": {
     "name": "#%%\n"
    }
   }
  },
  {
   "cell_type": "code",
   "execution_count": 264,
   "outputs": [
    {
     "data": {
      "text/plain": "                                         name      id  minutes  \\\n0  arriba   baked winter squash mexican style  137739       55   \n1            a bit different  breakfast pizza   31490       30   \n2                   all in the kitchen  chili  112140      130   \n3                          alouette  potatoes   59389       45   \n4          amish  tomato ketchup  for canning   44061      190   \n\n   contributor_id   submitted  \\\n0           47892  2005-09-16   \n1           26278  2002-06-17   \n2          196586  2005-02-25   \n3           68585  2003-04-14   \n4           41706  2002-10-25   \n\n                                                tags  \\\n0  ['60-minutes-or-less', 'time-to-make', 'course...   \n1  ['30-minutes-or-less', 'time-to-make', 'course...   \n2  ['time-to-make', 'course', 'preparation', 'mai...   \n3  ['60-minutes-or-less', 'time-to-make', 'course...   \n4  ['weeknight', 'time-to-make', 'course', 'main-...   \n\n                                    nutrition  n_steps  \\\n0       [51.5, 0.0, 13.0, 0.0, 2.0, 0.0, 4.0]       11   \n1   [173.4, 18.0, 0.0, 17.0, 22.0, 35.0, 1.0]        9   \n2  [269.8, 22.0, 32.0, 48.0, 39.0, 27.0, 5.0]        6   \n3   [368.1, 17.0, 10.0, 2.0, 14.0, 8.0, 20.0]       11   \n4   [352.9, 1.0, 337.0, 23.0, 3.0, 0.0, 28.0]        5   \n\n                                               steps  \\\n0  ['make a choice and proceed with recipe', 'dep...   \n1  ['preheat oven to 425 degrees f', 'press dough...   \n2  ['brown ground beef in large pot', 'add choppe...   \n3  ['place potatoes in a large pot of lightly sal...   \n4  ['mix all ingredients& boil for 2 1 / 2 hours ...   \n\n                                         description  \\\n0  autumn is my favorite time of year to cook! th...   \n1  this recipe calls for the crust to be prebaked...   \n2  this modified version of 'mom's' chili was a h...   \n3  this is a super easy, great tasting, make ahea...   \n4  my dh's amish mother raised him on this recipe...   \n\n                                         ingredients  n_ingredients  \\\n0  ['winter squash', 'mexican seasoning', 'mixed ...              7   \n1  ['prepared pizza crust', 'sausage patty', 'egg...              6   \n2  ['ground beef', 'yellow onions', 'diced tomato...             13   \n3  ['spreadable cheese with garlic and herbs', 'n...             11   \n4  ['tomato juice', 'apple cider vinegar', 'sugar...              8   \n\n   Vegetarian Cuisine  \n0  vegetarian          \n1                      \n2                      \n3                      \n4  vegetarian          ",
      "text/html": "<div>\n<style scoped>\n    .dataframe tbody tr th:only-of-type {\n        vertical-align: middle;\n    }\n\n    .dataframe tbody tr th {\n        vertical-align: top;\n    }\n\n    .dataframe thead th {\n        text-align: right;\n    }\n</style>\n<table border=\"1\" class=\"dataframe\">\n  <thead>\n    <tr style=\"text-align: right;\">\n      <th></th>\n      <th>name</th>\n      <th>id</th>\n      <th>minutes</th>\n      <th>contributor_id</th>\n      <th>submitted</th>\n      <th>tags</th>\n      <th>nutrition</th>\n      <th>n_steps</th>\n      <th>steps</th>\n      <th>description</th>\n      <th>ingredients</th>\n      <th>n_ingredients</th>\n      <th>Vegetarian</th>\n      <th>Cuisine</th>\n    </tr>\n  </thead>\n  <tbody>\n    <tr>\n      <th>0</th>\n      <td>arriba   baked winter squash mexican style</td>\n      <td>137739</td>\n      <td>55</td>\n      <td>47892</td>\n      <td>2005-09-16</td>\n      <td>['60-minutes-or-less', 'time-to-make', 'course...</td>\n      <td>[51.5, 0.0, 13.0, 0.0, 2.0, 0.0, 4.0]</td>\n      <td>11</td>\n      <td>['make a choice and proceed with recipe', 'dep...</td>\n      <td>autumn is my favorite time of year to cook! th...</td>\n      <td>['winter squash', 'mexican seasoning', 'mixed ...</td>\n      <td>7</td>\n      <td>vegetarian</td>\n      <td></td>\n    </tr>\n    <tr>\n      <th>1</th>\n      <td>a bit different  breakfast pizza</td>\n      <td>31490</td>\n      <td>30</td>\n      <td>26278</td>\n      <td>2002-06-17</td>\n      <td>['30-minutes-or-less', 'time-to-make', 'course...</td>\n      <td>[173.4, 18.0, 0.0, 17.0, 22.0, 35.0, 1.0]</td>\n      <td>9</td>\n      <td>['preheat oven to 425 degrees f', 'press dough...</td>\n      <td>this recipe calls for the crust to be prebaked...</td>\n      <td>['prepared pizza crust', 'sausage patty', 'egg...</td>\n      <td>6</td>\n      <td></td>\n      <td></td>\n    </tr>\n    <tr>\n      <th>2</th>\n      <td>all in the kitchen  chili</td>\n      <td>112140</td>\n      <td>130</td>\n      <td>196586</td>\n      <td>2005-02-25</td>\n      <td>['time-to-make', 'course', 'preparation', 'mai...</td>\n      <td>[269.8, 22.0, 32.0, 48.0, 39.0, 27.0, 5.0]</td>\n      <td>6</td>\n      <td>['brown ground beef in large pot', 'add choppe...</td>\n      <td>this modified version of 'mom's' chili was a h...</td>\n      <td>['ground beef', 'yellow onions', 'diced tomato...</td>\n      <td>13</td>\n      <td></td>\n      <td></td>\n    </tr>\n    <tr>\n      <th>3</th>\n      <td>alouette  potatoes</td>\n      <td>59389</td>\n      <td>45</td>\n      <td>68585</td>\n      <td>2003-04-14</td>\n      <td>['60-minutes-or-less', 'time-to-make', 'course...</td>\n      <td>[368.1, 17.0, 10.0, 2.0, 14.0, 8.0, 20.0]</td>\n      <td>11</td>\n      <td>['place potatoes in a large pot of lightly sal...</td>\n      <td>this is a super easy, great tasting, make ahea...</td>\n      <td>['spreadable cheese with garlic and herbs', 'n...</td>\n      <td>11</td>\n      <td></td>\n      <td></td>\n    </tr>\n    <tr>\n      <th>4</th>\n      <td>amish  tomato ketchup  for canning</td>\n      <td>44061</td>\n      <td>190</td>\n      <td>41706</td>\n      <td>2002-10-25</td>\n      <td>['weeknight', 'time-to-make', 'course', 'main-...</td>\n      <td>[352.9, 1.0, 337.0, 23.0, 3.0, 0.0, 28.0]</td>\n      <td>5</td>\n      <td>['mix all ingredients&amp; boil for 2 1 / 2 hours ...</td>\n      <td>my dh's amish mother raised him on this recipe...</td>\n      <td>['tomato juice', 'apple cider vinegar', 'sugar...</td>\n      <td>8</td>\n      <td>vegetarian</td>\n      <td></td>\n    </tr>\n  </tbody>\n</table>\n</div>"
     },
     "execution_count": 264,
     "metadata": {},
     "output_type": "execute_result"
    }
   ],
   "source": [
    "df_recipes[\"Cuisine\"] = \"\"\n",
    "df_recipes.head()"
   ],
   "metadata": {
    "collapsed": false,
    "pycharm": {
     "name": "#%%\n"
    }
   }
  },
  {
   "cell_type": "code",
   "execution_count": 265,
   "outputs": [],
   "source": [
    "for i in select_indices_tags:\n",
    "    try:\n",
    "        asian = re.search('asian' or 'chinese' or 'japanese' or 'korean' or 'indonesian' or 'malaysian' or 'pakistani' or 'singaporean' or 'indian' or 'thai' or 'vietnamese', df_recipes.loc[i,\"tags\"]).group(0)\n",
    "        df_recipes.loc[i, \"Cuisine\"] = asian\n",
    "    except AttributeError:\n",
    "        pass\n",
    "    try:\n",
    "        european = re.search('european' or 'austrian' or 'german' or 'hungarian' or 'czech' or 'polish' or 'slovenian' or 'swiss' or 'russian' or 'romanian' or 'bulgarian' or 'ukrainian' or 'british' or 'english' or 'irish' or 'scottish' or 'danish' or 'finnish' or 'icelandic' or 'norwegian' or 'swedish' or 'greek' or 'turkish' or 'croatian' or 'portuguese' or 'spanish' or 'belgian' or 'dutch' or 'french', df_recipes.loc[i,\"tags\"]).group(0)\n",
    "        df_recipes.loc[i, \"Cuisine\"] = european\n",
    "    except AttributeError:\n",
    "        pass\n",
    "    try:\n",
    "        african = re.search('african' or 'ethiopian' or 'ugandan' or 'algerian' or 'egyptian' or 'mauritanian' or 'south-african' or 'nigerian', df_recipes.loc[i,\"tags\"]).group(0)\n",
    "        df_recipes.loc[i, \"Cuisine\"] = african\n",
    "    except AttributeError:\n",
    "        pass\n",
    "    try:\n",
    "        american = re.search('american' or 'canadian' or 'mexican' or 'argentinian' or 'brazilian' or 'chilean' or 'hawaiian' or 'colombian' or 'cuban' or 'curacao' or 'dominica' or 'jamaican', df_recipes.loc[i,\"tags\"]).group(0)\n",
    "        df_recipes.loc[i, \"Cuisine\"] = american\n",
    "    except AttributeError:\n",
    "        pass\n",
    "    try:\n",
    "        oceanic = re.search('oceanic' or 'australian' or 'new zealand', df_recipes.loc[i,\"tags\"]).group(0)\n",
    "        df_recipes.loc[i, \"Cuisine\"] = oceanic\n",
    "    except AttributeError:\n",
    "        pass\n"
   ],
   "metadata": {
    "collapsed": false,
    "pycharm": {
     "name": "#%%\n"
    }
   }
  },
  {
   "cell_type": "code",
   "execution_count": 266,
   "outputs": [],
   "source": [
    "def convert_cuisine(row):\n",
    "    if row == \"\":\n",
    "        return 0 # \"undefined\"\n",
    "    if row == \"american\":\n",
    "        return 1 # \"american\"\n",
    "    if row == \"european\":\n",
    "        return 2 # \"european\"\n",
    "    if row == \"asian\":\n",
    "        return 3 # \"asian\"\n",
    "    if row == \"african\":\n",
    "        return 4 # \"african\"\n",
    "\n"
   ],
   "metadata": {
    "collapsed": false,
    "pycharm": {
     "name": "#%%\n"
    }
   }
  },
  {
   "cell_type": "code",
   "execution_count": 267,
   "outputs": [],
   "source": [
    "df_recipes[\"Cuisine\"] = df_recipes['Cuisine'].apply(convert_cuisine)\n",
    "\n",
    "# df_recipes_cuisine = pd.get_dummies(df_recipes[[\"Cuisine\"]])"
   ],
   "metadata": {
    "collapsed": false,
    "pycharm": {
     "name": "#%%\n"
    }
   }
  },
  {
   "cell_type": "code",
   "execution_count": 268,
   "outputs": [
    {
     "data": {
      "text/plain": "                                         name      id  minutes  \\\n0  arriba   baked winter squash mexican style  137739       55   \n1            a bit different  breakfast pizza   31490       30   \n2                   all in the kitchen  chili  112140      130   \n3                          alouette  potatoes   59389       45   \n4          amish  tomato ketchup  for canning   44061      190   \n\n   contributor_id   submitted  \\\n0           47892  2005-09-16   \n1           26278  2002-06-17   \n2          196586  2005-02-25   \n3           68585  2003-04-14   \n4           41706  2002-10-25   \n\n                                                tags  \\\n0  ['60-minutes-or-less', 'time-to-make', 'course...   \n1  ['30-minutes-or-less', 'time-to-make', 'course...   \n2  ['time-to-make', 'course', 'preparation', 'mai...   \n3  ['60-minutes-or-less', 'time-to-make', 'course...   \n4  ['weeknight', 'time-to-make', 'course', 'main-...   \n\n                                    nutrition  n_steps  \\\n0       [51.5, 0.0, 13.0, 0.0, 2.0, 0.0, 4.0]       11   \n1   [173.4, 18.0, 0.0, 17.0, 22.0, 35.0, 1.0]        9   \n2  [269.8, 22.0, 32.0, 48.0, 39.0, 27.0, 5.0]        6   \n3   [368.1, 17.0, 10.0, 2.0, 14.0, 8.0, 20.0]       11   \n4   [352.9, 1.0, 337.0, 23.0, 3.0, 0.0, 28.0]        5   \n\n                                               steps  \\\n0  ['make a choice and proceed with recipe', 'dep...   \n1  ['preheat oven to 425 degrees f', 'press dough...   \n2  ['brown ground beef in large pot', 'add choppe...   \n3  ['place potatoes in a large pot of lightly sal...   \n4  ['mix all ingredients& boil for 2 1 / 2 hours ...   \n\n                                         description  \\\n0  autumn is my favorite time of year to cook! th...   \n1  this recipe calls for the crust to be prebaked...   \n2  this modified version of 'mom's' chili was a h...   \n3  this is a super easy, great tasting, make ahea...   \n4  my dh's amish mother raised him on this recipe...   \n\n                                         ingredients  n_ingredients  \\\n0  ['winter squash', 'mexican seasoning', 'mixed ...              7   \n1  ['prepared pizza crust', 'sausage patty', 'egg...              6   \n2  ['ground beef', 'yellow onions', 'diced tomato...             13   \n3  ['spreadable cheese with garlic and herbs', 'n...             11   \n4  ['tomato juice', 'apple cider vinegar', 'sugar...              8   \n\n   Vegetarian  Cuisine  \n0  vegetarian        1  \n1                    1  \n2                    0  \n3                    0  \n4  vegetarian        1  ",
      "text/html": "<div>\n<style scoped>\n    .dataframe tbody tr th:only-of-type {\n        vertical-align: middle;\n    }\n\n    .dataframe tbody tr th {\n        vertical-align: top;\n    }\n\n    .dataframe thead th {\n        text-align: right;\n    }\n</style>\n<table border=\"1\" class=\"dataframe\">\n  <thead>\n    <tr style=\"text-align: right;\">\n      <th></th>\n      <th>name</th>\n      <th>id</th>\n      <th>minutes</th>\n      <th>contributor_id</th>\n      <th>submitted</th>\n      <th>tags</th>\n      <th>nutrition</th>\n      <th>n_steps</th>\n      <th>steps</th>\n      <th>description</th>\n      <th>ingredients</th>\n      <th>n_ingredients</th>\n      <th>Vegetarian</th>\n      <th>Cuisine</th>\n    </tr>\n  </thead>\n  <tbody>\n    <tr>\n      <th>0</th>\n      <td>arriba   baked winter squash mexican style</td>\n      <td>137739</td>\n      <td>55</td>\n      <td>47892</td>\n      <td>2005-09-16</td>\n      <td>['60-minutes-or-less', 'time-to-make', 'course...</td>\n      <td>[51.5, 0.0, 13.0, 0.0, 2.0, 0.0, 4.0]</td>\n      <td>11</td>\n      <td>['make a choice and proceed with recipe', 'dep...</td>\n      <td>autumn is my favorite time of year to cook! th...</td>\n      <td>['winter squash', 'mexican seasoning', 'mixed ...</td>\n      <td>7</td>\n      <td>vegetarian</td>\n      <td>1</td>\n    </tr>\n    <tr>\n      <th>1</th>\n      <td>a bit different  breakfast pizza</td>\n      <td>31490</td>\n      <td>30</td>\n      <td>26278</td>\n      <td>2002-06-17</td>\n      <td>['30-minutes-or-less', 'time-to-make', 'course...</td>\n      <td>[173.4, 18.0, 0.0, 17.0, 22.0, 35.0, 1.0]</td>\n      <td>9</td>\n      <td>['preheat oven to 425 degrees f', 'press dough...</td>\n      <td>this recipe calls for the crust to be prebaked...</td>\n      <td>['prepared pizza crust', 'sausage patty', 'egg...</td>\n      <td>6</td>\n      <td></td>\n      <td>1</td>\n    </tr>\n    <tr>\n      <th>2</th>\n      <td>all in the kitchen  chili</td>\n      <td>112140</td>\n      <td>130</td>\n      <td>196586</td>\n      <td>2005-02-25</td>\n      <td>['time-to-make', 'course', 'preparation', 'mai...</td>\n      <td>[269.8, 22.0, 32.0, 48.0, 39.0, 27.0, 5.0]</td>\n      <td>6</td>\n      <td>['brown ground beef in large pot', 'add choppe...</td>\n      <td>this modified version of 'mom's' chili was a h...</td>\n      <td>['ground beef', 'yellow onions', 'diced tomato...</td>\n      <td>13</td>\n      <td></td>\n      <td>0</td>\n    </tr>\n    <tr>\n      <th>3</th>\n      <td>alouette  potatoes</td>\n      <td>59389</td>\n      <td>45</td>\n      <td>68585</td>\n      <td>2003-04-14</td>\n      <td>['60-minutes-or-less', 'time-to-make', 'course...</td>\n      <td>[368.1, 17.0, 10.0, 2.0, 14.0, 8.0, 20.0]</td>\n      <td>11</td>\n      <td>['place potatoes in a large pot of lightly sal...</td>\n      <td>this is a super easy, great tasting, make ahea...</td>\n      <td>['spreadable cheese with garlic and herbs', 'n...</td>\n      <td>11</td>\n      <td></td>\n      <td>0</td>\n    </tr>\n    <tr>\n      <th>4</th>\n      <td>amish  tomato ketchup  for canning</td>\n      <td>44061</td>\n      <td>190</td>\n      <td>41706</td>\n      <td>2002-10-25</td>\n      <td>['weeknight', 'time-to-make', 'course', 'main-...</td>\n      <td>[352.9, 1.0, 337.0, 23.0, 3.0, 0.0, 28.0]</td>\n      <td>5</td>\n      <td>['mix all ingredients&amp; boil for 2 1 / 2 hours ...</td>\n      <td>my dh's amish mother raised him on this recipe...</td>\n      <td>['tomato juice', 'apple cider vinegar', 'sugar...</td>\n      <td>8</td>\n      <td>vegetarian</td>\n      <td>1</td>\n    </tr>\n  </tbody>\n</table>\n</div>"
     },
     "execution_count": 268,
     "metadata": {},
     "output_type": "execute_result"
    }
   ],
   "source": [
    "df_recipes.head()"
   ],
   "metadata": {
    "collapsed": false,
    "pycharm": {
     "name": "#%%\n"
    }
   }
  },
  {
   "cell_type": "code",
   "execution_count": 269,
   "outputs": [
    {
     "data": {
      "text/plain": "0    145252\n1     49532\n2     21743\n3     12384\n4      2726\nName: Cuisine, dtype: int64"
     },
     "execution_count": 269,
     "metadata": {},
     "output_type": "execute_result"
    }
   ],
   "source": [
    "df_recipes[\"Cuisine\"].value_counts()"
   ],
   "metadata": {
    "collapsed": false,
    "pycharm": {
     "name": "#%%\n"
    }
   }
  },
  {
   "cell_type": "code",
   "execution_count": 270,
   "outputs": [],
   "source": [
    "def convert_vegetarian(row):\n",
    "    if row == \"\":\n",
    "        return \"undefined\"\n",
    "    if row == \"vegetarian\":\n",
    "        return \"vegetarian\""
   ],
   "metadata": {
    "collapsed": false,
    "pycharm": {
     "name": "#%%\n"
    }
   }
  },
  {
   "cell_type": "code",
   "execution_count": 271,
   "outputs": [],
   "source": [
    "df_recipes[\"Vegetarian\"] = df_recipes['Vegetarian'].apply(convert_vegetarian)"
   ],
   "metadata": {
    "collapsed": false,
    "pycharm": {
     "name": "#%%\n"
    }
   }
  },
  {
   "cell_type": "code",
   "execution_count": 272,
   "outputs": [
    {
     "data": {
      "text/plain": "undefined     195986\nvegetarian     35651\nName: Vegetarian, dtype: int64"
     },
     "execution_count": 272,
     "metadata": {},
     "output_type": "execute_result"
    }
   ],
   "source": [
    "df_recipes[\"Vegetarian\"].value_counts()"
   ],
   "metadata": {
    "collapsed": false,
    "pycharm": {
     "name": "#%%\n"
    }
   }
  },
  {
   "cell_type": "code",
   "execution_count": 273,
   "outputs": [],
   "source": [
    "def convert_minutes(row):\n",
    "    if row <= 30:\n",
    "        return 0 # \"30 minutes\"\n",
    "    if 30 < row <= 60:\n",
    "        return 1 # \"30 to 60 minutes\"\n",
    "    if 60 < row <= 120:\n",
    "        return 2 # \"60 to 120 minutes\"\n",
    "    if 120 < row <= 180:\n",
    "        return 3 # \"120 to 180 minutes\"\n",
    "    if row > 180:\n",
    "        return 4 # \"over 180 minutes\""
   ],
   "metadata": {
    "collapsed": false,
    "pycharm": {
     "name": "#%%\n"
    }
   }
  },
  {
   "cell_type": "code",
   "execution_count": 274,
   "outputs": [],
   "source": [
    "df_recipes[\"minutes\"] = df_recipes['minutes'].apply(convert_minutes)\n",
    "\n",
    "# df_minutes = pd.get_dummies(df_recipes[[\"minutes\"]])"
   ],
   "metadata": {
    "collapsed": false,
    "pycharm": {
     "name": "#%%\n"
    }
   }
  },
  {
   "cell_type": "code",
   "execution_count": 275,
   "outputs": [
    {
     "data": {
      "text/plain": "0    99053\n1    70077\n2    36683\n4    17388\n3     8436\nName: minutes, dtype: int64"
     },
     "execution_count": 275,
     "metadata": {},
     "output_type": "execute_result"
    }
   ],
   "source": [
    "df_recipes[\"minutes\"].value_counts()"
   ],
   "metadata": {
    "collapsed": false,
    "pycharm": {
     "name": "#%%\n"
    }
   }
  },
  {
   "cell_type": "code",
   "execution_count": 276,
   "outputs": [
    {
     "data": {
      "text/plain": "                                         name      id  minutes  \\\n0  arriba   baked winter squash mexican style  137739        1   \n1            a bit different  breakfast pizza   31490        0   \n2                   all in the kitchen  chili  112140        3   \n3                          alouette  potatoes   59389        1   \n4          amish  tomato ketchup  for canning   44061        4   \n\n   contributor_id   submitted  \\\n0           47892  2005-09-16   \n1           26278  2002-06-17   \n2          196586  2005-02-25   \n3           68585  2003-04-14   \n4           41706  2002-10-25   \n\n                                                tags  \\\n0  ['60-minutes-or-less', 'time-to-make', 'course...   \n1  ['30-minutes-or-less', 'time-to-make', 'course...   \n2  ['time-to-make', 'course', 'preparation', 'mai...   \n3  ['60-minutes-or-less', 'time-to-make', 'course...   \n4  ['weeknight', 'time-to-make', 'course', 'main-...   \n\n                                    nutrition  n_steps  \\\n0       [51.5, 0.0, 13.0, 0.0, 2.0, 0.0, 4.0]       11   \n1   [173.4, 18.0, 0.0, 17.0, 22.0, 35.0, 1.0]        9   \n2  [269.8, 22.0, 32.0, 48.0, 39.0, 27.0, 5.0]        6   \n3   [368.1, 17.0, 10.0, 2.0, 14.0, 8.0, 20.0]       11   \n4   [352.9, 1.0, 337.0, 23.0, 3.0, 0.0, 28.0]        5   \n\n                                               steps  \\\n0  ['make a choice and proceed with recipe', 'dep...   \n1  ['preheat oven to 425 degrees f', 'press dough...   \n2  ['brown ground beef in large pot', 'add choppe...   \n3  ['place potatoes in a large pot of lightly sal...   \n4  ['mix all ingredients& boil for 2 1 / 2 hours ...   \n\n                                         description  \\\n0  autumn is my favorite time of year to cook! th...   \n1  this recipe calls for the crust to be prebaked...   \n2  this modified version of 'mom's' chili was a h...   \n3  this is a super easy, great tasting, make ahea...   \n4  my dh's amish mother raised him on this recipe...   \n\n                                         ingredients  n_ingredients  \\\n0  ['winter squash', 'mexican seasoning', 'mixed ...              7   \n1  ['prepared pizza crust', 'sausage patty', 'egg...              6   \n2  ['ground beef', 'yellow onions', 'diced tomato...             13   \n3  ['spreadable cheese with garlic and herbs', 'n...             11   \n4  ['tomato juice', 'apple cider vinegar', 'sugar...              8   \n\n   Vegetarian  Cuisine  \n0  vegetarian        1  \n1   undefined        1  \n2   undefined        0  \n3   undefined        0  \n4  vegetarian        1  ",
      "text/html": "<div>\n<style scoped>\n    .dataframe tbody tr th:only-of-type {\n        vertical-align: middle;\n    }\n\n    .dataframe tbody tr th {\n        vertical-align: top;\n    }\n\n    .dataframe thead th {\n        text-align: right;\n    }\n</style>\n<table border=\"1\" class=\"dataframe\">\n  <thead>\n    <tr style=\"text-align: right;\">\n      <th></th>\n      <th>name</th>\n      <th>id</th>\n      <th>minutes</th>\n      <th>contributor_id</th>\n      <th>submitted</th>\n      <th>tags</th>\n      <th>nutrition</th>\n      <th>n_steps</th>\n      <th>steps</th>\n      <th>description</th>\n      <th>ingredients</th>\n      <th>n_ingredients</th>\n      <th>Vegetarian</th>\n      <th>Cuisine</th>\n    </tr>\n  </thead>\n  <tbody>\n    <tr>\n      <th>0</th>\n      <td>arriba   baked winter squash mexican style</td>\n      <td>137739</td>\n      <td>1</td>\n      <td>47892</td>\n      <td>2005-09-16</td>\n      <td>['60-minutes-or-less', 'time-to-make', 'course...</td>\n      <td>[51.5, 0.0, 13.0, 0.0, 2.0, 0.0, 4.0]</td>\n      <td>11</td>\n      <td>['make a choice and proceed with recipe', 'dep...</td>\n      <td>autumn is my favorite time of year to cook! th...</td>\n      <td>['winter squash', 'mexican seasoning', 'mixed ...</td>\n      <td>7</td>\n      <td>vegetarian</td>\n      <td>1</td>\n    </tr>\n    <tr>\n      <th>1</th>\n      <td>a bit different  breakfast pizza</td>\n      <td>31490</td>\n      <td>0</td>\n      <td>26278</td>\n      <td>2002-06-17</td>\n      <td>['30-minutes-or-less', 'time-to-make', 'course...</td>\n      <td>[173.4, 18.0, 0.0, 17.0, 22.0, 35.0, 1.0]</td>\n      <td>9</td>\n      <td>['preheat oven to 425 degrees f', 'press dough...</td>\n      <td>this recipe calls for the crust to be prebaked...</td>\n      <td>['prepared pizza crust', 'sausage patty', 'egg...</td>\n      <td>6</td>\n      <td>undefined</td>\n      <td>1</td>\n    </tr>\n    <tr>\n      <th>2</th>\n      <td>all in the kitchen  chili</td>\n      <td>112140</td>\n      <td>3</td>\n      <td>196586</td>\n      <td>2005-02-25</td>\n      <td>['time-to-make', 'course', 'preparation', 'mai...</td>\n      <td>[269.8, 22.0, 32.0, 48.0, 39.0, 27.0, 5.0]</td>\n      <td>6</td>\n      <td>['brown ground beef in large pot', 'add choppe...</td>\n      <td>this modified version of 'mom's' chili was a h...</td>\n      <td>['ground beef', 'yellow onions', 'diced tomato...</td>\n      <td>13</td>\n      <td>undefined</td>\n      <td>0</td>\n    </tr>\n    <tr>\n      <th>3</th>\n      <td>alouette  potatoes</td>\n      <td>59389</td>\n      <td>1</td>\n      <td>68585</td>\n      <td>2003-04-14</td>\n      <td>['60-minutes-or-less', 'time-to-make', 'course...</td>\n      <td>[368.1, 17.0, 10.0, 2.0, 14.0, 8.0, 20.0]</td>\n      <td>11</td>\n      <td>['place potatoes in a large pot of lightly sal...</td>\n      <td>this is a super easy, great tasting, make ahea...</td>\n      <td>['spreadable cheese with garlic and herbs', 'n...</td>\n      <td>11</td>\n      <td>undefined</td>\n      <td>0</td>\n    </tr>\n    <tr>\n      <th>4</th>\n      <td>amish  tomato ketchup  for canning</td>\n      <td>44061</td>\n      <td>4</td>\n      <td>41706</td>\n      <td>2002-10-25</td>\n      <td>['weeknight', 'time-to-make', 'course', 'main-...</td>\n      <td>[352.9, 1.0, 337.0, 23.0, 3.0, 0.0, 28.0]</td>\n      <td>5</td>\n      <td>['mix all ingredients&amp; boil for 2 1 / 2 hours ...</td>\n      <td>my dh's amish mother raised him on this recipe...</td>\n      <td>['tomato juice', 'apple cider vinegar', 'sugar...</td>\n      <td>8</td>\n      <td>vegetarian</td>\n      <td>1</td>\n    </tr>\n  </tbody>\n</table>\n</div>"
     },
     "execution_count": 276,
     "metadata": {},
     "output_type": "execute_result"
    }
   ],
   "source": [
    "df_recipes.head()"
   ],
   "metadata": {
    "collapsed": false,
    "pycharm": {
     "name": "#%%\n"
    }
   }
  },
  {
   "cell_type": "markdown",
   "source": [
    "# Health goals (macros mostly)"
   ],
   "metadata": {
    "collapsed": false,
    "pycharm": {
     "name": "#%% md\n"
    }
   }
  },
  {
   "cell_type": "code",
   "execution_count": 277,
   "outputs": [
    {
     "data": {
      "text/plain": "[array([51.5, 0.0, 13.0, 0.0, 2.0, 0.0, 4.0], dtype=object),\n array([173.4, 18.0, 0.0, 17.0, 22.0, 35.0, 1.0], dtype=object),\n array([269.8, 22.0, 32.0, 48.0, 39.0, 27.0, 5.0], dtype=object),\n array([368.1, 17.0, 10.0, 2.0, 14.0, 8.0, 20.0], dtype=object),\n array([352.9, 1.0, 337.0, 23.0, 3.0, 0.0, 28.0], dtype=object),\n array([160.2, 10.0, 55.0, 3.0, 9.0, 20.0, 7.0], dtype=object),\n array([380.7, 53.0, 7.0, 24.0, 6.0, 24.0, 6.0], dtype=object),\n array([1109.5, 83.0, 378.0, 275.0, 96.0, 86.0, 36.0], dtype=object),\n array([4270.8, 254.0, 1306.0, 111.0, 127.0, 431.0, 220.0], dtype=object),\n array([2669.3, 160.0, 976.0, 107.0, 62.0, 310.0, 138.0], dtype=object),\n array([79.2, 3.0, 58.0, 0.0, 0.0, 6.0, 5.0], dtype=object),\n array([734.1, 66.0, 199.0, 10.0, 10.0, 117.0, 28.0], dtype=object),\n array([462.4, 28.0, 214.0, 69.0, 14.0, 29.0, 23.0], dtype=object),\n array([315.8, 0.0, 202.0, 9.0, 6.0, 0.0, 21.0], dtype=object),\n array([8.2, 0.0, 0.0, 0.0, 1.0, 0.0, 0.0], dtype=object),\n array([105.7, 8.0, 0.0, 26.0, 5.0, 4.0, 3.0], dtype=object),\n array([94.0, 10.0, 0.0, 11.0, 11.0, 21.0, 0.0], dtype=object),\n array([232.7, 21.0, 77.0, 4.0, 6.0, 38.0, 8.0], dtype=object),\n array([395.4, 31.0, 20.0, 29.0, 51.0, 33.0, 8.0], dtype=object),\n array([174.2, 4.0, 24.0, 1.0, 15.0, 1.0, 10.0], dtype=object),\n array([126.0, 11.0, 2.0, 14.0, 5.0, 23.0, 4.0], dtype=object),\n array([64.8, 3.0, 13.0, 54.0, 4.0, 2.0, 3.0], dtype=object),\n array([335.8, 11.0, 2.0, 24.0, 64.0, 10.0, 10.0], dtype=object),\n array([1663.3, 221.0, 168.0, 66.0, 19.0, 158.0, 29.0], dtype=object),\n array([1290.4, 213.0, 4.0, 53.0, 22.0, 417.0, 1.0], dtype=object),\n array([182.7, 11.0, 4.0, 1.0, 13.0, 4.0, 10.0], dtype=object),\n array([295.6, 3.0, 56.0, 76.0, 32.0, 1.0, 18.0], dtype=object),\n array([346.9, 24.0, 18.0, 42.0, 42.0, 30.0, 10.0], dtype=object),\n array([132.6, 8.0, 4.0, 3.0, 4.0, 5.0, 6.0], dtype=object),\n array([804.7, 108.0, 26.0, 19.0, 28.0, 214.0, 10.0], dtype=object),\n array([174.4, 13.0, 67.0, 5.0, 4.0, 26.0, 7.0], dtype=object),\n array([456.8, 40.0, 34.0, 67.0, 57.0, 51.0, 9.0], dtype=object),\n array([1649.8, 91.0, 4.0, 128.0, 80.0, 160.0, 78.0], dtype=object),\n array([190.9, 10.0, 10.0, 10.0, 45.0, 15.0, 2.0], dtype=object),\n array([164.6, 3.0, 5.0, 1.0, 4.0, 6.0, 11.0], dtype=object),\n array([276.2, 3.0, 55.0, 18.0, 23.0, 2.0, 20.0], dtype=object),\n array([166.1, 16.0, 6.0, 32.0, 19.0, 26.0, 3.0], dtype=object),\n array([152.5, 2.0, 20.0, 13.0, 7.0, 3.0, 10.0], dtype=object),\n array([53.8, 5.0, 2.0, 3.0, 3.0, 3.0, 1.0], dtype=object),\n array([647.6, 57.0, 57.0, 58.0, 54.0, 53.0, 16.0], dtype=object),\n array([783.4, 46.0, 107.0, 56.0, 36.0, 21.0, 37.0], dtype=object),\n array([172.8, 8.0, 61.0, 9.0, 7.0, 6.0, 9.0], dtype=object),\n array([171.8, 9.0, 28.0, 10.0, 8.0, 4.0, 8.0], dtype=object),\n array([223.2, 22.0, 4.0, 7.0, 35.0, 30.0, 0.0], dtype=object),\n array([279.2, 14.0, 12.0, 22.0, 23.0, 11.0, 12.0], dtype=object),\n array([241.0, 12.0, 1.0, 23.0, 10.0, 11.0, 12.0], dtype=object),\n array([816.9, 100.0, 11.0, 97.0, 98.0, 180.0, 2.0], dtype=object),\n array([5467.4, 516.0, 1196.0, 135.0, 110.0, 615.0, 188.0], dtype=object),\n array([612.1, 49.0, 170.0, 25.0, 15.0, 39.0, 25.0], dtype=object),\n array([400.2, 32.0, 43.0, 31.0, 21.0, 54.0, 14.0], dtype=object),\n array([724.4, 38.0, 297.0, 20.0, 18.0, 31.0, 39.0], dtype=object),\n array([370.5, 38.0, 21.0, 57.0, 53.0, 64.0, 3.0], dtype=object),\n array([794.2, 109.0, 9.0, 30.0, 59.0, 153.0, 3.0], dtype=object),\n array([575.3, 18.0, 116.0, 34.0, 28.0, 22.0, 34.0], dtype=object),\n array([987.8, 75.0, 195.0, 106.0, 104.0, 83.0, 28.0], dtype=object),\n array([1615.2, 154.0, 323.0, 74.0, 182.0, 193.0, 30.0], dtype=object),\n array([175.2, 11.0, 15.0, 8.0, 7.0, 21.0, 7.0], dtype=object),\n array([255.2, 18.0, 39.0, 18.0, 39.0, 13.0, 6.0], dtype=object),\n array([3.1, 0.0, 0.0, 0.0, 0.0, 0.0, 0.0], dtype=object),\n array([67.1, 7.0, 2.0, 7.0, 3.0, 10.0, 1.0], dtype=object),\n array([325.3, 10.0, 11.0, 39.0, 26.0, 17.0, 17.0], dtype=object),\n array([115.9, 7.0, 21.0, 19.0, 9.0, 3.0, 5.0], dtype=object),\n array([199.2, 31.0, 6.0, 10.0, 1.0, 13.0, 1.0], dtype=object),\n array([22.9, 1.0, 5.0, 0.0, 1.0, 3.0, 0.0], dtype=object),\n array([510.6, 50.0, 10.0, 21.0, 90.0, 70.0, 1.0], dtype=object),\n array([3.0, 0.0, 1.0, 0.0, 0.0, 0.0, 0.0], dtype=object),\n array([181.1, 26.0, 6.0, 17.0, 2.0, 11.0, 2.0], dtype=object),\n array([276.3, 45.0, 2.0, 1.0, 3.0, 91.0, 0.0], dtype=object),\n array([387.6, 39.0, 98.0, 12.0, 12.0, 67.0, 11.0], dtype=object),\n array([477.1, 36.0, 24.0, 21.0, 26.0, 61.0, 18.0], dtype=object),\n array([517.2, 58.0, 29.0, 2.0, 17.0, 113.0, 14.0], dtype=object),\n array([456.6, 32.0, 164.0, 15.0, 11.0, 63.0, 20.0], dtype=object),\n array([1389.5, 129.0, 410.0, 26.0, 42.0, 211.0, 51.0], dtype=object),\n array([617.5, 34.0, 13.0, 20.0, 56.0, 18.0, 24.0], dtype=object),\n array([180.7, 22.0, 29.0, 3.0, 6.0, 33.0, 3.0], dtype=object),\n array([213.6, 24.0, 0.0, 26.0, 31.0, 16.0, 0.0], dtype=object),\n array([183.3, 12.0, 9.0, 15.0, 21.0, 23.0, 6.0], dtype=object),\n array([33.1, 0.0, 11.0, 0.0, 2.0, 0.0, 2.0], dtype=object),\n array([227.2, 14.0, 8.0, 29.0, 40.0, 7.0, 4.0], dtype=object),\n array([1260.7, 97.0, 11.0, 71.0, 103.0, 119.0, 38.0], dtype=object),\n array([110.1, 0.0, 91.0, 0.0, 1.0, 0.0, 9.0], dtype=object),\n array([572.6, 43.0, 113.0, 11.0, 17.0, 18.0, 24.0], dtype=object),\n array([580.0, 13.0, 362.0, 15.0, 11.0, 8.0, 40.0], dtype=object),\n array([253.0, 13.0, 64.0, 10.0, 11.0, 16.0, 13.0], dtype=object),\n array([238.0, 3.0, 66.0, 10.0, 10.0, 2.0, 17.0], dtype=object),\n array([692.2, 53.0, 16.0, 17.0, 102.0, 36.0, 12.0], dtype=object),\n array([132.4, 14.0, 0.0, 8.0, 21.0, 26.0, 0.0], dtype=object),\n array([649.6, 55.0, 104.0, 116.0, 72.0, 39.0, 19.0], dtype=object),\n array([114.6, 6.0, 45.0, 5.0, 10.0, 7.0, 4.0], dtype=object),\n array([12.8, 1.0, 0.0, 0.0, 0.0, 0.0, 0.0], dtype=object),\n array([3043.4, 235.0, 984.0, 107.0, 79.0, 165.0, 132.0], dtype=object),\n array([190.5, 12.0, 3.0, 3.0, 53.0, 6.0, 0.0], dtype=object),\n array([179.3, 7.0, 119.0, 36.0, 3.0, 3.0, 11.0], dtype=object),\n array([140.4, 0.0, 133.0, 1.0, 4.0, 0.0, 11.0], dtype=object),\n array([5728.3, 470.0, 1941.0, 87.0, 140.0, 443.0, 226.0], dtype=object),\n array([175.7, 9.0, 65.0, 9.0, 5.0, 18.0, 9.0], dtype=object),\n array([6007.2, 653.0, 1772.0, 149.0, 228.0, 1218.0, 155.0], dtype=object),\n array([354.2, 29.0, 94.0, 2.0, 26.0, 24.0, 12.0], dtype=object),\n array([184.8, 26.0, 0.0, 7.0, 13.0, 53.0, 0.0], dtype=object),\n array([449.2, 50.0, 16.0, 19.0, 58.0, 67.0, 2.0], dtype=object),\n array([73.1, 1.0, 15.0, 0.0, 5.0, 3.0, 4.0], dtype=object),\n array([159.0, 8.0, 58.0, 10.0, 7.0, 4.0, 8.0], dtype=object),\n array([72.0, 0.0, 61.0, 0.0, 0.0, 0.0, 6.0], dtype=object),\n array([172.4, 16.0, 51.0, 1.0, 2.0, 26.0, 6.0], dtype=object),\n array([650.0, 61.0, 41.0, 35.0, 81.0, 104.0, 11.0], dtype=object),\n array([458.1, 24.0, 6.0, 4.0, 50.0, 12.0, 16.0], dtype=object),\n array([2252.6, 130.0, 802.0, 101.0, 44.0, 54.0, 117.0], dtype=object),\n array([373.9, 30.0, 70.0, 3.0, 36.0, 37.0, 10.0], dtype=object),\n array([501.0, 66.0, 17.0, 41.0, 42.0, 118.0, 2.0], dtype=object),\n array([176.6, 19.0, 11.0, 26.0, 12.0, 37.0, 3.0], dtype=object),\n array([231.1, 7.0, 21.0, 32.0, 8.0, 3.0, 14.0], dtype=object),\n array([138.4, 10.0, 50.0, 3.0, 3.0, 19.0, 6.0], dtype=object),\n array([89.6, 0.0, 89.0, 0.0, 0.0, 0.0, 7.0], dtype=object),\n array([264.7, 41.0, 4.0, 36.0, 3.0, 21.0, 1.0], dtype=object),\n array([1268.7, 63.0, 70.0, 96.0, 103.0, 88.0, 57.0], dtype=object),\n array([595.1, 46.0, 211.0, 22.0, 13.0, 51.0, 26.0], dtype=object),\n array([157.7, 17.0, 11.0, 20.0, 11.0, 27.0, 2.0], dtype=object),\n array([165.7, 14.0, 30.0, 46.0, 15.0, 14.0, 4.0], dtype=object),\n array([194.8, 20.0, 6.0, 32.0, 22.0, 36.0, 3.0], dtype=object),\n array([878.3, 63.0, 326.0, 13.0, 20.0, 123.0, 39.0], dtype=object),\n array([422.5, 25.0, 20.0, 46.0, 34.0, 43.0, 19.0], dtype=object),\n array([969.6, 93.0, 55.0, 83.0, 148.0, 86.0, 7.0], dtype=object),\n array([212.0, 25.0, 11.0, 19.0, 11.0, 50.0, 4.0], dtype=object),\n array([3987.2, 245.0, 1306.0, 260.0, 106.0, 369.0, 205.0], dtype=object),\n array([558.1, 25.0, 55.0, 41.0, 111.0, 25.0, 12.0], dtype=object),\n array([267.0, 30.0, 12.0, 12.0, 29.0, 48.0, 2.0], dtype=object),\n array([350.0, 27.0, 109.0, 13.0, 12.0, 38.0, 13.0], dtype=object),\n array([2450.5, 325.0, 20.0, 90.0, 75.0, 435.0, 32.0], dtype=object),\n array([150.4, 12.0, 47.0, 3.0, 4.0, 18.0, 6.0], dtype=object),\n array([5286.9, 427.0, 1630.0, 159.0, 163.0, 656.0, 224.0], dtype=object),\n array([339.0, 37.0, 100.0, 7.0, 3.0, 76.0, 10.0], dtype=object),\n array([249.4, 26.0, 4.0, 6.0, 39.0, 39.0, 0.0], dtype=object),\n array([270.2, 19.0, 26.0, 48.0, 52.0, 21.0, 4.0], dtype=object),\n array([388.7, 32.0, 100.0, 20.0, 11.0, 42.0, 15.0], dtype=object),\n array([346.7, 21.0, 23.0, 53.0, 17.0, 35.0, 16.0], dtype=object),\n array([358.2, 30.0, 62.0, 14.0, 19.0, 54.0, 12.0], dtype=object),\n array([1003.8, 72.0, 21.0, 103.0, 69.0, 143.0, 37.0], dtype=object),\n array([708.6, 52.0, 19.0, 24.0, 46.0, 104.0, 25.0], dtype=object),\n array([651.8, 33.0, 12.0, 16.0, 32.0, 63.0, 33.0], dtype=object),\n array([160.4, 11.0, 0.0, 34.0, 44.0, 12.0, 0.0], dtype=object),\n array([33.2, 0.0, 12.0, 25.0, 1.0, 0.0, 2.0], dtype=object),\n array([61.8, 5.0, 2.0, 6.0, 9.0, 9.0, 1.0], dtype=object),\n array([259.7, 23.0, 18.0, 31.0, 34.0, 28.0, 4.0], dtype=object),\n array([233.5, 0.0, 209.0, 52.0, 2.0, 0.0, 19.0], dtype=object),\n array([209.3, 18.0, 44.0, 8.0, 5.0, 36.0, 7.0], dtype=object),\n array([455.3, 37.0, 158.0, 13.0, 11.0, 57.0, 19.0], dtype=object),\n array([195.3, 9.0, 14.0, 26.0, 15.0, 16.0, 8.0], dtype=object),\n array([673.5, 61.0, 18.0, 67.0, 133.0, 57.0, 2.0], dtype=object),\n array([153.4, 7.0, 29.0, 22.0, 17.0, 6.0, 4.0], dtype=object),\n array([397.7, 57.0, 5.0, 11.0, 21.0, 90.0, 2.0], dtype=object),\n array([1063.2, 126.0, 155.0, 74.0, 34.0, 168.0, 21.0], dtype=object),\n array([707.1, 76.0, 91.0, 147.0, 74.0, 161.0, 9.0], dtype=object),\n array([47.2, 0.0, 2.0, 0.0, 0.0, 0.0, 0.0], dtype=object),\n array([190.9, 8.0, 2.0, 0.0, 13.0, 3.0, 9.0], dtype=object),\n array([682.6, 45.0, 43.0, 43.0, 47.0, 63.0, 26.0], dtype=object),\n array([607.1, 40.0, 40.0, 65.0, 45.0, 81.0, 23.0], dtype=object),\n array([365.4, 23.0, 105.0, 10.0, 10.0, 46.0, 17.0], dtype=object),\n array([75.2, 2.0, 23.0, 10.0, 7.0, 1.0, 4.0], dtype=object),\n array([252.6, 24.0, 66.0, 4.0, 8.0, 11.0, 7.0], dtype=object),\n array([484.1, 42.0, 7.0, 32.0, 75.0, 31.0, 6.0], dtype=object),\n array([261.7, 27.0, 0.0, 3.0, 45.0, 35.0, 0.0], dtype=object),\n array([1594.9, 98.0, 26.0, 22.0, 149.0, 175.0, 58.0], dtype=object),\n array([428.1, 29.0, 11.0, 40.0, 37.0, 44.0, 14.0], dtype=object),\n array([455.7, 13.0, 38.0, 72.0, 34.0, 6.0, 26.0], dtype=object),\n array([442.5, 12.0, 246.0, 6.0, 12.0, 10.0, 29.0], dtype=object),\n array([361.1, 34.0, 25.0, 39.0, 45.0, 23.0, 5.0], dtype=object),\n array([212.9, 22.0, 5.0, 16.0, 15.0, 40.0, 4.0], dtype=object),\n array([308.8, 25.0, 13.0, 21.0, 59.0, 30.0, 2.0], dtype=object),\n array([383.1, 20.0, 30.0, 44.0, 43.0, 30.0, 14.0], dtype=object),\n array([447.0, 46.0, 175.0, 32.0, 1.0, 19.0, 15.0], dtype=object),\n array([338.9, 30.0, 35.0, 90.0, 43.0, 14.0, 7.0], dtype=object),\n array([597.1, 67.0, 9.0, 22.0, 49.0, 18.0, 8.0], dtype=object),\n array([325.2, 23.0, 7.0, 13.0, 34.0, 40.0, 10.0], dtype=object),\n array([196.4, 15.0, 0.0, 6.0, 31.0, 13.0, 3.0], dtype=object),\n array([402.9, 17.0, 18.0, 124.0, 42.0, 23.0, 18.0], dtype=object),\n array([89.3, 0.0, 35.0, 0.0, 4.0, 0.0, 7.0], dtype=object),\n array([473.2, 59.0, 23.0, 7.0, 28.0, 36.0, 8.0], dtype=object),\n array([248.7, 1.0, 216.0, 0.0, 5.0, 1.0, 21.0], dtype=object),\n array([183.0, 3.0, 10.0, 0.0, 13.0, 1.0, 11.0], dtype=object),\n array([198.2, 4.0, 15.0, 8.0, 60.0, 3.0, 3.0], dtype=object),\n array([657.6, 60.0, 3.0, 21.0, 135.0, 77.0, 1.0], dtype=object),\n array([13.7, 0.0, 11.0, 0.0, 0.0, 0.0, 1.0], dtype=object),\n array([157.7, 19.0, 6.0, 19.0, 17.0, 28.0, 0.0], dtype=object),\n array([257.4, 17.0, 47.0, 23.0, 47.0, 23.0, 4.0], dtype=object),\n array([742.5, 96.0, 118.0, 20.0, 12.0, 24.0, 15.0], dtype=object),\n array([300.5, 27.0, 6.0, 6.0, 47.0, 27.0, 1.0], dtype=object),\n array([308.0, 29.0, 6.0, 30.0, 32.0, 36.0, 5.0], dtype=object),\n array([2488.6, 199.0, 775.0, 133.0, 87.0, 116.0, 109.0], dtype=object),\n array([761.1, 49.0, 56.0, 31.0, 146.0, 45.0, 8.0], dtype=object),\n array([104.8, 15.0, 4.0, 0.0, 2.0, 10.0, 1.0], dtype=object),\n array([328.4, 15.0, 205.0, 7.0, 1.0, 43.0, 19.0], dtype=object),\n array([80.5, 1.0, 37.0, 89.0, 6.0, 0.0, 5.0], dtype=object),\n array([636.8, 47.0, 203.0, 15.0, 15.0, 85.0, 28.0], dtype=object),\n array([498.9, 40.0, 3.0, 8.0, 119.0, 41.0, 0.0], dtype=object),\n array([1036.0, 98.0, 23.0, 90.0, 77.0, 129.0, 27.0], dtype=object),\n array([161.1, 15.0, 12.0, 5.0, 12.0, 9.0, 4.0], dtype=object),\n array([154.0, 15.0, 14.0, 8.0, 9.0, 8.0, 4.0], dtype=object),\n array([328.3, 17.0, 27.0, 73.0, 50.0, 26.0, 10.0], dtype=object),\n array([173.5, 16.0, 38.0, 21.0, 8.0, 17.0, 5.0], dtype=object),\n array([310.7, 28.0, 9.0, 27.0, 48.0, 35.0, 3.0], dtype=object),\n array([375.4, 41.0, 14.0, 30.0, 53.0, 65.0, 1.0], dtype=object),\n array([339.6, 20.0, 141.0, 15.0, 7.0, 41.0, 17.0], dtype=object),\n array([209.5, 20.0, 64.0, 1.0, 5.0, 58.0, 7.0], dtype=object),\n array([205.7, 24.0, 12.0, 19.0, 4.0, 26.0, 4.0], dtype=object),\n array([372.6, 19.0, 13.0, 2.0, 19.0, 10.0, 18.0], dtype=object),\n array([36.3, 0.0, 3.0, 2.0, 7.0, 0.0, 1.0], dtype=object),\n array([191.9, 14.0, 6.0, 17.0, 9.0, 13.0, 7.0], dtype=object),\n array([1187.4, 137.0, 205.0, 19.0, 55.0, 206.0, 31.0], dtype=object),\n array([165.3, 5.0, 4.0, 0.0, 7.0, 2.0, 10.0], dtype=object),\n array([198.6, 17.0, 57.0, 8.0, 6.0, 40.0, 6.0], dtype=object),\n array([333.4, 20.0, 39.0, 22.0, 17.0, 13.0, 15.0], dtype=object),\n array([792.5, 19.0, 1.0, 11.0, 26.0, 37.0, 50.0], dtype=object),\n array([280.0, 22.0, 19.0, 34.0, 29.0, 32.0, 7.0], dtype=object),\n array([3557.7, 252.0, 1228.0, 140.0, 91.0, 122.0, 164.0], dtype=object),\n array([631.2, 30.0, 2.0, 39.0, 91.0, 27.0, 20.0], dtype=object),\n array([226.6, 15.0, 15.0, 6.0, 51.0, 8.0, 2.0], dtype=object),\n array([286.6, 0.0, 273.0, 0.0, 0.0, 0.0, 24.0], dtype=object),\n array([76.5, 0.0, 57.0, 0.0, 1.0, 0.0, 6.0], dtype=object),\n array([142.3, 16.0, 19.0, 27.0, 4.0, 9.0, 3.0], dtype=object),\n array([185.5, 14.0, 75.0, 4.0, 4.0, 28.0, 8.0], dtype=object),\n array([489.7, 39.0, 54.0, 22.0, 51.0, 19.0, 13.0], dtype=object),\n array([173.1, 13.0, 25.0, 11.0, 21.0, 24.0, 4.0], dtype=object),\n array([215.0, 17.0, 14.0, 15.0, 13.0, 22.0, 7.0], dtype=object),\n array([1398.0, 165.0, 83.0, 56.0, 149.0, 198.0, 9.0], dtype=object),\n array([197.4, 8.0, 43.0, 36.0, 19.0, 6.0, 9.0], dtype=object),\n array([245.1, 27.0, 4.0, 6.0, 7.0, 28.0, 7.0], dtype=object),\n array([95.3, 0.0, 38.0, 0.0, 4.0, 0.0, 7.0], dtype=object),\n array([302.6, 9.0, 8.0, 18.0, 36.0, 8.0, 14.0], dtype=object),\n array([567.3, 78.0, 79.0, 11.0, 14.0, 186.0, 7.0], dtype=object),\n array([310.3, 19.0, 154.0, 7.0, 6.0, 29.0, 15.0], dtype=object),\n array([31.2, 2.0, 1.0, 6.0, 5.0, 2.0, 0.0], dtype=object),\n array([336.8, 19.0, 33.0, 39.0, 55.0, 12.0, 10.0], dtype=object),\n array([104.0, 12.0, 1.0, 4.0, 14.0, 14.0, 0.0], dtype=object),\n array([516.1, 53.0, 13.0, 27.0, 49.0, 31.0, 8.0], dtype=object),\n array([366.5, 29.0, 120.0, 16.0, 8.0, 30.0, 15.0], dtype=object),\n array([265.2, 8.0, 112.0, 10.0, 4.0, 16.0, 17.0], dtype=object),\n array([84.3, 11.0, 15.0, 2.0, 2.0, 20.0, 1.0], dtype=object),\n array([474.1, 57.0, 12.0, 18.0, 52.0, 54.0, 3.0], dtype=object),\n array([327.6, 11.0, 16.0, 14.0, 21.0, 6.0, 18.0], dtype=object),\n array([510.8, 33.0, 82.0, 35.0, 18.0, 17.0, 24.0], dtype=object),\n array([107.0, 3.0, 62.0, 15.0, 4.0, 1.0, 7.0], dtype=object),\n array([236.9, 3.0, 1.0, 0.0, 10.0, 1.0, 15.0], dtype=object),\n array([220.3, 18.0, 21.0, 38.0, 30.0, 11.0, 5.0], dtype=object),\n array([141.2, 1.0, 26.0, 30.0, 31.0, 0.0, 8.0], dtype=object),\n array([1040.1, 68.0, 16.0, 55.0, 125.0, 86.0, 31.0], dtype=object),\n array([286.8, 3.0, 8.0, 36.0, 39.0, 3.0, 16.0], dtype=object),\n array([258.6, 20.0, 9.0, 17.0, 56.0, 16.0, 1.0], dtype=object),\n array([572.9, 48.0, 76.0, 60.0, 89.0, 69.0, 8.0], dtype=object),\n array([401.8, 32.0, 89.0, 15.0, 51.0, 29.0, 9.0], dtype=object),\n array([6.6, 0.0, 0.0, 38.0, 0.0, 0.0, 0.0], dtype=object),\n array([163.2, 24.0, 11.0, 19.0, 4.0, 44.0, 1.0], dtype=object),\n array([119.9, 12.0, 1.0, 7.0, 19.0, 25.0, 0.0], dtype=object),\n array([283.5, 16.0, 25.0, 11.0, 52.0, 8.0, 7.0], dtype=object),\n array([4076.9, 491.0, 1181.0, 71.0, 53.0, 1001.0, 118.0], dtype=object),\n array([338.9, 18.0, 150.0, 2.0, 8.0, 48.0, 18.0], dtype=object),\n array([503.9, 45.0, 9.0, 23.0, 37.0, 68.0, 13.0], dtype=object),\n array([215.1, 21.0, 15.0, 30.0, 16.0, 21.0, 4.0], dtype=object),\n array([193.4, 12.0, 0.0, 0.0, 10.0, 14.0, 8.0], dtype=object),\n array([1582.6, 88.0, 402.0, 27.0, 96.0, 156.0, 73.0], dtype=object),\n array([222.2, 5.0, 108.0, 7.0, 7.0, 5.0, 15.0], dtype=object),\n array([124.0, 10.0, 8.0, 13.0, 6.0, 9.0, 4.0], dtype=object),\n array([110.6, 5.0, 1.0, 3.0, 5.0, 9.0, 5.0], dtype=object),\n array([625.9, 69.0, 134.0, 17.0, 22.0, 138.0, 15.0], dtype=object),\n array([173.9, 8.0, 106.0, 25.0, 6.0, 9.0, 9.0], dtype=object),\n array([160.9, 0.0, 46.0, 0.0, 0.0, 0.0, 5.0], dtype=object),\n array([436.9, 23.0, 36.0, 21.0, 60.0, 26.0, 14.0], dtype=object),\n array([56.5, 5.0, 14.0, 7.0, 2.0, 2.0, 1.0], dtype=object),\n array([122.1, 0.0, 104.0, 4.0, 4.0, 0.0, 9.0], dtype=object),\n array([332.5, 18.0, 48.0, 35.0, 68.0, 17.0, 6.0], dtype=object),\n array([429.9, 41.0, 28.0, 13.0, 67.0, 51.0, 3.0], dtype=object),\n array([815.6, 74.0, 30.0, 50.0, 102.0, 90.0, 14.0], dtype=object),\n array([271.6, 3.0, 24.0, 25.0, 25.0, 4.0, 17.0], dtype=object),\n array([94.7, 0.0, 70.0, 0.0, 2.0, 0.0, 7.0], dtype=object),\n array([777.3, 50.0, 27.0, 144.0, 62.0, 69.0, 12.0], dtype=object),\n array([566.7, 43.0, 40.0, 36.0, 81.0, 52.0, 11.0], dtype=object),\n array([209.7, 10.0, 7.0, 0.0, 8.0, 4.0, 11.0], dtype=object),\n array([337.3, 8.0, 12.0, 7.0, 27.0, 4.0, 20.0], dtype=object),\n array([488.9, 36.0, 11.0, 43.0, 44.0, 34.0, 16.0], dtype=object),\n array([287.9, 19.0, 37.0, 11.0, 56.0, 23.0, 5.0], dtype=object),\n array([566.5, 80.0, 16.0, 14.0, 21.0, 150.0, 4.0], dtype=object),\n array([306.7, 33.0, 14.0, 21.0, 45.0, 28.0, 1.0], dtype=object),\n array([235.4, 18.0, 9.0, 27.0, 11.0, 32.0, 8.0], dtype=object),\n array([0.1, 0.0, 0.0, 0.0, 0.0, 0.0, 0.0], dtype=object),\n array([712.5, 58.0, 271.0, 23.0, 11.0, 107.0, 29.0], dtype=object),\n array([23.8, 0.0, 19.0, 15.0, 2.0, 0.0, 1.0], dtype=object),\n array([191.5, 14.0, 49.0, 16.0, 12.0, 32.0, 7.0], dtype=object),\n array([384.4, 14.0, 58.0, 25.0, 30.0, 19.0, 22.0], dtype=object),\n array([1557.4, 229.0, 4.0, 119.0, 83.0, 406.0, 5.0], dtype=object),\n array([212.1, 7.0, 23.0, 32.0, 45.0, 9.0, 6.0], dtype=object),\n array([883.9, 83.0, 249.0, 31.0, 22.0, 145.0, 30.0], dtype=object),\n array([540.6, 49.0, 6.0, 78.0, 56.0, 100.0, 11.0], dtype=object),\n array([193.8, 0.0, 22.0, 33.0, 22.0, 0.0, 12.0], dtype=object),\n array([188.2, 16.0, 46.0, 19.0, 17.0, 20.0, 4.0], dtype=object),\n array([693.1, 50.0, 61.0, 28.0, 108.0, 60.0, 15.0], dtype=object),\n array([364.4, 24.0, 103.0, 10.0, 10.0, 34.0, 16.0], dtype=object),\n array([158.0, 0.0, 6.0, 0.0, 0.0, 0.0, 1.0], dtype=object),\n array([102.2, 0.0, 88.0, 8.0, 1.0, 0.0, 8.0], dtype=object),\n array([626.2, 31.0, 216.0, 63.0, 81.0, 39.0, 23.0], dtype=object),\n array([1729.9, 139.0, 441.0, 184.0, 222.0, 127.0, 38.0], dtype=object),\n array([296.8, 10.0, 21.0, 6.0, 21.0, 7.0, 15.0], dtype=object),\n array([553.3, 38.0, 172.0, 14.0, 12.0, 44.0, 26.0], dtype=object),\n array([326.3, 1.0, 288.0, 0.0, 3.0, 1.0, 27.0], dtype=object),\n array([82.8, 5.0, 31.0, 19.0, 5.0, 2.0, 3.0], dtype=object),\n array([162.2, 8.0, 110.0, 2.0, 1.0, 7.0, 9.0], dtype=object),\n array([146.5, 0.0, 0.0, 0.0, 0.0, 0.0, 0.0], dtype=object),\n array([694.3, 38.0, 247.0, 9.0, 14.0, 75.0, 37.0], dtype=object),\n array([377.8, 48.0, 15.0, 51.0, 29.0, 96.0, 3.0], dtype=object),\n array([276.0, 34.0, 8.0, 29.0, 27.0, 42.0, 1.0], dtype=object),\n array([288.1, 15.0, 123.0, 3.0, 7.0, 28.0, 16.0], dtype=object),\n array([337.9, 43.0, 9.0, 24.0, 18.0, 84.0, 5.0], dtype=object),\n array([567.8, 61.0, 72.0, 86.0, 7.0, 29.0, 16.0], dtype=object),\n array([313.0, 19.0, 136.0, 8.0, 10.0, 35.0, 15.0], dtype=object),\n array([233.0, 12.0, 96.0, 5.0, 6.0, 23.0, 12.0], dtype=object),\n array([2453.4, 383.0, 17.0, 41.0, 62.0, 211.0, 9.0], dtype=object),\n array([1826.2, 178.0, 741.0, 45.0, 31.0, 382.0, 62.0], dtype=object),\n array([3647.1, 618.0, 13.0, 151.0, 30.0, 1188.0, 5.0], dtype=object),\n array([198.1, 9.0, 33.0, 7.0, 9.0, 16.0, 10.0], dtype=object),\n array([285.8, 0.0, 281.0, 0.0, 0.0, 0.0, 24.0], dtype=object),\n array([650.5, 49.0, 201.0, 8.0, 15.0, 78.0, 27.0], dtype=object),\n array([308.5, 17.0, 123.0, 8.0, 7.0, 34.0, 15.0], dtype=object),\n array([971.3, 99.0, 30.0, 65.0, 88.0, 163.0, 18.0], dtype=object),\n array([1145.6, 105.0, 470.0, 21.0, 21.0, 214.0, 45.0], dtype=object),\n array([109.3, 5.0, 38.0, 1.0, 3.0, 3.0, 6.0], dtype=object),\n array([189.0, 1.0, 130.0, 157.0, 13.0, 0.0, 14.0], dtype=object),\n array([81.0, 0.0, 61.0, 13.0, 2.0, 0.0, 6.0], dtype=object),\n array([1053.2, 79.0, 40.0, 95.0, 86.0, 118.0, 32.0], dtype=object),\n array([49.6, 1.0, 0.0, 16.0, 11.0, 0.0, 2.0], dtype=object),\n array([365.3, 32.0, 37.0, 4.0, 43.0, 49.0, 7.0], dtype=object),\n array([133.0, 1.0, 103.0, 0.0, 2.0, 0.0, 10.0], dtype=object),\n array([291.5, 13.0, 85.0, 25.0, 13.0, 7.0, 16.0], dtype=object),\n array([41.9, 0.0, 0.0, 2.0, 0.0, 0.0, 3.0], dtype=object),\n array([53.1, 5.0, 0.0, 2.0, 1.0, 12.0, 1.0], dtype=object),\n array([339.3, 34.0, 28.0, 8.0, 15.0, 27.0, 10.0], dtype=object),\n array([323.5, 13.0, 9.0, 32.0, 40.0, 12.0, 13.0], dtype=object),\n array([191.8, 4.0, 22.0, 37.0, 23.0, 3.0, 10.0], dtype=object),\n array([150.0, 11.0, 73.0, 4.0, 4.0, 23.0, 6.0], dtype=object),\n array([190.8, 29.0, 7.0, 62.0, 2.0, 13.0, 1.0], dtype=object),\n array([2526.8, 345.0, 35.0, 106.0, 43.0, 87.0, 37.0], dtype=object),\n array([120.8, 13.0, 3.0, 7.0, 14.0, 12.0, 0.0], dtype=object),\n array([835.8, 71.0, 2.0, 72.0, 148.0, 89.0, 8.0], dtype=object),\n array([253.7, 4.0, 216.0, 1.0, 1.0, 8.0, 19.0], dtype=object),\n array([340.7, 13.0, 207.0, 6.0, 4.0, 9.0, 21.0], dtype=object),\n array([252.5, 6.0, 0.0, 1.0, 39.0, 2.0, 13.0], dtype=object),\n array([144.5, 10.0, 45.0, 3.0, 1.0, 11.0, 6.0], dtype=object),\n array([790.6, 47.0, 56.0, 81.0, 94.0, 77.0, 27.0], dtype=object),\n array([99.4, 4.0, 4.0, 10.0, 20.0, 2.0, 2.0], dtype=object),\n array([321.4, 16.0, 35.0, 16.0, 26.0, 23.0, 14.0], dtype=object),\n array([403.2, 28.0, 86.0, 146.0, 44.0, 48.0, 15.0], dtype=object),\n array([531.1, 63.0, 7.0, 17.0, 27.0, 51.0, 10.0], dtype=object),\n array([692.5, 61.0, 29.0, 42.0, 83.0, 84.0, 15.0], dtype=object),\n array([148.3, 17.0, 33.0, 3.0, 5.0, 35.0, 3.0], dtype=object),\n array([109.6, 0.0, 1.0, 1.0, 0.0, 0.0, 0.0], dtype=object),\n array([135.2, 12.0, 19.0, 6.0, 9.0, 13.0, 4.0], dtype=object),\n array([160.2, 9.0, 4.0, 19.0, 7.0, 18.0, 7.0], dtype=object),\n array([253.9, 35.0, 9.0, 0.0, 3.0, 73.0, 3.0], dtype=object),\n array([43.8, 6.0, 0.0, 1.0, 3.0, 11.0, 0.0], dtype=object),\n array([130.7, 16.0, 10.0, 12.0, 7.0, 30.0, 1.0], dtype=object),\n array([274.5, 25.0, 2.0, 25.0, 50.0, 41.0, 2.0], dtype=object),\n array([810.9, 35.0, 10.0, 65.0, 107.0, 44.0, 31.0], dtype=object),\n array([107.4, 12.0, 0.0, 2.0, 5.0, 25.0, 2.0], dtype=object),\n array([171.1, 7.0, 15.0, 10.0, 17.0, 5.0, 7.0], dtype=object),\n array([92.5, 4.0, 21.0, 5.0, 15.0, 6.0, 4.0], dtype=object),\n array([131.1, 7.0, 9.0, 13.0, 14.0, 6.0, 4.0], dtype=object),\n array([166.8, 12.0, 14.0, 12.0, 14.0, 21.0, 5.0], dtype=object),\n array([99.3, 1.0, 8.0, 1.0, 12.0, 0.0, 6.0], dtype=object),\n array([80.9, 1.0, 67.0, 0.0, 2.0, 2.0, 6.0], dtype=object),\n array([648.2, 74.0, 200.0, 5.0, 8.0, 145.0, 17.0], dtype=object),\n array([137.1, 11.0, 11.0, 10.0, 10.0, 5.0, 4.0], dtype=object),\n array([474.7, 40.0, 148.0, 11.0, 12.0, 17.0, 18.0], dtype=object),\n array([785.7, 29.0, 11.0, 788.0, 169.0, 12.0, 36.0], dtype=object),\n array([101.1, 5.0, 26.0, 10.0, 7.0, 2.0, 5.0], dtype=object),\n array([112.4, 4.0, 37.0, 5.0, 5.0, 7.0, 6.0], dtype=object),\n array([552.2, 54.0, 53.0, 13.0, 36.0, 95.0, 13.0], dtype=object),\n array([23.3, 0.0, 11.0, 4.0, 1.0, 0.0, 1.0], dtype=object),\n array([167.9, 0.0, 127.0, 1.0, 4.0, 0.0, 14.0], dtype=object),\n array([633.3, 51.0, 17.0, 43.0, 50.0, 102.0, 19.0], dtype=object),\n array([176.3, 11.0, 66.0, 4.0, 4.0, 22.0, 8.0], dtype=object),\n array([171.0, 8.0, 70.0, 12.0, 4.0, 7.0, 9.0], dtype=object),\n array([41.3, 4.0, 2.0, 19.0, 2.0, 2.0, 0.0], dtype=object),\n array([1303.3, 48.0, 53.0, 11.0, 71.0, 91.0, 72.0], dtype=object),\n array([281.0, 23.0, 25.0, 27.0, 16.0, 27.0, 9.0], dtype=object),\n array([268.2, 14.0, 43.0, 17.0, 26.0, 5.0, 15.0], dtype=object),\n array([213.8, 13.0, 32.0, 6.0, 22.0, 4.0, 9.0], dtype=object),\n array([115.4, 12.0, 21.0, 1.0, 8.0, 8.0, 2.0], dtype=object),\n array([168.0, 27.0, 5.0, 8.0, 0.0, 12.0, 0.0], dtype=object),\n array([262.0, 39.0, 0.0, 19.0, 13.0, 42.0, 0.0], dtype=object),\n array([499.4, 39.0, 11.0, 56.0, 59.0, 40.0, 12.0], dtype=object),\n array([192.9, 32.0, 2.0, 6.0, 0.0, 7.0, 0.0], dtype=object),\n array([141.6, 7.0, 10.0, 7.0, 11.0, 3.0, 6.0], dtype=object),\n array([540.7, 39.0, 20.0, 34.0, 44.0, 78.0, 18.0], dtype=object),\n array([7016.6, 652.0, 2109.0, 260.0, 263.0, 568.0, 245.0], dtype=object),\n array([81.8, 5.0, 23.0, 8.0, 12.0, 6.0, 2.0], dtype=object),\n array([856.7, 44.0, 22.0, 28.0, 90.0, 59.0, 34.0], dtype=object),\n array([524.2, 44.0, 16.0, 26.0, 66.0, 69.0, 11.0], dtype=object),\n array([184.3, 11.0, 61.0, 7.0, 5.0, 6.0, 9.0], dtype=object),\n array([384.7, 14.0, 15.0, 3.0, 62.0, 12.0, 15.0], dtype=object),\n array([565.8, 75.0, 39.0, 11.0, 19.0, 101.0, 6.0], dtype=object),\n array([106.2, 4.0, 25.0, 4.0, 12.0, 8.0, 5.0], dtype=object),\n array([139.2, 15.0, 3.0, 5.0, 19.0, 20.0, 0.0], dtype=object),\n array([500.7, 12.0, 56.0, 52.0, 52.0, 10.0, 27.0], dtype=object),\n array([124.6, 17.0, 1.0, 7.0, 8.0, 35.0, 0.0], dtype=object),\n array([178.1, 9.0, 0.0, 4.0, 57.0, 5.0, 0.0], dtype=object),\n array([208.7, 3.0, 75.0, 13.0, 35.0, 4.0, 15.0], dtype=object),\n array([1066.6, 93.0, 148.0, 90.0, 76.0, 157.0, 30.0], dtype=object),\n array([52.0, 4.0, 3.0, 2.0, 9.0, 5.0, 0.0], dtype=object),\n array([515.2, 59.0, 14.0, 28.0, 65.0, 81.0, 3.0], dtype=object),\n array([389.9, 29.0, 137.0, 15.0, 8.0, 14.0, 16.0], dtype=object),\n array([152.5, 6.0, 85.0, 4.0, 13.0, 12.0, 8.0], dtype=object),\n array([488.2, 31.0, 153.0, 3.0, 22.0, 16.0, 24.0], dtype=object),\n array([104.4, 9.0, 35.0, 2.0, 1.0, 15.0, 4.0], dtype=object),\n array([727.0, 72.0, 179.0, 14.0, 19.0, 138.0, 23.0], dtype=object),\n array([198.0, 0.0, 9.0, 29.0, 10.0, 0.0, 14.0], dtype=object),\n array([97.2, 12.0, 8.0, 16.0, 1.0, 6.0, 1.0], dtype=object),\n array([639.7, 65.0, 25.0, 20.0, 43.0, 120.0, 14.0], dtype=object),\n array([447.3, 41.0, 16.0, 17.0, 56.0, 63.0, 7.0], dtype=object),\n array([628.7, 49.0, 233.0, 18.0, 14.0, 82.0, 28.0], dtype=object),\n array([77.3, 0.0, 38.0, 0.0, 0.0, 0.0, 3.0], dtype=object),\n array([144.1, 24.0, 1.0, 6.0, 0.0, 13.0, 0.0], dtype=object),\n array([213.4, 13.0, 32.0, 34.0, 36.0, 17.0, 5.0], dtype=object),\n array([200.6, 7.0, 87.0, 10.0, 9.0, 3.0, 11.0], dtype=object),\n array([86.3, 1.0, 0.0, 9.0, 7.0, 0.0, 5.0], dtype=object),\n array([225.5, 16.0, 110.0, 42.0, 4.0, 7.0, 11.0], dtype=object),\n array([521.2, 37.0, 63.0, 60.0, 55.0, 39.0, 16.0], dtype=object),\n array([64.8, 0.0, 29.0, 0.0, 2.0, 0.0, 5.0], dtype=object),\n array([137.9, 0.0, 137.0, 0.0, 0.0, 0.0, 12.0], dtype=object),\n array([1021.7, 76.0, 6.0, 75.0, 102.0, 151.0, 30.0], dtype=object),\n array([143.7, 5.0, 43.0, 7.0, 6.0, 2.0, 8.0], dtype=object),\n array([559.2, 50.0, 26.0, 58.0, 36.0, 57.0, 16.0], dtype=object),\n array([528.8, 60.0, 11.0, 35.0, 70.0, 52.0, 3.0], dtype=object),\n array([709.7, 92.0, 0.0, 6.0, 77.0, 121.0, 0.0], dtype=object),\n array([293.6, 27.0, 58.0, 12.0, 10.0, 49.0, 9.0], dtype=object),\n array([326.8, 29.0, 26.0, 33.0, 50.0, 30.0, 4.0], dtype=object),\n array([706.8, 39.0, 84.0, 53.0, 63.0, 41.0, 29.0], dtype=object),\n array([224.7, 30.0, 0.0, 24.0, 20.0, 36.0, 0.0], dtype=object),\n array([5660.6, 485.0, 1642.0, 237.0, 112.0, 276.0, 205.0], dtype=object),\n array([460.9, 26.0, 217.0, 14.0, 9.0, 53.0, 24.0], dtype=object),\n array([337.2, 39.0, 59.0, 9.0, 8.0, 33.0, 8.0], dtype=object),\n array([582.6, 64.0, 13.0, 37.0, 60.0, 125.0, 7.0], dtype=object),\n array([752.6, 48.0, 65.0, 67.0, 92.0, 58.0, 23.0], dtype=object),\n array([190.8, 14.0, 66.0, 4.0, 4.0, 27.0, 8.0], dtype=object),\n array([558.7, 69.0, 7.0, 29.0, 58.0, 98.0, 2.0], dtype=object),\n array([366.4, 35.0, 28.0, 28.0, 58.0, 44.0, 3.0], dtype=object),\n array([352.3, 25.0, 8.0, 28.0, 36.0, 43.0, 11.0], dtype=object),\n array([157.9, 8.0, 34.0, 2.0, 8.0, 8.0, 8.0], dtype=object),\n array([260.5, 24.0, 52.0, 11.0, 9.0, 45.0, 9.0], dtype=object),\n array([172.2, 8.0, 65.0, 1.0, 28.0, 22.0, 5.0], dtype=object),\n array([185.9, 9.0, 0.0, 13.0, 7.0, 4.0, 9.0], dtype=object),\n array([265.9, 18.0, 13.0, 19.0, 44.0, 23.0, 5.0], dtype=object),\n array([703.0, 89.0, 8.0, 34.0, 72.0, 117.0, 2.0], dtype=object),\n array([3103.5, 222.0, 931.0, 152.0, 72.0, 109.0, 139.0], dtype=object),\n array([316.1, 5.0, 16.0, 2.0, 22.0, 4.0, 19.0], dtype=object),\n array([72.8, 2.0, 35.0, 30.0, 4.0, 1.0, 4.0], dtype=object),\n array([197.4, 20.0, 76.0, 2.0, 5.0, 39.0, 6.0], dtype=object),\n array([360.6, 32.0, 2.0, 23.0, 34.0, 65.0, 8.0], dtype=object),\n array([59.5, 4.0, 1.0, 4.0, 5.0, 7.0, 1.0], dtype=object),\n array([470.1, 26.0, 122.0, 50.0, 61.0, 22.0, 16.0], dtype=object),\n array([167.3, 8.0, 8.0, 11.0, 12.0, 5.0, 8.0], dtype=object),\n array([682.5, 89.0, 108.0, 16.0, 21.0, 181.0, 10.0], dtype=object),\n array([480.5, 49.0, 40.0, 41.0, 27.0, 59.0, 11.0], dtype=object),\n array([422.2, 29.0, 33.0, 46.0, 58.0, 30.0, 10.0], dtype=object),\n array([955.7, 104.0, 17.0, 91.0, 112.0, 132.0, 9.0], dtype=object),\n array([126.4, 7.0, 7.0, 4.0, 19.0, 6.0, 4.0], dtype=object),\n array([548.5, 41.0, 212.0, 8.0, 11.0, 56.0, 24.0], dtype=object),\n array([5213.9, 404.0, 1251.0, 133.0, 215.0, 382.0, 217.0], dtype=object),\n array([415.8, 26.0, 126.0, 12.0, 12.0, 45.0, 20.0], dtype=object),\n array([1074.7, 105.0, 41.0, 46.0, 129.0, 88.0, 14.0], dtype=object),\n array([349.9, 25.0, 68.0, 4.0, 16.0, 48.0, 9.0], dtype=object),\n array([168.2, 8.0, 31.0, 6.0, 7.0, 18.0, 9.0], dtype=object),\n array([679.2, 53.0, 40.0, 86.0, 78.0, 76.0, 18.0], dtype=object),\n array([390.5, 36.0, 8.0, 59.0, 54.0, 58.0, 5.0], dtype=object),\n array([163.9, 11.0, 0.0, 3.0, 45.0, 5.0, 0.0], dtype=object),\n array([416.5, 27.0, 147.0, 10.0, 10.0, 39.0, 20.0], dtype=object),\n array([283.3, 20.0, 63.0, 5.0, 19.0, 24.0, 12.0], dtype=object),\n array([658.7, 75.0, 17.0, 14.0, 13.0, 154.0, 16.0], dtype=object),\n array([570.2, 49.0, 138.0, 25.0, 17.0, 64.0, 20.0], dtype=object),\n array([348.4, 18.0, 118.0, 22.0, 8.0, 37.0, 18.0], dtype=object),\n array([749.2, 81.0, 6.0, 178.0, 51.0, 163.0, 12.0], dtype=object),\n array([317.8, 42.0, 8.0, 58.0, 9.0, 19.0, 6.0], dtype=object),\n array([462.6, 26.0, 13.0, 42.0, 56.0, 22.0, 14.0], dtype=object),\n array([145.1, 15.0, 0.0, 16.0, 9.0, 32.0, 3.0], dtype=object),\n array([270.8, 24.0, 8.0, 31.0, 25.0, 43.0, 6.0], dtype=object),\n array([604.9, 21.0, 124.0, 3.0, 11.0, 42.0, 39.0], dtype=object),\n array([386.7, 15.0, 17.0, 1.0, 15.0, 19.0, 22.0], dtype=object),\n array([148.5, 8.0, 56.0, 66.0, 8.0, 3.0, 8.0], dtype=object),\n array([183.4, 15.0, 5.0, 10.0, 8.0, 11.0, 6.0], dtype=object),\n array([724.1, 76.0, 153.0, 26.0, 29.0, 149.0, 18.0], dtype=object),\n array([561.2, 22.0, 18.0, 146.0, 23.0, 10.0, 32.0], dtype=object),\n array([113.5, 1.0, 0.0, 10.0, 6.0, 0.0, 7.0], dtype=object),\n array([195.1, 15.0, 30.0, 13.0, 9.0, 11.0, 7.0], dtype=object),\n array([187.2, 8.0, 58.0, 6.0, 7.0, 5.0, 11.0], dtype=object),\n array([667.1, 42.0, 61.0, 96.0, 57.0, 48.0, 27.0], dtype=object),\n array([217.8, 14.0, 8.0, 24.0, 58.0, 24.0, 1.0], dtype=object),\n array([233.4, 13.0, 104.0, 9.0, 7.0, 16.0, 12.0], dtype=object),\n array([283.1, 3.0, 72.0, 24.0, 17.0, 3.0, 21.0], dtype=object),\n array([146.6, 12.0, 34.0, 3.0, 9.0, 8.0, 5.0], dtype=object),\n array([273.9, 15.0, 29.0, 27.0, 10.0, 12.0, 13.0], dtype=object),\n array([524.6, 39.0, 47.0, 43.0, 61.0, 50.0, 14.0], dtype=object),\n array([310.6, 31.0, 72.0, 12.0, 21.0, 25.0, 8.0], dtype=object),\n array([286.9, 27.0, 53.0, 15.0, 16.0, 18.0, 8.0], dtype=object),\n array([417.9, 50.0, 24.0, 25.0, 25.0, 47.0, 6.0], dtype=object),\n array([1016.2, 85.0, 366.0, 31.0, 19.0, 171.0, 42.0], dtype=object),\n array([372.0, 53.0, 9.0, 19.0, 13.0, 73.0, 4.0], dtype=object),\n array([406.7, 32.0, 5.0, 14.0, 24.0, 63.0, 14.0], dtype=object),\n array([954.5, 48.0, 572.0, 38.0, 48.0, 129.0, 49.0], dtype=object),\n array([240.4, 5.0, 24.0, 28.0, 53.0, 4.0, 8.0], dtype=object),\n array([87.2, 1.0, 43.0, 27.0, 7.0, 0.0, 6.0], dtype=object),\n array([104.1, 9.0, 6.0, 45.0, 4.0, 7.0, 3.0], dtype=object),\n array([659.1, 19.0, 0.0, 3.0, 54.0, 9.0, 36.0], dtype=object),\n array([772.0, 30.0, 150.0, 33.0, 58.0, 41.0, 36.0], dtype=object),\n array([200.7, 0.0, 88.0, 1.0, 2.0, 0.0, 11.0], dtype=object),\n array([365.2, 29.0, 2.0, 19.0, 53.0, 26.0, 6.0], dtype=object),\n array([456.0, 27.0, 206.0, 47.0, 37.0, 77.0, 18.0], dtype=object),\n array([591.2, 48.0, 201.0, 10.0, 12.0, 78.0, 25.0], dtype=object),\n array([593.0, 46.0, 9.0, 18.0, 65.0, 93.0, 15.0], dtype=object),\n array([158.9, 4.0, 6.0, 4.0, 58.0, 6.0, 0.0], dtype=object),\n array([533.9, 16.0, 26.0, 11.0, 25.0, 31.0, 32.0], dtype=object),\n array([262.2, 15.0, 111.0, 23.0, 4.0, 7.0, 15.0], dtype=object),\n array([303.3, 19.0, 13.0, 32.0, 27.0, 34.0, 10.0], dtype=object),\n array([3575.7, 313.0, 948.0, 61.0, 74.0, 623.0, 133.0], dtype=object),\n array([493.4, 31.0, 161.0, 84.0, 53.0, 39.0, 17.0], dtype=object),\n array([503.2, 2.0, 307.0, 121.0, 6.0, 1.0, 34.0], dtype=object),\n array([158.7, 14.0, 13.0, 14.0, 9.0, 27.0, 3.0], dtype=object),\n array([284.1, 0.0, 11.0, 0.0, 14.0, 0.0, 21.0], dtype=object),\n array([160.2, 5.0, 5.0, 0.0, 5.0, 2.0, 10.0], dtype=object),\n array([188.9, 2.0, 9.0, 12.0, 13.0, 1.0, 12.0], dtype=object),\n array([313.5, 24.0, 110.0, 11.0, 6.0, 43.0, 14.0], dtype=object),\n array([432.4, 6.0, 152.0, 2444.0, 35.0, 5.0, 28.0], dtype=object),\n array([162.0, 5.0, 12.0, 9.0, 8.0, 5.0, 9.0], dtype=object),\n array([4434.1, 200.0, 2647.0, 178.0, 133.0, 474.0, 251.0], dtype=object),\n array([440.6, 34.0, 137.0, 10.0, 18.0, 38.0, 18.0], dtype=object),\n array([315.9, 12.0, 10.0, 36.0, 13.0, 8.0, 18.0], dtype=object),\n array([132.7, 18.0, 9.0, 16.0, 3.0, 35.0, 1.0], dtype=object),\n array([315.3, 21.0, 3.0, 10.0, 30.0, 42.0, 10.0], dtype=object),\n array([216.0, 10.0, 72.0, 4.0, 7.0, 4.0, 12.0], dtype=object),\n array([138.1, 18.0, 6.0, 18.0, 10.0, 36.0, 1.0], dtype=object),\n array([397.2, 28.0, 127.0, 7.0, 13.0, 54.0, 18.0], dtype=object),\n array([174.7, 0.0, 122.0, 8.0, 3.0, 0.0, 14.0], dtype=object),\n array([522.0, 38.0, 35.0, 32.0, 64.0, 55.0, 13.0], dtype=object),\n array([143.5, 5.0, 74.0, 12.0, 4.0, 2.0, 9.0], dtype=object),\n array([182.1, 10.0, 25.0, 39.0, 11.0, 5.0, 8.0], dtype=object),\n array([221.8, 20.0, 63.0, 7.0, 4.0, 33.0, 8.0], dtype=object),\n array([325.0, 14.0, 126.0, 5.0, 18.0, 28.0, 18.0], dtype=object),\n array([49.6, 4.0, 10.0, 9.0, 1.0, 2.0, 1.0], dtype=object),\n array([469.2, 41.0, 6.0, 22.0, 77.0, 43.0, 5.0], dtype=object),\n array([191.9, 12.0, 67.0, 6.0, 8.0, 10.0, 8.0], dtype=object),\n array([381.7, 56.0, 1.0, 42.0, 25.0, 34.0, 0.0], dtype=object),\n array([1340.3, 164.0, 24.0, 74.0, 40.0, 223.0, 24.0], dtype=object),\n array([2335.8, 255.0, 443.0, 45.0, 131.0, 232.0, 57.0], dtype=object),\n array([703.2, 48.0, 299.0, 28.0, 16.0, 50.0, 33.0], dtype=object),\n array([1014.0, 13.0, 759.0, 386.0, 44.0, 7.0, 74.0], dtype=object),\n array([179.6, 9.0, 13.0, 23.0, 27.0, 7.0, 6.0], dtype=object),\n array([498.8, 21.0, 30.0, 90.0, 19.0, 38.0, 29.0], dtype=object),\n array([374.2, 42.0, 96.0, 10.0, 13.0, 76.0, 8.0], dtype=object),\n array([426.6, 44.0, 30.0, 15.0, 44.0, 27.0, 6.0], dtype=object),\n array([343.0, 28.0, 134.0, 9.0, 9.0, 55.0, 15.0], dtype=object),\n array([354.1, 42.0, 2.0, 6.0, 48.0, 32.0, 0.0], dtype=object),\n array([426.6, 41.0, 23.0, 48.0, 25.0, 22.0, 11.0], dtype=object),\n array([155.3, 16.0, 49.0, 2.0, 5.0, 31.0, 5.0], dtype=object),\n array([212.1, 6.0, 12.0, 13.0, 16.0, 3.0, 13.0], dtype=object),\n array([1846.7, 243.0, 26.0, 130.0, 173.0, 436.0, 9.0], dtype=object),\n array([190.4, 4.0, 22.0, 13.0, 50.0, 3.0, 4.0], dtype=object),\n array([97.1, 2.0, 50.0, 87.0, 8.0, 1.0, 6.0], dtype=object),\n array([241.2, 26.0, 12.0, 16.0, 19.0, 24.0, 4.0], dtype=object),\n array([389.3, 19.0, 132.0, 15.0, 15.0, 36.0, 21.0], dtype=object),\n array([39.9, 2.0, 27.0, 0.0, 0.0, 4.0, 2.0], dtype=object),\n array([183.1, 16.0, 84.0, 0.0, 3.0, 31.0, 8.0], dtype=object),\n array([252.2, 41.0, 0.0, 0.0, 1.0, 18.0, 1.0], dtype=object),\n array([501.2, 36.0, 30.0, 33.0, 48.0, 20.0, 16.0], dtype=object),\n array([628.9, 69.0, 14.0, 21.0, 84.0, 65.0, 2.0], dtype=object),\n array([422.7, 11.0, 8.0, 18.0, 46.0, 6.0, 23.0], dtype=object),\n array([208.1, 0.0, 0.0, 0.0, 0.0, 0.0, 0.0], dtype=object),\n array([264.5, 17.0, 95.0, 10.0, 6.0, 8.0, 12.0], dtype=object),\n array([46.8, 4.0, 20.0, 0.0, 1.0, 10.0, 1.0], dtype=object),\n array([916.8, 82.0, 57.0, 29.0, 48.0, 49.0, 31.0], dtype=object),\n array([390.7, 30.0, 161.0, 7.0, 12.0, 50.0, 17.0], dtype=object),\n array([42.5, 0.0, 34.0, 0.0, 0.0, 0.0, 3.0], dtype=object),\n array([331.6, 24.0, 96.0, 9.0, 10.0, 47.0, 15.0], dtype=object),\n array([68.9, 2.0, 6.0, 2.0, 3.0, 4.0, 3.0], dtype=object),\n array([776.4, 69.0, 6.0, 45.0, 72.0, 140.0, 18.0], dtype=object),\n array([544.2, 29.0, 90.0, 70.0, 65.0, 19.0, 20.0], dtype=object),\n array([546.9, 46.0, 23.0, 25.0, 54.0, 93.0, 13.0], dtype=object),\n array([1057.9, 136.0, 8.0, 67.0, 102.0, 166.0, 5.0], dtype=object),\n array([531.8, 41.0, 6.0, 9.0, 24.0, 77.0, 20.0], dtype=object),\n array([200.3, 6.0, 12.0, 9.0, 55.0, 5.0, 3.0], dtype=object),\n array([569.1, 58.0, 26.0, 46.0, 84.0, 88.0, 5.0], dtype=object),\n array([105.0, 0.0, 57.0, 0.0, 2.0, 0.0, 8.0], dtype=object),\n array([2314.8, 60.0, 395.0, 102.0, 145.0, 32.0, 147.0], dtype=object),\n array([745.5, 66.0, 26.0, 7.0, 77.0, 92.0, 13.0], dtype=object),\n array([183.2, 8.0, 30.0, 13.0, 11.0, 7.0, 9.0], dtype=object),\n array([157.7, 0.0, 0.0, 0.0, 0.0, 0.0, 0.0], dtype=object),\n array([69.4, 0.0, 0.0, 0.0, 0.0, 0.0, 0.0], dtype=object),\n array([240.8, 20.0, 14.0, 7.0, 33.0, 24.0, 5.0], dtype=object),\n array([89.1, 0.0, 29.0, 0.0, 5.0, 0.0, 6.0], dtype=object),\n array([810.9, 110.0, 11.0, 88.0, 8.0, 49.0, 3.0], dtype=object),\n array([133.6, 21.0, 0.0, 3.0, 3.0, 37.0, 0.0], dtype=object),\n array([991.2, 121.0, 75.0, 96.0, 99.0, 137.0, 7.0], dtype=object),\n array([115.8, 6.0, 11.0, 0.0, 5.0, 3.0, 6.0], dtype=object),\n array([305.4, 19.0, 165.0, 50.0, 5.0, 57.0, 15.0], dtype=object),\n array([85.8, 5.0, 27.0, 17.0, 5.0, 3.0, 4.0], dtype=object),\n array([204.2, 15.0, 7.0, 1.0, 22.0, 12.0, 5.0], dtype=object),\n array([472.9, 64.0, 9.0, 38.0, 28.0, 19.0, 5.0], dtype=object),\n array([244.5, 17.0, 10.0, 75.0, 39.0, 17.0, 5.0], dtype=object),\n array([245.2, 12.0, 54.0, 6.0, 12.0, 6.0, 13.0], dtype=object),\n array([93.8, 10.0, 25.0, 0.0, 3.0, 3.0, 3.0], dtype=object),\n array([214.7, 29.0, 7.0, 11.0, 6.0, 23.0, 4.0], dtype=object),\n array([132.6, 9.0, 52.0, 1.0, 6.0, 17.0, 6.0], dtype=object),\n array([666.6, 52.0, 20.0, 40.0, 94.0, 81.0, 5.0], dtype=object),\n array([440.6, 45.0, 25.0, 36.0, 62.0, 58.0, 3.0], dtype=object),\n array([215.9, 13.0, 18.0, 15.0, 37.0, 19.0, 4.0], dtype=object),\n array([953.5, 109.0, 5.0, 80.0, 140.0, 143.0, 1.0], dtype=object),\n array([37.2, 1.0, 5.0, 3.0, 10.0, 1.0, 1.0], dtype=object),\n array([168.9, 26.0, 5.0, 0.0, 3.0, 11.0, 1.0], dtype=object),\n array([209.9, 6.0, 30.0, 54.0, 53.0, 4.0, 6.0], dtype=object),\n array([195.5, 7.0, 17.0, 17.0, 18.0, 3.0, 11.0], dtype=object),\n array([96.3, 0.0, 0.0, 0.0, 0.0, 0.0, 0.0], dtype=object),\n array([527.5, 12.0, 195.0, 20.0, 17.0, 28.0, 35.0], dtype=object),\n array([336.4, 38.0, 5.0, 22.0, 12.0, 78.0, 7.0], dtype=object),\n array([425.5, 24.0, 38.0, 44.0, 21.0, 21.0, 17.0], dtype=object),\n array([2282.1, 104.0, 286.0, 93.0, 118.0, 163.0, 113.0], dtype=object),\n array([2729.7, 162.0, 1257.0, 32.0, 68.0, 321.0, 145.0], dtype=object),\n array([685.3, 55.0, 127.0, 83.0, 86.0, 62.0, 14.0], dtype=object),\n array([472.5, 18.0, 60.0, 56.0, 36.0, 12.0, 24.0], dtype=object),\n array([382.1, 28.0, 17.0, 63.0, 37.0, 23.0, 11.0], dtype=object),\n array([178.3, 4.0, 10.0, 0.0, 10.0, 2.0, 10.0], dtype=object),\n array([83.4, 8.0, 14.0, 5.0, 5.0, 4.0, 2.0], dtype=object),\n array([165.5, 0.0, 122.0, 0.0, 4.0, 0.0, 14.0], dtype=object),\n array([510.2, 56.0, 87.0, 31.0, 24.0, 58.0, 11.0], dtype=object),\n array([302.6, 27.0, 18.0, 48.0, 22.0, 36.0, 7.0], dtype=object),\n array([200.7, 20.0, 29.0, 27.0, 14.0, 22.0, 4.0], dtype=object),\n array([1305.9, 100.0, 606.0, 23.0, 33.0, 260.0, 58.0], dtype=object),\n array([47.6, 0.0, 17.0, 6.0, 5.0, 0.0, 3.0], dtype=object),\n array([113.3, 11.0, 25.0, 32.0, 5.0, 5.0, 3.0], dtype=object),\n array([504.9, 21.0, 18.0, 28.0, 51.0, 15.0, 22.0], dtype=object),\n array([72.5, 7.0, 0.0, 6.0, 5.0, 10.0, 1.0], dtype=object),\n array([162.6, 8.0, 63.0, 4.0, 3.0, 15.0, 9.0], dtype=object),\n array([465.3, 29.0, 124.0, 32.0, 51.0, 36.0, 15.0], dtype=object),\n array([495.2, 44.0, 25.0, 25.0, 79.0, 50.0, 5.0], dtype=object),\n array([196.2, 1.0, 124.0, 9.0, 11.0, 2.0, 14.0], dtype=object),\n array([388.3, 10.0, 300.0, 7.0, 8.0, 2.0, 27.0], dtype=object),\n array([666.0, 11.0, 199.0, 9.0, 7.0, 5.0, 48.0], dtype=object),\n array([173.6, 18.0, 24.0, 7.0, 8.0, 39.0, 5.0], dtype=object),\n array([182.9, 4.0, 8.0, 14.0, 9.0, 1.0, 11.0], dtype=object),\n array([269.3, 25.0, 7.0, 15.0, 14.0, 52.0, 8.0], dtype=object),\n array([138.4, 3.0, 42.0, 2.0, 6.0, 2.0, 7.0], dtype=object),\n array([262.4, 13.0, 81.0, 18.0, 7.0, 19.0, 14.0], dtype=object),\n array([0.5, 0.0, 0.0, 39.0, 0.0, 0.0, 0.0], dtype=object),\n array([305.0, 42.0, 38.0, 32.0, 7.0, 86.0, 4.0], dtype=object),\n array([403.1, 21.0, 28.0, 28.0, 73.0, 12.0, 11.0], dtype=object),\n array([251.7, 7.0, 44.0, 11.0, 11.0, 13.0, 14.0], dtype=object),\n array([141.9, 10.0, 43.0, 6.0, 3.0, 8.0, 6.0], dtype=object),\n array([484.3, 28.0, 44.0, 47.0, 35.0, 46.0, 18.0], dtype=object),\n array([139.2, 6.0, 63.0, 34.0, 8.0, 2.0, 7.0], dtype=object),\n array([657.9, 66.0, 13.0, 21.0, 95.0, 62.0, 3.0], dtype=object),\n array([258.0, 18.0, 106.0, 8.0, 3.0, 19.0, 12.0], dtype=object),\n array([127.8, 12.0, 54.0, 0.0, 3.0, 23.0, 5.0], dtype=object),\n array([64.4, 0.0, 69.0, 0.0, 0.0, 0.0, 5.0], dtype=object),\n array([907.0, 67.0, 212.0, 22.0, 24.0, 107.0, 40.0], dtype=object),\n array([142.3, 4.0, 71.0, 13.0, 6.0, 9.0, 8.0], dtype=object),\n array([485.8, 14.0, 18.0, 17.0, 40.0, 10.0, 23.0], dtype=object),\n array([418.1, 7.0, 95.0, 6.0, 17.0, 14.0, 28.0], dtype=object),\n array([162.2, 13.0, 13.0, 5.0, 17.0, 16.0, 4.0], dtype=object),\n array([138.8, 12.0, 4.0, 7.0, 6.0, 14.0, 4.0], dtype=object),\n array([271.6, 11.0, 97.0, 16.0, 9.0, 20.0, 15.0], dtype=object),\n array([37.3, 0.0, 30.0, 37.0, 1.0, 0.0, 2.0], dtype=object),\n array([315.2, 10.0, 7.0, 28.0, 36.0, 8.0, 15.0], dtype=object),\n array([146.7, 16.0, 24.0, 14.0, 5.0, 20.0, 3.0], dtype=object),\n array([172.2, 7.0, 4.0, 2.0, 8.0, 14.0, 9.0], dtype=object),\n array([193.2, 12.0, 58.0, 5.0, 5.0, 22.0, 9.0], dtype=object),\n array([265.4, 25.0, 98.0, 7.0, 5.0, 52.0, 9.0], dtype=object),\n array([19.2, 0.0, 6.0, 0.0, 2.0, 0.0, 1.0], dtype=object),\n array([95.6, 6.0, 3.0, 6.0, 11.0, 8.0, 3.0], dtype=object),\n array([669.7, 74.0, 6.0, 29.0, 83.0, 139.0, 4.0], dtype=object),\n array([38.1, 3.0, 0.0, 0.0, 1.0, 2.0, 1.0], dtype=object),\n array([241.4, 1.0, 9.0, 32.0, 29.0, 1.0, 14.0], dtype=object),\n array([354.7, 35.0, 6.0, 11.0, 22.0, 44.0, 8.0], dtype=object),\n array([285.9, 29.0, 4.0, 6.0, 6.0, 60.0, 8.0], dtype=object),\n array([253.0, 20.0, 11.0, 2.0, 7.0, 37.0, 10.0], dtype=object),\n array([374.7, 57.0, 22.0, 31.0, 10.0, 21.0, 3.0], dtype=object),\n array([166.4, 2.0, 40.0, 8.0, 7.0, 1.0, 11.0], dtype=object),\n array([153.8, 7.0, 18.0, 8.0, 8.0, 13.0, 7.0], dtype=object),\n array([957.6, 1.0, 883.0, 28.0, 8.0, 0.0, 81.0], dtype=object),\n array([163.9, 0.0, 150.0, 92.0, 5.0, 0.0, 14.0], dtype=object),\n array([348.5, 22.0, 33.0, 5.0, 15.0, 38.0, 19.0], dtype=object),\n array([216.2, 3.0, 18.0, 21.0, 23.0, 2.0, 12.0], dtype=object),\n array([223.8, 16.0, 44.0, 3.0, 10.0, 6.0, 9.0], dtype=object),\n array([101.4, 9.0, 13.0, 2.0, 2.0, 17.0, 3.0], dtype=object),\n array([71.7, 3.0, 28.0, 22.0, 5.0, 1.0, 3.0], dtype=object),\n array([161.1, 14.0, 3.0, 17.0, 22.0, 20.0, 2.0], dtype=object),\n array([1316.6, 80.0, 41.0, 89.0, 52.0, 92.0, 62.0], dtype=object),\n array([266.1, 5.0, 12.0, 17.0, 28.0, 2.0, 15.0], dtype=object),\n array([555.0, 43.0, 17.0, 42.0, 61.0, 63.0, 10.0], dtype=object),\n array([445.5, 11.0, 5.0, 32.0, 22.0, 7.0, 27.0], dtype=object),\n array([373.5, 1.0, 7.0, 25.0, 14.0, 1.0, 27.0], dtype=object),\n array([388.6, 22.0, 27.0, 38.0, 65.0, 32.0, 10.0], dtype=object),\n array([362.6, 26.0, 97.0, 5.0, 10.0, 41.0, 17.0], dtype=object),\n array([366.9, 24.0, 47.0, 14.0, 8.0, 20.0, 17.0], dtype=object),\n array([339.3, 6.0, 10.0, 73.0, 18.0, 11.0, 21.0], dtype=object),\n array([81.2, 9.0, 9.0, 6.0, 2.0, 9.0, 1.0], dtype=object),\n array([511.6, 71.0, 15.0, 45.0, 33.0, 101.0, 2.0], dtype=object),\n array([219.2, 16.0, 11.0, 15.0, 14.0, 13.0, 7.0], dtype=object),\n array([3.9, 0.0, 0.0, 0.0, 0.0, 0.0, 0.0], dtype=object),\n array([915.8, 98.0, 15.0, 42.0, 58.0, 145.0, 18.0], dtype=object),\n array([16.1, 0.0, 1.0, 19.0, 1.0, 0.0, 1.0], dtype=object),\n array([162.6, 9.0, 4.0, 15.0, 17.0, 18.0, 5.0], dtype=object),\n array([140.3, 9.0, 39.0, 10.0, 5.0, 5.0, 6.0], dtype=object),\n array([170.4, 0.0, 86.0, 0.0, 1.0, 0.0, 8.0], dtype=object),\n array([136.9, 5.0, 81.0, 0.0, 2.0, 16.0, 8.0], dtype=object),\n array([559.2, 40.0, 25.0, 11.0, 37.0, 36.0, 20.0], dtype=object),\n array([105.8, 9.0, 36.0, 0.0, 3.0, 14.0, 3.0], dtype=object),\n array([521.2, 34.0, 42.0, 29.0, 59.0, 50.0, 15.0], dtype=object),\n array([1191.1, 128.0, 339.0, 23.0, 22.0, 237.0, 37.0], dtype=object),\n array([172.3, 18.0, 35.0, 5.0, 5.0, 29.0, 5.0], dtype=object),\n array([391.8, 27.0, 186.0, 8.0, 8.0, 53.0, 19.0], dtype=object),\n array([23.8, 0.0, 11.0, 0.0, 2.0, 0.0, 1.0], dtype=object),\n array([541.0, 60.0, 7.0, 51.0, 79.0, 105.0, 1.0], dtype=object),\n array([118.3, 10.0, 0.0, 3.0, 12.0, 20.0, 2.0], dtype=object),\n array([817.6, 42.0, 124.0, 65.0, 42.0, 57.0, 42.0], dtype=object),\n array([774.0, 0.0, 799.0, 0.0, 0.0, 0.0, 66.0], dtype=object),\n array([28.2, 0.0, 8.0, 1.0, 3.0, 0.0, 1.0], dtype=object),\n array([218.2, 17.0, 2.0, 23.0, 19.0, 31.0, 6.0], dtype=object),\n array([182.0, 0.0, 78.0, 0.0, 0.0, 0.0, 9.0], dtype=object),\n array([1596.2, 249.0, 155.0, 0.0, 2.0, 112.0, 14.0], dtype=object),\n array([1124.9, 81.0, 27.0, 48.0, 130.0, 157.0, 31.0], dtype=object),\n array([118.3, 0.0, 4.0, 0.0, 5.0, 0.0, 9.0], dtype=object),\n array([174.8, 2.0, 52.0, 3.0, 7.0, 5.0, 12.0], dtype=object),\n array([1311.8, 126.0, 40.0, 90.0, 128.0, 253.0, 26.0], dtype=object),\n array([384.9, 47.0, 4.0, 62.0, 47.0, 97.0, 1.0], dtype=object),\n array([72.9, 1.0, 34.0, 0.0, 3.0, 3.0, 5.0], dtype=object),\n array([369.5, 15.0, 51.0, 21.0, 32.0, 15.0, 18.0], dtype=object),\n array([97.5, 10.0, 1.0, 8.0, 14.0, 16.0, 0.0], dtype=object),\n array([384.7, 0.0, 0.0, 70.0, 159.0, 0.0, 6.0], dtype=object),\n array([304.1, 13.0, 121.0, 3.0, 13.0, 9.0, 19.0], dtype=object),\n array([40.7, 0.0, 17.0, 2.0, 4.0, 0.0, 2.0], dtype=object),\n array([26.8, 0.0, 11.0, 5.0, 2.0, 0.0, 1.0], dtype=object),\n array([57.7, 0.0, 39.0, 0.0, 2.0, 0.0, 4.0], dtype=object),\n array([90.9, 0.0, 20.0, 0.0, 0.0, 0.0, 2.0], dtype=object),\n array([43.0, 2.0, 12.0, 0.0, 4.0, 2.0, 1.0], dtype=object),\n array([445.7, 42.0, 6.0, 11.0, 17.0, 87.0, 14.0], dtype=object),\n array([331.2, 16.0, 7.0, 33.0, 103.0, 13.0, 1.0], dtype=object),\n array([451.6, 43.0, 19.0, 59.0, 41.0, 51.0, 9.0], dtype=object),\n array([766.0, 33.0, 259.0, 19.0, 22.0, 35.0, 44.0], dtype=object),\n array([181.3, 5.0, 27.0, 4.0, 8.0, 10.0, 10.0], dtype=object),\n array([183.0, 7.0, 68.0, 10.0, 6.0, 7.0, 10.0], dtype=object),\n array([129.4, 3.0, 3.0, 16.0, 9.0, 3.0, 7.0], dtype=object),\n array([483.8, 66.0, 0.0, 57.0, 36.0, 73.0, 1.0], dtype=object),\n array([408.1, 31.0, 6.0, 39.0, 36.0, 47.0, 12.0], dtype=object),\n array([61.9, 0.0, 36.0, 0.0, 2.0, 0.0, 4.0], dtype=object),\n array([73.7, 2.0, 29.0, 0.0, 3.0, 2.0, 4.0], dtype=object),\n array([90.0, 4.0, 32.0, 0.0, 3.0, 9.0, 4.0], dtype=object),\n array([369.6, 26.0, 120.0, 15.0, 6.0, 10.0, 17.0], dtype=object),\n array([46.0, 0.0, 8.0, 28.0, 6.0, 0.0, 2.0], dtype=object),\n array([7.8, 0.0, 3.0, 2.0, 0.0, 0.0, 0.0], dtype=object),\n array([46.3, 3.0, 6.0, 6.0, 5.0, 1.0, 1.0], dtype=object),\n array([462.3, 47.0, 25.0, 44.0, 33.0, 52.0, 9.0], dtype=object),\n array([173.9, 15.0, 9.0, 15.0, 10.0, 28.0, 5.0], dtype=object),\n array([533.4, 39.0, 28.0, 37.0, 73.0, 63.0, 12.0], dtype=object),\n array([624.6, 36.0, 77.0, 27.0, 84.0, 45.0, 20.0], dtype=object),\n array([218.2, 17.0, 9.0, 26.0, 37.0, 21.0, 3.0], dtype=object),\n array([404.9, 37.0, 148.0, 7.0, 9.0, 63.0, 15.0], dtype=object),\n array([271.4, 24.0, 12.0, 18.0, 28.0, 34.0, 5.0], dtype=object),\n array([535.4, 44.0, 2.0, 39.0, 62.0, 56.0, 12.0], dtype=object),\n array([490.2, 52.0, 26.0, 46.0, 69.0, 63.0, 2.0], dtype=object),\n array([526.5, 9.0, 2.0, 3.0, 38.0, 8.0, 31.0], dtype=object),\n array([19.5, 0.0, 4.0, 0.0, 1.0, 0.0, 1.0], dtype=object),\n array([488.2, 20.0, 236.0, 4.0, 11.0, 38.0, 30.0], dtype=object),\n array([572.3, 59.0, 16.0, 7.0, 84.0, 55.0, 2.0], dtype=object),\n array([415.7, 31.0, 0.0, 36.0, 15.0, 18.0, 16.0], dtype=object),\n array([87.5, 0.0, 9.0, 10.0, 11.0, 0.0, 5.0], dtype=object),\n array([1578.1, 5.0, 104.0, 199.0, 77.0, 2.0, 105.0], dtype=object),\n array([415.6, 34.0, 5.0, 6.0, 64.0, 16.0, 8.0], dtype=object),\n array([533.8, 13.0, 61.0, 20.0, 68.0, 11.0, 27.0], dtype=object),\n array([195.9, 14.0, 5.0, 14.0, 26.0, 22.0, 4.0], dtype=object),\n array([355.0, 25.0, 95.0, 0.0, 16.0, 10.0, 15.0], dtype=object),\n array([214.9, 9.0, 0.0, 8.0, 41.0, 8.0, 6.0], dtype=object),\n array([192.0, 13.0, 7.0, 8.0, 25.0, 19.0, 5.0], dtype=object),\n array([637.0, 22.0, 92.0, 32.0, 76.0, 14.0, 31.0], dtype=object),\n array([211.0, 14.0, 24.0, 7.0, 16.0, 28.0, 8.0], dtype=object),\n array([536.5, 32.0, 11.0, 71.0, 64.0, 33.0, 17.0], dtype=object),\n array([225.0, 1.0, 128.0, 2.0, 9.0, 0.0, 17.0], dtype=object),\n array([367.5, 34.0, 106.0, 0.0, 23.0, 22.0, 11.0], dtype=object),\n array([302.8, 14.0, 7.0, 30.0, 19.0, 16.0, 15.0], dtype=object),\n array([271.0, 21.0, 25.0, 13.0, 50.0, 23.0, 3.0], dtype=object),\n array([217.6, 13.0, 83.0, 7.0, 5.0, 26.0, 10.0], dtype=object),\n array([413.1, 27.0, 133.0, 23.0, 12.0, 53.0, 19.0], dtype=object),\n array([270.4, 16.0, 101.0, 5.0, 7.0, 30.0, 13.0], dtype=object),\n array([635.4, 39.0, 283.0, 5.0, 12.0, 78.0, 32.0], dtype=object),\n array([449.3, 22.0, 228.0, 19.0, 10.0, 20.0, 25.0], dtype=object),\n array([171.8, 17.0, 43.0, 3.0, 5.0, 26.0, 5.0], dtype=object),\n array([330.2, 17.0, 89.0, 8.0, 12.0, 20.0, 17.0], dtype=object),\n array([336.2, 10.0, 122.0, 12.0, 10.0, 17.0, 21.0], dtype=object),\n array([257.0, 14.0, 14.0, 17.0, 18.0, 16.0, 10.0], dtype=object),\n array([34.4, 0.0, 17.0, 0.0, 3.0, 1.0, 1.0], dtype=object),\n array([163.8, 2.0, 89.0, 7.0, 7.0, 1.0, 12.0], dtype=object),\n array([172.3, 3.0, 7.0, 19.0, 26.0, 3.0, 8.0], dtype=object),\n array([401.7, 18.0, 16.0, 48.0, 61.0, 12.0, 14.0], dtype=object),\n array([121.0, 0.0, 66.0, 0.0, 2.0, 0.0, 10.0], dtype=object),\n array([122.3, 10.0, 22.0, 11.0, 11.0, 21.0, 3.0], dtype=object),\n array([131.3, 2.0, 61.0, 12.0, 21.0, 4.0, 6.0], dtype=object),\n array([398.7, 31.0, 8.0, 34.0, 46.0, 55.0, 10.0], dtype=object),\n array([279.2, 1.0, 43.0, 0.0, 20.0, 1.0, 19.0], dtype=object),\n array([347.9, 5.0, 97.0, 6.0, 28.0, 10.0, 21.0], dtype=object),\n array([249.6, 3.0, 13.0, 10.0, 15.0, 3.0, 15.0], dtype=object),\n array([313.8, 20.0, 22.0, 49.0, 36.0, 11.0, 10.0], dtype=object),\n array([550.2, 11.0, 347.0, 11.0, 10.0, 22.0, 40.0], dtype=object),\n array([91.4, 5.0, 40.0, 1.0, 2.0, 4.0, 4.0], dtype=object),\n array([975.7, 112.0, 21.0, 43.0, 134.0, 204.0, 3.0], dtype=object),\n array([63.1, 3.0, 10.0, 11.0, 6.0, 1.0, 3.0], dtype=object),\n array([19.1, 0.0, 8.0, 3.0, 3.0, 1.0, 1.0], dtype=object),\n array([41.4, 5.0, 0.0, 0.0, 2.0, 10.0, 0.0], dtype=object),\n array([649.2, 78.0, 0.0, 5.0, 84.0, 94.0, 0.0], dtype=object),\n array([951.8, 31.0, 70.0, 75.0, 68.0, 16.0, 57.0], dtype=object),\n array([131.9, 9.0, 38.0, 16.0, 5.0, 17.0, 5.0], dtype=object),\n array([115.6, 12.0, 35.0, 3.0, 1.0, 25.0, 3.0], dtype=object),\n array([244.4, 2.0, 32.0, 12.0, 17.0, 1.0, 17.0], dtype=object),\n array([229.3, 24.0, 20.0, 23.0, 17.0, 20.0, 4.0], dtype=object),\n array([737.4, 84.0, 28.0, 90.0, 86.0, 134.0, 6.0], dtype=object),\n array([346.7, 12.0, 19.0, 43.0, 68.0, 16.0, 10.0], dtype=object),\n array([166.3, 10.0, 35.0, 43.0, 24.0, 6.0, 4.0], dtype=object),\n array([56.2, 0.0, 26.0, 5.0, 3.0, 0.0, 4.0], dtype=object),\n array([467.4, 16.0, 238.0, 14.0, 19.0, 24.0, 28.0], dtype=object),\n array([270.1, 9.0, 189.0, 2.0, 1.0, 18.0, 19.0], dtype=object),\n array([949.8, 14.0, 527.0, 29.0, 50.0, 19.0, 64.0], dtype=object),\n array([308.5, 11.0, 18.0, 55.0, 25.0, 21.0, 15.0], dtype=object),\n array([458.6, 12.0, 260.0, 31.0, 9.0, 25.0, 30.0], dtype=object),\n array([222.5, 19.0, 9.0, 5.0, 19.0, 38.0, 6.0], dtype=object),\n array([86.5, 5.0, 5.0, 5.0, 15.0, 9.0, 3.0], dtype=object),\n array([527.9, 28.0, 126.0, 19.0, 4.0, 58.0, 29.0], dtype=object),\n array([170.3, 2.0, 6.0, 13.0, 11.0, 1.0, 11.0], dtype=object),\n array([2921.2, 289.0, 910.0, 72.0, 52.0, 525.0, 102.0], dtype=object),\n array([254.9, 21.0, 47.0, 41.0, 31.0, 34.0, 5.0], dtype=object),\n array([275.5, 4.0, 25.0, 23.0, 17.0, 2.0, 18.0], dtype=object),\n array([155.3, 21.0, 14.0, 12.0, 5.0, 9.0, 2.0], dtype=object),\n array([303.1, 13.0, 20.0, 23.0, 34.0, 6.0, 12.0], dtype=object),\n array([181.8, 17.0, 4.0, 13.0, 14.0, 30.0, 4.0], dtype=object),\n array([111.5, 9.0, 42.0, 0.0, 3.0, 14.0, 4.0], dtype=object),\n array([296.3, 22.0, 10.0, 43.0, 71.0, 35.0, 1.0], dtype=object),\n array([477.9, 35.0, 118.0, 2.0, 13.0, 69.0, 20.0], dtype=object),\n array([182.5, 9.0, 27.0, 47.0, 32.0, 5.0, 5.0], dtype=object),\n array([152.0, 14.0, 2.0, 25.0, 7.0, 21.0, 5.0], dtype=object),\n array([38.1, 4.0, 5.0, 21.0, 1.0, 1.0, 1.0], dtype=object),\n array([340.8, 21.0, 19.0, 27.0, 21.0, 23.0, 15.0], dtype=object),\n array([358.5, 38.0, 2.0, 20.0, 53.0, 64.0, 1.0], dtype=object),\n array([112.1, 9.0, 34.0, 3.0, 12.0, 19.0, 2.0], dtype=object),\n array([262.1, 28.0, 72.0, 6.0, 7.0, 43.0, 8.0], dtype=object),\n array([365.3, 29.0, 157.0, 39.0, 12.0, 46.0, 15.0], dtype=object),\n array([207.1, 6.0, 2.0, 12.0, 10.0, 2.0, 12.0], dtype=object),\n array([228.0, 10.0, 38.0, 47.0, 42.0, 8.0, 6.0], dtype=object),\n array([170.0, 5.0, 0.0, 14.0, 9.0, 3.0, 9.0], dtype=object),\n array([541.3, 51.0, 20.0, 21.0, 54.0, 89.0, 10.0], dtype=object),\n array([344.6, 40.0, 0.0, 3.0, 51.0, 56.0, 0.0], dtype=object),\n array([440.1, 30.0, 26.0, 42.0, 49.0, 59.0, 13.0], dtype=object),\n array([354.1, 30.0, 4.0, 78.0, 63.0, 50.0, 3.0], dtype=object),\n array([530.3, 62.0, 43.0, 63.0, 47.0, 84.0, 5.0], dtype=object),\n array([537.2, 45.0, 181.0, 13.0, 18.0, 82.0, 20.0], dtype=object),\n array([89.1, 4.0, 36.0, 24.0, 3.0, 2.0, 5.0], dtype=object),\n array([154.2, 10.0, 6.0, 12.0, 38.0, 7.0, 1.0], dtype=object),\n array([508.4, 29.0, 31.0, 94.0, 49.0, 14.0, 20.0], dtype=object),\n array([960.8, 30.0, 71.0, 132.0, 76.0, 19.0, 52.0], dtype=object),\n array([11.3, 1.0, 0.0, 0.0, 0.0, 1.0, 0.0], dtype=object),\n array([336.5, 30.0, 130.0, 104.0, 10.0, 62.0, 12.0], dtype=object),\n array([227.2, 9.0, 11.0, 16.0, 14.0, 16.0, 12.0], dtype=object),\n array([85.3, 0.0, 1.0, 7.0, 7.0, 0.0, 5.0], dtype=object),\n array([154.7, 3.0, 31.0, 0.0, 10.0, 1.0, 10.0], dtype=object),\n array([80.4, 1.0, 51.0, 2.0, 8.0, 3.0, 4.0], dtype=object),\n array([87.1, 0.0, 40.0, 5.0, 3.0, 0.0, 6.0], dtype=object),\n array([87.0, 4.0, 26.0, 1.0, 4.0, 4.0, 4.0], dtype=object),\n array([1954.8, 180.0, 423.0, 58.0, 37.0, 139.0, 70.0], dtype=object),\n array([436.6, 39.0, 51.0, 3.0, 54.0, 56.0, 4.0], dtype=object),\n array([117.4, 6.0, 12.0, 13.0, 8.0, 11.0, 5.0], dtype=object),\n array([1515.2, 163.0, 1.0, 4.0, 36.0, 136.0, 40.0], dtype=object),\n array([203.8, 24.0, 1.0, 16.0, 19.0, 46.0, 1.0], dtype=object),\n array([392.1, 20.0, 179.0, 9.0, 13.0, 23.0, 20.0], dtype=object),\n array([1302.8, 141.0, 39.0, 49.0, 28.0, 132.0, 34.0], dtype=object),\n array([235.3, 0.0, 207.0, 109.0, 5.0, 0.0, 19.0], dtype=object),\n array([713.9, 22.0, 109.0, 31.0, 63.0, 16.0, 41.0], dtype=object),\n array([423.0, 38.0, 124.0, 68.0, 20.0, 26.0, 14.0], dtype=object),\n array([218.6, 12.0, 1.0, 15.0, 62.0, 21.0, 1.0], dtype=object),\n array([219.9, 20.0, 33.0, 5.0, 14.0, 11.0, 7.0], dtype=object),\n array([277.7, 5.0, 10.0, 17.0, 17.0, 2.0, 17.0], dtype=object),\n array([15.0, 2.0, 2.0, 9.0, 0.0, 0.0, 0.0], dtype=object),\n array([93.5, 2.0, 9.0, 6.0, 6.0, 1.0, 6.0], dtype=object),\n array([74.9, 1.0, 6.0, 12.0, 6.0, 0.0, 4.0], dtype=object),\n array([176.4, 6.0, 19.0, 12.0, 10.0, 2.0, 10.0], dtype=object),\n array([184.5, 10.0, 56.0, 5.0, 8.0, 5.0, 9.0], dtype=object),\n array([1445.4, 62.0, 207.0, 104.0, 85.0, 70.0, 81.0], dtype=object),\n array([2154.8, 86.0, 333.0, 112.0, 152.0, 66.0, 122.0], dtype=object),\n array([158.8, 4.0, 21.0, 13.0, 9.0, 3.0, 10.0], dtype=object),\n array([196.8, 8.0, 23.0, 18.0, 12.0, 6.0, 11.0], dtype=object),\n array([125.2, 5.0, 13.0, 10.0, 8.0, 2.0, 6.0], dtype=object),\n array([121.4, 1.0, 0.0, 12.0, 9.0, 0.0, 8.0], dtype=object),\n array([1132.4, 14.0, 128.0, 50.0, 84.0, 9.0, 80.0], dtype=object),\n array([242.7, 8.0, 35.0, 12.0, 15.0, 3.0, 14.0], dtype=object),\n array([266.8, 18.0, 52.0, 19.0, 13.0, 6.0, 11.0], dtype=object),\n array([33.4, 2.0, 4.0, 2.0, 1.0, 4.0, 1.0], dtype=object),\n array([1444.4, 51.0, 282.0, 117.0, 89.0, 88.0, 88.0], dtype=object),\n array([107.5, 3.0, 13.0, 6.0, 9.0, 2.0, 5.0], dtype=object),\n array([186.8, 14.0, 17.0, 11.0, 14.0, 15.0, 7.0], dtype=object),\n array([182.8, 5.0, 9.0, 13.0, 11.0, 2.0, 11.0], dtype=object),\n array([190.7, 11.0, 11.0, 8.0, 10.0, 5.0, 9.0], dtype=object),\n array([155.0, 12.0, 0.0, 11.0, 8.0, 23.0, 6.0], dtype=object),\n array([190.1, 6.0, 84.0, 7.0, 8.0, 5.0, 12.0], dtype=object),\n array([2528.2, 213.0, 632.0, 91.0, 83.0, 98.0, 99.0], dtype=object),\n array([196.7, 5.0, 22.0, 15.0, 12.0, 2.0, 12.0], dtype=object),\n array([560.8, 32.0, 197.0, 19.0, 16.0, 45.0, 29.0], dtype=object),\n array([200.5, 16.0, 69.0, 8.0, 5.0, 22.0, 8.0], dtype=object),\n array([270.9, 15.0, 98.0, 15.0, 7.0, 4.0, 14.0], dtype=object),\n array([203.8, 30.0, 17.0, 13.0, 4.0, 38.0, 1.0], dtype=object),\n array([766.0, 92.0, 68.0, 70.0, 6.0, 45.0, 19.0], dtype=object),\n array([131.1, 11.0, 31.0, 2.0, 2.0, 7.0, 5.0], dtype=object),\n array([764.3, 103.0, 24.0, 45.0, 57.0, 102.0, 4.0], dtype=object),\n array([957.6, 113.0, 136.0, 64.0, 29.0, 86.0, 21.0], dtype=object),\n array([228.0, 12.0, 21.0, 7.0, 21.0, 7.0, 15.0], dtype=object),\n array([239.6, 0.0, 0.0, 0.0, 3.0, 0.0, 4.0], dtype=object),\n array([663.0, 73.0, 13.0, 53.0, 35.0, 55.0, 13.0], dtype=object),\n array([612.7, 50.0, 38.0, 56.0, 69.0, 94.0, 14.0], dtype=object),\n array([123.3, 2.0, 4.0, 12.0, 7.0, 1.0, 7.0], dtype=object),\n array([449.5, 23.0, 31.0, 20.0, 35.0, 43.0, 22.0], dtype=object),\n array([885.2, 69.0, 12.0, 18.0, 40.0, 36.0, 33.0], dtype=object),\n array([267.5, 31.0, 51.0, 1.0, 10.0, 13.0, 7.0], dtype=object),\n array([224.2, 20.0, 60.0, 11.0, 11.0, 10.0, 7.0], dtype=object),\n array([202.0, 15.0, 3.0, 18.0, 41.0, 20.0, 1.0], dtype=object),\n array([502.9, 33.0, 181.0, 25.0, 7.0, 15.0, 24.0], dtype=object),\n array([224.3, 2.0, 8.0, 4.0, 59.0, 2.0, 7.0], dtype=object),\n array([363.7, 25.0, 124.0, 14.0, 21.0, 26.0, 14.0], dtype=object),\n array([501.0, 33.0, 161.0, 16.0, 14.0, 64.0, 23.0], dtype=object),\n array([69.1, 2.0, 11.0, 35.0, 12.0, 2.0, 2.0], dtype=object),\n array([344.7, 31.0, 11.0, 21.0, 49.0, 38.0, 4.0], dtype=object),\n array([561.4, 65.0, 5.0, 7.0, 78.0, 96.0, 1.0], dtype=object),\n array([484.7, 47.0, 146.0, 17.0, 8.0, 23.0, 16.0], dtype=object),\n array([1185.8, 5.0, 976.0, 156.0, 33.0, 1.0, 93.0], dtype=object),\n array([29.1, 0.0, 27.0, 62.0, 0.0, 0.0, 2.0], dtype=object),\n array([13465.2, 5.0, 12914.0, 14152.0, 42.0, 5.0, 1098.0], dtype=object),\n array([458.5, 34.0, 179.0, 18.0, 10.0, 31.0, 20.0], dtype=object),\n array([5290.2, 296.0, 3067.0, 22.0, 58.0, 426.0, 302.0], dtype=object),\n array([157.8, 3.0, 38.0, 88.0, 13.0, 2.0, 9.0], dtype=object),\n array([1131.0, 74.0, 15.0, 109.0, 103.0, 98.0, 40.0], dtype=object),\n array([45.4, 4.0, 8.0, 8.0, 1.0, 2.0, 1.0], dtype=object),\n array([225.8, 29.0, 10.0, 25.0, 17.0, 31.0, 1.0], dtype=object),\n array([69.5, 2.0, 28.0, 26.0, 3.0, 1.0, 4.0], dtype=object),\n array([282.4, 25.0, 77.0, 7.0, 7.0, 32.0, 10.0], dtype=object),\n array([171.1, 4.0, 2.0, 11.0, 65.0, 2.0, 0.0], dtype=object),\n array([891.6, 65.0, 14.0, 16.0, 145.0, 74.0, 18.0], dtype=object),\n array([285.1, 11.0, 0.0, 19.0, 38.0, 13.0, 12.0], dtype=object),\n array([535.4, 32.0, 37.0, 31.0, 68.0, 53.0, 16.0], dtype=object),\n array([893.3, 55.0, 34.0, 61.0, 86.0, 86.0, 32.0], dtype=object),\n array([408.9, 14.0, 1.0, 24.0, 65.0, 10.0, 14.0], dtype=object),\n array([233.7, 8.0, 4.0, 3.0, 58.0, 5.0, 6.0], dtype=object),\n array([528.7, 38.0, 28.0, 86.0, 80.0, 34.0, 12.0], dtype=object),\n array([487.1, 23.0, 1.0, 29.0, 70.0, 24.0, 17.0], dtype=object),\n array([507.4, 17.0, 48.0, 46.0, 83.0, 13.0, 21.0], dtype=object),\n array([302.9, 12.0, 7.0, 31.0, 20.0, 15.0, 15.0], dtype=object),\n array([428.3, 20.0, 38.0, 27.0, 65.0, 26.0, 14.0], dtype=object),\n array([150.7, 0.0, 129.0, 73.0, 4.0, 0.0, 12.0], dtype=object),\n array([774.6, 44.0, 26.0, 16.0, 49.0, 27.0, 36.0], dtype=object),\n array([98.5, 1.0, 44.0, 59.0, 8.0, 0.0, 7.0], dtype=object),\n array([91.2, 2.0, 41.0, 9.0, 10.0, 5.0, 4.0], dtype=object),\n array([133.3, 5.0, 6.0, 0.0, 9.0, 1.0, 7.0], dtype=object),\n array([178.8, 9.0, 0.0, 9.0, 52.0, 8.0, 0.0], dtype=object),\n array([176.9, 2.0, 15.0, 15.0, 16.0, 1.0, 11.0], dtype=object),\n array([378.1, 14.0, 5.0, 13.0, 59.0, 8.0, 13.0], dtype=object),\n array([494.3, 51.0, 57.0, 25.0, 13.0, 96.0, 14.0], dtype=object),\n array([833.5, 81.0, 312.0, 19.0, 23.0, 119.0, 28.0], dtype=object),\n array([421.1, 25.0, 26.0, 28.0, 35.0, 29.0, 16.0], dtype=object),\n array([448.2, 16.0, 1.0, 44.0, 64.0, 13.0, 18.0], dtype=object),\n array([289.9, 2.0, 14.0, 34.0, 20.0, 1.0, 19.0], dtype=object),\n array([452.4, 19.0, 13.0, 20.0, 71.0, 31.0, 15.0], dtype=object),\n array([596.2, 71.0, 8.0, 51.0, 53.0, 74.0, 2.0], dtype=object),\n array([297.2, 23.0, 18.0, 4.0, 59.0, 29.0, 2.0], dtype=object),\n array([162.1, 2.0, 23.0, 45.0, 44.0, 2.0, 6.0], dtype=object),\n array([658.0, 47.0, 10.0, 30.0, 53.0, 95.0, 22.0], dtype=object),\n array([392.4, 35.0, 15.0, 38.0, 64.0, 63.0, 5.0], dtype=object),\n array([477.9, 24.0, 16.0, 19.0, 72.0, 44.0, 14.0], dtype=object),\n array([125.5, 7.0, 2.0, 50.0, 32.0, 3.0, 1.0], dtype=object),\n array([222.8, 7.0, 78.0, 12.0, 10.0, 14.0, 13.0], dtype=object),\n array([226.2, 1.0, 25.0, 35.0, 28.0, 1.0, 13.0], dtype=object),\n array([565.7, 59.0, 7.0, 26.0, 36.0, 87.0, 12.0], dtype=object),\n array([651.7, 21.0, 193.0, 12.0, 37.0, 32.0, 37.0], dtype=object),\n array([49.4, 0.0, 21.0, 20.0, 3.0, 0.0, 3.0], dtype=object),\n array([599.8, 52.0, 51.0, 36.0, 74.0, 68.0, 12.0], dtype=object),\n array([194.9, 24.0, 2.0, 13.0, 16.0, 46.0, 0.0], dtype=object),\n array([266.8, 13.0, 13.0, 9.0, 46.0, 17.0, 8.0], dtype=object),\n array([273.2, 15.0, 129.0, 11.0, 5.0, 25.0, 14.0], dtype=object),\n array([144.4, 3.0, 3.0, 11.0, 55.0, 2.0, 0.0], dtype=object),\n array([187.9, 3.0, 2.0, 14.0, 11.0, 2.0, 12.0], dtype=object),\n array([791.4, 72.0, 8.0, 64.0, 64.0, 85.0, 20.0], dtype=object),\n array([368.2, 24.0, 4.0, 11.0, 24.0, 48.0, 14.0], dtype=object),\n array([223.8, 17.0, 6.0, 12.0, 50.0, 16.0, 1.0], dtype=object),\n array([414.7, 28.0, 24.0, 27.0, 45.0, 27.0, 15.0], dtype=object),\n array([376.9, 10.0, 5.0, 3.0, 43.0, 8.0, 19.0], dtype=object),\n array([179.3, 17.0, 17.0, 23.0, 19.0, 19.0, 3.0], dtype=object),\n array([2305.9, 0.0, 2297.0, 590.0, 5.0, 0.0, 194.0], dtype=object),\n array([388.2, 37.0, 18.0, 19.0, 58.0, 41.0, 3.0], dtype=object),\n array([726.3, 0.0, 464.0, 1.0, 0.0, 0.0, 40.0], dtype=object),\n array([893.4, 47.0, 10.0, 27.0, 94.0, 41.0, 40.0], dtype=object),\n array([206.2, 14.0, 12.0, 2.0, 47.0, 11.0, 2.0], dtype=object),\n array([190.1, 0.0, 57.0, 0.0, 0.0, 0.0, 4.0], dtype=object),\n array([884.8, 130.0, 45.0, 14.0, 23.0, 90.0, 6.0], dtype=object),\n array([284.0, 22.0, 103.0, 5.0, 3.0, 29.0, 12.0], dtype=object),\n array([208.5, 13.0, 71.0, 11.0, 6.0, 25.0, 10.0], dtype=object),\n array([3600.1, 353.0, 494.0, 66.0, 279.0, 290.0, 88.0], dtype=object),\n ...]"
     },
     "execution_count": 277,
     "metadata": {},
     "output_type": "execute_result"
    }
   ],
   "source": [
    "df_recipes.nutrition.tolist()"
   ],
   "metadata": {
    "collapsed": false,
    "pycharm": {
     "name": "#%%\n"
    }
   }
  },
  {
   "cell_type": "code",
   "execution_count": 278,
   "outputs": [
    {
     "data": {
      "text/plain": "                                         name      id  minutes  \\\n0  arriba   baked winter squash mexican style  137739        1   \n1            a bit different  breakfast pizza   31490        0   \n2                   all in the kitchen  chili  112140        3   \n3                          alouette  potatoes   59389        1   \n4          amish  tomato ketchup  for canning   44061        4   \n\n   contributor_id   submitted  \\\n0           47892  2005-09-16   \n1           26278  2002-06-17   \n2          196586  2005-02-25   \n3           68585  2003-04-14   \n4           41706  2002-10-25   \n\n                                                tags  \\\n0  ['60-minutes-or-less', 'time-to-make', 'course...   \n1  ['30-minutes-or-less', 'time-to-make', 'course...   \n2  ['time-to-make', 'course', 'preparation', 'mai...   \n3  ['60-minutes-or-less', 'time-to-make', 'course...   \n4  ['weeknight', 'time-to-make', 'course', 'main-...   \n\n                                    nutrition  n_steps  \\\n0       [51.5, 0.0, 13.0, 0.0, 2.0, 0.0, 4.0]       11   \n1   [173.4, 18.0, 0.0, 17.0, 22.0, 35.0, 1.0]        9   \n2  [269.8, 22.0, 32.0, 48.0, 39.0, 27.0, 5.0]        6   \n3   [368.1, 17.0, 10.0, 2.0, 14.0, 8.0, 20.0]       11   \n4   [352.9, 1.0, 337.0, 23.0, 3.0, 0.0, 28.0]        5   \n\n                                               steps  \\\n0  ['make a choice and proceed with recipe', 'dep...   \n1  ['preheat oven to 425 degrees f', 'press dough...   \n2  ['brown ground beef in large pot', 'add choppe...   \n3  ['place potatoes in a large pot of lightly sal...   \n4  ['mix all ingredients& boil for 2 1 / 2 hours ...   \n\n                                         description  ... n_ingredients  \\\n0  autumn is my favorite time of year to cook! th...  ...             7   \n1  this recipe calls for the crust to be prebaked...  ...             6   \n2  this modified version of 'mom's' chili was a h...  ...            13   \n3  this is a super easy, great tasting, make ahea...  ...            11   \n4  my dh's amish mother raised him on this recipe...  ...             8   \n\n   Vegetarian Cuisine  Calories (#)  Total Fat (PDV)  Sugar (PDV)  \\\n0  vegetarian       1          51.5              0.0         13.0   \n1   undefined       1         173.4             18.0          0.0   \n2   undefined       0         269.8             22.0         32.0   \n3   undefined       0         368.1             17.0         10.0   \n4  vegetarian       1         352.9              1.0        337.0   \n\n   Sodium (PDV)  Protein (PDV)  Saturated Fat (PDV)  Carbohydrates (PDV)  \n0           0.0            2.0                  0.0                  4.0  \n1          17.0           22.0                 35.0                  1.0  \n2          48.0           39.0                 27.0                  5.0  \n3           2.0           14.0                  8.0                 20.0  \n4          23.0            3.0                  0.0                 28.0  \n\n[5 rows x 21 columns]",
      "text/html": "<div>\n<style scoped>\n    .dataframe tbody tr th:only-of-type {\n        vertical-align: middle;\n    }\n\n    .dataframe tbody tr th {\n        vertical-align: top;\n    }\n\n    .dataframe thead th {\n        text-align: right;\n    }\n</style>\n<table border=\"1\" class=\"dataframe\">\n  <thead>\n    <tr style=\"text-align: right;\">\n      <th></th>\n      <th>name</th>\n      <th>id</th>\n      <th>minutes</th>\n      <th>contributor_id</th>\n      <th>submitted</th>\n      <th>tags</th>\n      <th>nutrition</th>\n      <th>n_steps</th>\n      <th>steps</th>\n      <th>description</th>\n      <th>...</th>\n      <th>n_ingredients</th>\n      <th>Vegetarian</th>\n      <th>Cuisine</th>\n      <th>Calories (#)</th>\n      <th>Total Fat (PDV)</th>\n      <th>Sugar (PDV)</th>\n      <th>Sodium (PDV)</th>\n      <th>Protein (PDV)</th>\n      <th>Saturated Fat (PDV)</th>\n      <th>Carbohydrates (PDV)</th>\n    </tr>\n  </thead>\n  <tbody>\n    <tr>\n      <th>0</th>\n      <td>arriba   baked winter squash mexican style</td>\n      <td>137739</td>\n      <td>1</td>\n      <td>47892</td>\n      <td>2005-09-16</td>\n      <td>['60-minutes-or-less', 'time-to-make', 'course...</td>\n      <td>[51.5, 0.0, 13.0, 0.0, 2.0, 0.0, 4.0]</td>\n      <td>11</td>\n      <td>['make a choice and proceed with recipe', 'dep...</td>\n      <td>autumn is my favorite time of year to cook! th...</td>\n      <td>...</td>\n      <td>7</td>\n      <td>vegetarian</td>\n      <td>1</td>\n      <td>51.5</td>\n      <td>0.0</td>\n      <td>13.0</td>\n      <td>0.0</td>\n      <td>2.0</td>\n      <td>0.0</td>\n      <td>4.0</td>\n    </tr>\n    <tr>\n      <th>1</th>\n      <td>a bit different  breakfast pizza</td>\n      <td>31490</td>\n      <td>0</td>\n      <td>26278</td>\n      <td>2002-06-17</td>\n      <td>['30-minutes-or-less', 'time-to-make', 'course...</td>\n      <td>[173.4, 18.0, 0.0, 17.0, 22.0, 35.0, 1.0]</td>\n      <td>9</td>\n      <td>['preheat oven to 425 degrees f', 'press dough...</td>\n      <td>this recipe calls for the crust to be prebaked...</td>\n      <td>...</td>\n      <td>6</td>\n      <td>undefined</td>\n      <td>1</td>\n      <td>173.4</td>\n      <td>18.0</td>\n      <td>0.0</td>\n      <td>17.0</td>\n      <td>22.0</td>\n      <td>35.0</td>\n      <td>1.0</td>\n    </tr>\n    <tr>\n      <th>2</th>\n      <td>all in the kitchen  chili</td>\n      <td>112140</td>\n      <td>3</td>\n      <td>196586</td>\n      <td>2005-02-25</td>\n      <td>['time-to-make', 'course', 'preparation', 'mai...</td>\n      <td>[269.8, 22.0, 32.0, 48.0, 39.0, 27.0, 5.0]</td>\n      <td>6</td>\n      <td>['brown ground beef in large pot', 'add choppe...</td>\n      <td>this modified version of 'mom's' chili was a h...</td>\n      <td>...</td>\n      <td>13</td>\n      <td>undefined</td>\n      <td>0</td>\n      <td>269.8</td>\n      <td>22.0</td>\n      <td>32.0</td>\n      <td>48.0</td>\n      <td>39.0</td>\n      <td>27.0</td>\n      <td>5.0</td>\n    </tr>\n    <tr>\n      <th>3</th>\n      <td>alouette  potatoes</td>\n      <td>59389</td>\n      <td>1</td>\n      <td>68585</td>\n      <td>2003-04-14</td>\n      <td>['60-minutes-or-less', 'time-to-make', 'course...</td>\n      <td>[368.1, 17.0, 10.0, 2.0, 14.0, 8.0, 20.0]</td>\n      <td>11</td>\n      <td>['place potatoes in a large pot of lightly sal...</td>\n      <td>this is a super easy, great tasting, make ahea...</td>\n      <td>...</td>\n      <td>11</td>\n      <td>undefined</td>\n      <td>0</td>\n      <td>368.1</td>\n      <td>17.0</td>\n      <td>10.0</td>\n      <td>2.0</td>\n      <td>14.0</td>\n      <td>8.0</td>\n      <td>20.0</td>\n    </tr>\n    <tr>\n      <th>4</th>\n      <td>amish  tomato ketchup  for canning</td>\n      <td>44061</td>\n      <td>4</td>\n      <td>41706</td>\n      <td>2002-10-25</td>\n      <td>['weeknight', 'time-to-make', 'course', 'main-...</td>\n      <td>[352.9, 1.0, 337.0, 23.0, 3.0, 0.0, 28.0]</td>\n      <td>5</td>\n      <td>['mix all ingredients&amp; boil for 2 1 / 2 hours ...</td>\n      <td>my dh's amish mother raised him on this recipe...</td>\n      <td>...</td>\n      <td>8</td>\n      <td>vegetarian</td>\n      <td>1</td>\n      <td>352.9</td>\n      <td>1.0</td>\n      <td>337.0</td>\n      <td>23.0</td>\n      <td>3.0</td>\n      <td>0.0</td>\n      <td>28.0</td>\n    </tr>\n  </tbody>\n</table>\n<p>5 rows × 21 columns</p>\n</div>"
     },
     "execution_count": 278,
     "metadata": {},
     "output_type": "execute_result"
    }
   ],
   "source": [
    "df_recipes[['Calories (#)', 'Total Fat (PDV)', 'Sugar (PDV)', 'Sodium (PDV)', 'Protein (PDV)', 'Saturated Fat (PDV)', 'Carbohydrates (PDV)']] = pd.DataFrame(df_recipes.nutrition.tolist(), index= df_recipes.index)\n",
    "df_recipes.head()"
   ],
   "metadata": {
    "collapsed": false,
    "pycharm": {
     "name": "#%%\n"
    }
   }
  },
  {
   "cell_type": "markdown",
   "source": [
    "## Normal diet"
   ],
   "metadata": {
    "collapsed": false,
    "pycharm": {
     "name": "#%% md\n"
    }
   }
  },
  {
   "cell_type": "code",
   "execution_count": 278,
   "outputs": [],
   "source": [],
   "metadata": {
    "collapsed": false,
    "pycharm": {
     "name": "#%%\n"
    }
   }
  },
  {
   "cell_type": "markdown",
   "source": [
    "### Balanced"
   ],
   "metadata": {
    "collapsed": false,
    "pycharm": {
     "name": "#%% md\n"
    }
   }
  },
  {
   "cell_type": "code",
   "execution_count": 279,
   "outputs": [],
   "source": [
    "indices_normal_balanced = list(np.where((df_recipes['Calories (#)'] >= 300) & (df_recipes['Calories (#)'] <= 800) & (df_recipes['Total Fat (PDV)'] >= 10) & (df_recipes['Total Fat (PDV)'] <= 15) & (df_recipes['Saturated Fat (PDV)'] <= 15) & (df_recipes['Protein (PDV)'] >= 10) & (df_recipes['Carbohydrates (PDV)'] >= 10) & (df_recipes['Carbohydrates (PDV)'] <= 20)))[0]"
   ],
   "metadata": {
    "collapsed": false,
    "pycharm": {
     "name": "#%%\n"
    }
   }
  },
  {
   "cell_type": "code",
   "execution_count": 280,
   "outputs": [
    {
     "data": {
      "text/plain": "2015"
     },
     "execution_count": 280,
     "metadata": {},
     "output_type": "execute_result"
    }
   ],
   "source": [
    "len(indices_normal_balanced)"
   ],
   "metadata": {
    "collapsed": false,
    "pycharm": {
     "name": "#%%\n"
    }
   }
  },
  {
   "cell_type": "code",
   "execution_count": 281,
   "outputs": [],
   "source": [
    "df_recipes_cat = df_recipes\n",
    "df_recipes_cat[\"Category\"] = 300\n",
    "\n",
    "for index in indices_normal_balanced:\n",
    "    if df_recipes.loc[index,\"Cuisine\"] == 0 and df_recipes.loc[index,\"minutes\"] == 0:\n",
    "        df_recipes_cat.loc[index,\"Category\"] = 0\n",
    "    elif df_recipes.loc[index,\"Cuisine\"] == 0 and df_recipes.loc[index,\"minutes\"] == 1:\n",
    "        df_recipes_cat.loc[index,\"Category\"] = 1\n",
    "    elif df_recipes.loc[index,\"Cuisine\"] == 0 and df_recipes.loc[index,\"minutes\"] == 2:\n",
    "        df_recipes_cat.loc[index,\"Category\"] = 2\n",
    "    elif df_recipes.loc[index,\"Cuisine\"] == 0 and df_recipes.loc[index,\"minutes\"] == 3:\n",
    "        df_recipes_cat.loc[index,\"Category\"] = 3\n",
    "    elif df_recipes.loc[index,\"Cuisine\"] == 0 and df_recipes.loc[index,\"minutes\"] == 4:\n",
    "        df_recipes_cat.loc[index,\"Category\"] = 4\n",
    "    elif df_recipes.loc[index,\"Cuisine\"] == 1 and df_recipes.loc[index,\"minutes\"] == 0:\n",
    "        df_recipes_cat.loc[index,\"Category\"] = 5\n",
    "    elif df_recipes.loc[index,\"Cuisine\"] == 1 and df_recipes.loc[index,\"minutes\"] == 1:\n",
    "        df_recipes_cat.loc[index,\"Category\"] = 6\n",
    "    elif df_recipes.loc[index,\"Cuisine\"] == 1 and df_recipes.loc[index,\"minutes\"] == 2:\n",
    "        df_recipes_cat.loc[index,\"Category\"] = 7\n",
    "    elif df_recipes.loc[index,\"Cuisine\"] == 1 and df_recipes.loc[index,\"minutes\"] == 3:\n",
    "        df_recipes_cat.loc[index,\"Category\"] = 8\n",
    "    elif df_recipes.loc[index,\"Cuisine\"] == 1 and df_recipes.loc[index,\"minutes\"] == 4:\n",
    "        df_recipes_cat.loc[index,\"Category\"] = 9\n",
    "    elif df_recipes.loc[index,\"Cuisine\"] == 2 and df_recipes.loc[index,\"minutes\"] == 0:\n",
    "        df_recipes_cat.loc[index,\"Category\"] = 10\n",
    "    elif df_recipes.loc[index,\"Cuisine\"] == 2 and df_recipes.loc[index,\"minutes\"] == 1:\n",
    "        df_recipes_cat.loc[index,\"Category\"] = 11\n",
    "    elif df_recipes.loc[index,\"Cuisine\"] == 2 and df_recipes.loc[index,\"minutes\"] == 2:\n",
    "        df_recipes_cat.loc[index,\"Category\"] = 12\n",
    "    elif df_recipes.loc[index,\"Cuisine\"] == 2 and df_recipes.loc[index,\"minutes\"] == 3:\n",
    "        df_recipes_cat.loc[index,\"Category\"] = 13\n",
    "    elif df_recipes.loc[index,\"Cuisine\"] == 2 and df_recipes.loc[index,\"minutes\"] == 4:\n",
    "        df_recipes_cat.loc[index,\"Category\"] = 14\n",
    "    elif df_recipes.loc[index,\"Cuisine\"] == 3 and df_recipes.loc[index,\"minutes\"] == 0:\n",
    "        df_recipes_cat.loc[index,\"Category\"] = 15\n",
    "    elif df_recipes.loc[index,\"Cuisine\"] == 3 and df_recipes.loc[index,\"minutes\"] == 1:\n",
    "        df_recipes_cat.loc[index,\"Category\"] = 16\n",
    "    elif df_recipes.loc[index,\"Cuisine\"] == 3 and df_recipes.loc[index,\"minutes\"] == 2:\n",
    "        df_recipes_cat.loc[index,\"Category\"] = 17\n",
    "    elif df_recipes.loc[index,\"Cuisine\"] == 3 and df_recipes.loc[index,\"minutes\"] == 3:\n",
    "        df_recipes_cat.loc[index,\"Category\"] = 18\n",
    "    elif df_recipes.loc[index,\"Cuisine\"] == 3 and df_recipes.loc[index,\"minutes\"] == 4:\n",
    "        df_recipes_cat.loc[index,\"Category\"] = 19\n",
    "    elif df_recipes.loc[index,\"Cuisine\"] == 4 and df_recipes.loc[index,\"minutes\"] == 0:\n",
    "        df_recipes_cat.loc[index,\"Category\"] = 20\n",
    "    elif df_recipes.loc[index,\"Cuisine\"] == 4 and df_recipes.loc[index,\"minutes\"] == 1:\n",
    "        df_recipes_cat.loc[index,\"Category\"] = 21\n",
    "    elif df_recipes.loc[index,\"Cuisine\"] == 4 and df_recipes.loc[index,\"minutes\"] == 2:\n",
    "        df_recipes_cat.loc[index,\"Category\"] = 22\n",
    "    elif df_recipes.loc[index,\"Cuisine\"] == 4 and df_recipes.loc[index,\"minutes\"] == 3:\n",
    "        df_recipes_cat.loc[index,\"Category\"] = 23\n",
    "    elif df_recipes.loc[index,\"Cuisine\"] == 4 and df_recipes.loc[index,\"minutes\"] == 4:\n",
    "        df_recipes_cat.loc[index,\"Category\"] = 24"
   ],
   "metadata": {
    "collapsed": false,
    "pycharm": {
     "name": "#%%\n"
    }
   }
  },
  {
   "cell_type": "code",
   "execution_count": 281,
   "outputs": [],
   "source": [],
   "metadata": {
    "collapsed": false,
    "pycharm": {
     "name": "#%%\n"
    }
   }
  },
  {
   "cell_type": "markdown",
   "source": [
    "### Gaining muscle (Calorie surplus)"
   ],
   "metadata": {
    "collapsed": false,
    "pycharm": {
     "name": "#%% md\n"
    }
   }
  },
  {
   "cell_type": "code",
   "execution_count": 282,
   "outputs": [],
   "source": [
    "indices_normal_gains = list(np.where((df_recipes['Calories (#)'] >= 500) & (df_recipes['Calories (#)'] <= 1200) & (df_recipes['Total Fat (PDV)'] >= 15) & (df_recipes['Total Fat (PDV)'] <= 25) & (df_recipes['Saturated Fat (PDV)'] <= 20) & (df_recipes['Protein (PDV)'] >= 20) & (df_recipes['Carbohydrates (PDV)'] >= 30) & (df_recipes['Carbohydrates (PDV)'] <= 60)))[0]"
   ],
   "metadata": {
    "collapsed": false,
    "pycharm": {
     "name": "#%%\n"
    }
   }
  },
  {
   "cell_type": "code",
   "execution_count": 283,
   "outputs": [
    {
     "data": {
      "text/plain": "608"
     },
     "execution_count": 283,
     "metadata": {},
     "output_type": "execute_result"
    }
   ],
   "source": [
    "len(indices_normal_gains)"
   ],
   "metadata": {
    "collapsed": false,
    "pycharm": {
     "name": "#%%\n"
    }
   }
  },
  {
   "cell_type": "code",
   "execution_count": 284,
   "outputs": [],
   "source": [
    "for index in indices_normal_gains:\n",
    "    if df_recipes.loc[index,\"Cuisine\"] == 0 and df_recipes.loc[index,\"minutes\"] == 0:\n",
    "        df_recipes_cat.loc[index,\"Category\"] = 25\n",
    "    elif df_recipes.loc[index,\"Cuisine\"] == 0 and df_recipes.loc[index,\"minutes\"] == 1:\n",
    "        df_recipes_cat.loc[index,\"Category\"] = 26\n",
    "    elif df_recipes.loc[index,\"Cuisine\"] == 0 and df_recipes.loc[index,\"minutes\"] == 2:\n",
    "        df_recipes_cat.loc[index,\"Category\"] = 27\n",
    "    elif df_recipes.loc[index,\"Cuisine\"] == 0 and df_recipes.loc[index,\"minutes\"] == 3:\n",
    "        df_recipes_cat.loc[index,\"Category\"] = 28\n",
    "    elif df_recipes.loc[index,\"Cuisine\"] == 0 and df_recipes.loc[index,\"minutes\"] == 4:\n",
    "        df_recipes_cat.loc[index,\"Category\"] = 29\n",
    "    elif df_recipes.loc[index,\"Cuisine\"] == 1 and df_recipes.loc[index,\"minutes\"] == 0:\n",
    "        df_recipes_cat.loc[index,\"Category\"] = 30\n",
    "    elif df_recipes.loc[index,\"Cuisine\"] == 1 and df_recipes.loc[index,\"minutes\"] == 1:\n",
    "        df_recipes_cat.loc[index,\"Category\"] = 31\n",
    "    elif df_recipes.loc[index,\"Cuisine\"] == 1 and df_recipes.loc[index,\"minutes\"] == 2:\n",
    "        df_recipes_cat.loc[index,\"Category\"] = 32\n",
    "    elif df_recipes.loc[index,\"Cuisine\"] == 1 and df_recipes.loc[index,\"minutes\"] == 3:\n",
    "        df_recipes_cat.loc[index,\"Category\"] = 33\n",
    "    elif df_recipes.loc[index,\"Cuisine\"] == 1 and df_recipes.loc[index,\"minutes\"] == 4:\n",
    "        df_recipes_cat.loc[index,\"Category\"] = 34\n",
    "    elif df_recipes.loc[index,\"Cuisine\"] == 2 and df_recipes.loc[index,\"minutes\"] == 0:\n",
    "        df_recipes_cat.loc[index,\"Category\"] = 35\n",
    "    elif df_recipes.loc[index,\"Cuisine\"] == 2 and df_recipes.loc[index,\"minutes\"] == 1:\n",
    "        df_recipes_cat.loc[index,\"Category\"] = 36\n",
    "    elif df_recipes.loc[index,\"Cuisine\"] == 2 and df_recipes.loc[index,\"minutes\"] == 2:\n",
    "        df_recipes_cat.loc[index,\"Category\"] = 37\n",
    "    elif df_recipes.loc[index,\"Cuisine\"] == 2 and df_recipes.loc[index,\"minutes\"] == 3:\n",
    "        df_recipes_cat.loc[index,\"Category\"] = 38\n",
    "    elif df_recipes.loc[index,\"Cuisine\"] == 2 and df_recipes.loc[index,\"minutes\"] == 4:\n",
    "        df_recipes_cat.loc[index,\"Category\"] = 39\n",
    "    elif df_recipes.loc[index,\"Cuisine\"] == 3 and df_recipes.loc[index,\"minutes\"] == 0:\n",
    "        df_recipes_cat.loc[index,\"Category\"] = 40\n",
    "    elif df_recipes.loc[index,\"Cuisine\"] == 3 and df_recipes.loc[index,\"minutes\"] == 1:\n",
    "        df_recipes_cat.loc[index,\"Category\"] = 41\n",
    "    elif df_recipes.loc[index,\"Cuisine\"] == 3 and df_recipes.loc[index,\"minutes\"] == 2:\n",
    "        df_recipes_cat.loc[index,\"Category\"] = 42\n",
    "    elif df_recipes.loc[index,\"Cuisine\"] == 3 and df_recipes.loc[index,\"minutes\"] == 3:\n",
    "        df_recipes_cat.loc[index,\"Category\"] = 43\n",
    "    elif df_recipes.loc[index,\"Cuisine\"] == 3 and df_recipes.loc[index,\"minutes\"] == 4:\n",
    "        df_recipes_cat.loc[index,\"Category\"] = 44\n",
    "    elif df_recipes.loc[index,\"Cuisine\"] == 4 and df_recipes.loc[index,\"minutes\"] == 0:\n",
    "        df_recipes_cat.loc[index,\"Category\"] = 45\n",
    "    elif df_recipes.loc[index,\"Cuisine\"] == 4 and df_recipes.loc[index,\"minutes\"] == 1:\n",
    "        df_recipes_cat.loc[index,\"Category\"] = 46\n",
    "    elif df_recipes.loc[index,\"Cuisine\"] == 4 and df_recipes.loc[index,\"minutes\"] == 2:\n",
    "        df_recipes_cat.loc[index,\"Category\"] = 47\n",
    "    elif df_recipes.loc[index,\"Cuisine\"] == 4 and df_recipes.loc[index,\"minutes\"] == 3:\n",
    "        df_recipes_cat.loc[index,\"Category\"] = 48\n",
    "    elif df_recipes.loc[index,\"Cuisine\"] == 4 and df_recipes.loc[index,\"minutes\"] == 4:\n",
    "        df_recipes_cat.loc[index,\"Category\"] = 49"
   ],
   "metadata": {
    "collapsed": false,
    "pycharm": {
     "name": "#%%\n"
    }
   }
  },
  {
   "cell_type": "code",
   "execution_count": 284,
   "outputs": [],
   "source": [],
   "metadata": {
    "collapsed": false,
    "pycharm": {
     "name": "#%%\n"
    }
   }
  },
  {
   "cell_type": "markdown",
   "source": [
    "### Losing fat (Calorie deficit)"
   ],
   "metadata": {
    "collapsed": false,
    "pycharm": {
     "name": "#%% md\n"
    }
   }
  },
  {
   "cell_type": "code",
   "execution_count": 285,
   "outputs": [],
   "source": [
    "indices_normal_losing = list(np.where((df_recipes['Calories (#)'] >= 300) & (df_recipes['Calories (#)'] <= 600) & (df_recipes['Total Fat (PDV)'] >= 7.5) & (df_recipes['Total Fat (PDV)'] <= 15) & (df_recipes['Saturated Fat (PDV)'] <= 20) & (df_recipes['Protein (PDV)'] >= 25) & (df_recipes['Carbohydrates (PDV)'] >= 10) & (df_recipes['Carbohydrates (PDV)'] <= 30)))[0]"
   ],
   "metadata": {
    "collapsed": false,
    "pycharm": {
     "name": "#%%\n"
    }
   }
  },
  {
   "cell_type": "code",
   "execution_count": 286,
   "outputs": [
    {
     "data": {
      "text/plain": "3413"
     },
     "execution_count": 286,
     "metadata": {},
     "output_type": "execute_result"
    }
   ],
   "source": [
    "len(indices_normal_losing)"
   ],
   "metadata": {
    "collapsed": false,
    "pycharm": {
     "name": "#%%\n"
    }
   }
  },
  {
   "cell_type": "code",
   "execution_count": 287,
   "outputs": [],
   "source": [
    "for index in indices_normal_losing:\n",
    "    if df_recipes.loc[index,\"Cuisine\"] == 0 and df_recipes.loc[index,\"minutes\"] == 0:\n",
    "        df_recipes_cat.loc[index,\"Category\"] = 50\n",
    "    elif df_recipes.loc[index,\"Cuisine\"] == 0 and df_recipes.loc[index,\"minutes\"] == 1:\n",
    "        df_recipes_cat.loc[index,\"Category\"] = 51\n",
    "    elif df_recipes.loc[index,\"Cuisine\"] == 0 and df_recipes.loc[index,\"minutes\"] == 2:\n",
    "        df_recipes_cat.loc[index,\"Category\"] = 52\n",
    "    elif df_recipes.loc[index,\"Cuisine\"] == 0 and df_recipes.loc[index,\"minutes\"] == 3:\n",
    "        df_recipes_cat.loc[index,\"Category\"] = 53\n",
    "    elif df_recipes.loc[index,\"Cuisine\"] == 0 and df_recipes.loc[index,\"minutes\"] == 4:\n",
    "        df_recipes_cat.loc[index,\"Category\"] = 54\n",
    "    elif df_recipes.loc[index,\"Cuisine\"] == 1 and df_recipes.loc[index,\"minutes\"] == 0:\n",
    "        df_recipes_cat.loc[index,\"Category\"] = 55\n",
    "    elif df_recipes.loc[index,\"Cuisine\"] == 1 and df_recipes.loc[index,\"minutes\"] == 1:\n",
    "        df_recipes_cat.loc[index,\"Category\"] = 56\n",
    "    elif df_recipes.loc[index,\"Cuisine\"] == 1 and df_recipes.loc[index,\"minutes\"] == 2:\n",
    "        df_recipes_cat.loc[index,\"Category\"] = 57\n",
    "    elif df_recipes.loc[index,\"Cuisine\"] == 1 and df_recipes.loc[index,\"minutes\"] == 3:\n",
    "        df_recipes_cat.loc[index,\"Category\"] = 58\n",
    "    elif df_recipes.loc[index,\"Cuisine\"] == 1 and df_recipes.loc[index,\"minutes\"] == 4:\n",
    "        df_recipes_cat.loc[index,\"Category\"] = 59\n",
    "    elif df_recipes.loc[index,\"Cuisine\"] == 2 and df_recipes.loc[index,\"minutes\"] == 0:\n",
    "        df_recipes_cat.loc[index,\"Category\"] = 60\n",
    "    elif df_recipes.loc[index,\"Cuisine\"] == 2 and df_recipes.loc[index,\"minutes\"] == 1:\n",
    "        df_recipes_cat.loc[index,\"Category\"] = 61\n",
    "    elif df_recipes.loc[index,\"Cuisine\"] == 2 and df_recipes.loc[index,\"minutes\"] == 2:\n",
    "        df_recipes_cat.loc[index,\"Category\"] = 62\n",
    "    elif df_recipes.loc[index,\"Cuisine\"] == 2 and df_recipes.loc[index,\"minutes\"] == 3:\n",
    "        df_recipes_cat.loc[index,\"Category\"] = 63\n",
    "    elif df_recipes.loc[index,\"Cuisine\"] == 2 and df_recipes.loc[index,\"minutes\"] == 4:\n",
    "        df_recipes_cat.loc[index,\"Category\"] = 64\n",
    "    elif df_recipes.loc[index,\"Cuisine\"] == 3 and df_recipes.loc[index,\"minutes\"] == 0:\n",
    "        df_recipes_cat.loc[index,\"Category\"] = 65\n",
    "    elif df_recipes.loc[index,\"Cuisine\"] == 3 and df_recipes.loc[index,\"minutes\"] == 1:\n",
    "        df_recipes_cat.loc[index,\"Category\"] = 66\n",
    "    elif df_recipes.loc[index,\"Cuisine\"] == 3 and df_recipes.loc[index,\"minutes\"] == 2:\n",
    "        df_recipes_cat.loc[index,\"Category\"] = 67\n",
    "    elif df_recipes.loc[index,\"Cuisine\"] == 3 and df_recipes.loc[index,\"minutes\"] == 3:\n",
    "        df_recipes_cat.loc[index,\"Category\"] = 68\n",
    "    elif df_recipes.loc[index,\"Cuisine\"] == 3 and df_recipes.loc[index,\"minutes\"] == 4:\n",
    "        df_recipes_cat.loc[index,\"Category\"] = 69\n",
    "    elif df_recipes.loc[index,\"Cuisine\"] == 4 and df_recipes.loc[index,\"minutes\"] == 0:\n",
    "        df_recipes_cat.loc[index,\"Category\"] = 70\n",
    "    elif df_recipes.loc[index,\"Cuisine\"] == 4 and df_recipes.loc[index,\"minutes\"] == 1:\n",
    "        df_recipes_cat.loc[index,\"Category\"] = 71\n",
    "    elif df_recipes.loc[index,\"Cuisine\"] == 4 and df_recipes.loc[index,\"minutes\"] == 2:\n",
    "        df_recipes_cat.loc[index,\"Category\"] = 72\n",
    "    elif df_recipes.loc[index,\"Cuisine\"] == 4 and df_recipes.loc[index,\"minutes\"] == 3:\n",
    "        df_recipes_cat.loc[index,\"Category\"] = 73\n",
    "    elif df_recipes.loc[index,\"Cuisine\"] == 4 and df_recipes.loc[index,\"minutes\"] == 4:\n",
    "        df_recipes_cat.loc[index,\"Category\"] = 74"
   ],
   "metadata": {
    "collapsed": false,
    "pycharm": {
     "name": "#%%\n"
    }
   }
  },
  {
   "cell_type": "code",
   "execution_count": 287,
   "outputs": [],
   "source": [],
   "metadata": {
    "collapsed": false,
    "pycharm": {
     "name": "#%%\n"
    }
   }
  },
  {
   "cell_type": "markdown",
   "source": [
    "## Keto diet"
   ],
   "metadata": {
    "collapsed": false,
    "pycharm": {
     "name": "#%% md\n"
    }
   }
  },
  {
   "cell_type": "code",
   "execution_count": 287,
   "outputs": [],
   "source": [],
   "metadata": {
    "collapsed": false,
    "pycharm": {
     "name": "#%%\n"
    }
   }
  },
  {
   "cell_type": "markdown",
   "source": [
    "### Balanced"
   ],
   "metadata": {
    "collapsed": false,
    "pycharm": {
     "name": "#%% md\n"
    }
   }
  },
  {
   "cell_type": "code",
   "execution_count": 288,
   "outputs": [],
   "source": [
    "indices_keto_balanced = list(np.where((df_recipes['Calories (#)'] >= 300) & (df_recipes['Calories (#)'] <= 800) & (df_recipes['Total Fat (PDV)'] >= 30) & (df_recipes['Total Fat (PDV)'] <= 35) & (df_recipes['Saturated Fat (PDV)'] <= 15) & (df_recipes['Protein (PDV)'] >= 10) & (df_recipes['Carbohydrates (PDV)'] <= 5)))[0]"
   ],
   "metadata": {
    "collapsed": false,
    "pycharm": {
     "name": "#%%\n"
    }
   }
  },
  {
   "cell_type": "code",
   "execution_count": 289,
   "outputs": [
    {
     "data": {
      "text/plain": "78"
     },
     "execution_count": 289,
     "metadata": {},
     "output_type": "execute_result"
    }
   ],
   "source": [
    "len(indices_keto_balanced)"
   ],
   "metadata": {
    "collapsed": false,
    "pycharm": {
     "name": "#%%\n"
    }
   }
  },
  {
   "cell_type": "code",
   "execution_count": 290,
   "outputs": [],
   "source": [
    "for index in indices_keto_balanced:\n",
    "    if df_recipes.loc[index,\"Cuisine\"] == 0 and df_recipes.loc[index,\"minutes\"] == 0:\n",
    "        df_recipes_cat.loc[index,\"Category\"] = 75\n",
    "    elif df_recipes.loc[index,\"Cuisine\"] == 0 and df_recipes.loc[index,\"minutes\"] == 1:\n",
    "        df_recipes_cat.loc[index,\"Category\"] = 76\n",
    "    elif df_recipes.loc[index,\"Cuisine\"] == 0 and df_recipes.loc[index,\"minutes\"] == 2:\n",
    "        df_recipes_cat.loc[index,\"Category\"] = 77\n",
    "    elif df_recipes.loc[index,\"Cuisine\"] == 0 and df_recipes.loc[index,\"minutes\"] == 3:\n",
    "        df_recipes_cat.loc[index,\"Category\"] = 78\n",
    "    elif df_recipes.loc[index,\"Cuisine\"] == 0 and df_recipes.loc[index,\"minutes\"] == 4:\n",
    "        df_recipes_cat.loc[index,\"Category\"] = 79\n",
    "    elif df_recipes.loc[index,\"Cuisine\"] == 1 and df_recipes.loc[index,\"minutes\"] == 0:\n",
    "        df_recipes_cat.loc[index,\"Category\"] = 80\n",
    "    elif df_recipes.loc[index,\"Cuisine\"] == 1 and df_recipes.loc[index,\"minutes\"] == 1:\n",
    "        df_recipes_cat.loc[index,\"Category\"] = 81\n",
    "    elif df_recipes.loc[index,\"Cuisine\"] == 1 and df_recipes.loc[index,\"minutes\"] == 2:\n",
    "        df_recipes_cat.loc[index,\"Category\"] = 82\n",
    "    elif df_recipes.loc[index,\"Cuisine\"] == 1 and df_recipes.loc[index,\"minutes\"] == 3:\n",
    "        df_recipes_cat.loc[index,\"Category\"] = 83\n",
    "    elif df_recipes.loc[index,\"Cuisine\"] == 1 and df_recipes.loc[index,\"minutes\"] == 4:\n",
    "        df_recipes_cat.loc[index,\"Category\"] = 84\n",
    "    elif df_recipes.loc[index,\"Cuisine\"] == 2 and df_recipes.loc[index,\"minutes\"] == 0:\n",
    "        df_recipes_cat.loc[index,\"Category\"] = 85\n",
    "    elif df_recipes.loc[index,\"Cuisine\"] == 2 and df_recipes.loc[index,\"minutes\"] == 1:\n",
    "        df_recipes_cat.loc[index,\"Category\"] = 86\n",
    "    elif df_recipes.loc[index,\"Cuisine\"] == 2 and df_recipes.loc[index,\"minutes\"] == 2:\n",
    "        df_recipes_cat.loc[index,\"Category\"] = 87\n",
    "    elif df_recipes.loc[index,\"Cuisine\"] == 2 and df_recipes.loc[index,\"minutes\"] == 3:\n",
    "        df_recipes_cat.loc[index,\"Category\"] = 88\n",
    "    elif df_recipes.loc[index,\"Cuisine\"] == 2 and df_recipes.loc[index,\"minutes\"] == 4:\n",
    "        df_recipes_cat.loc[index,\"Category\"] = 89\n",
    "    elif df_recipes.loc[index,\"Cuisine\"] == 3 and df_recipes.loc[index,\"minutes\"] == 0:\n",
    "        df_recipes_cat.loc[index,\"Category\"] = 90\n",
    "    elif df_recipes.loc[index,\"Cuisine\"] == 3 and df_recipes.loc[index,\"minutes\"] == 1:\n",
    "        df_recipes_cat.loc[index,\"Category\"] = 91\n",
    "    elif df_recipes.loc[index,\"Cuisine\"] == 3 and df_recipes.loc[index,\"minutes\"] == 2:\n",
    "        df_recipes_cat.loc[index,\"Category\"] = 92\n",
    "    elif df_recipes.loc[index,\"Cuisine\"] == 3 and df_recipes.loc[index,\"minutes\"] == 3:\n",
    "        df_recipes_cat.loc[index,\"Category\"] = 93\n",
    "    elif df_recipes.loc[index,\"Cuisine\"] == 3 and df_recipes.loc[index,\"minutes\"] == 4:\n",
    "        df_recipes_cat.loc[index,\"Category\"] = 94\n",
    "    elif df_recipes.loc[index,\"Cuisine\"] == 4 and df_recipes.loc[index,\"minutes\"] == 0:\n",
    "        df_recipes_cat.loc[index,\"Category\"] = 95\n",
    "    elif df_recipes.loc[index,\"Cuisine\"] == 4 and df_recipes.loc[index,\"minutes\"] == 1:\n",
    "        df_recipes_cat.loc[index,\"Category\"] = 96\n",
    "    elif df_recipes.loc[index,\"Cuisine\"] == 4 and df_recipes.loc[index,\"minutes\"] == 2:\n",
    "        df_recipes_cat.loc[index,\"Category\"] = 97\n",
    "    elif df_recipes.loc[index,\"Cuisine\"] == 4 and df_recipes.loc[index,\"minutes\"] == 3:\n",
    "        df_recipes_cat.loc[index,\"Category\"] = 98\n",
    "    elif df_recipes.loc[index,\"Cuisine\"] == 4 and df_recipes.loc[index,\"minutes\"] == 4:\n",
    "        df_recipes_cat.loc[index,\"Category\"] = 99"
   ],
   "metadata": {
    "collapsed": false,
    "pycharm": {
     "name": "#%%\n"
    }
   }
  },
  {
   "cell_type": "code",
   "execution_count": 290,
   "outputs": [],
   "source": [],
   "metadata": {
    "collapsed": false,
    "pycharm": {
     "name": "#%%\n"
    }
   }
  },
  {
   "cell_type": "markdown",
   "source": [
    "### Gaining muscle (Calorie surplus)"
   ],
   "metadata": {
    "collapsed": false,
    "pycharm": {
     "name": "#%% md\n"
    }
   }
  },
  {
   "cell_type": "code",
   "execution_count": 291,
   "outputs": [],
   "source": [
    "indices_keto_gains = list(np.where((df_recipes['Calories (#)'] >= 500) & (df_recipes['Calories (#)'] <= 1200) & (df_recipes['Total Fat (PDV)'] >= 45) & (df_recipes['Total Fat (PDV)'] <= 55) & (df_recipes['Saturated Fat (PDV)'] <= 20) & (df_recipes['Protein (PDV)'] >= 20) & (df_recipes['Carbohydrates (PDV)'] <= 5)))[0]"
   ],
   "metadata": {
    "collapsed": false,
    "pycharm": {
     "name": "#%%\n"
    }
   }
  },
  {
   "cell_type": "code",
   "execution_count": 292,
   "outputs": [
    {
     "data": {
      "text/plain": "2"
     },
     "execution_count": 292,
     "metadata": {},
     "output_type": "execute_result"
    }
   ],
   "source": [
    "len(indices_keto_gains)"
   ],
   "metadata": {
    "collapsed": false,
    "pycharm": {
     "name": "#%%\n"
    }
   }
  },
  {
   "cell_type": "code",
   "execution_count": 293,
   "outputs": [],
   "source": [
    "for index in indices_keto_gains:\n",
    "    if df_recipes.loc[index,\"Cuisine\"] == 0 and df_recipes.loc[index,\"minutes\"] == 0:\n",
    "        df_recipes_cat.loc[index,\"Category\"] = 100\n",
    "    elif df_recipes.loc[index,\"Cuisine\"] == 0 and df_recipes.loc[index,\"minutes\"] == 1:\n",
    "        df_recipes_cat.loc[index,\"Category\"] = 101\n",
    "    elif df_recipes.loc[index,\"Cuisine\"] == 0 and df_recipes.loc[index,\"minutes\"] == 2:\n",
    "        df_recipes_cat.loc[index,\"Category\"] = 102\n",
    "    elif df_recipes.loc[index,\"Cuisine\"] == 0 and df_recipes.loc[index,\"minutes\"] == 3:\n",
    "        df_recipes_cat.loc[index,\"Category\"] = 103\n",
    "    elif df_recipes.loc[index,\"Cuisine\"] == 0 and df_recipes.loc[index,\"minutes\"] == 4:\n",
    "        df_recipes_cat.loc[index,\"Category\"] = 104\n",
    "    elif df_recipes.loc[index,\"Cuisine\"] == 1 and df_recipes.loc[index,\"minutes\"] == 0:\n",
    "        df_recipes_cat.loc[index,\"Category\"] = 105\n",
    "    elif df_recipes.loc[index,\"Cuisine\"] == 1 and df_recipes.loc[index,\"minutes\"] == 1:\n",
    "        df_recipes_cat.loc[index,\"Category\"] = 106\n",
    "    elif df_recipes.loc[index,\"Cuisine\"] == 1 and df_recipes.loc[index,\"minutes\"] == 2:\n",
    "        df_recipes_cat.loc[index,\"Category\"] = 107\n",
    "    elif df_recipes.loc[index,\"Cuisine\"] == 1 and df_recipes.loc[index,\"minutes\"] == 3:\n",
    "        df_recipes_cat.loc[index,\"Category\"] = 108\n",
    "    elif df_recipes.loc[index,\"Cuisine\"] == 1 and df_recipes.loc[index,\"minutes\"] == 4:\n",
    "        df_recipes_cat.loc[index,\"Category\"] = 109\n",
    "    elif df_recipes.loc[index,\"Cuisine\"] == 2 and df_recipes.loc[index,\"minutes\"] == 0:\n",
    "        df_recipes_cat.loc[index,\"Category\"] = 110\n",
    "    elif df_recipes.loc[index,\"Cuisine\"] == 2 and df_recipes.loc[index,\"minutes\"] == 1:\n",
    "        df_recipes_cat.loc[index,\"Category\"] = 111\n",
    "    elif df_recipes.loc[index,\"Cuisine\"] == 2 and df_recipes.loc[index,\"minutes\"] == 2:\n",
    "        df_recipes_cat.loc[index,\"Category\"] = 112\n",
    "    elif df_recipes.loc[index,\"Cuisine\"] == 2 and df_recipes.loc[index,\"minutes\"] == 3:\n",
    "        df_recipes_cat.loc[index,\"Category\"] = 113\n",
    "    elif df_recipes.loc[index,\"Cuisine\"] == 2 and df_recipes.loc[index,\"minutes\"] == 4:\n",
    "        df_recipes_cat.loc[index,\"Category\"] = 114\n",
    "    elif df_recipes.loc[index,\"Cuisine\"] == 3 and df_recipes.loc[index,\"minutes\"] == 0:\n",
    "        df_recipes_cat.loc[index,\"Category\"] = 115\n",
    "    elif df_recipes.loc[index,\"Cuisine\"] == 3 and df_recipes.loc[index,\"minutes\"] == 1:\n",
    "        df_recipes_cat.loc[index,\"Category\"] = 116\n",
    "    elif df_recipes.loc[index,\"Cuisine\"] == 3 and df_recipes.loc[index,\"minutes\"] == 2:\n",
    "        df_recipes_cat.loc[index,\"Category\"] = 117\n",
    "    elif df_recipes.loc[index,\"Cuisine\"] == 3 and df_recipes.loc[index,\"minutes\"] == 3:\n",
    "        df_recipes_cat.loc[index,\"Category\"] = 118\n",
    "    elif df_recipes.loc[index,\"Cuisine\"] == 3 and df_recipes.loc[index,\"minutes\"] == 4:\n",
    "        df_recipes_cat.loc[index,\"Category\"] = 119\n",
    "    elif df_recipes.loc[index,\"Cuisine\"] == 4 and df_recipes.loc[index,\"minutes\"] == 0:\n",
    "        df_recipes_cat.loc[index,\"Category\"] = 120\n",
    "    elif df_recipes.loc[index,\"Cuisine\"] == 4 and df_recipes.loc[index,\"minutes\"] == 1:\n",
    "        df_recipes_cat.loc[index,\"Category\"] = 121\n",
    "    elif df_recipes.loc[index,\"Cuisine\"] == 4 and df_recipes.loc[index,\"minutes\"] == 2:\n",
    "        df_recipes_cat.loc[index,\"Category\"] = 122\n",
    "    elif df_recipes.loc[index,\"Cuisine\"] == 4 and df_recipes.loc[index,\"minutes\"] == 3:\n",
    "        df_recipes_cat.loc[index,\"Category\"] = 123\n",
    "    elif df_recipes.loc[index,\"Cuisine\"] == 4 and df_recipes.loc[index,\"minutes\"] == 4:\n",
    "        df_recipes_cat.loc[index,\"Category\"] = 124"
   ],
   "metadata": {
    "collapsed": false,
    "pycharm": {
     "name": "#%%\n"
    }
   }
  },
  {
   "cell_type": "code",
   "execution_count": 293,
   "outputs": [],
   "source": [],
   "metadata": {
    "collapsed": false,
    "pycharm": {
     "name": "#%%\n"
    }
   }
  },
  {
   "cell_type": "markdown",
   "source": [
    "### Losing Fat (Calorie deficit)"
   ],
   "metadata": {
    "collapsed": false,
    "pycharm": {
     "name": "#%% md\n"
    }
   }
  },
  {
   "cell_type": "code",
   "execution_count": 294,
   "outputs": [],
   "source": [
    "indices_keto_losing = list(np.where((df_recipes['Calories (#)'] >= 300) & (df_recipes['Calories (#)'] <= 600) & (df_recipes['Total Fat (PDV)'] >= 22.5) & (df_recipes['Total Fat (PDV)'] <= 30) & (df_recipes['Saturated Fat (PDV)'] <= 20) & (df_recipes['Protein (PDV)'] >= 25) & (df_recipes['Carbohydrates (PDV)'] <= 5)))[0]"
   ],
   "metadata": {
    "collapsed": false,
    "pycharm": {
     "name": "#%%\n"
    }
   }
  },
  {
   "cell_type": "code",
   "execution_count": 295,
   "outputs": [
    {
     "data": {
      "text/plain": "489"
     },
     "execution_count": 295,
     "metadata": {},
     "output_type": "execute_result"
    }
   ],
   "source": [
    "len(indices_keto_losing)"
   ],
   "metadata": {
    "collapsed": false,
    "pycharm": {
     "name": "#%%\n"
    }
   }
  },
  {
   "cell_type": "code",
   "execution_count": 296,
   "outputs": [],
   "source": [
    "for index in indices_keto_losing:\n",
    "    if df_recipes.loc[index,\"Cuisine\"] == 0 and df_recipes.loc[index,\"minutes\"] == 0:\n",
    "        df_recipes_cat.loc[index,\"Category\"] = 125\n",
    "    elif df_recipes.loc[index,\"Cuisine\"] == 0 and df_recipes.loc[index,\"minutes\"] == 1:\n",
    "        df_recipes_cat.loc[index,\"Category\"] = 126\n",
    "    elif df_recipes.loc[index,\"Cuisine\"] == 0 and df_recipes.loc[index,\"minutes\"] == 2:\n",
    "        df_recipes_cat.loc[index,\"Category\"] = 127\n",
    "    elif df_recipes.loc[index,\"Cuisine\"] == 0 and df_recipes.loc[index,\"minutes\"] == 3:\n",
    "        df_recipes_cat.loc[index,\"Category\"] = 128\n",
    "    elif df_recipes.loc[index,\"Cuisine\"] == 0 and df_recipes.loc[index,\"minutes\"] == 4:\n",
    "        df_recipes_cat.loc[index,\"Category\"] = 129\n",
    "    elif df_recipes.loc[index,\"Cuisine\"] == 1 and df_recipes.loc[index,\"minutes\"] == 0:\n",
    "        df_recipes_cat.loc[index,\"Category\"] = 130\n",
    "    elif df_recipes.loc[index,\"Cuisine\"] == 1 and df_recipes.loc[index,\"minutes\"] == 1:\n",
    "        df_recipes_cat.loc[index,\"Category\"] = 131\n",
    "    elif df_recipes.loc[index,\"Cuisine\"] == 1 and df_recipes.loc[index,\"minutes\"] == 2:\n",
    "        df_recipes_cat.loc[index,\"Category\"] = 132\n",
    "    elif df_recipes.loc[index,\"Cuisine\"] == 1 and df_recipes.loc[index,\"minutes\"] == 3:\n",
    "        df_recipes_cat.loc[index,\"Category\"] = 133\n",
    "    elif df_recipes.loc[index,\"Cuisine\"] == 1 and df_recipes.loc[index,\"minutes\"] == 4:\n",
    "        df_recipes_cat.loc[index,\"Category\"] = 134\n",
    "    elif df_recipes.loc[index,\"Cuisine\"] == 2 and df_recipes.loc[index,\"minutes\"] == 0:\n",
    "        df_recipes_cat.loc[index,\"Category\"] = 135\n",
    "    elif df_recipes.loc[index,\"Cuisine\"] == 2 and df_recipes.loc[index,\"minutes\"] == 1:\n",
    "        df_recipes_cat.loc[index,\"Category\"] = 136\n",
    "    elif df_recipes.loc[index,\"Cuisine\"] == 2 and df_recipes.loc[index,\"minutes\"] == 2:\n",
    "        df_recipes_cat.loc[index,\"Category\"] = 137\n",
    "    elif df_recipes.loc[index,\"Cuisine\"] == 2 and df_recipes.loc[index,\"minutes\"] == 3:\n",
    "        df_recipes_cat.loc[index,\"Category\"] = 138\n",
    "    elif df_recipes.loc[index,\"Cuisine\"] == 2 and df_recipes.loc[index,\"minutes\"] == 4:\n",
    "        df_recipes_cat.loc[index,\"Category\"] = 139\n",
    "    elif df_recipes.loc[index,\"Cuisine\"] == 3 and df_recipes.loc[index,\"minutes\"] == 0:\n",
    "        df_recipes_cat.loc[index,\"Category\"] = 140\n",
    "    elif df_recipes.loc[index,\"Cuisine\"] == 3 and df_recipes.loc[index,\"minutes\"] == 1:\n",
    "        df_recipes_cat.loc[index,\"Category\"] = 141\n",
    "    elif df_recipes.loc[index,\"Cuisine\"] == 3 and df_recipes.loc[index,\"minutes\"] == 2:\n",
    "        df_recipes_cat.loc[index,\"Category\"] = 142\n",
    "    elif df_recipes.loc[index,\"Cuisine\"] == 3 and df_recipes.loc[index,\"minutes\"] == 3:\n",
    "        df_recipes_cat.loc[index,\"Category\"] = 143\n",
    "    elif df_recipes.loc[index,\"Cuisine\"] == 3 and df_recipes.loc[index,\"minutes\"] == 4:\n",
    "        df_recipes_cat.loc[index,\"Category\"] = 144\n",
    "    elif df_recipes.loc[index,\"Cuisine\"] == 4 and df_recipes.loc[index,\"minutes\"] == 0:\n",
    "        df_recipes_cat.loc[index,\"Category\"] = 145\n",
    "    elif df_recipes.loc[index,\"Cuisine\"] == 4 and df_recipes.loc[index,\"minutes\"] == 1:\n",
    "        df_recipes_cat.loc[index,\"Category\"] = 146\n",
    "    elif df_recipes.loc[index,\"Cuisine\"] == 4 and df_recipes.loc[index,\"minutes\"] == 2:\n",
    "        df_recipes_cat.loc[index,\"Category\"] = 147\n",
    "    elif df_recipes.loc[index,\"Cuisine\"] == 4 and df_recipes.loc[index,\"minutes\"] == 3:\n",
    "        df_recipes_cat.loc[index,\"Category\"] = 148\n",
    "    elif df_recipes.loc[index,\"Cuisine\"] == 4 and df_recipes.loc[index,\"minutes\"] == 4:\n",
    "        df_recipes_cat.loc[index,\"Category\"] = 149"
   ],
   "metadata": {
    "collapsed": false,
    "pycharm": {
     "name": "#%%\n"
    }
   }
  },
  {
   "cell_type": "code",
   "execution_count": 296,
   "outputs": [],
   "source": [],
   "metadata": {
    "collapsed": false,
    "pycharm": {
     "name": "#%%\n"
    }
   }
  },
  {
   "cell_type": "markdown",
   "source": [
    "## Vegetarian diet"
   ],
   "metadata": {
    "collapsed": false,
    "pycharm": {
     "name": "#%% md\n"
    }
   }
  },
  {
   "cell_type": "code",
   "execution_count": 297,
   "outputs": [
    {
     "data": {
      "text/plain": "                                         name      id  minutes  \\\n0  arriba   baked winter squash mexican style  137739        1   \n1            a bit different  breakfast pizza   31490        0   \n2                   all in the kitchen  chili  112140        3   \n3                          alouette  potatoes   59389        1   \n4          amish  tomato ketchup  for canning   44061        4   \n\n   contributor_id   submitted  \\\n0           47892  2005-09-16   \n1           26278  2002-06-17   \n2          196586  2005-02-25   \n3           68585  2003-04-14   \n4           41706  2002-10-25   \n\n                                                tags  \\\n0  ['60-minutes-or-less', 'time-to-make', 'course...   \n1  ['30-minutes-or-less', 'time-to-make', 'course...   \n2  ['time-to-make', 'course', 'preparation', 'mai...   \n3  ['60-minutes-or-less', 'time-to-make', 'course...   \n4  ['weeknight', 'time-to-make', 'course', 'main-...   \n\n                                    nutrition  n_steps  \\\n0       [51.5, 0.0, 13.0, 0.0, 2.0, 0.0, 4.0]       11   \n1   [173.4, 18.0, 0.0, 17.0, 22.0, 35.0, 1.0]        9   \n2  [269.8, 22.0, 32.0, 48.0, 39.0, 27.0, 5.0]        6   \n3   [368.1, 17.0, 10.0, 2.0, 14.0, 8.0, 20.0]       11   \n4   [352.9, 1.0, 337.0, 23.0, 3.0, 0.0, 28.0]        5   \n\n                                               steps  \\\n0  ['make a choice and proceed with recipe', 'dep...   \n1  ['preheat oven to 425 degrees f', 'press dough...   \n2  ['brown ground beef in large pot', 'add choppe...   \n3  ['place potatoes in a large pot of lightly sal...   \n4  ['mix all ingredients& boil for 2 1 / 2 hours ...   \n\n                                         description  ...  Vegetarian  \\\n0  autumn is my favorite time of year to cook! th...  ...  vegetarian   \n1  this recipe calls for the crust to be prebaked...  ...   undefined   \n2  this modified version of 'mom's' chili was a h...  ...   undefined   \n3  this is a super easy, great tasting, make ahea...  ...   undefined   \n4  my dh's amish mother raised him on this recipe...  ...  vegetarian   \n\n   Cuisine Calories (#)  Total Fat (PDV)  Sugar (PDV)  Sodium (PDV)  \\\n0        1         51.5              0.0         13.0           0.0   \n1        1        173.4             18.0          0.0          17.0   \n2        0        269.8             22.0         32.0          48.0   \n3        0        368.1             17.0         10.0           2.0   \n4        1        352.9              1.0        337.0          23.0   \n\n   Protein (PDV)  Saturated Fat (PDV)  Carbohydrates (PDV)  Category  \n0            2.0                  0.0                  4.0       300  \n1           22.0                 35.0                  1.0       300  \n2           39.0                 27.0                  5.0       300  \n3           14.0                  8.0                 20.0       300  \n4            3.0                  0.0                 28.0       300  \n\n[5 rows x 22 columns]",
      "text/html": "<div>\n<style scoped>\n    .dataframe tbody tr th:only-of-type {\n        vertical-align: middle;\n    }\n\n    .dataframe tbody tr th {\n        vertical-align: top;\n    }\n\n    .dataframe thead th {\n        text-align: right;\n    }\n</style>\n<table border=\"1\" class=\"dataframe\">\n  <thead>\n    <tr style=\"text-align: right;\">\n      <th></th>\n      <th>name</th>\n      <th>id</th>\n      <th>minutes</th>\n      <th>contributor_id</th>\n      <th>submitted</th>\n      <th>tags</th>\n      <th>nutrition</th>\n      <th>n_steps</th>\n      <th>steps</th>\n      <th>description</th>\n      <th>...</th>\n      <th>Vegetarian</th>\n      <th>Cuisine</th>\n      <th>Calories (#)</th>\n      <th>Total Fat (PDV)</th>\n      <th>Sugar (PDV)</th>\n      <th>Sodium (PDV)</th>\n      <th>Protein (PDV)</th>\n      <th>Saturated Fat (PDV)</th>\n      <th>Carbohydrates (PDV)</th>\n      <th>Category</th>\n    </tr>\n  </thead>\n  <tbody>\n    <tr>\n      <th>0</th>\n      <td>arriba   baked winter squash mexican style</td>\n      <td>137739</td>\n      <td>1</td>\n      <td>47892</td>\n      <td>2005-09-16</td>\n      <td>['60-minutes-or-less', 'time-to-make', 'course...</td>\n      <td>[51.5, 0.0, 13.0, 0.0, 2.0, 0.0, 4.0]</td>\n      <td>11</td>\n      <td>['make a choice and proceed with recipe', 'dep...</td>\n      <td>autumn is my favorite time of year to cook! th...</td>\n      <td>...</td>\n      <td>vegetarian</td>\n      <td>1</td>\n      <td>51.5</td>\n      <td>0.0</td>\n      <td>13.0</td>\n      <td>0.0</td>\n      <td>2.0</td>\n      <td>0.0</td>\n      <td>4.0</td>\n      <td>300</td>\n    </tr>\n    <tr>\n      <th>1</th>\n      <td>a bit different  breakfast pizza</td>\n      <td>31490</td>\n      <td>0</td>\n      <td>26278</td>\n      <td>2002-06-17</td>\n      <td>['30-minutes-or-less', 'time-to-make', 'course...</td>\n      <td>[173.4, 18.0, 0.0, 17.0, 22.0, 35.0, 1.0]</td>\n      <td>9</td>\n      <td>['preheat oven to 425 degrees f', 'press dough...</td>\n      <td>this recipe calls for the crust to be prebaked...</td>\n      <td>...</td>\n      <td>undefined</td>\n      <td>1</td>\n      <td>173.4</td>\n      <td>18.0</td>\n      <td>0.0</td>\n      <td>17.0</td>\n      <td>22.0</td>\n      <td>35.0</td>\n      <td>1.0</td>\n      <td>300</td>\n    </tr>\n    <tr>\n      <th>2</th>\n      <td>all in the kitchen  chili</td>\n      <td>112140</td>\n      <td>3</td>\n      <td>196586</td>\n      <td>2005-02-25</td>\n      <td>['time-to-make', 'course', 'preparation', 'mai...</td>\n      <td>[269.8, 22.0, 32.0, 48.0, 39.0, 27.0, 5.0]</td>\n      <td>6</td>\n      <td>['brown ground beef in large pot', 'add choppe...</td>\n      <td>this modified version of 'mom's' chili was a h...</td>\n      <td>...</td>\n      <td>undefined</td>\n      <td>0</td>\n      <td>269.8</td>\n      <td>22.0</td>\n      <td>32.0</td>\n      <td>48.0</td>\n      <td>39.0</td>\n      <td>27.0</td>\n      <td>5.0</td>\n      <td>300</td>\n    </tr>\n    <tr>\n      <th>3</th>\n      <td>alouette  potatoes</td>\n      <td>59389</td>\n      <td>1</td>\n      <td>68585</td>\n      <td>2003-04-14</td>\n      <td>['60-minutes-or-less', 'time-to-make', 'course...</td>\n      <td>[368.1, 17.0, 10.0, 2.0, 14.0, 8.0, 20.0]</td>\n      <td>11</td>\n      <td>['place potatoes in a large pot of lightly sal...</td>\n      <td>this is a super easy, great tasting, make ahea...</td>\n      <td>...</td>\n      <td>undefined</td>\n      <td>0</td>\n      <td>368.1</td>\n      <td>17.0</td>\n      <td>10.0</td>\n      <td>2.0</td>\n      <td>14.0</td>\n      <td>8.0</td>\n      <td>20.0</td>\n      <td>300</td>\n    </tr>\n    <tr>\n      <th>4</th>\n      <td>amish  tomato ketchup  for canning</td>\n      <td>44061</td>\n      <td>4</td>\n      <td>41706</td>\n      <td>2002-10-25</td>\n      <td>['weeknight', 'time-to-make', 'course', 'main-...</td>\n      <td>[352.9, 1.0, 337.0, 23.0, 3.0, 0.0, 28.0]</td>\n      <td>5</td>\n      <td>['mix all ingredients&amp; boil for 2 1 / 2 hours ...</td>\n      <td>my dh's amish mother raised him on this recipe...</td>\n      <td>...</td>\n      <td>vegetarian</td>\n      <td>1</td>\n      <td>352.9</td>\n      <td>1.0</td>\n      <td>337.0</td>\n      <td>23.0</td>\n      <td>3.0</td>\n      <td>0.0</td>\n      <td>28.0</td>\n      <td>300</td>\n    </tr>\n  </tbody>\n</table>\n<p>5 rows × 22 columns</p>\n</div>"
     },
     "execution_count": 297,
     "metadata": {},
     "output_type": "execute_result"
    }
   ],
   "source": [
    "df_recipes.head()"
   ],
   "metadata": {
    "collapsed": false,
    "pycharm": {
     "name": "#%%\n"
    }
   }
  },
  {
   "cell_type": "markdown",
   "source": [
    "### Balanced"
   ],
   "metadata": {
    "collapsed": false,
    "pycharm": {
     "name": "#%% md\n"
    }
   }
  },
  {
   "cell_type": "code",
   "execution_count": 298,
   "outputs": [],
   "source": [
    "indices_vegetarian_balanced = list(np.where((df_recipes[\"Vegetarian\"] == \"vegetarian\") & (df_recipes['Calories (#)'] >= 300) & (df_recipes['Calories (#)'] <= 800) & (df_recipes['Total Fat (PDV)'] >= 10) & (df_recipes['Total Fat (PDV)'] <= 15) & (df_recipes['Saturated Fat (PDV)'] <= 15) & (df_recipes['Protein (PDV)'] >= 10) & (df_recipes['Carbohydrates (PDV)'] >= 10) & (df_recipes['Carbohydrates (PDV)'] <= 20)))[0]"
   ],
   "metadata": {
    "collapsed": false,
    "pycharm": {
     "name": "#%%\n"
    }
   }
  },
  {
   "cell_type": "code",
   "execution_count": 299,
   "outputs": [
    {
     "data": {
      "text/plain": "340"
     },
     "execution_count": 299,
     "metadata": {},
     "output_type": "execute_result"
    }
   ],
   "source": [
    "len(indices_vegetarian_balanced)"
   ],
   "metadata": {
    "collapsed": false,
    "pycharm": {
     "name": "#%%\n"
    }
   }
  },
  {
   "cell_type": "code",
   "execution_count": 300,
   "outputs": [],
   "source": [
    "for index in indices_vegetarian_balanced:\n",
    "    if df_recipes.loc[index,\"Cuisine\"] == 0 and df_recipes.loc[index,\"minutes\"] == 0:\n",
    "        df_recipes_cat.loc[index,\"Category\"] = 150\n",
    "    elif df_recipes.loc[index,\"Cuisine\"] == 0 and df_recipes.loc[index,\"minutes\"] == 1:\n",
    "        df_recipes_cat.loc[index,\"Category\"] = 151\n",
    "    elif df_recipes.loc[index,\"Cuisine\"] == 0 and df_recipes.loc[index,\"minutes\"] == 2:\n",
    "        df_recipes_cat.loc[index,\"Category\"] = 152\n",
    "    elif df_recipes.loc[index,\"Cuisine\"] == 0 and df_recipes.loc[index,\"minutes\"] == 3:\n",
    "        df_recipes_cat.loc[index,\"Category\"] = 153\n",
    "    elif df_recipes.loc[index,\"Cuisine\"] == 0 and df_recipes.loc[index,\"minutes\"] == 4:\n",
    "        df_recipes_cat.loc[index,\"Category\"] = 154\n",
    "    elif df_recipes.loc[index,\"Cuisine\"] == 1 and df_recipes.loc[index,\"minutes\"] == 0:\n",
    "        df_recipes_cat.loc[index,\"Category\"] = 155\n",
    "    elif df_recipes.loc[index,\"Cuisine\"] == 1 and df_recipes.loc[index,\"minutes\"] == 1:\n",
    "        df_recipes_cat.loc[index,\"Category\"] = 156\n",
    "    elif df_recipes.loc[index,\"Cuisine\"] == 1 and df_recipes.loc[index,\"minutes\"] == 2:\n",
    "        df_recipes_cat.loc[index,\"Category\"] = 157\n",
    "    elif df_recipes.loc[index,\"Cuisine\"] == 1 and df_recipes.loc[index,\"minutes\"] == 3:\n",
    "        df_recipes_cat.loc[index,\"Category\"] = 158\n",
    "    elif df_recipes.loc[index,\"Cuisine\"] == 1 and df_recipes.loc[index,\"minutes\"] == 4:\n",
    "        df_recipes_cat.loc[index,\"Category\"] = 159\n",
    "    elif df_recipes.loc[index,\"Cuisine\"] == 2 and df_recipes.loc[index,\"minutes\"] == 0:\n",
    "        df_recipes_cat.loc[index,\"Category\"] = 160\n",
    "    elif df_recipes.loc[index,\"Cuisine\"] == 2 and df_recipes.loc[index,\"minutes\"] == 1:\n",
    "        df_recipes_cat.loc[index,\"Category\"] = 161\n",
    "    elif df_recipes.loc[index,\"Cuisine\"] == 2 and df_recipes.loc[index,\"minutes\"] == 2:\n",
    "        df_recipes_cat.loc[index,\"Category\"] = 162\n",
    "    elif df_recipes.loc[index,\"Cuisine\"] == 2 and df_recipes.loc[index,\"minutes\"] == 3:\n",
    "        df_recipes_cat.loc[index,\"Category\"] = 163\n",
    "    elif df_recipes.loc[index,\"Cuisine\"] == 2 and df_recipes.loc[index,\"minutes\"] == 4:\n",
    "        df_recipes_cat.loc[index,\"Category\"] = 164\n",
    "    elif df_recipes.loc[index,\"Cuisine\"] == 3 and df_recipes.loc[index,\"minutes\"] == 0:\n",
    "        df_recipes_cat.loc[index,\"Category\"] = 165\n",
    "    elif df_recipes.loc[index,\"Cuisine\"] == 3 and df_recipes.loc[index,\"minutes\"] == 1:\n",
    "        df_recipes_cat.loc[index,\"Category\"] = 166\n",
    "    elif df_recipes.loc[index,\"Cuisine\"] == 3 and df_recipes.loc[index,\"minutes\"] == 2:\n",
    "        df_recipes_cat.loc[index,\"Category\"] = 167\n",
    "    elif df_recipes.loc[index,\"Cuisine\"] == 3 and df_recipes.loc[index,\"minutes\"] == 3:\n",
    "        df_recipes_cat.loc[index,\"Category\"] = 168\n",
    "    elif df_recipes.loc[index,\"Cuisine\"] == 3 and df_recipes.loc[index,\"minutes\"] == 4:\n",
    "        df_recipes_cat.loc[index,\"Category\"] = 169\n",
    "    elif df_recipes.loc[index,\"Cuisine\"] == 4 and df_recipes.loc[index,\"minutes\"] == 0:\n",
    "        df_recipes_cat.loc[index,\"Category\"] = 170\n",
    "    elif df_recipes.loc[index,\"Cuisine\"] == 4 and df_recipes.loc[index,\"minutes\"] == 1:\n",
    "        df_recipes_cat.loc[index,\"Category\"] = 171\n",
    "    elif df_recipes.loc[index,\"Cuisine\"] == 4 and df_recipes.loc[index,\"minutes\"] == 2:\n",
    "        df_recipes_cat.loc[index,\"Category\"] = 172\n",
    "    elif df_recipes.loc[index,\"Cuisine\"] == 4 and df_recipes.loc[index,\"minutes\"] == 3:\n",
    "        df_recipes_cat.loc[index,\"Category\"] = 173\n",
    "    elif df_recipes.loc[index,\"Cuisine\"] == 4 and df_recipes.loc[index,\"minutes\"] == 4:\n",
    "        df_recipes_cat.loc[index,\"Category\"] = 174"
   ],
   "metadata": {
    "collapsed": false,
    "pycharm": {
     "name": "#%%\n"
    }
   }
  },
  {
   "cell_type": "code",
   "execution_count": 300,
   "outputs": [],
   "source": [],
   "metadata": {
    "collapsed": false,
    "pycharm": {
     "name": "#%%\n"
    }
   }
  },
  {
   "cell_type": "markdown",
   "source": [
    "### Gaining muscle (Calorie surplus)"
   ],
   "metadata": {
    "collapsed": false,
    "pycharm": {
     "name": "#%% md\n"
    }
   }
  },
  {
   "cell_type": "code",
   "execution_count": 301,
   "outputs": [],
   "source": [
    "indices_vegetarian_gains = list(np.where((df_recipes[\"Vegetarian\"] == \"vegetarian\") & (df_recipes['Calories (#)'] >= 500) & (df_recipes['Calories (#)'] <= 1200) & (df_recipes['Total Fat (PDV)'] >= 15) & (df_recipes['Total Fat (PDV)'] <= 25) & (df_recipes['Saturated Fat (PDV)'] <= 20) & (df_recipes['Protein (PDV)'] >= 20) & (df_recipes['Carbohydrates (PDV)'] >= 30) & (df_recipes['Carbohydrates (PDV)'] <= 60)))[0]"
   ],
   "metadata": {
    "collapsed": false,
    "pycharm": {
     "name": "#%%\n"
    }
   }
  },
  {
   "cell_type": "code",
   "execution_count": 302,
   "outputs": [
    {
     "data": {
      "text/plain": "190"
     },
     "execution_count": 302,
     "metadata": {},
     "output_type": "execute_result"
    }
   ],
   "source": [
    "len(indices_vegetarian_gains)"
   ],
   "metadata": {
    "collapsed": false,
    "pycharm": {
     "name": "#%%\n"
    }
   }
  },
  {
   "cell_type": "code",
   "execution_count": 303,
   "outputs": [],
   "source": [
    "for index in indices_vegetarian_gains:\n",
    "    if df_recipes.loc[index,\"Cuisine\"] == 0 and df_recipes.loc[index,\"minutes\"] == 0:\n",
    "        df_recipes_cat.loc[index,\"Category\"] = 175\n",
    "    elif df_recipes.loc[index,\"Cuisine\"] == 0 and df_recipes.loc[index,\"minutes\"] == 1:\n",
    "        df_recipes_cat.loc[index,\"Category\"] = 176\n",
    "    elif df_recipes.loc[index,\"Cuisine\"] == 0 and df_recipes.loc[index,\"minutes\"] == 2:\n",
    "        df_recipes_cat.loc[index,\"Category\"] = 177\n",
    "    elif df_recipes.loc[index,\"Cuisine\"] == 0 and df_recipes.loc[index,\"minutes\"] == 3:\n",
    "        df_recipes_cat.loc[index,\"Category\"] = 178\n",
    "    elif df_recipes.loc[index,\"Cuisine\"] == 0 and df_recipes.loc[index,\"minutes\"] == 4:\n",
    "        df_recipes_cat.loc[index,\"Category\"] = 179\n",
    "    elif df_recipes.loc[index,\"Cuisine\"] == 1 and df_recipes.loc[index,\"minutes\"] == 0:\n",
    "        df_recipes_cat.loc[index,\"Category\"] = 180\n",
    "    elif df_recipes.loc[index,\"Cuisine\"] == 1 and df_recipes.loc[index,\"minutes\"] == 1:\n",
    "        df_recipes_cat.loc[index,\"Category\"] = 181\n",
    "    elif df_recipes.loc[index,\"Cuisine\"] == 1 and df_recipes.loc[index,\"minutes\"] == 2:\n",
    "        df_recipes_cat.loc[index,\"Category\"] = 182\n",
    "    elif df_recipes.loc[index,\"Cuisine\"] == 1 and df_recipes.loc[index,\"minutes\"] == 3:\n",
    "        df_recipes_cat.loc[index,\"Category\"] = 183\n",
    "    elif df_recipes.loc[index,\"Cuisine\"] == 1 and df_recipes.loc[index,\"minutes\"] == 4:\n",
    "        df_recipes_cat.loc[index,\"Category\"] = 184\n",
    "    elif df_recipes.loc[index,\"Cuisine\"] == 2 and df_recipes.loc[index,\"minutes\"] == 0:\n",
    "        df_recipes_cat.loc[index,\"Category\"] = 185\n",
    "    elif df_recipes.loc[index,\"Cuisine\"] == 2 and df_recipes.loc[index,\"minutes\"] == 1:\n",
    "        df_recipes_cat.loc[index,\"Category\"] = 186\n",
    "    elif df_recipes.loc[index,\"Cuisine\"] == 2 and df_recipes.loc[index,\"minutes\"] == 2:\n",
    "        df_recipes_cat.loc[index,\"Category\"] = 187\n",
    "    elif df_recipes.loc[index,\"Cuisine\"] == 2 and df_recipes.loc[index,\"minutes\"] == 3:\n",
    "        df_recipes_cat.loc[index,\"Category\"] = 188\n",
    "    elif df_recipes.loc[index,\"Cuisine\"] == 2 and df_recipes.loc[index,\"minutes\"] == 4:\n",
    "        df_recipes_cat.loc[index,\"Category\"] = 189\n",
    "    elif df_recipes.loc[index,\"Cuisine\"] == 3 and df_recipes.loc[index,\"minutes\"] == 0:\n",
    "        df_recipes_cat.loc[index,\"Category\"] = 190\n",
    "    elif df_recipes.loc[index,\"Cuisine\"] == 3 and df_recipes.loc[index,\"minutes\"] == 1:\n",
    "        df_recipes_cat.loc[index,\"Category\"] = 191\n",
    "    elif df_recipes.loc[index,\"Cuisine\"] == 3 and df_recipes.loc[index,\"minutes\"] == 2:\n",
    "        df_recipes_cat.loc[index,\"Category\"] = 192\n",
    "    elif df_recipes.loc[index,\"Cuisine\"] == 3 and df_recipes.loc[index,\"minutes\"] == 3:\n",
    "        df_recipes_cat.loc[index,\"Category\"] = 193\n",
    "    elif df_recipes.loc[index,\"Cuisine\"] == 3 and df_recipes.loc[index,\"minutes\"] == 4:\n",
    "        df_recipes_cat.loc[index,\"Category\"] = 194\n",
    "    elif df_recipes.loc[index,\"Cuisine\"] == 4 and df_recipes.loc[index,\"minutes\"] == 0:\n",
    "        df_recipes_cat.loc[index,\"Category\"] = 195\n",
    "    elif df_recipes.loc[index,\"Cuisine\"] == 4 and df_recipes.loc[index,\"minutes\"] == 1:\n",
    "        df_recipes_cat.loc[index,\"Category\"] = 196\n",
    "    elif df_recipes.loc[index,\"Cuisine\"] == 4 and df_recipes.loc[index,\"minutes\"] == 2:\n",
    "        df_recipes_cat.loc[index,\"Category\"] = 197\n",
    "    elif df_recipes.loc[index,\"Cuisine\"] == 4 and df_recipes.loc[index,\"minutes\"] == 3:\n",
    "        df_recipes_cat.loc[index,\"Category\"] = 198\n",
    "    elif df_recipes.loc[index,\"Cuisine\"] == 4 and df_recipes.loc[index,\"minutes\"] == 4:\n",
    "        df_recipes_cat.loc[index,\"Category\"] = 199"
   ],
   "metadata": {
    "collapsed": false,
    "pycharm": {
     "name": "#%%\n"
    }
   }
  },
  {
   "cell_type": "code",
   "execution_count": 303,
   "outputs": [],
   "source": [],
   "metadata": {
    "collapsed": false,
    "pycharm": {
     "name": "#%%\n"
    }
   }
  },
  {
   "cell_type": "markdown",
   "source": [
    "### Losing fat (Calorie deficit)"
   ],
   "metadata": {
    "collapsed": false,
    "pycharm": {
     "name": "#%% md\n"
    }
   }
  },
  {
   "cell_type": "code",
   "execution_count": 304,
   "outputs": [],
   "source": [
    "indices_vegetarian_losing = list(np.where((df_recipes[\"Vegetarian\"] == \"vegetarian\") & (df_recipes['Calories (#)'] >= 300) & (df_recipes['Calories (#)'] <= 600) & (df_recipes['Total Fat (PDV)'] >= 7.5) & (df_recipes['Total Fat (PDV)'] <= 15) & (df_recipes['Saturated Fat (PDV)'] <= 20) & (df_recipes['Protein (PDV)'] >= 25) & (df_recipes['Carbohydrates (PDV)'] >= 10) & (df_recipes['Carbohydrates (PDV)'] <= 30)))[0]"
   ],
   "metadata": {
    "collapsed": false,
    "pycharm": {
     "name": "#%%\n"
    }
   }
  },
  {
   "cell_type": "code",
   "execution_count": 305,
   "outputs": [
    {
     "data": {
      "text/plain": "557"
     },
     "execution_count": 305,
     "metadata": {},
     "output_type": "execute_result"
    }
   ],
   "source": [
    "len(indices_vegetarian_losing)"
   ],
   "metadata": {
    "collapsed": false,
    "pycharm": {
     "name": "#%%\n"
    }
   }
  },
  {
   "cell_type": "code",
   "execution_count": 306,
   "outputs": [],
   "source": [
    "for index in indices_vegetarian_losing:\n",
    "    if df_recipes.loc[index,\"Cuisine\"] == 0 and df_recipes.loc[index,\"minutes\"] == 0:\n",
    "        df_recipes_cat.loc[index,\"Category\"] = 200\n",
    "    elif df_recipes.loc[index,\"Cuisine\"] == 0 and df_recipes.loc[index,\"minutes\"] == 1:\n",
    "        df_recipes_cat.loc[index,\"Category\"] = 201\n",
    "    elif df_recipes.loc[index,\"Cuisine\"] == 0 and df_recipes.loc[index,\"minutes\"] == 2:\n",
    "        df_recipes_cat.loc[index,\"Category\"] = 202\n",
    "    elif df_recipes.loc[index,\"Cuisine\"] == 0 and df_recipes.loc[index,\"minutes\"] == 3:\n",
    "        df_recipes_cat.loc[index,\"Category\"] = 203\n",
    "    elif df_recipes.loc[index,\"Cuisine\"] == 0 and df_recipes.loc[index,\"minutes\"] == 4:\n",
    "        df_recipes_cat.loc[index,\"Category\"] = 204\n",
    "    elif df_recipes.loc[index,\"Cuisine\"] == 1 and df_recipes.loc[index,\"minutes\"] == 0:\n",
    "        df_recipes_cat.loc[index,\"Category\"] = 205\n",
    "    elif df_recipes.loc[index,\"Cuisine\"] == 1 and df_recipes.loc[index,\"minutes\"] == 1:\n",
    "        df_recipes_cat.loc[index,\"Category\"] = 206\n",
    "    elif df_recipes.loc[index,\"Cuisine\"] == 1 and df_recipes.loc[index,\"minutes\"] == 2:\n",
    "        df_recipes_cat.loc[index,\"Category\"] = 207\n",
    "    elif df_recipes.loc[index,\"Cuisine\"] == 1 and df_recipes.loc[index,\"minutes\"] == 3:\n",
    "        df_recipes_cat.loc[index,\"Category\"] = 208\n",
    "    elif df_recipes.loc[index,\"Cuisine\"] == 1 and df_recipes.loc[index,\"minutes\"] == 4:\n",
    "        df_recipes_cat.loc[index,\"Category\"] = 209\n",
    "    elif df_recipes.loc[index,\"Cuisine\"] == 2 and df_recipes.loc[index,\"minutes\"] == 0:\n",
    "        df_recipes_cat.loc[index,\"Category\"] = 210\n",
    "    elif df_recipes.loc[index,\"Cuisine\"] == 2 and df_recipes.loc[index,\"minutes\"] == 1:\n",
    "        df_recipes_cat.loc[index,\"Category\"] = 211\n",
    "    elif df_recipes.loc[index,\"Cuisine\"] == 2 and df_recipes.loc[index,\"minutes\"] == 2:\n",
    "        df_recipes_cat.loc[index,\"Category\"] = 212\n",
    "    elif df_recipes.loc[index,\"Cuisine\"] == 2 and df_recipes.loc[index,\"minutes\"] == 3:\n",
    "        df_recipes_cat.loc[index,\"Category\"] = 213\n",
    "    elif df_recipes.loc[index,\"Cuisine\"] == 2 and df_recipes.loc[index,\"minutes\"] == 4:\n",
    "        df_recipes_cat.loc[index,\"Category\"] = 214\n",
    "    elif df_recipes.loc[index,\"Cuisine\"] == 3 and df_recipes.loc[index,\"minutes\"] == 0:\n",
    "        df_recipes_cat.loc[index,\"Category\"] = 215\n",
    "    elif df_recipes.loc[index,\"Cuisine\"] == 3 and df_recipes.loc[index,\"minutes\"] == 1:\n",
    "        df_recipes_cat.loc[index,\"Category\"] = 216\n",
    "    elif df_recipes.loc[index,\"Cuisine\"] == 3 and df_recipes.loc[index,\"minutes\"] == 2:\n",
    "        df_recipes_cat.loc[index,\"Category\"] = 217\n",
    "    elif df_recipes.loc[index,\"Cuisine\"] == 3 and df_recipes.loc[index,\"minutes\"] == 3:\n",
    "        df_recipes_cat.loc[index,\"Category\"] = 218\n",
    "    elif df_recipes.loc[index,\"Cuisine\"] == 3 and df_recipes.loc[index,\"minutes\"] == 4:\n",
    "        df_recipes_cat.loc[index,\"Category\"] = 219\n",
    "    elif df_recipes.loc[index,\"Cuisine\"] == 4 and df_recipes.loc[index,\"minutes\"] == 0:\n",
    "        df_recipes_cat.loc[index,\"Category\"] = 220\n",
    "    elif df_recipes.loc[index,\"Cuisine\"] == 4 and df_recipes.loc[index,\"minutes\"] == 1:\n",
    "        df_recipes_cat.loc[index,\"Category\"] = 221\n",
    "    elif df_recipes.loc[index,\"Cuisine\"] == 4 and df_recipes.loc[index,\"minutes\"] == 2:\n",
    "        df_recipes_cat.loc[index,\"Category\"] = 222\n",
    "    elif df_recipes.loc[index,\"Cuisine\"] == 4 and df_recipes.loc[index,\"minutes\"] == 3:\n",
    "        df_recipes_cat.loc[index,\"Category\"] = 223\n",
    "    elif df_recipes.loc[index,\"Cuisine\"] == 4 and df_recipes.loc[index,\"minutes\"] == 4:\n",
    "        df_recipes_cat.loc[index,\"Category\"] = 224"
   ],
   "metadata": {
    "collapsed": false,
    "pycharm": {
     "name": "#%%\n"
    }
   }
  },
  {
   "cell_type": "code",
   "execution_count": 307,
   "outputs": [],
   "source": [
    "df_recipes = df_recipes[df_recipes[\"Category\"] != 300 ]"
   ],
   "metadata": {
    "collapsed": false,
    "pycharm": {
     "name": "#%%\n"
    }
   }
  },
  {
   "cell_type": "code",
   "execution_count": 308,
   "outputs": [
    {
     "name": "stderr",
     "output_type": "stream",
     "text": [
      "C:\\Users\\Gebruiker\\AppData\\Local\\Temp\\ipykernel_45016\\3085394207.py:1: SettingWithCopyWarning: \n",
      "A value is trying to be set on a copy of a slice from a DataFrame.\n",
      "Try using .loc[row_indexer,col_indexer] = value instead\n",
      "\n",
      "See the caveats in the documentation: https://pandas.pydata.org/pandas-docs/stable/user_guide/indexing.html#returning-a-view-versus-a-copy\n",
      "  df_recipes[\"Diet\"] = 10\n",
      "C:\\Users\\Gebruiker\\AppData\\Local\\Temp\\ipykernel_45016\\3085394207.py:4: SettingWithCopyWarning: \n",
      "A value is trying to be set on a copy of a slice from a DataFrame.\n",
      "Try using .loc[row_indexer,col_indexer] = value instead\n",
      "\n",
      "See the caveats in the documentation: https://pandas.pydata.org/pandas-docs/stable/user_guide/indexing.html#returning-a-view-versus-a-copy\n",
      "  df_recipes.loc[i,\"Health Goals\"] = 0 # \"balanced\"\n"
     ]
    }
   ],
   "source": [
    "df_recipes[\"Diet\"] = 10\n",
    "\n",
    "for i in indices_normal_balanced:\n",
    "    df_recipes.loc[i,\"Health Goals\"] = 0 # \"balanced\"\n",
    "\n",
    "for j in indices_normal_gains:\n",
    "    df_recipes.loc[j,\"Health Goals\"] = 1 # \"muscle gain\"\n",
    "\n",
    "for k in indices_normal_losing:\n",
    "    df_recipes.loc[k,\"Health Goals\"] = 2 # \"losing fat\"\n",
    "\n",
    "for l in indices_keto_balanced:\n",
    "    df_recipes.loc[l,\"Health Goals\"] = 0 # \"balanced\"\n",
    "\n",
    "for m in indices_keto_gains:\n",
    "    df_recipes.loc[m,\"Health Goals\"] = 1 # \"muscle gain\"\n",
    "\n",
    "for n in indices_keto_losing:\n",
    "    df_recipes.loc[n,\"Health Goals\"] = 2 # \"losing fat\"\n",
    "\n",
    "for o in indices_vegetarian_balanced:\n",
    "    df_recipes.loc[o,\"Health Goals\"] = 0 # \"balanced\"\n",
    "\n",
    "for p in indices_vegetarian_gains:\n",
    "    df_recipes.loc[p,\"Health Goals\"] = 1 # \"muscle gain\"\n",
    "\n",
    "for q in indices_vegetarian_losing:\n",
    "    df_recipes.loc[q,\"Health Goals\"] = 2 # \"losing fat\"\n",
    "\n",
    "df_recipes = df_recipes[df_recipes[\"Health Goals\"] != 10 ]"
   ],
   "metadata": {
    "collapsed": false,
    "pycharm": {
     "name": "#%%\n"
    }
   }
  },
  {
   "cell_type": "code",
   "execution_count": 309,
   "outputs": [],
   "source": [
    "df_recipes[\"Diet\"] = 10\n",
    "\n",
    "for i in indices_normal_balanced:\n",
    "    df_recipes.loc[i,\"Diet\"] = 0 # \"normal\"\n",
    "\n",
    "for j in indices_normal_gains:\n",
    "    df_recipes.loc[j,\"Diet\"] = 0 # \"normal\"\n",
    "\n",
    "for k in indices_normal_losing:\n",
    "    df_recipes.loc[k,\"Diet\"] = 0 # \"normal\"\n",
    "\n",
    "for l in indices_keto_balanced:\n",
    "    df_recipes.loc[l,\"Diet\"] = 1 # \"keto\"\n",
    "\n",
    "for m in indices_keto_gains:\n",
    "    df_recipes.loc[m,\"Diet\"] = 1 # \"keto\"\n",
    "\n",
    "for n in indices_keto_losing:\n",
    "    df_recipes.loc[n,\"Diet\"] = 1 # \"keto\"\n",
    "\n",
    "for o in indices_vegetarian_balanced:\n",
    "    df_recipes.loc[o,\"Diet\"] = 2 # \"vegetarian\"\n",
    "\n",
    "for p in indices_vegetarian_gains:\n",
    "    df_recipes.loc[p,\"Diet\"] = 2 # \"vegetarian\"\n",
    "\n",
    "for q in indices_vegetarian_losing:\n",
    "    df_recipes.loc[q,\"Diet\"] = 2 # \"vegetarian\"\n",
    "\n",
    "df_recipes = df_recipes[df_recipes[\"Diet\"] != 10 ]\n",
    "# df_health_goals = pd.get_dummies(df_recipes[[\"Diet_&_Health_Goals\"]])"
   ],
   "metadata": {
    "collapsed": false,
    "pycharm": {
     "name": "#%%\n"
    }
   }
  },
  {
   "cell_type": "code",
   "execution_count": 309,
   "outputs": [],
   "source": [],
   "metadata": {
    "collapsed": false,
    "pycharm": {
     "name": "#%%\n"
    }
   }
  },
  {
   "cell_type": "markdown",
   "source": [
    "# Features & Correlations"
   ],
   "metadata": {
    "collapsed": false,
    "pycharm": {
     "name": "#%% md\n"
    }
   }
  },
  {
   "cell_type": "code",
   "execution_count": 310,
   "outputs": [
    {
     "data": {
      "text/plain": "                                                     name      id  minutes  \\\n22                                crispy crunchy  chicken   83873        1   \n60                                          mexican pasta   60219        0   \n163                               california roll   salad  318677        0   \n227                             leftover  lo mein for two  221049        0   \n238                 middle eastern   twice baked potatoes  120297        2   \n...                                                   ...     ...      ...   \n231057                             zucchini buffalo chili  227140        2   \n231069              zucchini carbonara for two vegetarian  293301        0   \n231083                zucchini carrot raisin walnut bread  263811        2   \n231594  zuppa my weight watcher version of the olive g...  328409        2   \n231631                                 zydeco shrimp wrap  188810        1   \n\n        contributor_id   submitted  \\\n22              108291  2004-02-13   \n60               76846  2003-04-18   \n163             334242  2008-08-11   \n227             356062  2007-04-06   \n238             197023  2005-05-02   \n...                ...         ...   \n231057          497465  2007-05-10   \n231069           37449  2008-03-21   \n231083          559283  2007-11-07   \n231594          690050  2008-10-01   \n231631           37779  2006-10-03   \n\n                                                     tags  \\\n22      ['60-minutes-or-less', 'time-to-make', 'course...   \n60      ['30-minutes-or-less', 'time-to-make', 'course...   \n163     ['15-minutes-or-less', 'time-to-make', 'course...   \n227     ['15-minutes-or-less', 'time-to-make', 'course...   \n238     ['time-to-make', 'course', 'main-ingredient', ...   \n...                                                   ...   \n231057  ['lactose', 'time-to-make', 'course', 'main-in...   \n231069  ['30-minutes-or-less', 'time-to-make', 'course...   \n231083  ['time-to-make', 'course', 'main-ingredient', ...   \n231594  ['time-to-make', 'course', 'preparation', 'occ...   \n231631  ['60-minutes-or-less', 'time-to-make', 'course...   \n\n                                          nutrition  n_steps  \\\n22       [335.8, 11.0, 2.0, 24.0, 64.0, 10.0, 10.0]        8   \n60      [325.3, 10.0, 11.0, 39.0, 26.0, 17.0, 17.0]        5   \n163      [455.7, 13.0, 38.0, 72.0, 34.0, 6.0, 26.0]        8   \n227        [302.6, 9.0, 8.0, 18.0, 36.0, 8.0, 14.0]        2   \n238      [327.6, 11.0, 16.0, 14.0, 21.0, 6.0, 18.0]       14   \n...                                             ...      ...   \n231057   [350.0, 11.0, 62.0, 66.0, 66.0, 6.0, 14.0]        8   \n231069   [486.9, 15.0, 14.0, 5.0, 31.0, 18.0, 28.0]       10   \n231083  [586.0, 19.0, 259.0, 21.0, 21.0, 9.0, 37.0]       14   \n231594   [342.4, 10.0, 10.0, 39.0, 48.0, 8.0, 15.0]        7   \n231631   [482.6, 13.0, 25.0, 37.0, 33.0, 9.0, 27.0]       14   \n\n                                                    steps  \\\n22      ['combine soup , egg and seasoned salt in a bo...   \n60      ['boil pasta as directed on package', 'drain a...   \n163     ['prepare rice according to directions', 'pour...   \n227     ['combine everything but pasta on stove top an...   \n238     ['preheat the oven to 200c', 'wash the potatoe...   \n...                                                   ...   \n231057  ['heat a large soup pot over medium heat', 'ad...   \n231069  ['cook pasta in lots of boiling salted water f...   \n231083  ['preheat oven to 350 degrees', 'grease and fl...   \n231594  ['in a big soup pot', 'cook ground turkey with...   \n231631  ['bring 3 quarts salted to water to a boil', '...   \n\n                                              description  ... Calories (#)  \\\n22      delicious, crunchy fried chicken. this recipe ...  ...        335.8   \n60      made this as a side dish for mexican meatballs...  ...        325.3   \n163     this is a great light salad that can be your m...  ...        455.7   \n227                         nice dish made of left overs!  ...        302.6   \n238     a delicious yet low-fat twice-baked potato sid...  ...        327.6   \n...                                                   ...  ...          ...   \n231057  last summer we were drowning in round french z...  ...        350.0   \n231069  i just got a new cookbook, good cooking by jil...  ...        486.9   \n231083                                             lowfat  ...        586.0   \n231594  this is the way that i have made a low fat  ve...  ...        342.4   \n231631             a wrap inspired by great cajun flavors  ...        482.6   \n\n        Total Fat (PDV) Sugar (PDV)  Sodium (PDV)  Protein (PDV)  \\\n22                 11.0         2.0          24.0           64.0   \n60                 10.0        11.0          39.0           26.0   \n163                13.0        38.0          72.0           34.0   \n227                 9.0         8.0          18.0           36.0   \n238                11.0        16.0          14.0           21.0   \n...                 ...         ...           ...            ...   \n231057             11.0        62.0          66.0           66.0   \n231069             15.0        14.0           5.0           31.0   \n231083             19.0       259.0          21.0           21.0   \n231594             10.0        10.0          39.0           48.0   \n231631             13.0        25.0          37.0           33.0   \n\n        Saturated Fat (PDV)  Carbohydrates (PDV)  Category  Diet  Health Goals  \n22                     10.0                 10.0        51     0           2.0  \n60                     17.0                 17.0        55     0           2.0  \n163                     6.0                 26.0        50     0           2.0  \n227                     8.0                 14.0        65     0           2.0  \n238                     6.0                 18.0       167     2           0.0  \n...                     ...                  ...       ...   ...           ...  \n231057                  6.0                 14.0        57     0           2.0  \n231069                 18.0                 28.0       210     2           2.0  \n231083                  9.0                 37.0        27     0           1.0  \n231594                  8.0                 15.0        52     0           2.0  \n231631                  9.0                 27.0        51     0           2.0  \n\n[5076 rows x 24 columns]",
      "text/html": "<div>\n<style scoped>\n    .dataframe tbody tr th:only-of-type {\n        vertical-align: middle;\n    }\n\n    .dataframe tbody tr th {\n        vertical-align: top;\n    }\n\n    .dataframe thead th {\n        text-align: right;\n    }\n</style>\n<table border=\"1\" class=\"dataframe\">\n  <thead>\n    <tr style=\"text-align: right;\">\n      <th></th>\n      <th>name</th>\n      <th>id</th>\n      <th>minutes</th>\n      <th>contributor_id</th>\n      <th>submitted</th>\n      <th>tags</th>\n      <th>nutrition</th>\n      <th>n_steps</th>\n      <th>steps</th>\n      <th>description</th>\n      <th>...</th>\n      <th>Calories (#)</th>\n      <th>Total Fat (PDV)</th>\n      <th>Sugar (PDV)</th>\n      <th>Sodium (PDV)</th>\n      <th>Protein (PDV)</th>\n      <th>Saturated Fat (PDV)</th>\n      <th>Carbohydrates (PDV)</th>\n      <th>Category</th>\n      <th>Diet</th>\n      <th>Health Goals</th>\n    </tr>\n  </thead>\n  <tbody>\n    <tr>\n      <th>22</th>\n      <td>crispy crunchy  chicken</td>\n      <td>83873</td>\n      <td>1</td>\n      <td>108291</td>\n      <td>2004-02-13</td>\n      <td>['60-minutes-or-less', 'time-to-make', 'course...</td>\n      <td>[335.8, 11.0, 2.0, 24.0, 64.0, 10.0, 10.0]</td>\n      <td>8</td>\n      <td>['combine soup , egg and seasoned salt in a bo...</td>\n      <td>delicious, crunchy fried chicken. this recipe ...</td>\n      <td>...</td>\n      <td>335.8</td>\n      <td>11.0</td>\n      <td>2.0</td>\n      <td>24.0</td>\n      <td>64.0</td>\n      <td>10.0</td>\n      <td>10.0</td>\n      <td>51</td>\n      <td>0</td>\n      <td>2.0</td>\n    </tr>\n    <tr>\n      <th>60</th>\n      <td>mexican pasta</td>\n      <td>60219</td>\n      <td>0</td>\n      <td>76846</td>\n      <td>2003-04-18</td>\n      <td>['30-minutes-or-less', 'time-to-make', 'course...</td>\n      <td>[325.3, 10.0, 11.0, 39.0, 26.0, 17.0, 17.0]</td>\n      <td>5</td>\n      <td>['boil pasta as directed on package', 'drain a...</td>\n      <td>made this as a side dish for mexican meatballs...</td>\n      <td>...</td>\n      <td>325.3</td>\n      <td>10.0</td>\n      <td>11.0</td>\n      <td>39.0</td>\n      <td>26.0</td>\n      <td>17.0</td>\n      <td>17.0</td>\n      <td>55</td>\n      <td>0</td>\n      <td>2.0</td>\n    </tr>\n    <tr>\n      <th>163</th>\n      <td>california roll   salad</td>\n      <td>318677</td>\n      <td>0</td>\n      <td>334242</td>\n      <td>2008-08-11</td>\n      <td>['15-minutes-or-less', 'time-to-make', 'course...</td>\n      <td>[455.7, 13.0, 38.0, 72.0, 34.0, 6.0, 26.0]</td>\n      <td>8</td>\n      <td>['prepare rice according to directions', 'pour...</td>\n      <td>this is a great light salad that can be your m...</td>\n      <td>...</td>\n      <td>455.7</td>\n      <td>13.0</td>\n      <td>38.0</td>\n      <td>72.0</td>\n      <td>34.0</td>\n      <td>6.0</td>\n      <td>26.0</td>\n      <td>50</td>\n      <td>0</td>\n      <td>2.0</td>\n    </tr>\n    <tr>\n      <th>227</th>\n      <td>leftover  lo mein for two</td>\n      <td>221049</td>\n      <td>0</td>\n      <td>356062</td>\n      <td>2007-04-06</td>\n      <td>['15-minutes-or-less', 'time-to-make', 'course...</td>\n      <td>[302.6, 9.0, 8.0, 18.0, 36.0, 8.0, 14.0]</td>\n      <td>2</td>\n      <td>['combine everything but pasta on stove top an...</td>\n      <td>nice dish made of left overs!</td>\n      <td>...</td>\n      <td>302.6</td>\n      <td>9.0</td>\n      <td>8.0</td>\n      <td>18.0</td>\n      <td>36.0</td>\n      <td>8.0</td>\n      <td>14.0</td>\n      <td>65</td>\n      <td>0</td>\n      <td>2.0</td>\n    </tr>\n    <tr>\n      <th>238</th>\n      <td>middle eastern   twice baked potatoes</td>\n      <td>120297</td>\n      <td>2</td>\n      <td>197023</td>\n      <td>2005-05-02</td>\n      <td>['time-to-make', 'course', 'main-ingredient', ...</td>\n      <td>[327.6, 11.0, 16.0, 14.0, 21.0, 6.0, 18.0]</td>\n      <td>14</td>\n      <td>['preheat the oven to 200c', 'wash the potatoe...</td>\n      <td>a delicious yet low-fat twice-baked potato sid...</td>\n      <td>...</td>\n      <td>327.6</td>\n      <td>11.0</td>\n      <td>16.0</td>\n      <td>14.0</td>\n      <td>21.0</td>\n      <td>6.0</td>\n      <td>18.0</td>\n      <td>167</td>\n      <td>2</td>\n      <td>0.0</td>\n    </tr>\n    <tr>\n      <th>...</th>\n      <td>...</td>\n      <td>...</td>\n      <td>...</td>\n      <td>...</td>\n      <td>...</td>\n      <td>...</td>\n      <td>...</td>\n      <td>...</td>\n      <td>...</td>\n      <td>...</td>\n      <td>...</td>\n      <td>...</td>\n      <td>...</td>\n      <td>...</td>\n      <td>...</td>\n      <td>...</td>\n      <td>...</td>\n      <td>...</td>\n      <td>...</td>\n      <td>...</td>\n      <td>...</td>\n    </tr>\n    <tr>\n      <th>231057</th>\n      <td>zucchini buffalo chili</td>\n      <td>227140</td>\n      <td>2</td>\n      <td>497465</td>\n      <td>2007-05-10</td>\n      <td>['lactose', 'time-to-make', 'course', 'main-in...</td>\n      <td>[350.0, 11.0, 62.0, 66.0, 66.0, 6.0, 14.0]</td>\n      <td>8</td>\n      <td>['heat a large soup pot over medium heat', 'ad...</td>\n      <td>last summer we were drowning in round french z...</td>\n      <td>...</td>\n      <td>350.0</td>\n      <td>11.0</td>\n      <td>62.0</td>\n      <td>66.0</td>\n      <td>66.0</td>\n      <td>6.0</td>\n      <td>14.0</td>\n      <td>57</td>\n      <td>0</td>\n      <td>2.0</td>\n    </tr>\n    <tr>\n      <th>231069</th>\n      <td>zucchini carbonara for two vegetarian</td>\n      <td>293301</td>\n      <td>0</td>\n      <td>37449</td>\n      <td>2008-03-21</td>\n      <td>['30-minutes-or-less', 'time-to-make', 'course...</td>\n      <td>[486.9, 15.0, 14.0, 5.0, 31.0, 18.0, 28.0]</td>\n      <td>10</td>\n      <td>['cook pasta in lots of boiling salted water f...</td>\n      <td>i just got a new cookbook, good cooking by jil...</td>\n      <td>...</td>\n      <td>486.9</td>\n      <td>15.0</td>\n      <td>14.0</td>\n      <td>5.0</td>\n      <td>31.0</td>\n      <td>18.0</td>\n      <td>28.0</td>\n      <td>210</td>\n      <td>2</td>\n      <td>2.0</td>\n    </tr>\n    <tr>\n      <th>231083</th>\n      <td>zucchini carrot raisin walnut bread</td>\n      <td>263811</td>\n      <td>2</td>\n      <td>559283</td>\n      <td>2007-11-07</td>\n      <td>['time-to-make', 'course', 'main-ingredient', ...</td>\n      <td>[586.0, 19.0, 259.0, 21.0, 21.0, 9.0, 37.0]</td>\n      <td>14</td>\n      <td>['preheat oven to 350 degrees', 'grease and fl...</td>\n      <td>lowfat</td>\n      <td>...</td>\n      <td>586.0</td>\n      <td>19.0</td>\n      <td>259.0</td>\n      <td>21.0</td>\n      <td>21.0</td>\n      <td>9.0</td>\n      <td>37.0</td>\n      <td>27</td>\n      <td>0</td>\n      <td>1.0</td>\n    </tr>\n    <tr>\n      <th>231594</th>\n      <td>zuppa my weight watcher version of the olive g...</td>\n      <td>328409</td>\n      <td>2</td>\n      <td>690050</td>\n      <td>2008-10-01</td>\n      <td>['time-to-make', 'course', 'preparation', 'occ...</td>\n      <td>[342.4, 10.0, 10.0, 39.0, 48.0, 8.0, 15.0]</td>\n      <td>7</td>\n      <td>['in a big soup pot', 'cook ground turkey with...</td>\n      <td>this is the way that i have made a low fat  ve...</td>\n      <td>...</td>\n      <td>342.4</td>\n      <td>10.0</td>\n      <td>10.0</td>\n      <td>39.0</td>\n      <td>48.0</td>\n      <td>8.0</td>\n      <td>15.0</td>\n      <td>52</td>\n      <td>0</td>\n      <td>2.0</td>\n    </tr>\n    <tr>\n      <th>231631</th>\n      <td>zydeco shrimp wrap</td>\n      <td>188810</td>\n      <td>1</td>\n      <td>37779</td>\n      <td>2006-10-03</td>\n      <td>['60-minutes-or-less', 'time-to-make', 'course...</td>\n      <td>[482.6, 13.0, 25.0, 37.0, 33.0, 9.0, 27.0]</td>\n      <td>14</td>\n      <td>['bring 3 quarts salted to water to a boil', '...</td>\n      <td>a wrap inspired by great cajun flavors</td>\n      <td>...</td>\n      <td>482.6</td>\n      <td>13.0</td>\n      <td>25.0</td>\n      <td>37.0</td>\n      <td>33.0</td>\n      <td>9.0</td>\n      <td>27.0</td>\n      <td>51</td>\n      <td>0</td>\n      <td>2.0</td>\n    </tr>\n  </tbody>\n</table>\n<p>5076 rows × 24 columns</p>\n</div>"
     },
     "execution_count": 310,
     "metadata": {},
     "output_type": "execute_result"
    }
   ],
   "source": [
    "df_recipes"
   ],
   "metadata": {
    "collapsed": false,
    "pycharm": {
     "name": "#%%\n"
    }
   }
  },
  {
   "cell_type": "code",
   "execution_count": 334,
   "outputs": [],
   "source": [
    "filepath = Path('updated_recipes.csv')\n",
    "filepath.parent.mkdir(parents=True, exist_ok=True)\n",
    "df_recipes.to_csv(filepath)"
   ],
   "metadata": {
    "collapsed": false,
    "pycharm": {
     "name": "#%%\n"
    }
   }
  },
  {
   "cell_type": "code",
   "execution_count": 311,
   "outputs": [],
   "source": [
    "df_recipes_corr = df_recipes.drop([\"name\", \"id\", \"contributor_id\", \"submitted\", \"tags\", \"nutrition\", \"n_steps\", \"steps\", \"description\", \"ingredients\", \"n_ingredients\", \"Vegetarian\", \"Calories (#)\", \"Total Fat (PDV)\", \"Sugar (PDV)\", \"Sodium (PDV)\", \"Protein (PDV)\", \"Saturated Fat (PDV)\", \"Carbohydrates (PDV)\"], axis=1)"
   ],
   "metadata": {
    "collapsed": false,
    "pycharm": {
     "name": "#%%\n"
    }
   }
  },
  {
   "cell_type": "code",
   "execution_count": 312,
   "outputs": [
    {
     "data": {
      "text/plain": "     minutes  Cuisine  Category  Diet  Health Goals\n22         1        0        51     0           2.0\n60         0        1        55     0           2.0\n163        0        0        50     0           2.0\n227        0        3        65     0           2.0\n238        2        3       167     2           0.0",
      "text/html": "<div>\n<style scoped>\n    .dataframe tbody tr th:only-of-type {\n        vertical-align: middle;\n    }\n\n    .dataframe tbody tr th {\n        vertical-align: top;\n    }\n\n    .dataframe thead th {\n        text-align: right;\n    }\n</style>\n<table border=\"1\" class=\"dataframe\">\n  <thead>\n    <tr style=\"text-align: right;\">\n      <th></th>\n      <th>minutes</th>\n      <th>Cuisine</th>\n      <th>Category</th>\n      <th>Diet</th>\n      <th>Health Goals</th>\n    </tr>\n  </thead>\n  <tbody>\n    <tr>\n      <th>22</th>\n      <td>1</td>\n      <td>0</td>\n      <td>51</td>\n      <td>0</td>\n      <td>2.0</td>\n    </tr>\n    <tr>\n      <th>60</th>\n      <td>0</td>\n      <td>1</td>\n      <td>55</td>\n      <td>0</td>\n      <td>2.0</td>\n    </tr>\n    <tr>\n      <th>163</th>\n      <td>0</td>\n      <td>0</td>\n      <td>50</td>\n      <td>0</td>\n      <td>2.0</td>\n    </tr>\n    <tr>\n      <th>227</th>\n      <td>0</td>\n      <td>3</td>\n      <td>65</td>\n      <td>0</td>\n      <td>2.0</td>\n    </tr>\n    <tr>\n      <th>238</th>\n      <td>2</td>\n      <td>3</td>\n      <td>167</td>\n      <td>2</td>\n      <td>0.0</td>\n    </tr>\n  </tbody>\n</table>\n</div>"
     },
     "execution_count": 312,
     "metadata": {},
     "output_type": "execute_result"
    }
   ],
   "source": [
    "df_recipes_corr.head()"
   ],
   "metadata": {
    "collapsed": false,
    "pycharm": {
     "name": "#%%\n"
    }
   }
  },
  {
   "cell_type": "code",
   "execution_count": 313,
   "outputs": [],
   "source": [
    "# index_id_list = list(range(len(df_recipes_corr)))\n",
    "# df_recipes_corr[\"id\"] = index_id_list\n",
    "# # df_recipes_corr.index = index_id_list\n",
    "# to_categorical(df_recipes_corr[\"id\"])"
   ],
   "metadata": {
    "collapsed": false,
    "pycharm": {
     "name": "#%%\n"
    }
   }
  },
  {
   "cell_type": "code",
   "execution_count": 314,
   "outputs": [
    {
     "data": {
      "text/plain": "<AxesSubplot:>"
     },
     "execution_count": 314,
     "metadata": {},
     "output_type": "execute_result"
    },
    {
     "data": {
      "text/plain": "<Figure size 1200x1200 with 2 Axes>",
      "image/png": "[encoded data removed]"
     },
     "metadata": {},
     "output_type": "display_data"
    }
   ],
   "source": [
    "fig, ax = plt.subplots(figsize=(12,12))\n",
    "sns.heatmap(df_recipes_corr.corr(), annot = True, vmin=-1, vmax=1, center= 0, ax=ax)"
   ],
   "metadata": {
    "collapsed": false,
    "pycharm": {
     "name": "#%%\n"
    }
   }
  },
  {
   "cell_type": "code",
   "execution_count": 315,
   "outputs": [],
   "source": [
    "mms = MinMaxScaler()\n",
    "\n",
    "for i, feature in enumerate(['minutes', 'Cuisine', 'Health Goals', 'Diet']):\n",
    "    df_recipes_corr[feature + ' mms'] = mms.fit_transform(df_recipes_corr[[feature]])\n",
    "    df_recipes_corr = df_recipes_corr.drop(feature, axis=1)"
   ],
   "metadata": {
    "collapsed": false,
    "pycharm": {
     "name": "#%%\n"
    }
   }
  },
  {
   "cell_type": "code",
   "execution_count": 316,
   "outputs": [],
   "source": [
    "X = df_recipes_corr.drop(\"Category\", axis=1)\n",
    "y_cat = to_categorical(df_recipes_corr[\"Category\"])\n",
    "\n",
    "X_train, X_test, y_train, y_test = train_test_split(X.values, y_cat, test_size=0.3, random_state=22)"
   ],
   "metadata": {
    "collapsed": false,
    "pycharm": {
     "name": "#%%\n"
    }
   }
  },
  {
   "cell_type": "code",
   "execution_count": 317,
   "outputs": [
    {
     "name": "stdout",
     "output_type": "stream",
     "text": [
      "[[0. 0. 0. ... 0. 0. 0.]\n",
      " [0. 0. 0. ... 0. 0. 0.]\n",
      " [0. 0. 0. ... 0. 0. 0.]\n",
      " ...\n",
      " [0. 0. 0. ... 0. 0. 0.]\n",
      " [0. 0. 0. ... 0. 0. 0.]\n",
      " [0. 0. 0. ... 0. 0. 0.]]\n"
     ]
    }
   ],
   "source": [
    "print(y_train)"
   ],
   "metadata": {
    "collapsed": false,
    "pycharm": {
     "name": "#%%\n"
    }
   }
  },
  {
   "cell_type": "code",
   "execution_count": 319,
   "outputs": [
    {
     "name": "stdout",
     "output_type": "stream",
     "text": [
      "Epoch 1/100\n",
      "32/32 - 0s - loss: 3.5381 - accuracy: 0.2083 - val_loss: 2.5992 - val_accuracy: 0.3820 - 480ms/epoch - 15ms/step\n",
      "Epoch 2/100\n",
      "32/32 - 0s - loss: 1.9824 - accuracy: 0.4936 - val_loss: 1.5826 - val_accuracy: 0.6152 - 127ms/epoch - 4ms/step\n",
      "Epoch 3/100\n",
      "32/32 - 0s - loss: 1.2874 - accuracy: 0.7335 - val_loss: 1.2005 - val_accuracy: 0.7135 - 120ms/epoch - 4ms/step\n",
      "Epoch 4/100\n",
      "32/32 - 0s - loss: 0.9214 - accuracy: 0.8045 - val_loss: 0.9983 - val_accuracy: 0.7865 - 120ms/epoch - 4ms/step\n",
      "Epoch 5/100\n",
      "32/32 - 0s - loss: 0.7206 - accuracy: 0.8505 - val_loss: 0.7204 - val_accuracy: 0.8118 - 130ms/epoch - 4ms/step\n",
      "Epoch 6/100\n",
      "32/32 - 0s - loss: 0.6104 - accuracy: 0.8617 - val_loss: 0.7870 - val_accuracy: 0.8455 - 130ms/epoch - 4ms/step\n",
      "Epoch 7/100\n",
      "32/32 - 0s - loss: 0.5033 - accuracy: 0.8980 - val_loss: 0.6102 - val_accuracy: 0.8792 - 136ms/epoch - 4ms/step\n",
      "Epoch 8/100\n",
      "32/32 - 0s - loss: 0.4166 - accuracy: 0.9206 - val_loss: 0.4669 - val_accuracy: 0.8933 - 113ms/epoch - 4ms/step\n",
      "Epoch 9/100\n",
      "32/32 - 0s - loss: 0.3523 - accuracy: 0.9290 - val_loss: 0.4356 - val_accuracy: 0.8961 - 110ms/epoch - 3ms/step\n",
      "Epoch 10/100\n",
      "32/32 - 0s - loss: 0.3009 - accuracy: 0.9409 - val_loss: 0.3217 - val_accuracy: 0.9466 - 110ms/epoch - 3ms/step\n",
      "Epoch 11/100\n",
      "32/32 - 0s - loss: 0.2841 - accuracy: 0.9449 - val_loss: 0.4020 - val_accuracy: 0.9382 - 120ms/epoch - 4ms/step\n",
      "Epoch 12/100\n",
      "32/32 - 0s - loss: 0.2473 - accuracy: 0.9518 - val_loss: 0.3918 - val_accuracy: 0.9326 - 110ms/epoch - 3ms/step\n",
      "Epoch 13/100\n",
      "32/32 - 0s - loss: 0.1863 - accuracy: 0.9612 - val_loss: 0.2217 - val_accuracy: 0.9747 - 111ms/epoch - 3ms/step\n",
      "Epoch 14/100\n",
      "32/32 - 0s - loss: 0.1742 - accuracy: 0.9665 - val_loss: 0.2744 - val_accuracy: 0.9635 - 110ms/epoch - 3ms/step\n",
      "Epoch 15/100\n",
      "32/32 - 0s - loss: 0.1263 - accuracy: 0.9740 - val_loss: 0.2212 - val_accuracy: 0.9663 - 120ms/epoch - 4ms/step\n",
      "Epoch 16/100\n",
      "32/32 - 0s - loss: 0.1396 - accuracy: 0.9706 - val_loss: 0.2494 - val_accuracy: 0.9663 - 110ms/epoch - 3ms/step\n",
      "Epoch 17/100\n",
      "32/32 - 0s - loss: 0.1211 - accuracy: 0.9744 - val_loss: 0.2072 - val_accuracy: 0.9831 - 110ms/epoch - 3ms/step\n",
      "Epoch 18/100\n",
      "32/32 - 0s - loss: 0.0999 - accuracy: 0.9809 - val_loss: 0.2363 - val_accuracy: 0.9719 - 110ms/epoch - 3ms/step\n",
      "Epoch 19/100\n",
      "32/32 - 0s - loss: 0.0945 - accuracy: 0.9812 - val_loss: 0.2153 - val_accuracy: 0.9831 - 120ms/epoch - 4ms/step\n",
      "Epoch 20/100\n",
      "32/32 - 0s - loss: 0.0838 - accuracy: 0.9844 - val_loss: 0.1998 - val_accuracy: 0.9888 - 110ms/epoch - 3ms/step\n",
      "Epoch 21/100\n",
      "32/32 - 0s - loss: 0.0668 - accuracy: 0.9862 - val_loss: 0.1922 - val_accuracy: 0.9916 - 116ms/epoch - 4ms/step\n",
      "Epoch 22/100\n",
      "32/32 - 0s - loss: 0.0717 - accuracy: 0.9869 - val_loss: 0.1737 - val_accuracy: 0.9888 - 108ms/epoch - 3ms/step\n",
      "Epoch 23/100\n",
      "32/32 - 0s - loss: 0.0505 - accuracy: 0.9900 - val_loss: 0.1662 - val_accuracy: 0.9944 - 120ms/epoch - 4ms/step\n",
      "Epoch 24/100\n",
      "32/32 - 0s - loss: 0.0449 - accuracy: 0.9909 - val_loss: 0.2067 - val_accuracy: 0.9803 - 110ms/epoch - 3ms/step\n",
      "Epoch 25/100\n",
      "32/32 - 0s - loss: 0.0571 - accuracy: 0.9865 - val_loss: 0.1952 - val_accuracy: 0.9860 - 110ms/epoch - 3ms/step\n",
      "Epoch 26/100\n",
      "32/32 - 0s - loss: 0.0452 - accuracy: 0.9922 - val_loss: 0.1656 - val_accuracy: 0.9944 - 111ms/epoch - 3ms/step\n",
      "Epoch 27/100\n",
      "32/32 - 0s - loss: 0.0416 - accuracy: 0.9925 - val_loss: 0.1692 - val_accuracy: 0.9888 - 119ms/epoch - 4ms/step\n",
      "Epoch 28/100\n",
      "32/32 - 0s - loss: 0.0369 - accuracy: 0.9909 - val_loss: 0.1701 - val_accuracy: 0.9916 - 125ms/epoch - 4ms/step\n",
      "Epoch 29/100\n",
      "32/32 - 0s - loss: 0.0483 - accuracy: 0.9894 - val_loss: 0.1914 - val_accuracy: 0.9916 - 116ms/epoch - 4ms/step\n",
      "Epoch 30/100\n",
      "32/32 - 0s - loss: 0.0500 - accuracy: 0.9906 - val_loss: 0.1737 - val_accuracy: 0.9972 - 114ms/epoch - 4ms/step\n",
      "Epoch 31/100\n",
      "32/32 - 0s - loss: 0.0436 - accuracy: 0.9928 - val_loss: 0.1795 - val_accuracy: 0.9916 - 111ms/epoch - 3ms/step\n",
      "Epoch 32/100\n",
      "32/32 - 0s - loss: 0.0325 - accuracy: 0.9950 - val_loss: 0.1876 - val_accuracy: 0.9888 - 115ms/epoch - 4ms/step\n",
      "Epoch 33/100\n",
      "32/32 - 0s - loss: 0.0429 - accuracy: 0.9922 - val_loss: 0.1857 - val_accuracy: 0.9860 - 120ms/epoch - 4ms/step\n",
      "Epoch 34/100\n",
      "32/32 - 0s - loss: 0.0371 - accuracy: 0.9934 - val_loss: 0.1875 - val_accuracy: 0.9831 - 110ms/epoch - 3ms/step\n",
      "Epoch 35/100\n",
      "32/32 - 0s - loss: 0.0304 - accuracy: 0.9947 - val_loss: 0.1783 - val_accuracy: 0.9944 - 111ms/epoch - 3ms/step\n",
      "Epoch 36/100\n",
      "32/32 - 0s - loss: 0.0209 - accuracy: 0.9972 - val_loss: 0.1658 - val_accuracy: 0.9972 - 119ms/epoch - 4ms/step\n",
      "Epoch 37/100\n",
      "32/32 - 0s - loss: 0.0160 - accuracy: 0.9975 - val_loss: 0.1729 - val_accuracy: 0.9972 - 110ms/epoch - 3ms/step\n",
      "Epoch 38/100\n",
      "32/32 - 0s - loss: 0.0112 - accuracy: 0.9978 - val_loss: 0.1745 - val_accuracy: 0.9916 - 110ms/epoch - 3ms/step\n",
      "Epoch 39/100\n",
      "32/32 - 0s - loss: 0.0140 - accuracy: 0.9975 - val_loss: 0.1783 - val_accuracy: 0.9972 - 98ms/epoch - 3ms/step\n",
      "Epoch 40/100\n",
      "32/32 - 0s - loss: 0.0123 - accuracy: 0.9978 - val_loss: 0.1763 - val_accuracy: 0.9916 - 110ms/epoch - 3ms/step\n",
      "Epoch 41/100\n",
      "32/32 - 0s - loss: 0.0192 - accuracy: 0.9984 - val_loss: 0.1786 - val_accuracy: 0.9972 - 116ms/epoch - 4ms/step\n",
      "Epoch 42/100\n",
      "32/32 - 0s - loss: 0.0125 - accuracy: 0.9981 - val_loss: 0.2010 - val_accuracy: 0.9944 - 115ms/epoch - 4ms/step\n",
      "Epoch 43/100\n",
      "32/32 - 0s - loss: 0.0168 - accuracy: 0.9981 - val_loss: 0.1738 - val_accuracy: 0.9972 - 118ms/epoch - 4ms/step\n",
      "Epoch 44/100\n",
      "32/32 - 0s - loss: 0.0061 - accuracy: 0.9991 - val_loss: 0.1738 - val_accuracy: 0.9972 - 115ms/epoch - 4ms/step\n",
      "Epoch 45/100\n",
      "32/32 - 0s - loss: 0.0106 - accuracy: 0.9987 - val_loss: 0.1753 - val_accuracy: 0.9972 - 115ms/epoch - 4ms/step\n",
      "Epoch 46/100\n",
      "32/32 - 0s - loss: 0.0087 - accuracy: 0.9978 - val_loss: 0.1796 - val_accuracy: 0.9972 - 126ms/epoch - 4ms/step\n",
      "Epoch 47/100\n",
      "32/32 - 0s - loss: 0.0076 - accuracy: 0.9981 - val_loss: 0.1794 - val_accuracy: 0.9972 - 134ms/epoch - 4ms/step\n",
      "Epoch 48/100\n",
      "32/32 - 0s - loss: 0.0087 - accuracy: 0.9987 - val_loss: 0.1749 - val_accuracy: 0.9972 - 116ms/epoch - 4ms/step\n",
      "Epoch 49/100\n",
      "32/32 - 0s - loss: 0.0068 - accuracy: 0.9984 - val_loss: 0.1863 - val_accuracy: 0.9944 - 130ms/epoch - 4ms/step\n",
      "Epoch 50/100\n",
      "32/32 - 0s - loss: 0.0107 - accuracy: 0.9978 - val_loss: 0.1881 - val_accuracy: 0.9944 - 127ms/epoch - 4ms/step\n",
      "Epoch 51/100\n",
      "32/32 - 0s - loss: 0.0117 - accuracy: 0.9972 - val_loss: 0.1958 - val_accuracy: 0.9944 - 123ms/epoch - 4ms/step\n",
      "Epoch 52/100\n",
      "32/32 - 0s - loss: 0.0168 - accuracy: 0.9962 - val_loss: 0.1887 - val_accuracy: 0.9972 - 120ms/epoch - 4ms/step\n",
      "Epoch 53/100\n",
      "32/32 - 0s - loss: 0.0281 - accuracy: 0.9962 - val_loss: 0.1894 - val_accuracy: 0.9972 - 120ms/epoch - 4ms/step\n",
      "Epoch 54/100\n",
      "32/32 - 0s - loss: 0.0193 - accuracy: 0.9956 - val_loss: 0.2759 - val_accuracy: 0.9860 - 120ms/epoch - 4ms/step\n",
      "Epoch 55/100\n",
      "32/32 - 0s - loss: 0.1056 - accuracy: 0.9831 - val_loss: 0.3050 - val_accuracy: 0.9747 - 132ms/epoch - 4ms/step\n",
      "Epoch 56/100\n",
      "32/32 - 0s - loss: 0.2360 - accuracy: 0.9546 - val_loss: 0.5707 - val_accuracy: 0.9410 - 125ms/epoch - 4ms/step\n",
      "Epoch 57/100\n",
      "32/32 - 0s - loss: 0.3050 - accuracy: 0.9603 - val_loss: 0.4673 - val_accuracy: 0.9663 - 120ms/epoch - 4ms/step\n",
      "Epoch 58/100\n",
      "32/32 - 0s - loss: 0.2322 - accuracy: 0.9615 - val_loss: 0.3384 - val_accuracy: 0.9803 - 120ms/epoch - 4ms/step\n",
      "Epoch 59/100\n",
      "32/32 - 0s - loss: 0.1300 - accuracy: 0.9781 - val_loss: 0.2293 - val_accuracy: 0.9916 - 134ms/epoch - 4ms/step\n",
      "Epoch 60/100\n",
      "32/32 - 0s - loss: 0.1025 - accuracy: 0.9844 - val_loss: 0.3230 - val_accuracy: 0.9803 - 126ms/epoch - 4ms/step\n",
      "Epoch 61/100\n",
      "32/32 - 0s - loss: 0.0487 - accuracy: 0.9916 - val_loss: 0.2225 - val_accuracy: 0.9972 - 130ms/epoch - 4ms/step\n",
      "Epoch 62/100\n",
      "32/32 - 0s - loss: 0.0276 - accuracy: 0.9953 - val_loss: 0.2328 - val_accuracy: 0.9916 - 125ms/epoch - 4ms/step\n",
      "Epoch 63/100\n",
      "32/32 - 0s - loss: 0.0200 - accuracy: 0.9950 - val_loss: 0.2126 - val_accuracy: 0.9972 - 121ms/epoch - 4ms/step\n",
      "Epoch 64/100\n",
      "32/32 - 0s - loss: 0.0178 - accuracy: 0.9959 - val_loss: 0.2225 - val_accuracy: 0.9972 - 130ms/epoch - 4ms/step\n",
      "Epoch 65/100\n",
      "32/32 - 0s - loss: 0.0198 - accuracy: 0.9969 - val_loss: 0.2229 - val_accuracy: 0.9944 - 134ms/epoch - 4ms/step\n",
      "Epoch 66/100\n",
      "32/32 - 0s - loss: 0.0143 - accuracy: 0.9972 - val_loss: 0.2184 - val_accuracy: 0.9972 - 128ms/epoch - 4ms/step\n",
      "Epoch 67/100\n",
      "32/32 - 0s - loss: 0.0063 - accuracy: 0.9984 - val_loss: 0.2171 - val_accuracy: 0.9972 - 128ms/epoch - 4ms/step\n",
      "Epoch 68/100\n",
      "32/32 - 0s - loss: 0.0071 - accuracy: 0.9984 - val_loss: 0.2178 - val_accuracy: 0.9972 - 130ms/epoch - 4ms/step\n",
      "Epoch 69/100\n",
      "32/32 - 0s - loss: 0.0088 - accuracy: 0.9984 - val_loss: 0.2196 - val_accuracy: 0.9972 - 124ms/epoch - 4ms/step\n",
      "Epoch 70/100\n",
      "32/32 - 0s - loss: 0.0062 - accuracy: 0.9987 - val_loss: 0.2189 - val_accuracy: 0.9972 - 127ms/epoch - 4ms/step\n",
      "Epoch 71/100\n",
      "32/32 - 0s - loss: 0.0115 - accuracy: 0.9984 - val_loss: 0.2250 - val_accuracy: 0.9972 - 128ms/epoch - 4ms/step\n",
      "Epoch 72/100\n",
      "32/32 - 0s - loss: 0.0069 - accuracy: 0.9987 - val_loss: 0.2188 - val_accuracy: 0.9972 - 120ms/epoch - 4ms/step\n",
      "Epoch 73/100\n",
      "32/32 - 0s - loss: 0.0057 - accuracy: 0.9987 - val_loss: 0.2217 - val_accuracy: 0.9972 - 120ms/epoch - 4ms/step\n",
      "Epoch 74/100\n",
      "32/32 - 0s - loss: 0.0025 - accuracy: 0.9991 - val_loss: 0.2196 - val_accuracy: 0.9972 - 130ms/epoch - 4ms/step\n",
      "Epoch 75/100\n",
      "32/32 - 0s - loss: 0.0077 - accuracy: 0.9991 - val_loss: 0.2211 - val_accuracy: 0.9972 - 130ms/epoch - 4ms/step\n",
      "Epoch 76/100\n",
      "32/32 - 0s - loss: 0.0064 - accuracy: 0.9991 - val_loss: 0.2223 - val_accuracy: 0.9972 - 127ms/epoch - 4ms/step\n",
      "Epoch 77/100\n",
      "32/32 - 0s - loss: 0.0029 - accuracy: 0.9994 - val_loss: 0.2198 - val_accuracy: 0.9972 - 122ms/epoch - 4ms/step\n",
      "Epoch 78/100\n",
      "32/32 - 0s - loss: 0.0055 - accuracy: 0.9994 - val_loss: 0.2222 - val_accuracy: 0.9972 - 115ms/epoch - 4ms/step\n",
      "Epoch 79/100\n",
      "32/32 - 0s - loss: 5.9653e-04 - accuracy: 0.9997 - val_loss: 0.2214 - val_accuracy: 0.9972 - 120ms/epoch - 4ms/step\n",
      "Epoch 80/100\n",
      "32/32 - 0s - loss: 0.0026 - accuracy: 0.9997 - val_loss: 0.2193 - val_accuracy: 0.9972 - 120ms/epoch - 4ms/step\n",
      "Epoch 81/100\n",
      "32/32 - 0s - loss: 5.5955e-04 - accuracy: 0.9997 - val_loss: 0.2198 - val_accuracy: 0.9972 - 120ms/epoch - 4ms/step\n",
      "Epoch 82/100\n",
      "32/32 - 0s - loss: 7.2018e-04 - accuracy: 0.9997 - val_loss: 0.2196 - val_accuracy: 0.9972 - 120ms/epoch - 4ms/step\n",
      "Epoch 83/100\n",
      "32/32 - 0s - loss: 6.9005e-04 - accuracy: 0.9997 - val_loss: 0.2233 - val_accuracy: 0.9972 - 120ms/epoch - 4ms/step\n",
      "Epoch 84/100\n",
      "32/32 - 0s - loss: 0.0036 - accuracy: 0.9997 - val_loss: 0.2190 - val_accuracy: 0.9972 - 126ms/epoch - 4ms/step\n",
      "Epoch 85/100\n",
      "32/32 - 0s - loss: 0.0028 - accuracy: 0.9994 - val_loss: 0.2197 - val_accuracy: 0.9972 - 124ms/epoch - 4ms/step\n",
      "Epoch 86/100\n",
      "32/32 - 0s - loss: 0.0014 - accuracy: 0.9994 - val_loss: 0.2229 - val_accuracy: 0.9972 - 117ms/epoch - 4ms/step\n",
      "Epoch 87/100\n",
      "32/32 - 0s - loss: 0.0074 - accuracy: 0.9997 - val_loss: 0.2185 - val_accuracy: 0.9972 - 121ms/epoch - 4ms/step\n",
      "Epoch 88/100\n",
      "32/32 - 0s - loss: 1.5759e-04 - accuracy: 1.0000 - val_loss: 0.2172 - val_accuracy: 0.9972 - 124ms/epoch - 4ms/step\n",
      "Epoch 89/100\n",
      "32/32 - 0s - loss: 9.3740e-05 - accuracy: 1.0000 - val_loss: 0.2176 - val_accuracy: 0.9972 - 126ms/epoch - 4ms/step\n",
      "Epoch 90/100\n",
      "32/32 - 0s - loss: 7.8620e-05 - accuracy: 1.0000 - val_loss: 0.2177 - val_accuracy: 0.9972 - 130ms/epoch - 4ms/step\n",
      "Epoch 91/100\n",
      "32/32 - 0s - loss: 7.2535e-05 - accuracy: 1.0000 - val_loss: 0.2176 - val_accuracy: 0.9972 - 124ms/epoch - 4ms/step\n",
      "Epoch 92/100\n",
      "32/32 - 0s - loss: 6.9097e-05 - accuracy: 1.0000 - val_loss: 0.2176 - val_accuracy: 0.9972 - 120ms/epoch - 4ms/step\n",
      "Epoch 93/100\n",
      "32/32 - 0s - loss: 6.6575e-05 - accuracy: 1.0000 - val_loss: 0.2175 - val_accuracy: 0.9972 - 130ms/epoch - 4ms/step\n",
      "Epoch 94/100\n",
      "32/32 - 0s - loss: 6.4657e-05 - accuracy: 1.0000 - val_loss: 0.2175 - val_accuracy: 0.9972 - 120ms/epoch - 4ms/step\n",
      "Epoch 95/100\n",
      "32/32 - 0s - loss: 6.2991e-05 - accuracy: 1.0000 - val_loss: 0.2174 - val_accuracy: 0.9972 - 133ms/epoch - 4ms/step\n",
      "Epoch 96/100\n",
      "32/32 - 0s - loss: 6.1382e-05 - accuracy: 1.0000 - val_loss: 0.2173 - val_accuracy: 0.9972 - 117ms/epoch - 4ms/step\n",
      "Epoch 97/100\n",
      "32/32 - 0s - loss: 6.0037e-05 - accuracy: 1.0000 - val_loss: 0.2173 - val_accuracy: 0.9972 - 119ms/epoch - 4ms/step\n",
      "Epoch 98/100\n",
      "32/32 - 0s - loss: 5.8895e-05 - accuracy: 1.0000 - val_loss: 0.2172 - val_accuracy: 0.9972 - 130ms/epoch - 4ms/step\n",
      "Epoch 99/100\n",
      "32/32 - 0s - loss: 5.7800e-05 - accuracy: 1.0000 - val_loss: 0.2171 - val_accuracy: 0.9972 - 121ms/epoch - 4ms/step\n",
      "Epoch 100/100\n",
      "32/32 - 0s - loss: 5.6849e-05 - accuracy: 1.0000 - val_loss: 0.2171 - val_accuracy: 0.9972 - 122ms/epoch - 4ms/step\n"
     ]
    },
    {
     "data": {
      "text/plain": "<keras.callbacks.History at 0x1995f578d60>"
     },
     "execution_count": 319,
     "metadata": {},
     "output_type": "execute_result"
    }
   ],
   "source": [
    "model = Sequential()\n",
    "model.add(Dense(6, input_shape=(4,), activation='tanh'))\n",
    "model.add(Dense(36, activation='tanh'))\n",
    "model.add(Dense(1296, activation='tanh'))\n",
    "model.add(Dense(225, activation='softmax'))\n",
    "model.compile(Adam(learning_rate=0.003),\n",
    "              loss='categorical_crossentropy',\n",
    "              metrics=['accuracy'])\n",
    "\n",
    "history = model.fit(X_train, y_train, epochs=100,\n",
    "            validation_split=0.1, batch_size=100,\n",
    "            verbose=2)\n",
    "history\n"
   ],
   "metadata": {
    "collapsed": false,
    "pycharm": {
     "name": "#%%\n"
    }
   }
  },
  {
   "cell_type": "code",
   "execution_count": 320,
   "outputs": [
    {
     "name": "stdout",
     "output_type": "stream",
     "text": [
      "48/48 [==============================] - 0s 1ms/step - loss: 0.6157 - accuracy: 0.9915\n"
     ]
    },
    {
     "data": {
      "text/plain": "[0.6157119870185852, 0.9914641976356506]"
     },
     "execution_count": 320,
     "metadata": {},
     "output_type": "execute_result"
    }
   ],
   "source": [
    "result = model.evaluate(X_test, y_test)\n",
    "result"
   ],
   "metadata": {
    "collapsed": false,
    "pycharm": {
     "name": "#%%\n"
    }
   }
  },
  {
   "cell_type": "code",
   "execution_count": 321,
   "outputs": [],
   "source": [
    "model.save('model.h5')"
   ],
   "metadata": {
    "collapsed": false,
    "pycharm": {
     "name": "#%%\n"
    }
   }
  },
  {
   "cell_type": "code",
   "execution_count": 327,
   "outputs": [
    {
     "data": {
      "text/plain": "array([[0.25, 0.75, 1.  , 0.  ],\n       [1.  , 0.5 , 0.5 , 1.  ],\n       [0.  , 0.  , 1.  , 0.  ],\n       ...,\n       [0.  , 0.25, 1.  , 0.  ],\n       [0.5 , 0.75, 1.  , 0.  ],\n       [0.  , 0.  , 0.5 , 0.  ]])"
     },
     "execution_count": 327,
     "metadata": {},
     "output_type": "execute_result"
    }
   ],
   "source": [
    "X_test"
   ],
   "metadata": {
    "collapsed": false,
    "pycharm": {
     "name": "#%%\n"
    }
   }
  },
  {
   "cell_type": "code",
   "execution_count": 329,
   "outputs": [
    {
     "name": "stdout",
     "output_type": "stream",
     "text": [
      "48/48 [==============================] - 0s 1ms/step\n"
     ]
    },
    {
     "data": {
      "text/plain": "1.0"
     },
     "execution_count": 329,
     "metadata": {},
     "output_type": "execute_result"
    }
   ],
   "source": [
    "recipe = model.predict(X_test)\n",
    "recipe"
   ],
   "metadata": {
    "collapsed": false,
    "pycharm": {
     "name": "#%%\n"
    }
   }
  },
  {
   "cell_type": "code",
   "execution_count": 197,
   "outputs": [
    {
     "data": {
      "text/plain": "DecisionTreeClassifier()",
      "text/html": "<style>#sk-container-id-17 {color: black;background-color: white;}#sk-container-id-17 pre{padding: 0;}#sk-container-id-17 div.sk-toggleable {background-color: white;}#sk-container-id-17 label.sk-toggleable__label {cursor: pointer;display: block;width: 100%;margin-bottom: 0;padding: 0.3em;box-sizing: border-box;text-align: center;}#sk-container-id-17 label.sk-toggleable__label-arrow:before {content: \"▸\";float: left;margin-right: 0.25em;color: #696969;}#sk-container-id-17 label.sk-toggleable__label-arrow:hover:before {color: black;}#sk-container-id-17 div.sk-estimator:hover label.sk-toggleable__label-arrow:before {color: black;}#sk-container-id-17 div.sk-toggleable__content {max-height: 0;max-width: 0;overflow: hidden;text-align: left;background-color: #f0f8ff;}#sk-container-id-17 div.sk-toggleable__content pre {margin: 0.2em;color: black;border-radius: 0.25em;background-color: #f0f8ff;}#sk-container-id-17 input.sk-toggleable__control:checked~div.sk-toggleable__content {max-height: 200px;max-width: 100%;overflow: auto;}#sk-container-id-17 input.sk-toggleable__control:checked~label.sk-toggleable__label-arrow:before {content: \"▾\";}#sk-container-id-17 div.sk-estimator input.sk-toggleable__control:checked~label.sk-toggleable__label {background-color: #d4ebff;}#sk-container-id-17 div.sk-label input.sk-toggleable__control:checked~label.sk-toggleable__label {background-color: #d4ebff;}#sk-container-id-17 input.sk-hidden--visually {border: 0;clip: rect(1px 1px 1px 1px);clip: rect(1px, 1px, 1px, 1px);height: 1px;margin: -1px;overflow: hidden;padding: 0;position: absolute;width: 1px;}#sk-container-id-17 div.sk-estimator {font-family: monospace;background-color: #f0f8ff;border: 1px dotted black;border-radius: 0.25em;box-sizing: border-box;margin-bottom: 0.5em;}#sk-container-id-17 div.sk-estimator:hover {background-color: #d4ebff;}#sk-container-id-17 div.sk-parallel-item::after {content: \"\";width: 100%;border-bottom: 1px solid gray;flex-grow: 1;}#sk-container-id-17 div.sk-label:hover label.sk-toggleable__label {background-color: #d4ebff;}#sk-container-id-17 div.sk-serial::before {content: \"\";position: absolute;border-left: 1px solid gray;box-sizing: border-box;top: 0;bottom: 0;left: 50%;z-index: 0;}#sk-container-id-17 div.sk-serial {display: flex;flex-direction: column;align-items: center;background-color: white;padding-right: 0.2em;padding-left: 0.2em;position: relative;}#sk-container-id-17 div.sk-item {position: relative;z-index: 1;}#sk-container-id-17 div.sk-parallel {display: flex;align-items: stretch;justify-content: center;background-color: white;position: relative;}#sk-container-id-17 div.sk-item::before, #sk-container-id-17 div.sk-parallel-item::before {content: \"\";position: absolute;border-left: 1px solid gray;box-sizing: border-box;top: 0;bottom: 0;left: 50%;z-index: -1;}#sk-container-id-17 div.sk-parallel-item {display: flex;flex-direction: column;z-index: 1;position: relative;background-color: white;}#sk-container-id-17 div.sk-parallel-item:first-child::after {align-self: flex-end;width: 50%;}#sk-container-id-17 div.sk-parallel-item:last-child::after {align-self: flex-start;width: 50%;}#sk-container-id-17 div.sk-parallel-item:only-child::after {width: 0;}#sk-container-id-17 div.sk-dashed-wrapped {border: 1px dashed gray;margin: 0 0.4em 0.5em 0.4em;box-sizing: border-box;padding-bottom: 0.4em;background-color: white;}#sk-container-id-17 div.sk-label label {font-family: monospace;font-weight: bold;display: inline-block;line-height: 1.2em;}#sk-container-id-17 div.sk-label-container {text-align: center;}#sk-container-id-17 div.sk-container {/* jupyter's `normalize.less` sets `[hidden] { display: none; }` but bootstrap.min.css set `[hidden] { display: none !important; }` so we also need the `!important` here to be able to override the default hidden behavior on the sphinx rendered scikit-learn.org. See: https://github.com/scikit-learn/scikit-learn/issues/21755 */display: inline-block !important;position: relative;}#sk-container-id-17 div.sk-text-repr-fallback {display: none;}</style><div id=\"sk-container-id-17\" class=\"sk-top-container\"><div class=\"sk-text-repr-fallback\"><pre>DecisionTreeClassifier()</pre><b>In a Jupyter environment, please rerun this cell to show the HTML representation or trust the notebook. <br />On GitHub, the HTML representation is unable to render, please try loading this page with nbviewer.org.</b></div><div class=\"sk-container\" hidden><div class=\"sk-item\"><div class=\"sk-estimator sk-toggleable\"><input class=\"sk-toggleable__control sk-hidden--visually\" id=\"sk-estimator-id-17\" type=\"checkbox\" checked><label for=\"sk-estimator-id-17\" class=\"sk-toggleable__label sk-toggleable__label-arrow\">DecisionTreeClassifier</label><div class=\"sk-toggleable__content\"><pre>DecisionTreeClassifier()</pre></div></div></div></div></div>"
     },
     "execution_count": 197,
     "metadata": {},
     "output_type": "execute_result"
    }
   ],
   "source": [
    "# def compute_auroc(truth, prediction):\n",
    "#     fpr, tpr, thresholds = metrics.roc_curve(truth, prediction, pos_label=1)\n",
    "#     return metrics.auc(fpr, tpr)\n",
    "#\n",
    "# def plot_auroc(truth, predictions):\n",
    "#     fpr, tpr, threshold = metrics.roc_curve(truth, predictions)\n",
    "#     roc_auc = metrics.auc(fpr, tpr)\n",
    "#\n",
    "#     # method I: plt\n",
    "#     import matplotlib.pyplot as plt\n",
    "#     plt.title('Receiver Operating Characteristic')\n",
    "#     plt.plot(fpr, tpr, 'b', label = 'AUC = %0.2f' % roc_auc)\n",
    "#     plt.legend(loc = 'lower right')\n",
    "#     plt.plot([0, 1], [0, 1],'r--')\n",
    "#     plt.xlim([0, 1])\n",
    "#     plt.ylim([0, 1])\n",
    "#     plt.ylabel('True Positive Rate')\n",
    "#     plt.xlabel('False Positive Rate')\n",
    "#     plt.show()\n",
    "#\n",
    "# def apply_model(model, features, validation_function = compute_auroc, print_to_screen = True, show_auroc = False):\n",
    "#     pred_tree_train = model.predict_proba(X_train)\n",
    "#     pred_tree_test = model.predict_proba(X_test)\n",
    "#\n",
    "#     pred_churn_tree_train = pd.Series(map(lambda x: x[0], pred_tree_train))\n",
    "#     pred_churn_tree_test = pd.Series(map(lambda x: x[0], pred_tree_test))\n",
    "#\n",
    "#     validation_result_train = validation_function(y_train, pred_churn_tree_train)\n",
    "#     validation_result_test = validation_function(y_test, pred_churn_tree_test)\n",
    "#\n",
    "#     if(print_to_screen):\n",
    "#         print( \"Result on trainset:\" )\n",
    "#         print( validation_result_train )\n",
    "#         print()\n",
    "#         print( \"Result on testset:\" )\n",
    "#         print( validation_result_test )\n",
    "#     if(show_auroc):\n",
    "#         plot_auroc(y_test, pred_churn_tree_test)\n",
    "#\n",
    "#     return (validation_result_train, validation_result_test)\n",
    "#\n",
    "# def plot_tree(model, features):\n",
    "#     # Generate plot data\n",
    "#     dot_data = tree.export_graphviz(model, out_file=None,\n",
    "#                           feature_names=features,\n",
    "#                           class_names=['High Grade', 'Medium Grade', 'Low Grade'],\n",
    "#                           filled=True, rounded=True,\n",
    "#                           special_characters=True)\n",
    "#\n",
    "#     # Turn into graph using graphviz\n",
    "#     graph = graphviz.Source(dot_data)\n",
    "#\n",
    "#     # Write out a pdf\n",
    "#     graph.render(\"decision_tree\")\n",
    "#\n",
    "#     # Display in the notebook\n",
    "#     return graph\n",
    "#\n",
    "# from sklearn.tree import DecisionTreeClassifier\n",
    "#\n",
    "# dt = DecisionTreeClassifier()\n",
    "# dt.fit(X_train, y_train)"
   ],
   "metadata": {
    "collapsed": false,
    "pycharm": {
     "name": "#%%\n"
    }
   }
  },
  {
   "cell_type": "code",
   "execution_count": 198,
   "outputs": [],
   "source": [
    "# # joblib.dump(dt,'model.h5')"
   ],
   "metadata": {
    "collapsed": false,
    "pycharm": {
     "name": "#%%\n"
    }
   }
  },
  {
   "cell_type": "code",
   "execution_count": 199,
   "outputs": [
    {
     "name": "stdout",
     "output_type": "stream",
     "text": [
      "Result on trainset:\n",
      "nan\n",
      "\n",
      "Result on testset:\n",
      "0.43988173455978974\n"
     ]
    },
    {
     "name": "stderr",
     "output_type": "stream",
     "text": [
      "C:\\Users\\Gebruiker\\anaconda3\\envs\\food\\lib\\site-packages\\sklearn\\metrics\\_ranking.py:1018: UndefinedMetricWarning: No positive samples in y_true, true positive value should be meaningless\n",
      "  warnings.warn(\n"
     ]
    },
    {
     "ename": "ValueError",
     "evalue": "multiclass format is not supported",
     "output_type": "error",
     "traceback": [
      "\u001B[1;31m---------------------------------------------------------------------------\u001B[0m",
      "\u001B[1;31mValueError\u001B[0m                                Traceback (most recent call last)",
      "Input \u001B[1;32mIn [199]\u001B[0m, in \u001B[0;36m<cell line: 1>\u001B[1;34m()\u001B[0m\n\u001B[1;32m----> 1\u001B[0m \u001B[43mapply_model\u001B[49m\u001B[43m(\u001B[49m\u001B[43mdt\u001B[49m\u001B[43m,\u001B[49m\u001B[43m \u001B[49m\u001B[43m[\u001B[49m\u001B[43m]\u001B[49m\u001B[43m,\u001B[49m\u001B[43m \u001B[49m\u001B[43mshow_auroc\u001B[49m\u001B[38;5;241;43m=\u001B[39;49m\u001B[38;5;28;43;01mTrue\u001B[39;49;00m\u001B[43m)\u001B[49m\n",
      "Input \u001B[1;32mIn [197]\u001B[0m, in \u001B[0;36mapply_model\u001B[1;34m(model, features, validation_function, print_to_screen, show_auroc)\u001B[0m\n\u001B[0;32m     36\u001B[0m     \u001B[38;5;28mprint\u001B[39m( validation_result_test )\n\u001B[0;32m     37\u001B[0m \u001B[38;5;28;01mif\u001B[39;00m(show_auroc):\n\u001B[1;32m---> 38\u001B[0m     \u001B[43mplot_auroc\u001B[49m\u001B[43m(\u001B[49m\u001B[43my_test\u001B[49m\u001B[43m,\u001B[49m\u001B[43m \u001B[49m\u001B[43mpred_churn_tree_test\u001B[49m\u001B[43m)\u001B[49m\n\u001B[0;32m     40\u001B[0m \u001B[38;5;28;01mreturn\u001B[39;00m (validation_result_train, validation_result_test)\n",
      "Input \u001B[1;32mIn [197]\u001B[0m, in \u001B[0;36mplot_auroc\u001B[1;34m(truth, predictions)\u001B[0m\n\u001B[0;32m      5\u001B[0m \u001B[38;5;28;01mdef\u001B[39;00m \u001B[38;5;21mplot_auroc\u001B[39m(truth, predictions):\n\u001B[1;32m----> 6\u001B[0m     fpr, tpr, threshold \u001B[38;5;241m=\u001B[39m \u001B[43mmetrics\u001B[49m\u001B[38;5;241;43m.\u001B[39;49m\u001B[43mroc_curve\u001B[49m\u001B[43m(\u001B[49m\u001B[43mtruth\u001B[49m\u001B[43m,\u001B[49m\u001B[43m \u001B[49m\u001B[43mpredictions\u001B[49m\u001B[43m)\u001B[49m\n\u001B[0;32m      7\u001B[0m     roc_auc \u001B[38;5;241m=\u001B[39m metrics\u001B[38;5;241m.\u001B[39mauc(fpr, tpr)\n\u001B[0;32m      9\u001B[0m     \u001B[38;5;66;03m# method I: plt\u001B[39;00m\n",
      "File \u001B[1;32m~\\anaconda3\\envs\\food\\lib\\site-packages\\sklearn\\metrics\\_ranking.py:981\u001B[0m, in \u001B[0;36mroc_curve\u001B[1;34m(y_true, y_score, pos_label, sample_weight, drop_intermediate)\u001B[0m\n\u001B[0;32m    892\u001B[0m \u001B[38;5;28;01mdef\u001B[39;00m \u001B[38;5;21mroc_curve\u001B[39m(\n\u001B[0;32m    893\u001B[0m     y_true, y_score, \u001B[38;5;241m*\u001B[39m, pos_label\u001B[38;5;241m=\u001B[39m\u001B[38;5;28;01mNone\u001B[39;00m, sample_weight\u001B[38;5;241m=\u001B[39m\u001B[38;5;28;01mNone\u001B[39;00m, drop_intermediate\u001B[38;5;241m=\u001B[39m\u001B[38;5;28;01mTrue\u001B[39;00m\n\u001B[0;32m    894\u001B[0m ):\n\u001B[0;32m    895\u001B[0m     \u001B[38;5;124;03m\"\"\"Compute Receiver operating characteristic (ROC).\u001B[39;00m\n\u001B[0;32m    896\u001B[0m \n\u001B[0;32m    897\u001B[0m \u001B[38;5;124;03m    Note: this implementation is restricted to the binary classification task.\u001B[39;00m\n\u001B[1;32m   (...)\u001B[0m\n\u001B[0;32m    979\u001B[0m \n\u001B[0;32m    980\u001B[0m \u001B[38;5;124;03m    \"\"\"\u001B[39;00m\n\u001B[1;32m--> 981\u001B[0m     fps, tps, thresholds \u001B[38;5;241m=\u001B[39m \u001B[43m_binary_clf_curve\u001B[49m\u001B[43m(\u001B[49m\n\u001B[0;32m    982\u001B[0m \u001B[43m        \u001B[49m\u001B[43my_true\u001B[49m\u001B[43m,\u001B[49m\u001B[43m \u001B[49m\u001B[43my_score\u001B[49m\u001B[43m,\u001B[49m\u001B[43m \u001B[49m\u001B[43mpos_label\u001B[49m\u001B[38;5;241;43m=\u001B[39;49m\u001B[43mpos_label\u001B[49m\u001B[43m,\u001B[49m\u001B[43m \u001B[49m\u001B[43msample_weight\u001B[49m\u001B[38;5;241;43m=\u001B[39;49m\u001B[43msample_weight\u001B[49m\n\u001B[0;32m    983\u001B[0m \u001B[43m    \u001B[49m\u001B[43m)\u001B[49m\n\u001B[0;32m    985\u001B[0m     \u001B[38;5;66;03m# Attempt to drop thresholds corresponding to points in between and\u001B[39;00m\n\u001B[0;32m    986\u001B[0m     \u001B[38;5;66;03m# collinear with other points. These are always suboptimal and do not\u001B[39;00m\n\u001B[0;32m    987\u001B[0m     \u001B[38;5;66;03m# appear on a plotted ROC curve (and thus do not affect the AUC).\u001B[39;00m\n\u001B[1;32m   (...)\u001B[0m\n\u001B[0;32m    992\u001B[0m     \u001B[38;5;66;03m# but does not drop more complicated cases like fps = [1, 3, 7],\u001B[39;00m\n\u001B[0;32m    993\u001B[0m     \u001B[38;5;66;03m# tps = [1, 2, 4]; there is no harm in keeping too many thresholds.\u001B[39;00m\n\u001B[0;32m    994\u001B[0m     \u001B[38;5;28;01mif\u001B[39;00m drop_intermediate \u001B[38;5;129;01mand\u001B[39;00m \u001B[38;5;28mlen\u001B[39m(fps) \u001B[38;5;241m>\u001B[39m \u001B[38;5;241m2\u001B[39m:\n",
      "File \u001B[1;32m~\\anaconda3\\envs\\food\\lib\\site-packages\\sklearn\\metrics\\_ranking.py:740\u001B[0m, in \u001B[0;36m_binary_clf_curve\u001B[1;34m(y_true, y_score, pos_label, sample_weight)\u001B[0m\n\u001B[0;32m    738\u001B[0m y_type \u001B[38;5;241m=\u001B[39m type_of_target(y_true, input_name\u001B[38;5;241m=\u001B[39m\u001B[38;5;124m\"\u001B[39m\u001B[38;5;124my_true\u001B[39m\u001B[38;5;124m\"\u001B[39m)\n\u001B[0;32m    739\u001B[0m \u001B[38;5;28;01mif\u001B[39;00m \u001B[38;5;129;01mnot\u001B[39;00m (y_type \u001B[38;5;241m==\u001B[39m \u001B[38;5;124m\"\u001B[39m\u001B[38;5;124mbinary\u001B[39m\u001B[38;5;124m\"\u001B[39m \u001B[38;5;129;01mor\u001B[39;00m (y_type \u001B[38;5;241m==\u001B[39m \u001B[38;5;124m\"\u001B[39m\u001B[38;5;124mmulticlass\u001B[39m\u001B[38;5;124m\"\u001B[39m \u001B[38;5;129;01mand\u001B[39;00m pos_label \u001B[38;5;129;01mis\u001B[39;00m \u001B[38;5;129;01mnot\u001B[39;00m \u001B[38;5;28;01mNone\u001B[39;00m)):\n\u001B[1;32m--> 740\u001B[0m     \u001B[38;5;28;01mraise\u001B[39;00m \u001B[38;5;167;01mValueError\u001B[39;00m(\u001B[38;5;124m\"\u001B[39m\u001B[38;5;132;01m{0}\u001B[39;00m\u001B[38;5;124m format is not supported\u001B[39m\u001B[38;5;124m\"\u001B[39m\u001B[38;5;241m.\u001B[39mformat(y_type))\n\u001B[0;32m    742\u001B[0m check_consistent_length(y_true, y_score, sample_weight)\n\u001B[0;32m    743\u001B[0m y_true \u001B[38;5;241m=\u001B[39m column_or_1d(y_true)\n",
      "\u001B[1;31mValueError\u001B[0m: multiclass format is not supported"
     ]
    }
   ],
   "source": [
    "# apply_model(dt, [], show_auroc=True)"
   ],
   "metadata": {
    "collapsed": false,
    "pycharm": {
     "name": "#%%\n"
    }
   }
  },
  {
   "cell_type": "code",
   "execution_count": null,
   "outputs": [],
   "source": [
    "# plot_tree(dt,['minutes', 'Cuisine', 'Calories (#)', 'Total Fat (PDV)', 'Sugar (PDV)', 'Sodium (PDV)', 'Protein (PDV)', 'Saturated Fat (PDV)', \"Carbohydrates (PDV)\"])"
   ],
   "metadata": {
    "collapsed": false,
    "pycharm": {
     "name": "#%%\n"
    }
   }
  },
  {
   "cell_type": "code",
   "execution_count": 254,
   "outputs": [
    {
     "name": "stdout",
     "output_type": "stream",
     "text": [
      "48/48 [==============================] - 0s 7ms/step\n",
      "================================================================================\n",
      "RandomForestClassifier()\n",
      "--------------------------------------------------------------------------------\n",
      "Accuracy score: 0.000657\n",
      "Confusion Matrix:\n",
      "[[1 0 0 ... 0 0 0]\n",
      " [1 0 0 ... 0 0 0]\n",
      " [1 0 0 ... 0 0 0]\n",
      " ...\n",
      " [1 0 0 ... 0 0 0]\n",
      " [1 0 0 ... 0 0 0]\n",
      " [1 0 0 ... 0 0 0]]\n",
      "\n"
     ]
    },
    {
     "ename": "ValueError",
     "evalue": "The number of classes has to be greater than one; got 1 class",
     "output_type": "error",
     "traceback": [
      "\u001B[1;31m---------------------------------------------------------------------------\u001B[0m",
      "\u001B[1;31mValueError\u001B[0m                                Traceback (most recent call last)",
      "Input \u001B[1;32mIn [254]\u001B[0m, in \u001B[0;36m<cell line: 11>\u001B[1;34m()\u001B[0m\n\u001B[0;32m      9\u001B[0m y_pred_class \u001B[38;5;241m=\u001B[39m np\u001B[38;5;241m.\u001B[39margmax(y_pred, axis\u001B[38;5;241m=\u001B[39m\u001B[38;5;241m1\u001B[39m)\n\u001B[0;32m     11\u001B[0m \u001B[38;5;28;01mfor\u001B[39;00m mod \u001B[38;5;129;01min\u001B[39;00m [RandomForestClassifier(), SVC(), GaussianNB()]:\n\u001B[1;32m---> 12\u001B[0m     \u001B[43mmod\u001B[49m\u001B[38;5;241;43m.\u001B[39;49m\u001B[43mfit\u001B[49m\u001B[43m(\u001B[49m\u001B[43mX_train\u001B[49m\u001B[43m,\u001B[49m\u001B[43m \u001B[49m\u001B[43my_train\u001B[49m\u001B[43m[\u001B[49m\u001B[43m:\u001B[49m\u001B[43m,\u001B[49m\u001B[43m \u001B[49m\u001B[38;5;241;43m1\u001B[39;49m\u001B[43m]\u001B[49m\u001B[43m)\u001B[49m\n\u001B[0;32m     13\u001B[0m     y_pred \u001B[38;5;241m=\u001B[39m mod\u001B[38;5;241m.\u001B[39mpredict(X_test)\n\u001B[0;32m     14\u001B[0m     \u001B[38;5;28mprint\u001B[39m(\u001B[38;5;124m\"\u001B[39m\u001B[38;5;124m=\u001B[39m\u001B[38;5;124m\"\u001B[39m\u001B[38;5;241m*\u001B[39m\u001B[38;5;241m80\u001B[39m)\n",
      "File \u001B[1;32m~\\anaconda3\\envs\\food\\lib\\site-packages\\sklearn\\svm\\_base.py:182\u001B[0m, in \u001B[0;36mBaseLibSVM.fit\u001B[1;34m(self, X, y, sample_weight)\u001B[0m\n\u001B[0;32m    172\u001B[0m \u001B[38;5;28;01melse\u001B[39;00m:\n\u001B[0;32m    173\u001B[0m     X, y \u001B[38;5;241m=\u001B[39m \u001B[38;5;28mself\u001B[39m\u001B[38;5;241m.\u001B[39m_validate_data(\n\u001B[0;32m    174\u001B[0m         X,\n\u001B[0;32m    175\u001B[0m         y,\n\u001B[1;32m   (...)\u001B[0m\n\u001B[0;32m    179\u001B[0m         accept_large_sparse\u001B[38;5;241m=\u001B[39m\u001B[38;5;28;01mFalse\u001B[39;00m,\n\u001B[0;32m    180\u001B[0m     )\n\u001B[1;32m--> 182\u001B[0m y \u001B[38;5;241m=\u001B[39m \u001B[38;5;28;43mself\u001B[39;49m\u001B[38;5;241;43m.\u001B[39;49m\u001B[43m_validate_targets\u001B[49m\u001B[43m(\u001B[49m\u001B[43my\u001B[49m\u001B[43m)\u001B[49m\n\u001B[0;32m    184\u001B[0m sample_weight \u001B[38;5;241m=\u001B[39m np\u001B[38;5;241m.\u001B[39masarray(\n\u001B[0;32m    185\u001B[0m     [] \u001B[38;5;28;01mif\u001B[39;00m sample_weight \u001B[38;5;129;01mis\u001B[39;00m \u001B[38;5;28;01mNone\u001B[39;00m \u001B[38;5;28;01melse\u001B[39;00m sample_weight, dtype\u001B[38;5;241m=\u001B[39mnp\u001B[38;5;241m.\u001B[39mfloat64\n\u001B[0;32m    186\u001B[0m )\n\u001B[0;32m    187\u001B[0m solver_type \u001B[38;5;241m=\u001B[39m LIBSVM_IMPL\u001B[38;5;241m.\u001B[39mindex(\u001B[38;5;28mself\u001B[39m\u001B[38;5;241m.\u001B[39m_impl)\n",
      "File \u001B[1;32m~\\anaconda3\\envs\\food\\lib\\site-packages\\sklearn\\svm\\_base.py:739\u001B[0m, in \u001B[0;36mBaseSVC._validate_targets\u001B[1;34m(self, y)\u001B[0m\n\u001B[0;32m    737\u001B[0m \u001B[38;5;28mself\u001B[39m\u001B[38;5;241m.\u001B[39mclass_weight_ \u001B[38;5;241m=\u001B[39m compute_class_weight(\u001B[38;5;28mself\u001B[39m\u001B[38;5;241m.\u001B[39mclass_weight, classes\u001B[38;5;241m=\u001B[39m\u001B[38;5;28mcls\u001B[39m, y\u001B[38;5;241m=\u001B[39my_)\n\u001B[0;32m    738\u001B[0m \u001B[38;5;28;01mif\u001B[39;00m \u001B[38;5;28mlen\u001B[39m(\u001B[38;5;28mcls\u001B[39m) \u001B[38;5;241m<\u001B[39m \u001B[38;5;241m2\u001B[39m:\n\u001B[1;32m--> 739\u001B[0m     \u001B[38;5;28;01mraise\u001B[39;00m \u001B[38;5;167;01mValueError\u001B[39;00m(\n\u001B[0;32m    740\u001B[0m         \u001B[38;5;124m\"\u001B[39m\u001B[38;5;124mThe number of classes has to be greater than one; got \u001B[39m\u001B[38;5;132;01m%d\u001B[39;00m\u001B[38;5;124m class\u001B[39m\u001B[38;5;124m\"\u001B[39m\n\u001B[0;32m    741\u001B[0m         \u001B[38;5;241m%\u001B[39m \u001B[38;5;28mlen\u001B[39m(\u001B[38;5;28mcls\u001B[39m)\n\u001B[0;32m    742\u001B[0m     )\n\u001B[0;32m    744\u001B[0m \u001B[38;5;28mself\u001B[39m\u001B[38;5;241m.\u001B[39mclasses_ \u001B[38;5;241m=\u001B[39m \u001B[38;5;28mcls\u001B[39m\n\u001B[0;32m    746\u001B[0m \u001B[38;5;28;01mreturn\u001B[39;00m np\u001B[38;5;241m.\u001B[39masarray(y, dtype\u001B[38;5;241m=\u001B[39mnp\u001B[38;5;241m.\u001B[39mfloat64, order\u001B[38;5;241m=\u001B[39m\u001B[38;5;124m\"\u001B[39m\u001B[38;5;124mC\u001B[39m\u001B[38;5;124m\"\u001B[39m)\n",
      "\u001B[1;31mValueError\u001B[0m: The number of classes has to be greater than one; got 1 class"
     ]
    }
   ],
   "source": [
    "# from sklearn.ensemble import RandomForestClassifier\n",
    "# from sklearn.svm import SVC\n",
    "# from sklearn.naive_bayes import GaussianNB\n",
    "# from sklearn.metrics import accuracy_score\n",
    "# from sklearn.metrics import confusion_matrix\n",
    "#\n",
    "# y_pred = model.predict(X_test)\n",
    "# y_test_class = np.argmax(y_test, axis=1)\n",
    "# y_pred_class = np.argmax(y_pred, axis=1)\n",
    "#\n",
    "# for mod in [RandomForestClassifier(), SVC(), GaussianNB()]:\n",
    "#     mod.fit(X_train, y_train[:, 1])\n",
    "#     y_pred = mod.predict(X_test)\n",
    "#     print(\"=\"*80)\n",
    "#     print(mod)\n",
    "#     print(\"-\"*80)\n",
    "#     print(\"Accuracy score: {:0.3}\".format(accuracy_score(y_test_class,\n",
    "#                                                          y_pred)))\n",
    "#     print(\"Confusion Matrix:\")\n",
    "#     print(confusion_matrix(y_test_class, y_pred))\n",
    "#     print()"
   ],
   "metadata": {
    "collapsed": false,
    "pycharm": {
     "name": "#%%\n"
    }
   }
  },
  {
   "cell_type": "code",
   "execution_count": null,
   "outputs": [],
   "source": [],
   "metadata": {
    "collapsed": false,
    "pycharm": {
     "name": "#%%\n"
    }
   }
  }
 ],
 "metadata": {
  "kernelspec": {
   "display_name": "Python 3",
   "language": "python",
   "name": "python3"
  },
  "language_info": {
   "codemirror_mode": {
    "name": "ipython",
    "version": 2
   },
   "file_extension": ".py",
   "mimetype": "text/x-python",
   "name": "python",
   "nbconvert_exporter": "python",
   "pygments_lexer": "ipython2",
   "version": "2.7.6"
  }
 },
 "nbformat": 4,
 "nbformat_minor": 0
}