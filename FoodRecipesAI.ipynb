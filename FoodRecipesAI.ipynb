{
 "cells": [
  {
   "cell_type": "code",
   "execution_count": 3,
   "outputs": [],
   "source": [
    "# imports\n",
    "from pathlib import Path\n",
    "import pandas as pd\n",
    "import re\n",
    "import numpy as np\n",
    "import matplotlib.pyplot as plt\n",
    "from sklearn.tree import plot_tree\n",
    "from sklearn.preprocessing import MinMaxScaler\n",
    "import seaborn as sns\n",
    "from sklearn import metrics\n",
    "from sklearn import tree\n",
    "from keras.utils import to_categorical\n",
    "from sklearn.model_selection import train_test_split\n",
    "from keras.models import Sequential\n",
    "from keras.layers import Dense\n",
    "from keras.optimizers import SGD, Adam, Adagrad, RMSprop\n",
    "import joblib\n"
   ],
   "metadata": {
    "collapsed": false,
    "pycharm": {
     "name": "#%%\n"
    }
   }
  },
  {
   "cell_type": "code",
   "execution_count": 4,
   "outputs": [
    {
     "ename": "ValueError",
     "evalue": "NumExpr 2 does not support Unicode as a dtype.",
     "output_type": "error",
     "traceback": [
      "\u001B[1;31m---------------------------------------------------------------------------\u001B[0m",
      "\u001B[1;31mValueError\u001B[0m                                Traceback (most recent call last)",
      "Input \u001B[1;32mIn [4]\u001B[0m, in \u001B[0;36m<cell line: 2>\u001B[1;34m()\u001B[0m\n\u001B[0;32m      1\u001B[0m \u001B[38;5;66;03m# inlezen dataset recepten\u001B[39;00m\n\u001B[1;32m----> 2\u001B[0m df_recipes \u001B[38;5;241m=\u001B[39m \u001B[43mpd\u001B[49m\u001B[38;5;241;43m.\u001B[39;49m\u001B[43mread_csv\u001B[49m\u001B[43m(\u001B[49m\u001B[38;5;124;43m\"\u001B[39;49m\u001B[38;5;124;43m./Datasets/recipes.csv\u001B[39;49m\u001B[38;5;124;43m\"\u001B[39;49m\u001B[43m,\u001B[49m\u001B[43m \u001B[49m\u001B[43mconverters\u001B[49m\u001B[38;5;241;43m=\u001B[39;49m\u001B[43m{\u001B[49m\u001B[38;5;124;43m\"\u001B[39;49m\u001B[38;5;124;43mnutrition\u001B[39;49m\u001B[38;5;124;43m\"\u001B[39;49m\u001B[43m:\u001B[49m\u001B[43m \u001B[49m\u001B[43mpd\u001B[49m\u001B[38;5;241;43m.\u001B[39;49m\u001B[43meval\u001B[49m\u001B[43m,\u001B[49m\u001B[43m \u001B[49m\u001B[38;5;124;43m\"\u001B[39;49m\u001B[38;5;124;43msteps\u001B[39;49m\u001B[38;5;124;43m\"\u001B[39;49m\u001B[43m:\u001B[49m\u001B[43m \u001B[49m\u001B[43mpd\u001B[49m\u001B[38;5;241;43m.\u001B[39;49m\u001B[43meval\u001B[49m\u001B[43m,\u001B[49m\u001B[43m \u001B[49m\u001B[38;5;124;43m\"\u001B[39;49m\u001B[38;5;124;43mingredients\u001B[39;49m\u001B[38;5;124;43m\"\u001B[39;49m\u001B[43m:\u001B[49m\u001B[43m \u001B[49m\u001B[43mpd\u001B[49m\u001B[38;5;241;43m.\u001B[39;49m\u001B[43meval\u001B[49m\u001B[43m}\u001B[49m\u001B[43m)\u001B[49m\n\u001B[0;32m      3\u001B[0m df_recipes\u001B[38;5;241m.\u001B[39mhead()\n",
      "File \u001B[1;32m~\\anaconda3\\envs\\food\\lib\\site-packages\\pandas\\util\\_decorators.py:311\u001B[0m, in \u001B[0;36mdeprecate_nonkeyword_arguments.<locals>.decorate.<locals>.wrapper\u001B[1;34m(*args, **kwargs)\u001B[0m\n\u001B[0;32m    305\u001B[0m \u001B[38;5;28;01mif\u001B[39;00m \u001B[38;5;28mlen\u001B[39m(args) \u001B[38;5;241m>\u001B[39m num_allow_args:\n\u001B[0;32m    306\u001B[0m     warnings\u001B[38;5;241m.\u001B[39mwarn(\n\u001B[0;32m    307\u001B[0m         msg\u001B[38;5;241m.\u001B[39mformat(arguments\u001B[38;5;241m=\u001B[39marguments),\n\u001B[0;32m    308\u001B[0m         \u001B[38;5;167;01mFutureWarning\u001B[39;00m,\n\u001B[0;32m    309\u001B[0m         stacklevel\u001B[38;5;241m=\u001B[39mstacklevel,\n\u001B[0;32m    310\u001B[0m     )\n\u001B[1;32m--> 311\u001B[0m \u001B[38;5;28;01mreturn\u001B[39;00m func(\u001B[38;5;241m*\u001B[39margs, \u001B[38;5;241m*\u001B[39m\u001B[38;5;241m*\u001B[39mkwargs)\n",
      "File \u001B[1;32m~\\anaconda3\\envs\\food\\lib\\site-packages\\pandas\\io\\parsers\\readers.py:678\u001B[0m, in \u001B[0;36mread_csv\u001B[1;34m(filepath_or_buffer, sep, delimiter, header, names, index_col, usecols, squeeze, prefix, mangle_dupe_cols, dtype, engine, converters, true_values, false_values, skipinitialspace, skiprows, skipfooter, nrows, na_values, keep_default_na, na_filter, verbose, skip_blank_lines, parse_dates, infer_datetime_format, keep_date_col, date_parser, dayfirst, cache_dates, iterator, chunksize, compression, thousands, decimal, lineterminator, quotechar, quoting, doublequote, escapechar, comment, encoding, encoding_errors, dialect, error_bad_lines, warn_bad_lines, on_bad_lines, delim_whitespace, low_memory, memory_map, float_precision, storage_options)\u001B[0m\n\u001B[0;32m    663\u001B[0m kwds_defaults \u001B[38;5;241m=\u001B[39m _refine_defaults_read(\n\u001B[0;32m    664\u001B[0m     dialect,\n\u001B[0;32m    665\u001B[0m     delimiter,\n\u001B[1;32m   (...)\u001B[0m\n\u001B[0;32m    674\u001B[0m     defaults\u001B[38;5;241m=\u001B[39m{\u001B[38;5;124m\"\u001B[39m\u001B[38;5;124mdelimiter\u001B[39m\u001B[38;5;124m\"\u001B[39m: \u001B[38;5;124m\"\u001B[39m\u001B[38;5;124m,\u001B[39m\u001B[38;5;124m\"\u001B[39m},\n\u001B[0;32m    675\u001B[0m )\n\u001B[0;32m    676\u001B[0m kwds\u001B[38;5;241m.\u001B[39mupdate(kwds_defaults)\n\u001B[1;32m--> 678\u001B[0m \u001B[38;5;28;01mreturn\u001B[39;00m \u001B[43m_read\u001B[49m\u001B[43m(\u001B[49m\u001B[43mfilepath_or_buffer\u001B[49m\u001B[43m,\u001B[49m\u001B[43m \u001B[49m\u001B[43mkwds\u001B[49m\u001B[43m)\u001B[49m\n",
      "File \u001B[1;32m~\\anaconda3\\envs\\food\\lib\\site-packages\\pandas\\io\\parsers\\readers.py:581\u001B[0m, in \u001B[0;36m_read\u001B[1;34m(filepath_or_buffer, kwds)\u001B[0m\n\u001B[0;32m    578\u001B[0m     \u001B[38;5;28;01mreturn\u001B[39;00m parser\n\u001B[0;32m    580\u001B[0m \u001B[38;5;28;01mwith\u001B[39;00m parser:\n\u001B[1;32m--> 581\u001B[0m     \u001B[38;5;28;01mreturn\u001B[39;00m \u001B[43mparser\u001B[49m\u001B[38;5;241;43m.\u001B[39;49m\u001B[43mread\u001B[49m\u001B[43m(\u001B[49m\u001B[43mnrows\u001B[49m\u001B[43m)\u001B[49m\n",
      "File \u001B[1;32m~\\anaconda3\\envs\\food\\lib\\site-packages\\pandas\\io\\parsers\\readers.py:1253\u001B[0m, in \u001B[0;36mTextFileReader.read\u001B[1;34m(self, nrows)\u001B[0m\n\u001B[0;32m   1251\u001B[0m nrows \u001B[38;5;241m=\u001B[39m validate_integer(\u001B[38;5;124m\"\u001B[39m\u001B[38;5;124mnrows\u001B[39m\u001B[38;5;124m\"\u001B[39m, nrows)\n\u001B[0;32m   1252\u001B[0m \u001B[38;5;28;01mtry\u001B[39;00m:\n\u001B[1;32m-> 1253\u001B[0m     index, columns, col_dict \u001B[38;5;241m=\u001B[39m \u001B[38;5;28;43mself\u001B[39;49m\u001B[38;5;241;43m.\u001B[39;49m\u001B[43m_engine\u001B[49m\u001B[38;5;241;43m.\u001B[39;49m\u001B[43mread\u001B[49m\u001B[43m(\u001B[49m\u001B[43mnrows\u001B[49m\u001B[43m)\u001B[49m\n\u001B[0;32m   1254\u001B[0m \u001B[38;5;28;01mexcept\u001B[39;00m \u001B[38;5;167;01mException\u001B[39;00m:\n\u001B[0;32m   1255\u001B[0m     \u001B[38;5;28mself\u001B[39m\u001B[38;5;241m.\u001B[39mclose()\n",
      "File \u001B[1;32m~\\anaconda3\\envs\\food\\lib\\site-packages\\pandas\\io\\parsers\\c_parser_wrapper.py:225\u001B[0m, in \u001B[0;36mCParserWrapper.read\u001B[1;34m(self, nrows)\u001B[0m\n\u001B[0;32m    223\u001B[0m \u001B[38;5;28;01mtry\u001B[39;00m:\n\u001B[0;32m    224\u001B[0m     \u001B[38;5;28;01mif\u001B[39;00m \u001B[38;5;28mself\u001B[39m\u001B[38;5;241m.\u001B[39mlow_memory:\n\u001B[1;32m--> 225\u001B[0m         chunks \u001B[38;5;241m=\u001B[39m \u001B[38;5;28;43mself\u001B[39;49m\u001B[38;5;241;43m.\u001B[39;49m\u001B[43m_reader\u001B[49m\u001B[38;5;241;43m.\u001B[39;49m\u001B[43mread_low_memory\u001B[49m\u001B[43m(\u001B[49m\u001B[43mnrows\u001B[49m\u001B[43m)\u001B[49m\n\u001B[0;32m    226\u001B[0m         \u001B[38;5;66;03m# destructive to chunks\u001B[39;00m\n\u001B[0;32m    227\u001B[0m         data \u001B[38;5;241m=\u001B[39m _concatenate_chunks(chunks)\n",
      "File \u001B[1;32m~\\anaconda3\\envs\\food\\lib\\site-packages\\pandas\\_libs\\parsers.pyx:805\u001B[0m, in \u001B[0;36mpandas._libs.parsers.TextReader.read_low_memory\u001B[1;34m()\u001B[0m\n",
      "File \u001B[1;32m~\\anaconda3\\envs\\food\\lib\\site-packages\\pandas\\_libs\\parsers.pyx:883\u001B[0m, in \u001B[0;36mpandas._libs.parsers.TextReader._read_rows\u001B[1;34m()\u001B[0m\n",
      "File \u001B[1;32m~\\anaconda3\\envs\\food\\lib\\site-packages\\pandas\\_libs\\parsers.pyx:1005\u001B[0m, in \u001B[0;36mpandas._libs.parsers.TextReader._convert_column_data\u001B[1;34m()\u001B[0m\n",
      "File \u001B[1;32m~\\anaconda3\\envs\\food\\lib\\site-packages\\pandas\\_libs\\parsers.pyx:2014\u001B[0m, in \u001B[0;36mpandas._libs.parsers._apply_converter\u001B[1;34m()\u001B[0m\n",
      "File \u001B[1;32m~\\anaconda3\\envs\\food\\lib\\site-packages\\pandas\\core\\computation\\eval.py:356\u001B[0m, in \u001B[0;36meval\u001B[1;34m(expr, parser, engine, truediv, local_dict, global_dict, resolvers, level, target, inplace)\u001B[0m\n\u001B[0;32m    354\u001B[0m eng \u001B[38;5;241m=\u001B[39m ENGINES[engine]\n\u001B[0;32m    355\u001B[0m eng_inst \u001B[38;5;241m=\u001B[39m eng(parsed_expr)\n\u001B[1;32m--> 356\u001B[0m ret \u001B[38;5;241m=\u001B[39m \u001B[43meng_inst\u001B[49m\u001B[38;5;241;43m.\u001B[39;49m\u001B[43mevaluate\u001B[49m\u001B[43m(\u001B[49m\u001B[43m)\u001B[49m\n\u001B[0;32m    358\u001B[0m \u001B[38;5;28;01mif\u001B[39;00m parsed_expr\u001B[38;5;241m.\u001B[39massigner \u001B[38;5;129;01mis\u001B[39;00m \u001B[38;5;28;01mNone\u001B[39;00m:\n\u001B[0;32m    359\u001B[0m     \u001B[38;5;28;01mif\u001B[39;00m multi_line:\n",
      "File \u001B[1;32m~\\anaconda3\\envs\\food\\lib\\site-packages\\pandas\\core\\computation\\engines.py:80\u001B[0m, in \u001B[0;36mAbstractEngine.evaluate\u001B[1;34m(self)\u001B[0m\n\u001B[0;32m     77\u001B[0m     \u001B[38;5;28mself\u001B[39m\u001B[38;5;241m.\u001B[39mresult_type, \u001B[38;5;28mself\u001B[39m\u001B[38;5;241m.\u001B[39maligned_axes \u001B[38;5;241m=\u001B[39m align_terms(\u001B[38;5;28mself\u001B[39m\u001B[38;5;241m.\u001B[39mexpr\u001B[38;5;241m.\u001B[39mterms)\n\u001B[0;32m     79\u001B[0m \u001B[38;5;66;03m# make sure no names in resolvers and locals/globals clash\u001B[39;00m\n\u001B[1;32m---> 80\u001B[0m res \u001B[38;5;241m=\u001B[39m \u001B[38;5;28;43mself\u001B[39;49m\u001B[38;5;241;43m.\u001B[39;49m\u001B[43m_evaluate\u001B[49m\u001B[43m(\u001B[49m\u001B[43m)\u001B[49m\n\u001B[0;32m     81\u001B[0m \u001B[38;5;28;01mreturn\u001B[39;00m reconstruct_object(\n\u001B[0;32m     82\u001B[0m     \u001B[38;5;28mself\u001B[39m\u001B[38;5;241m.\u001B[39mresult_type, res, \u001B[38;5;28mself\u001B[39m\u001B[38;5;241m.\u001B[39maligned_axes, \u001B[38;5;28mself\u001B[39m\u001B[38;5;241m.\u001B[39mexpr\u001B[38;5;241m.\u001B[39mterms\u001B[38;5;241m.\u001B[39mreturn_type\n\u001B[0;32m     83\u001B[0m )\n",
      "File \u001B[1;32m~\\anaconda3\\envs\\food\\lib\\site-packages\\pandas\\core\\computation\\engines.py:121\u001B[0m, in \u001B[0;36mNumExprEngine._evaluate\u001B[1;34m(self)\u001B[0m\n\u001B[0;32m    119\u001B[0m scope \u001B[38;5;241m=\u001B[39m env\u001B[38;5;241m.\u001B[39mfull_scope\n\u001B[0;32m    120\u001B[0m _check_ne_builtin_clash(\u001B[38;5;28mself\u001B[39m\u001B[38;5;241m.\u001B[39mexpr)\n\u001B[1;32m--> 121\u001B[0m \u001B[38;5;28;01mreturn\u001B[39;00m \u001B[43mne\u001B[49m\u001B[38;5;241;43m.\u001B[39;49m\u001B[43mevaluate\u001B[49m\u001B[43m(\u001B[49m\u001B[43ms\u001B[49m\u001B[43m,\u001B[49m\u001B[43m \u001B[49m\u001B[43mlocal_dict\u001B[49m\u001B[38;5;241;43m=\u001B[39;49m\u001B[43mscope\u001B[49m\u001B[43m)\u001B[49m\n",
      "File \u001B[1;32m~\\anaconda3\\envs\\food\\lib\\site-packages\\numexpr\\necompiler.py:814\u001B[0m, in \u001B[0;36mevaluate\u001B[1;34m(ex, local_dict, global_dict, out, order, casting, **kwargs)\u001B[0m\n\u001B[0;32m    811\u001B[0m arguments \u001B[38;5;241m=\u001B[39m getArguments(names, local_dict, global_dict)\n\u001B[0;32m    813\u001B[0m \u001B[38;5;66;03m# Create a signature\u001B[39;00m\n\u001B[1;32m--> 814\u001B[0m signature \u001B[38;5;241m=\u001B[39m [(name, getType(arg)) \u001B[38;5;28;01mfor\u001B[39;00m (name, arg) \u001B[38;5;129;01min\u001B[39;00m\n\u001B[0;32m    815\u001B[0m              \u001B[38;5;28mzip\u001B[39m(names, arguments)]\n\u001B[0;32m    817\u001B[0m \u001B[38;5;66;03m# Look up numexpr if possible.\u001B[39;00m\n\u001B[0;32m    818\u001B[0m numexpr_key \u001B[38;5;241m=\u001B[39m expr_key \u001B[38;5;241m+\u001B[39m (\u001B[38;5;28mtuple\u001B[39m(signature),)\n",
      "File \u001B[1;32m~\\anaconda3\\envs\\food\\lib\\site-packages\\numexpr\\necompiler.py:814\u001B[0m, in \u001B[0;36m<listcomp>\u001B[1;34m(.0)\u001B[0m\n\u001B[0;32m    811\u001B[0m arguments \u001B[38;5;241m=\u001B[39m getArguments(names, local_dict, global_dict)\n\u001B[0;32m    813\u001B[0m \u001B[38;5;66;03m# Create a signature\u001B[39;00m\n\u001B[1;32m--> 814\u001B[0m signature \u001B[38;5;241m=\u001B[39m [(name, \u001B[43mgetType\u001B[49m\u001B[43m(\u001B[49m\u001B[43marg\u001B[49m\u001B[43m)\u001B[49m) \u001B[38;5;28;01mfor\u001B[39;00m (name, arg) \u001B[38;5;129;01min\u001B[39;00m\n\u001B[0;32m    815\u001B[0m              \u001B[38;5;28mzip\u001B[39m(names, arguments)]\n\u001B[0;32m    817\u001B[0m \u001B[38;5;66;03m# Look up numexpr if possible.\u001B[39;00m\n\u001B[0;32m    818\u001B[0m numexpr_key \u001B[38;5;241m=\u001B[39m expr_key \u001B[38;5;241m+\u001B[39m (\u001B[38;5;28mtuple\u001B[39m(signature),)\n",
      "File \u001B[1;32m~\\anaconda3\\envs\\food\\lib\\site-packages\\numexpr\\necompiler.py:691\u001B[0m, in \u001B[0;36mgetType\u001B[1;34m(a)\u001B[0m\n\u001B[0;32m    689\u001B[0m     \u001B[38;5;28;01mreturn\u001B[39;00m \u001B[38;5;28mbytes\u001B[39m\n\u001B[0;32m    690\u001B[0m \u001B[38;5;28;01mif\u001B[39;00m kind \u001B[38;5;241m==\u001B[39m \u001B[38;5;124m'\u001B[39m\u001B[38;5;124mU\u001B[39m\u001B[38;5;124m'\u001B[39m:\n\u001B[1;32m--> 691\u001B[0m     \u001B[38;5;28;01mraise\u001B[39;00m \u001B[38;5;167;01mValueError\u001B[39;00m(\u001B[38;5;124m'\u001B[39m\u001B[38;5;124mNumExpr 2 does not support Unicode as a dtype.\u001B[39m\u001B[38;5;124m'\u001B[39m)\n\u001B[0;32m    692\u001B[0m \u001B[38;5;28;01mraise\u001B[39;00m \u001B[38;5;167;01mValueError\u001B[39;00m(\u001B[38;5;124m\"\u001B[39m\u001B[38;5;124munknown type \u001B[39m\u001B[38;5;132;01m%s\u001B[39;00m\u001B[38;5;124m\"\u001B[39m \u001B[38;5;241m%\u001B[39m a\u001B[38;5;241m.\u001B[39mdtype\u001B[38;5;241m.\u001B[39mname)\n",
      "\u001B[1;31mValueError\u001B[0m: NumExpr 2 does not support Unicode as a dtype."
     ]
    }
   ],
   "source": [
    "# inlezen dataset recepten\n",
    "df_recipes = pd.read_csv(\"./Datasets/recipes.csv\", converters={\"nutrition\": pd.eval, \"steps\": pd.eval, \"ingredients\": pd.eval})\n",
    "df_recipes.head()"
   ],
   "metadata": {
    "collapsed": false,
    "pycharm": {
     "name": "#%%\n"
    }
   }
  },
  {
   "cell_type": "code",
   "execution_count": null,
   "outputs": [],
   "source": [
    "# Which cuisine\n",
    "df_recipes[\"tags\"]"
   ],
   "metadata": {
    "collapsed": false,
    "pycharm": {
     "name": "#%%\n"
    }
   }
  },
  {
   "cell_type": "code",
   "execution_count": null,
   "outputs": [],
   "source": [
    "select_indices_tags = list(np.where(df_recipes.loc[:,\"tags\"]))[0]\n",
    "select_indices_tags"
   ],
   "metadata": {
    "collapsed": false,
    "pycharm": {
     "name": "#%%\n"
    }
   }
  },
  {
   "cell_type": "code",
   "execution_count": null,
   "outputs": [],
   "source": [
    "df_recipes[\"Vegetarian\"] = \"\""
   ],
   "metadata": {
    "collapsed": false,
    "pycharm": {
     "name": "#%%\n"
    }
   }
  },
  {
   "cell_type": "code",
   "execution_count": null,
   "outputs": [],
   "source": [
    "for j in select_indices_tags:\n",
    "    try:\n",
    "        vegetarian = re.search('vegetarian' or 'vegan', df_recipes.loc[j,\"tags\"]).group(0)\n",
    "        df_recipes.loc[j, \"Vegetarian\"] = vegetarian\n",
    "\n",
    "    except AttributeError:\n",
    "        pass"
   ],
   "metadata": {
    "collapsed": false,
    "pycharm": {
     "name": "#%%\n"
    }
   }
  },
  {
   "cell_type": "code",
   "execution_count": null,
   "outputs": [],
   "source": [
    "df_recipes[\"Cuisine\"] = \"\"\n",
    "df_recipes.head()"
   ],
   "metadata": {
    "collapsed": false,
    "pycharm": {
     "name": "#%%\n"
    }
   }
  },
  {
   "cell_type": "code",
   "execution_count": null,
   "outputs": [],
   "source": [
    "for i in select_indices_tags:\n",
    "    try:\n",
    "        asian = re.search('asian' or 'chinese' or 'japanese' or 'korean' or 'indonesian' or 'malaysian' or 'pakistani' or 'singaporean' or 'indian' or 'thai' or 'vietnamese', df_recipes.loc[i,\"tags\"]).group(0)\n",
    "        df_recipes.loc[i, \"Cuisine\"] = asian\n",
    "    except AttributeError:\n",
    "        pass\n",
    "    try:\n",
    "        european = re.search('european' or 'austrian' or 'german' or 'hungarian' or 'czech' or 'polish' or 'slovenian' or 'swiss' or 'russian' or 'romanian' or 'bulgarian' or 'ukrainian' or 'british' or 'english' or 'irish' or 'scottish' or 'danish' or 'finnish' or 'icelandic' or 'norwegian' or 'swedish' or 'greek' or 'turkish' or 'croatian' or 'portuguese' or 'spanish' or 'belgian' or 'dutch' or 'french', df_recipes.loc[i,\"tags\"]).group(0)\n",
    "        df_recipes.loc[i, \"Cuisine\"] = european\n",
    "    except AttributeError:\n",
    "        pass\n",
    "    try:\n",
    "        african = re.search('african' or 'ethiopian' or 'ugandan' or 'algerian' or 'egyptian' or 'mauritanian' or 'south-african' or 'nigerian', df_recipes.loc[i,\"tags\"]).group(0)\n",
    "        df_recipes.loc[i, \"Cuisine\"] = african\n",
    "    except AttributeError:\n",
    "        pass\n",
    "    try:\n",
    "        american = re.search('american' or 'canadian' or 'mexican' or 'argentinian' or 'brazilian' or 'chilean' or 'hawaiian' or 'colombian' or 'cuban' or 'curacao' or 'dominica' or 'jamaican', df_recipes.loc[i,\"tags\"]).group(0)\n",
    "        df_recipes.loc[i, \"Cuisine\"] = american\n",
    "    except AttributeError:\n",
    "        pass\n",
    "    try:\n",
    "        oceanic = re.search('oceanic' or 'australian' or 'new zealand', df_recipes.loc[i,\"tags\"]).group(0)\n",
    "        df_recipes.loc[i, \"Cuisine\"] = oceanic\n",
    "    except AttributeError:\n",
    "        pass\n"
   ],
   "metadata": {
    "collapsed": false,
    "pycharm": {
     "name": "#%%\n"
    }
   }
  },
  {
   "cell_type": "code",
   "execution_count": null,
   "outputs": [],
   "source": [
    "def convert_cuisine(row):\n",
    "    if row == \"\":\n",
    "        return 0 # \"undefined\"\n",
    "    if row == \"american\":\n",
    "        return 1 # \"american\"\n",
    "    if row == \"european\":\n",
    "        return 2 # \"european\"\n",
    "    if row == \"asian\":\n",
    "        return 3 # \"asian\"\n",
    "    if row == \"african\":\n",
    "        return 4 # \"african\"\n",
    "\n"
   ],
   "metadata": {
    "collapsed": false,
    "pycharm": {
     "name": "#%%\n"
    }
   }
  },
  {
   "cell_type": "code",
   "execution_count": null,
   "outputs": [],
   "source": [
    "df_recipes[\"Cuisine\"] = df_recipes['Cuisine'].apply(convert_cuisine)\n",
    "\n",
    "# df_recipes_cuisine = pd.get_dummies(df_recipes[[\"Cuisine\"]])"
   ],
   "metadata": {
    "collapsed": false,
    "pycharm": {
     "name": "#%%\n"
    }
   }
  },
  {
   "cell_type": "code",
   "execution_count": null,
   "outputs": [],
   "source": [
    "df_recipes.head()"
   ],
   "metadata": {
    "collapsed": false,
    "pycharm": {
     "name": "#%%\n"
    }
   }
  },
  {
   "cell_type": "code",
   "execution_count": null,
   "outputs": [],
   "source": [
    "df_recipes[\"Cuisine\"].value_counts()"
   ],
   "metadata": {
    "collapsed": false,
    "pycharm": {
     "name": "#%%\n"
    }
   }
  },
  {
   "cell_type": "code",
   "execution_count": null,
   "outputs": [],
   "source": [
    "def convert_vegetarian(row):\n",
    "    if row == \"\":\n",
    "        return \"undefined\"\n",
    "    if row == \"vegetarian\":\n",
    "        return \"vegetarian\""
   ],
   "metadata": {
    "collapsed": false,
    "pycharm": {
     "name": "#%%\n"
    }
   }
  },
  {
   "cell_type": "code",
   "execution_count": null,
   "outputs": [],
   "source": [
    "df_recipes[\"Vegetarian\"] = df_recipes['Vegetarian'].apply(convert_vegetarian)"
   ],
   "metadata": {
    "collapsed": false,
    "pycharm": {
     "name": "#%%\n"
    }
   }
  },
  {
   "cell_type": "code",
   "execution_count": null,
   "outputs": [],
   "source": [
    "df_recipes[\"Vegetarian\"].value_counts()"
   ],
   "metadata": {
    "collapsed": false,
    "pycharm": {
     "name": "#%%\n"
    }
   }
  },
  {
   "cell_type": "code",
   "execution_count": null,
   "outputs": [],
   "source": [
    "def convert_minutes(row):\n",
    "    if row <= 30:\n",
    "        return 0 # \"30 minutes\"\n",
    "    if 30 < row <= 60:\n",
    "        return 1 # \"30 to 60 minutes\"\n",
    "    if 60 < row <= 120:\n",
    "        return 2 # \"60 to 120 minutes\"\n",
    "    if 120 < row <= 180:\n",
    "        return 3 # \"120 to 180 minutes\"\n",
    "    if row > 180:\n",
    "        return 4 # \"over 180 minutes\""
   ],
   "metadata": {
    "collapsed": false,
    "pycharm": {
     "name": "#%%\n"
    }
   }
  },
  {
   "cell_type": "code",
   "execution_count": null,
   "outputs": [],
   "source": [
    "df_recipes[\"minutes\"] = df_recipes['minutes'].apply(convert_minutes)\n",
    "\n",
    "# df_minutes = pd.get_dummies(df_recipes[[\"minutes\"]])"
   ],
   "metadata": {
    "collapsed": false,
    "pycharm": {
     "name": "#%%\n"
    }
   }
  },
  {
   "cell_type": "code",
   "execution_count": null,
   "outputs": [],
   "source": [
    "df_recipes[\"minutes\"].value_counts()"
   ],
   "metadata": {
    "collapsed": false,
    "pycharm": {
     "name": "#%%\n"
    }
   }
  },
  {
   "cell_type": "code",
   "execution_count": null,
   "outputs": [],
   "source": [
    "df_recipes.head()"
   ],
   "metadata": {
    "collapsed": false,
    "pycharm": {
     "name": "#%%\n"
    }
   }
  },
  {
   "cell_type": "markdown",
   "source": [
    "# Health goals (macros mostly)"
   ],
   "metadata": {
    "collapsed": false,
    "pycharm": {
     "name": "#%% md\n"
    }
   }
  },
  {
   "cell_type": "code",
   "execution_count": null,
   "outputs": [],
   "source": [
    "df_recipes.nutrition.tolist()"
   ],
   "metadata": {
    "collapsed": false,
    "pycharm": {
     "name": "#%%\n"
    }
   }
  },
  {
   "cell_type": "code",
   "execution_count": null,
   "outputs": [],
   "source": [
    "df_recipes[['Calories (#)', 'Total Fat (PDV)', 'Sugar (PDV)', 'Sodium (PDV)', 'Protein (PDV)', 'Saturated Fat (PDV)', 'Carbohydrates (PDV)']] = pd.DataFrame(df_recipes.nutrition.tolist(), index= df_recipes.index)\n",
    "df_recipes.head()"
   ],
   "metadata": {
    "collapsed": false,
    "pycharm": {
     "name": "#%%\n"
    }
   }
  },
  {
   "cell_type": "markdown",
   "source": [
    "## Normal diet"
   ],
   "metadata": {
    "collapsed": false,
    "pycharm": {
     "name": "#%% md\n"
    }
   }
  },
  {
   "cell_type": "code",
   "execution_count": null,
   "outputs": [],
   "source": [],
   "metadata": {
    "collapsed": false,
    "pycharm": {
     "name": "#%%\n"
    }
   }
  },
  {
   "cell_type": "markdown",
   "source": [
    "### Balanced"
   ],
   "metadata": {
    "collapsed": false,
    "pycharm": {
     "name": "#%% md\n"
    }
   }
  },
  {
   "cell_type": "code",
   "execution_count": null,
   "outputs": [],
   "source": [
    "indices_normal_balanced = list(np.where((df_recipes['Calories (#)'] >= 300) & (df_recipes['Calories (#)'] <= 800) & (df_recipes['Total Fat (PDV)'] >= 10) & (df_recipes['Total Fat (PDV)'] <= 15) & (df_recipes['Saturated Fat (PDV)'] <= 15) & (df_recipes['Protein (PDV)'] >= 10) & (df_recipes['Carbohydrates (PDV)'] >= 10) & (df_recipes['Carbohydrates (PDV)'] <= 20)))[0]"
   ],
   "metadata": {
    "collapsed": false,
    "pycharm": {
     "name": "#%%\n"
    }
   }
  },
  {
   "cell_type": "code",
   "execution_count": null,
   "outputs": [],
   "source": [
    "len(indices_normal_balanced)"
   ],
   "metadata": {
    "collapsed": false,
    "pycharm": {
     "name": "#%%\n"
    }
   }
  },
  {
   "cell_type": "code",
   "execution_count": null,
   "outputs": [],
   "source": [
    "df_recipes_cat = df_recipes\n",
    "df_recipes_cat[\"Category\"] = 300\n",
    "\n",
    "for index in indices_normal_balanced:\n",
    "    if df_recipes.loc[index,\"Cuisine\"] == 0 and df_recipes.loc[index,\"minutes\"] == 0:\n",
    "        df_recipes_cat.loc[index,\"Category\"] = 0\n",
    "    elif df_recipes.loc[index,\"Cuisine\"] == 0 and df_recipes.loc[index,\"minutes\"] == 1:\n",
    "        df_recipes_cat.loc[index,\"Category\"] = 1\n",
    "    elif df_recipes.loc[index,\"Cuisine\"] == 0 and df_recipes.loc[index,\"minutes\"] == 2:\n",
    "        df_recipes_cat.loc[index,\"Category\"] = 2\n",
    "    elif df_recipes.loc[index,\"Cuisine\"] == 0 and df_recipes.loc[index,\"minutes\"] == 3:\n",
    "        df_recipes_cat.loc[index,\"Category\"] = 3\n",
    "    elif df_recipes.loc[index,\"Cuisine\"] == 0 and df_recipes.loc[index,\"minutes\"] == 4:\n",
    "        df_recipes_cat.loc[index,\"Category\"] = 4\n",
    "    elif df_recipes.loc[index,\"Cuisine\"] == 1 and df_recipes.loc[index,\"minutes\"] == 0:\n",
    "        df_recipes_cat.loc[index,\"Category\"] = 5\n",
    "    elif df_recipes.loc[index,\"Cuisine\"] == 1 and df_recipes.loc[index,\"minutes\"] == 1:\n",
    "        df_recipes_cat.loc[index,\"Category\"] = 6\n",
    "    elif df_recipes.loc[index,\"Cuisine\"] == 1 and df_recipes.loc[index,\"minutes\"] == 2:\n",
    "        df_recipes_cat.loc[index,\"Category\"] = 7\n",
    "    elif df_recipes.loc[index,\"Cuisine\"] == 1 and df_recipes.loc[index,\"minutes\"] == 3:\n",
    "        df_recipes_cat.loc[index,\"Category\"] = 8\n",
    "    elif df_recipes.loc[index,\"Cuisine\"] == 1 and df_recipes.loc[index,\"minutes\"] == 4:\n",
    "        df_recipes_cat.loc[index,\"Category\"] = 9\n",
    "    elif df_recipes.loc[index,\"Cuisine\"] == 2 and df_recipes.loc[index,\"minutes\"] == 0:\n",
    "        df_recipes_cat.loc[index,\"Category\"] = 10\n",
    "    elif df_recipes.loc[index,\"Cuisine\"] == 2 and df_recipes.loc[index,\"minutes\"] == 1:\n",
    "        df_recipes_cat.loc[index,\"Category\"] = 11\n",
    "    elif df_recipes.loc[index,\"Cuisine\"] == 2 and df_recipes.loc[index,\"minutes\"] == 2:\n",
    "        df_recipes_cat.loc[index,\"Category\"] = 12\n",
    "    elif df_recipes.loc[index,\"Cuisine\"] == 2 and df_recipes.loc[index,\"minutes\"] == 3:\n",
    "        df_recipes_cat.loc[index,\"Category\"] = 13\n",
    "    elif df_recipes.loc[index,\"Cuisine\"] == 2 and df_recipes.loc[index,\"minutes\"] == 4:\n",
    "        df_recipes_cat.loc[index,\"Category\"] = 14\n",
    "    elif df_recipes.loc[index,\"Cuisine\"] == 3 and df_recipes.loc[index,\"minutes\"] == 0:\n",
    "        df_recipes_cat.loc[index,\"Category\"] = 15\n",
    "    elif df_recipes.loc[index,\"Cuisine\"] == 3 and df_recipes.loc[index,\"minutes\"] == 1:\n",
    "        df_recipes_cat.loc[index,\"Category\"] = 16\n",
    "    elif df_recipes.loc[index,\"Cuisine\"] == 3 and df_recipes.loc[index,\"minutes\"] == 2:\n",
    "        df_recipes_cat.loc[index,\"Category\"] = 17\n",
    "    elif df_recipes.loc[index,\"Cuisine\"] == 3 and df_recipes.loc[index,\"minutes\"] == 3:\n",
    "        df_recipes_cat.loc[index,\"Category\"] = 18\n",
    "    elif df_recipes.loc[index,\"Cuisine\"] == 3 and df_recipes.loc[index,\"minutes\"] == 4:\n",
    "        df_recipes_cat.loc[index,\"Category\"] = 19\n",
    "    elif df_recipes.loc[index,\"Cuisine\"] == 4 and df_recipes.loc[index,\"minutes\"] == 0:\n",
    "        df_recipes_cat.loc[index,\"Category\"] = 20\n",
    "    elif df_recipes.loc[index,\"Cuisine\"] == 4 and df_recipes.loc[index,\"minutes\"] == 1:\n",
    "        df_recipes_cat.loc[index,\"Category\"] = 21\n",
    "    elif df_recipes.loc[index,\"Cuisine\"] == 4 and df_recipes.loc[index,\"minutes\"] == 2:\n",
    "        df_recipes_cat.loc[index,\"Category\"] = 22\n",
    "    elif df_recipes.loc[index,\"Cuisine\"] == 4 and df_recipes.loc[index,\"minutes\"] == 3:\n",
    "        df_recipes_cat.loc[index,\"Category\"] = 23\n",
    "    elif df_recipes.loc[index,\"Cuisine\"] == 4 and df_recipes.loc[index,\"minutes\"] == 4:\n",
    "        df_recipes_cat.loc[index,\"Category\"] = 24"
   ],
   "metadata": {
    "collapsed": false,
    "pycharm": {
     "name": "#%%\n"
    }
   }
  },
  {
   "cell_type": "code",
   "execution_count": null,
   "outputs": [],
   "source": [],
   "metadata": {
    "collapsed": false,
    "pycharm": {
     "name": "#%%\n"
    }
   }
  },
  {
   "cell_type": "markdown",
   "source": [
    "### Gaining muscle (Calorie surplus)"
   ],
   "metadata": {
    "collapsed": false,
    "pycharm": {
     "name": "#%% md\n"
    }
   }
  },
  {
   "cell_type": "code",
   "execution_count": null,
   "outputs": [],
   "source": [
    "indices_normal_gains = list(np.where((df_recipes['Calories (#)'] >= 500) & (df_recipes['Calories (#)'] <= 1200) & (df_recipes['Total Fat (PDV)'] >= 15) & (df_recipes['Total Fat (PDV)'] <= 25) & (df_recipes['Saturated Fat (PDV)'] <= 20) & (df_recipes['Protein (PDV)'] >= 20) & (df_recipes['Carbohydrates (PDV)'] >= 30) & (df_recipes['Carbohydrates (PDV)'] <= 60)))[0]"
   ],
   "metadata": {
    "collapsed": false,
    "pycharm": {
     "name": "#%%\n"
    }
   }
  },
  {
   "cell_type": "code",
   "execution_count": null,
   "outputs": [],
   "source": [
    "len(indices_normal_gains)"
   ],
   "metadata": {
    "collapsed": false,
    "pycharm": {
     "name": "#%%\n"
    }
   }
  },
  {
   "cell_type": "code",
   "execution_count": null,
   "outputs": [],
   "source": [
    "for index in indices_normal_gains:\n",
    "    if df_recipes.loc[index,\"Cuisine\"] == 0 and df_recipes.loc[index,\"minutes\"] == 0:\n",
    "        df_recipes_cat.loc[index,\"Category\"] = 25\n",
    "    elif df_recipes.loc[index,\"Cuisine\"] == 0 and df_recipes.loc[index,\"minutes\"] == 1:\n",
    "        df_recipes_cat.loc[index,\"Category\"] = 26\n",
    "    elif df_recipes.loc[index,\"Cuisine\"] == 0 and df_recipes.loc[index,\"minutes\"] == 2:\n",
    "        df_recipes_cat.loc[index,\"Category\"] = 27\n",
    "    elif df_recipes.loc[index,\"Cuisine\"] == 0 and df_recipes.loc[index,\"minutes\"] == 3:\n",
    "        df_recipes_cat.loc[index,\"Category\"] = 28\n",
    "    elif df_recipes.loc[index,\"Cuisine\"] == 0 and df_recipes.loc[index,\"minutes\"] == 4:\n",
    "        df_recipes_cat.loc[index,\"Category\"] = 29\n",
    "    elif df_recipes.loc[index,\"Cuisine\"] == 1 and df_recipes.loc[index,\"minutes\"] == 0:\n",
    "        df_recipes_cat.loc[index,\"Category\"] = 30\n",
    "    elif df_recipes.loc[index,\"Cuisine\"] == 1 and df_recipes.loc[index,\"minutes\"] == 1:\n",
    "        df_recipes_cat.loc[index,\"Category\"] = 31\n",
    "    elif df_recipes.loc[index,\"Cuisine\"] == 1 and df_recipes.loc[index,\"minutes\"] == 2:\n",
    "        df_recipes_cat.loc[index,\"Category\"] = 32\n",
    "    elif df_recipes.loc[index,\"Cuisine\"] == 1 and df_recipes.loc[index,\"minutes\"] == 3:\n",
    "        df_recipes_cat.loc[index,\"Category\"] = 33\n",
    "    elif df_recipes.loc[index,\"Cuisine\"] == 1 and df_recipes.loc[index,\"minutes\"] == 4:\n",
    "        df_recipes_cat.loc[index,\"Category\"] = 34\n",
    "    elif df_recipes.loc[index,\"Cuisine\"] == 2 and df_recipes.loc[index,\"minutes\"] == 0:\n",
    "        df_recipes_cat.loc[index,\"Category\"] = 35\n",
    "    elif df_recipes.loc[index,\"Cuisine\"] == 2 and df_recipes.loc[index,\"minutes\"] == 1:\n",
    "        df_recipes_cat.loc[index,\"Category\"] = 36\n",
    "    elif df_recipes.loc[index,\"Cuisine\"] == 2 and df_recipes.loc[index,\"minutes\"] == 2:\n",
    "        df_recipes_cat.loc[index,\"Category\"] = 37\n",
    "    elif df_recipes.loc[index,\"Cuisine\"] == 2 and df_recipes.loc[index,\"minutes\"] == 3:\n",
    "        df_recipes_cat.loc[index,\"Category\"] = 38\n",
    "    elif df_recipes.loc[index,\"Cuisine\"] == 2 and df_recipes.loc[index,\"minutes\"] == 4:\n",
    "        df_recipes_cat.loc[index,\"Category\"] = 39\n",
    "    elif df_recipes.loc[index,\"Cuisine\"] == 3 and df_recipes.loc[index,\"minutes\"] == 0:\n",
    "        df_recipes_cat.loc[index,\"Category\"] = 40\n",
    "    elif df_recipes.loc[index,\"Cuisine\"] == 3 and df_recipes.loc[index,\"minutes\"] == 1:\n",
    "        df_recipes_cat.loc[index,\"Category\"] = 41\n",
    "    elif df_recipes.loc[index,\"Cuisine\"] == 3 and df_recipes.loc[index,\"minutes\"] == 2:\n",
    "        df_recipes_cat.loc[index,\"Category\"] = 42\n",
    "    elif df_recipes.loc[index,\"Cuisine\"] == 3 and df_recipes.loc[index,\"minutes\"] == 3:\n",
    "        df_recipes_cat.loc[index,\"Category\"] = 43\n",
    "    elif df_recipes.loc[index,\"Cuisine\"] == 3 and df_recipes.loc[index,\"minutes\"] == 4:\n",
    "        df_recipes_cat.loc[index,\"Category\"] = 44\n",
    "    elif df_recipes.loc[index,\"Cuisine\"] == 4 and df_recipes.loc[index,\"minutes\"] == 0:\n",
    "        df_recipes_cat.loc[index,\"Category\"] = 45\n",
    "    elif df_recipes.loc[index,\"Cuisine\"] == 4 and df_recipes.loc[index,\"minutes\"] == 1:\n",
    "        df_recipes_cat.loc[index,\"Category\"] = 46\n",
    "    elif df_recipes.loc[index,\"Cuisine\"] == 4 and df_recipes.loc[index,\"minutes\"] == 2:\n",
    "        df_recipes_cat.loc[index,\"Category\"] = 47\n",
    "    elif df_recipes.loc[index,\"Cuisine\"] == 4 and df_recipes.loc[index,\"minutes\"] == 3:\n",
    "        df_recipes_cat.loc[index,\"Category\"] = 48\n",
    "    elif df_recipes.loc[index,\"Cuisine\"] == 4 and df_recipes.loc[index,\"minutes\"] == 4:\n",
    "        df_recipes_cat.loc[index,\"Category\"] = 49"
   ],
   "metadata": {
    "collapsed": false,
    "pycharm": {
     "name": "#%%\n"
    }
   }
  },
  {
   "cell_type": "code",
   "execution_count": null,
   "outputs": [],
   "source": [],
   "metadata": {
    "collapsed": false,
    "pycharm": {
     "name": "#%%\n"
    }
   }
  },
  {
   "cell_type": "markdown",
   "source": [
    "### Losing fat (Calorie deficit)"
   ],
   "metadata": {
    "collapsed": false,
    "pycharm": {
     "name": "#%% md\n"
    }
   }
  },
  {
   "cell_type": "code",
   "execution_count": null,
   "outputs": [],
   "source": [
    "indices_normal_losing = list(np.where((df_recipes['Calories (#)'] >= 300) & (df_recipes['Calories (#)'] <= 600) & (df_recipes['Total Fat (PDV)'] >= 7.5) & (df_recipes['Total Fat (PDV)'] <= 15) & (df_recipes['Saturated Fat (PDV)'] <= 20) & (df_recipes['Protein (PDV)'] >= 25) & (df_recipes['Carbohydrates (PDV)'] >= 10) & (df_recipes['Carbohydrates (PDV)'] <= 30)))[0]"
   ],
   "metadata": {
    "collapsed": false,
    "pycharm": {
     "name": "#%%\n"
    }
   }
  },
  {
   "cell_type": "code",
   "execution_count": null,
   "outputs": [],
   "source": [
    "len(indices_normal_losing)"
   ],
   "metadata": {
    "collapsed": false,
    "pycharm": {
     "name": "#%%\n"
    }
   }
  },
  {
   "cell_type": "code",
   "execution_count": null,
   "outputs": [],
   "source": [
    "for index in indices_normal_losing:\n",
    "    if df_recipes.loc[index,\"Cuisine\"] == 0 and df_recipes.loc[index,\"minutes\"] == 0:\n",
    "        df_recipes_cat.loc[index,\"Category\"] = 50\n",
    "    elif df_recipes.loc[index,\"Cuisine\"] == 0 and df_recipes.loc[index,\"minutes\"] == 1:\n",
    "        df_recipes_cat.loc[index,\"Category\"] = 51\n",
    "    elif df_recipes.loc[index,\"Cuisine\"] == 0 and df_recipes.loc[index,\"minutes\"] == 2:\n",
    "        df_recipes_cat.loc[index,\"Category\"] = 52\n",
    "    elif df_recipes.loc[index,\"Cuisine\"] == 0 and df_recipes.loc[index,\"minutes\"] == 3:\n",
    "        df_recipes_cat.loc[index,\"Category\"] = 53\n",
    "    elif df_recipes.loc[index,\"Cuisine\"] == 0 and df_recipes.loc[index,\"minutes\"] == 4:\n",
    "        df_recipes_cat.loc[index,\"Category\"] = 54\n",
    "    elif df_recipes.loc[index,\"Cuisine\"] == 1 and df_recipes.loc[index,\"minutes\"] == 0:\n",
    "        df_recipes_cat.loc[index,\"Category\"] = 55\n",
    "    elif df_recipes.loc[index,\"Cuisine\"] == 1 and df_recipes.loc[index,\"minutes\"] == 1:\n",
    "        df_recipes_cat.loc[index,\"Category\"] = 56\n",
    "    elif df_recipes.loc[index,\"Cuisine\"] == 1 and df_recipes.loc[index,\"minutes\"] == 2:\n",
    "        df_recipes_cat.loc[index,\"Category\"] = 57\n",
    "    elif df_recipes.loc[index,\"Cuisine\"] == 1 and df_recipes.loc[index,\"minutes\"] == 3:\n",
    "        df_recipes_cat.loc[index,\"Category\"] = 58\n",
    "    elif df_recipes.loc[index,\"Cuisine\"] == 1 and df_recipes.loc[index,\"minutes\"] == 4:\n",
    "        df_recipes_cat.loc[index,\"Category\"] = 59\n",
    "    elif df_recipes.loc[index,\"Cuisine\"] == 2 and df_recipes.loc[index,\"minutes\"] == 0:\n",
    "        df_recipes_cat.loc[index,\"Category\"] = 60\n",
    "    elif df_recipes.loc[index,\"Cuisine\"] == 2 and df_recipes.loc[index,\"minutes\"] == 1:\n",
    "        df_recipes_cat.loc[index,\"Category\"] = 61\n",
    "    elif df_recipes.loc[index,\"Cuisine\"] == 2 and df_recipes.loc[index,\"minutes\"] == 2:\n",
    "        df_recipes_cat.loc[index,\"Category\"] = 62\n",
    "    elif df_recipes.loc[index,\"Cuisine\"] == 2 and df_recipes.loc[index,\"minutes\"] == 3:\n",
    "        df_recipes_cat.loc[index,\"Category\"] = 63\n",
    "    elif df_recipes.loc[index,\"Cuisine\"] == 2 and df_recipes.loc[index,\"minutes\"] == 4:\n",
    "        df_recipes_cat.loc[index,\"Category\"] = 64\n",
    "    elif df_recipes.loc[index,\"Cuisine\"] == 3 and df_recipes.loc[index,\"minutes\"] == 0:\n",
    "        df_recipes_cat.loc[index,\"Category\"] = 65\n",
    "    elif df_recipes.loc[index,\"Cuisine\"] == 3 and df_recipes.loc[index,\"minutes\"] == 1:\n",
    "        df_recipes_cat.loc[index,\"Category\"] = 66\n",
    "    elif df_recipes.loc[index,\"Cuisine\"] == 3 and df_recipes.loc[index,\"minutes\"] == 2:\n",
    "        df_recipes_cat.loc[index,\"Category\"] = 67\n",
    "    elif df_recipes.loc[index,\"Cuisine\"] == 3 and df_recipes.loc[index,\"minutes\"] == 3:\n",
    "        df_recipes_cat.loc[index,\"Category\"] = 68\n",
    "    elif df_recipes.loc[index,\"Cuisine\"] == 3 and df_recipes.loc[index,\"minutes\"] == 4:\n",
    "        df_recipes_cat.loc[index,\"Category\"] = 69\n",
    "    elif df_recipes.loc[index,\"Cuisine\"] == 4 and df_recipes.loc[index,\"minutes\"] == 0:\n",
    "        df_recipes_cat.loc[index,\"Category\"] = 70\n",
    "    elif df_recipes.loc[index,\"Cuisine\"] == 4 and df_recipes.loc[index,\"minutes\"] == 1:\n",
    "        df_recipes_cat.loc[index,\"Category\"] = 71\n",
    "    elif df_recipes.loc[index,\"Cuisine\"] == 4 and df_recipes.loc[index,\"minutes\"] == 2:\n",
    "        df_recipes_cat.loc[index,\"Category\"] = 72\n",
    "    elif df_recipes.loc[index,\"Cuisine\"] == 4 and df_recipes.loc[index,\"minutes\"] == 3:\n",
    "        df_recipes_cat.loc[index,\"Category\"] = 73\n",
    "    elif df_recipes.loc[index,\"Cuisine\"] == 4 and df_recipes.loc[index,\"minutes\"] == 4:\n",
    "        df_recipes_cat.loc[index,\"Category\"] = 74"
   ],
   "metadata": {
    "collapsed": false,
    "pycharm": {
     "name": "#%%\n"
    }
   }
  },
  {
   "cell_type": "code",
   "execution_count": null,
   "outputs": [],
   "source": [],
   "metadata": {
    "collapsed": false,
    "pycharm": {
     "name": "#%%\n"
    }
   }
  },
  {
   "cell_type": "markdown",
   "source": [
    "## Keto diet"
   ],
   "metadata": {
    "collapsed": false,
    "pycharm": {
     "name": "#%% md\n"
    }
   }
  },
  {
   "cell_type": "code",
   "execution_count": null,
   "outputs": [],
   "source": [],
   "metadata": {
    "collapsed": false,
    "pycharm": {
     "name": "#%%\n"
    }
   }
  },
  {
   "cell_type": "markdown",
   "source": [
    "### Balanced"
   ],
   "metadata": {
    "collapsed": false,
    "pycharm": {
     "name": "#%% md\n"
    }
   }
  },
  {
   "cell_type": "code",
   "execution_count": null,
   "outputs": [],
   "source": [
    "indices_keto_balanced = list(np.where((df_recipes['Calories (#)'] >= 300) & (df_recipes['Calories (#)'] <= 800) & (df_recipes['Total Fat (PDV)'] >= 30) & (df_recipes['Total Fat (PDV)'] <= 35) & (df_recipes['Saturated Fat (PDV)'] <= 15) & (df_recipes['Protein (PDV)'] >= 10) & (df_recipes['Carbohydrates (PDV)'] <= 5)))[0]"
   ],
   "metadata": {
    "collapsed": false,
    "pycharm": {
     "name": "#%%\n"
    }
   }
  },
  {
   "cell_type": "code",
   "execution_count": null,
   "outputs": [],
   "source": [
    "len(indices_keto_balanced)"
   ],
   "metadata": {
    "collapsed": false,
    "pycharm": {
     "name": "#%%\n"
    }
   }
  },
  {
   "cell_type": "code",
   "execution_count": null,
   "outputs": [],
   "source": [
    "for index in indices_keto_balanced:\n",
    "    if df_recipes.loc[index,\"Cuisine\"] == 0 and df_recipes.loc[index,\"minutes\"] == 0:\n",
    "        df_recipes_cat.loc[index,\"Category\"] = 75\n",
    "    elif df_recipes.loc[index,\"Cuisine\"] == 0 and df_recipes.loc[index,\"minutes\"] == 1:\n",
    "        df_recipes_cat.loc[index,\"Category\"] = 76\n",
    "    elif df_recipes.loc[index,\"Cuisine\"] == 0 and df_recipes.loc[index,\"minutes\"] == 2:\n",
    "        df_recipes_cat.loc[index,\"Category\"] = 77\n",
    "    elif df_recipes.loc[index,\"Cuisine\"] == 0 and df_recipes.loc[index,\"minutes\"] == 3:\n",
    "        df_recipes_cat.loc[index,\"Category\"] = 78\n",
    "    elif df_recipes.loc[index,\"Cuisine\"] == 0 and df_recipes.loc[index,\"minutes\"] == 4:\n",
    "        df_recipes_cat.loc[index,\"Category\"] = 79\n",
    "    elif df_recipes.loc[index,\"Cuisine\"] == 1 and df_recipes.loc[index,\"minutes\"] == 0:\n",
    "        df_recipes_cat.loc[index,\"Category\"] = 80\n",
    "    elif df_recipes.loc[index,\"Cuisine\"] == 1 and df_recipes.loc[index,\"minutes\"] == 1:\n",
    "        df_recipes_cat.loc[index,\"Category\"] = 81\n",
    "    elif df_recipes.loc[index,\"Cuisine\"] == 1 and df_recipes.loc[index,\"minutes\"] == 2:\n",
    "        df_recipes_cat.loc[index,\"Category\"] = 82\n",
    "    elif df_recipes.loc[index,\"Cuisine\"] == 1 and df_recipes.loc[index,\"minutes\"] == 3:\n",
    "        df_recipes_cat.loc[index,\"Category\"] = 83\n",
    "    elif df_recipes.loc[index,\"Cuisine\"] == 1 and df_recipes.loc[index,\"minutes\"] == 4:\n",
    "        df_recipes_cat.loc[index,\"Category\"] = 84\n",
    "    elif df_recipes.loc[index,\"Cuisine\"] == 2 and df_recipes.loc[index,\"minutes\"] == 0:\n",
    "        df_recipes_cat.loc[index,\"Category\"] = 85\n",
    "    elif df_recipes.loc[index,\"Cuisine\"] == 2 and df_recipes.loc[index,\"minutes\"] == 1:\n",
    "        df_recipes_cat.loc[index,\"Category\"] = 86\n",
    "    elif df_recipes.loc[index,\"Cuisine\"] == 2 and df_recipes.loc[index,\"minutes\"] == 2:\n",
    "        df_recipes_cat.loc[index,\"Category\"] = 87\n",
    "    elif df_recipes.loc[index,\"Cuisine\"] == 2 and df_recipes.loc[index,\"minutes\"] == 3:\n",
    "        df_recipes_cat.loc[index,\"Category\"] = 88\n",
    "    elif df_recipes.loc[index,\"Cuisine\"] == 2 and df_recipes.loc[index,\"minutes\"] == 4:\n",
    "        df_recipes_cat.loc[index,\"Category\"] = 89\n",
    "    elif df_recipes.loc[index,\"Cuisine\"] == 3 and df_recipes.loc[index,\"minutes\"] == 0:\n",
    "        df_recipes_cat.loc[index,\"Category\"] = 90\n",
    "    elif df_recipes.loc[index,\"Cuisine\"] == 3 and df_recipes.loc[index,\"minutes\"] == 1:\n",
    "        df_recipes_cat.loc[index,\"Category\"] = 91\n",
    "    elif df_recipes.loc[index,\"Cuisine\"] == 3 and df_recipes.loc[index,\"minutes\"] == 2:\n",
    "        df_recipes_cat.loc[index,\"Category\"] = 92\n",
    "    elif df_recipes.loc[index,\"Cuisine\"] == 3 and df_recipes.loc[index,\"minutes\"] == 3:\n",
    "        df_recipes_cat.loc[index,\"Category\"] = 93\n",
    "    elif df_recipes.loc[index,\"Cuisine\"] == 3 and df_recipes.loc[index,\"minutes\"] == 4:\n",
    "        df_recipes_cat.loc[index,\"Category\"] = 94\n",
    "    elif df_recipes.loc[index,\"Cuisine\"] == 4 and df_recipes.loc[index,\"minutes\"] == 0:\n",
    "        df_recipes_cat.loc[index,\"Category\"] = 95\n",
    "    elif df_recipes.loc[index,\"Cuisine\"] == 4 and df_recipes.loc[index,\"minutes\"] == 1:\n",
    "        df_recipes_cat.loc[index,\"Category\"] = 96\n",
    "    elif df_recipes.loc[index,\"Cuisine\"] == 4 and df_recipes.loc[index,\"minutes\"] == 2:\n",
    "        df_recipes_cat.loc[index,\"Category\"] = 97\n",
    "    elif df_recipes.loc[index,\"Cuisine\"] == 4 and df_recipes.loc[index,\"minutes\"] == 3:\n",
    "        df_recipes_cat.loc[index,\"Category\"] = 98\n",
    "    elif df_recipes.loc[index,\"Cuisine\"] == 4 and df_recipes.loc[index,\"minutes\"] == 4:\n",
    "        df_recipes_cat.loc[index,\"Category\"] = 99"
   ],
   "metadata": {
    "collapsed": false,
    "pycharm": {
     "name": "#%%\n"
    }
   }
  },
  {
   "cell_type": "code",
   "execution_count": null,
   "outputs": [],
   "source": [],
   "metadata": {
    "collapsed": false,
    "pycharm": {
     "name": "#%%\n"
    }
   }
  },
  {
   "cell_type": "markdown",
   "source": [
    "### Gaining muscle (Calorie surplus)"
   ],
   "metadata": {
    "collapsed": false,
    "pycharm": {
     "name": "#%% md\n"
    }
   }
  },
  {
   "cell_type": "code",
   "execution_count": null,
   "outputs": [],
   "source": [
    "indices_keto_gains = list(np.where((df_recipes['Calories (#)'] >= 500) & (df_recipes['Calories (#)'] <= 1200) & (df_recipes['Total Fat (PDV)'] >= 45) & (df_recipes['Total Fat (PDV)'] <= 55) & (df_recipes['Saturated Fat (PDV)'] <= 20) & (df_recipes['Protein (PDV)'] >= 20) & (df_recipes['Carbohydrates (PDV)'] <= 5)))[0]"
   ],
   "metadata": {
    "collapsed": false,
    "pycharm": {
     "name": "#%%\n"
    }
   }
  },
  {
   "cell_type": "code",
   "execution_count": null,
   "outputs": [],
   "source": [
    "len(indices_keto_gains)"
   ],
   "metadata": {
    "collapsed": false,
    "pycharm": {
     "name": "#%%\n"
    }
   }
  },
  {
   "cell_type": "code",
   "execution_count": null,
   "outputs": [],
   "source": [
    "for index in indices_keto_gains:\n",
    "    if df_recipes.loc[index,\"Cuisine\"] == 0 and df_recipes.loc[index,\"minutes\"] == 0:\n",
    "        df_recipes_cat.loc[index,\"Category\"] = 100\n",
    "    elif df_recipes.loc[index,\"Cuisine\"] == 0 and df_recipes.loc[index,\"minutes\"] == 1:\n",
    "        df_recipes_cat.loc[index,\"Category\"] = 101\n",
    "    elif df_recipes.loc[index,\"Cuisine\"] == 0 and df_recipes.loc[index,\"minutes\"] == 2:\n",
    "        df_recipes_cat.loc[index,\"Category\"] = 102\n",
    "    elif df_recipes.loc[index,\"Cuisine\"] == 0 and df_recipes.loc[index,\"minutes\"] == 3:\n",
    "        df_recipes_cat.loc[index,\"Category\"] = 103\n",
    "    elif df_recipes.loc[index,\"Cuisine\"] == 0 and df_recipes.loc[index,\"minutes\"] == 4:\n",
    "        df_recipes_cat.loc[index,\"Category\"] = 104\n",
    "    elif df_recipes.loc[index,\"Cuisine\"] == 1 and df_recipes.loc[index,\"minutes\"] == 0:\n",
    "        df_recipes_cat.loc[index,\"Category\"] = 105\n",
    "    elif df_recipes.loc[index,\"Cuisine\"] == 1 and df_recipes.loc[index,\"minutes\"] == 1:\n",
    "        df_recipes_cat.loc[index,\"Category\"] = 106\n",
    "    elif df_recipes.loc[index,\"Cuisine\"] == 1 and df_recipes.loc[index,\"minutes\"] == 2:\n",
    "        df_recipes_cat.loc[index,\"Category\"] = 107\n",
    "    elif df_recipes.loc[index,\"Cuisine\"] == 1 and df_recipes.loc[index,\"minutes\"] == 3:\n",
    "        df_recipes_cat.loc[index,\"Category\"] = 108\n",
    "    elif df_recipes.loc[index,\"Cuisine\"] == 1 and df_recipes.loc[index,\"minutes\"] == 4:\n",
    "        df_recipes_cat.loc[index,\"Category\"] = 109\n",
    "    elif df_recipes.loc[index,\"Cuisine\"] == 2 and df_recipes.loc[index,\"minutes\"] == 0:\n",
    "        df_recipes_cat.loc[index,\"Category\"] = 110\n",
    "    elif df_recipes.loc[index,\"Cuisine\"] == 2 and df_recipes.loc[index,\"minutes\"] == 1:\n",
    "        df_recipes_cat.loc[index,\"Category\"] = 111\n",
    "    elif df_recipes.loc[index,\"Cuisine\"] == 2 and df_recipes.loc[index,\"minutes\"] == 2:\n",
    "        df_recipes_cat.loc[index,\"Category\"] = 112\n",
    "    elif df_recipes.loc[index,\"Cuisine\"] == 2 and df_recipes.loc[index,\"minutes\"] == 3:\n",
    "        df_recipes_cat.loc[index,\"Category\"] = 113\n",
    "    elif df_recipes.loc[index,\"Cuisine\"] == 2 and df_recipes.loc[index,\"minutes\"] == 4:\n",
    "        df_recipes_cat.loc[index,\"Category\"] = 114\n",
    "    elif df_recipes.loc[index,\"Cuisine\"] == 3 and df_recipes.loc[index,\"minutes\"] == 0:\n",
    "        df_recipes_cat.loc[index,\"Category\"] = 115\n",
    "    elif df_recipes.loc[index,\"Cuisine\"] == 3 and df_recipes.loc[index,\"minutes\"] == 1:\n",
    "        df_recipes_cat.loc[index,\"Category\"] = 116\n",
    "    elif df_recipes.loc[index,\"Cuisine\"] == 3 and df_recipes.loc[index,\"minutes\"] == 2:\n",
    "        df_recipes_cat.loc[index,\"Category\"] = 117\n",
    "    elif df_recipes.loc[index,\"Cuisine\"] == 3 and df_recipes.loc[index,\"minutes\"] == 3:\n",
    "        df_recipes_cat.loc[index,\"Category\"] = 118\n",
    "    elif df_recipes.loc[index,\"Cuisine\"] == 3 and df_recipes.loc[index,\"minutes\"] == 4:\n",
    "        df_recipes_cat.loc[index,\"Category\"] = 119\n",
    "    elif df_recipes.loc[index,\"Cuisine\"] == 4 and df_recipes.loc[index,\"minutes\"] == 0:\n",
    "        df_recipes_cat.loc[index,\"Category\"] = 120\n",
    "    elif df_recipes.loc[index,\"Cuisine\"] == 4 and df_recipes.loc[index,\"minutes\"] == 1:\n",
    "        df_recipes_cat.loc[index,\"Category\"] = 121\n",
    "    elif df_recipes.loc[index,\"Cuisine\"] == 4 and df_recipes.loc[index,\"minutes\"] == 2:\n",
    "        df_recipes_cat.loc[index,\"Category\"] = 122\n",
    "    elif df_recipes.loc[index,\"Cuisine\"] == 4 and df_recipes.loc[index,\"minutes\"] == 3:\n",
    "        df_recipes_cat.loc[index,\"Category\"] = 123\n",
    "    elif df_recipes.loc[index,\"Cuisine\"] == 4 and df_recipes.loc[index,\"minutes\"] == 4:\n",
    "        df_recipes_cat.loc[index,\"Category\"] = 124"
   ],
   "metadata": {
    "collapsed": false,
    "pycharm": {
     "name": "#%%\n"
    }
   }
  },
  {
   "cell_type": "code",
   "execution_count": null,
   "outputs": [],
   "source": [],
   "metadata": {
    "collapsed": false,
    "pycharm": {
     "name": "#%%\n"
    }
   }
  },
  {
   "cell_type": "markdown",
   "source": [
    "### Losing Fat (Calorie deficit)"
   ],
   "metadata": {
    "collapsed": false,
    "pycharm": {
     "name": "#%% md\n"
    }
   }
  },
  {
   "cell_type": "code",
   "execution_count": null,
   "outputs": [],
   "source": [
    "indices_keto_losing = list(np.where((df_recipes['Calories (#)'] >= 300) & (df_recipes['Calories (#)'] <= 600) & (df_recipes['Total Fat (PDV)'] >= 22.5) & (df_recipes['Total Fat (PDV)'] <= 30) & (df_recipes['Saturated Fat (PDV)'] <= 20) & (df_recipes['Protein (PDV)'] >= 25) & (df_recipes['Carbohydrates (PDV)'] <= 5)))[0]"
   ],
   "metadata": {
    "collapsed": false,
    "pycharm": {
     "name": "#%%\n"
    }
   }
  },
  {
   "cell_type": "code",
   "execution_count": null,
   "outputs": [],
   "source": [
    "len(indices_keto_losing)"
   ],
   "metadata": {
    "collapsed": false,
    "pycharm": {
     "name": "#%%\n"
    }
   }
  },
  {
   "cell_type": "code",
   "execution_count": null,
   "outputs": [],
   "source": [
    "for index in indices_keto_losing:\n",
    "    if df_recipes.loc[index,\"Cuisine\"] == 0 and df_recipes.loc[index,\"minutes\"] == 0:\n",
    "        df_recipes_cat.loc[index,\"Category\"] = 125\n",
    "    elif df_recipes.loc[index,\"Cuisine\"] == 0 and df_recipes.loc[index,\"minutes\"] == 1:\n",
    "        df_recipes_cat.loc[index,\"Category\"] = 126\n",
    "    elif df_recipes.loc[index,\"Cuisine\"] == 0 and df_recipes.loc[index,\"minutes\"] == 2:\n",
    "        df_recipes_cat.loc[index,\"Category\"] = 127\n",
    "    elif df_recipes.loc[index,\"Cuisine\"] == 0 and df_recipes.loc[index,\"minutes\"] == 3:\n",
    "        df_recipes_cat.loc[index,\"Category\"] = 128\n",
    "    elif df_recipes.loc[index,\"Cuisine\"] == 0 and df_recipes.loc[index,\"minutes\"] == 4:\n",
    "        df_recipes_cat.loc[index,\"Category\"] = 129\n",
    "    elif df_recipes.loc[index,\"Cuisine\"] == 1 and df_recipes.loc[index,\"minutes\"] == 0:\n",
    "        df_recipes_cat.loc[index,\"Category\"] = 130\n",
    "    elif df_recipes.loc[index,\"Cuisine\"] == 1 and df_recipes.loc[index,\"minutes\"] == 1:\n",
    "        df_recipes_cat.loc[index,\"Category\"] = 131\n",
    "    elif df_recipes.loc[index,\"Cuisine\"] == 1 and df_recipes.loc[index,\"minutes\"] == 2:\n",
    "        df_recipes_cat.loc[index,\"Category\"] = 132\n",
    "    elif df_recipes.loc[index,\"Cuisine\"] == 1 and df_recipes.loc[index,\"minutes\"] == 3:\n",
    "        df_recipes_cat.loc[index,\"Category\"] = 133\n",
    "    elif df_recipes.loc[index,\"Cuisine\"] == 1 and df_recipes.loc[index,\"minutes\"] == 4:\n",
    "        df_recipes_cat.loc[index,\"Category\"] = 134\n",
    "    elif df_recipes.loc[index,\"Cuisine\"] == 2 and df_recipes.loc[index,\"minutes\"] == 0:\n",
    "        df_recipes_cat.loc[index,\"Category\"] = 135\n",
    "    elif df_recipes.loc[index,\"Cuisine\"] == 2 and df_recipes.loc[index,\"minutes\"] == 1:\n",
    "        df_recipes_cat.loc[index,\"Category\"] = 136\n",
    "    elif df_recipes.loc[index,\"Cuisine\"] == 2 and df_recipes.loc[index,\"minutes\"] == 2:\n",
    "        df_recipes_cat.loc[index,\"Category\"] = 137\n",
    "    elif df_recipes.loc[index,\"Cuisine\"] == 2 and df_recipes.loc[index,\"minutes\"] == 3:\n",
    "        df_recipes_cat.loc[index,\"Category\"] = 138\n",
    "    elif df_recipes.loc[index,\"Cuisine\"] == 2 and df_recipes.loc[index,\"minutes\"] == 4:\n",
    "        df_recipes_cat.loc[index,\"Category\"] = 139\n",
    "    elif df_recipes.loc[index,\"Cuisine\"] == 3 and df_recipes.loc[index,\"minutes\"] == 0:\n",
    "        df_recipes_cat.loc[index,\"Category\"] = 140\n",
    "    elif df_recipes.loc[index,\"Cuisine\"] == 3 and df_recipes.loc[index,\"minutes\"] == 1:\n",
    "        df_recipes_cat.loc[index,\"Category\"] = 141\n",
    "    elif df_recipes.loc[index,\"Cuisine\"] == 3 and df_recipes.loc[index,\"minutes\"] == 2:\n",
    "        df_recipes_cat.loc[index,\"Category\"] = 142\n",
    "    elif df_recipes.loc[index,\"Cuisine\"] == 3 and df_recipes.loc[index,\"minutes\"] == 3:\n",
    "        df_recipes_cat.loc[index,\"Category\"] = 143\n",
    "    elif df_recipes.loc[index,\"Cuisine\"] == 3 and df_recipes.loc[index,\"minutes\"] == 4:\n",
    "        df_recipes_cat.loc[index,\"Category\"] = 144\n",
    "    elif df_recipes.loc[index,\"Cuisine\"] == 4 and df_recipes.loc[index,\"minutes\"] == 0:\n",
    "        df_recipes_cat.loc[index,\"Category\"] = 145\n",
    "    elif df_recipes.loc[index,\"Cuisine\"] == 4 and df_recipes.loc[index,\"minutes\"] == 1:\n",
    "        df_recipes_cat.loc[index,\"Category\"] = 146\n",
    "    elif df_recipes.loc[index,\"Cuisine\"] == 4 and df_recipes.loc[index,\"minutes\"] == 2:\n",
    "        df_recipes_cat.loc[index,\"Category\"] = 147\n",
    "    elif df_recipes.loc[index,\"Cuisine\"] == 4 and df_recipes.loc[index,\"minutes\"] == 3:\n",
    "        df_recipes_cat.loc[index,\"Category\"] = 148\n",
    "    elif df_recipes.loc[index,\"Cuisine\"] == 4 and df_recipes.loc[index,\"minutes\"] == 4:\n",
    "        df_recipes_cat.loc[index,\"Category\"] = 149"
   ],
   "metadata": {
    "collapsed": false,
    "pycharm": {
     "name": "#%%\n"
    }
   }
  },
  {
   "cell_type": "code",
   "execution_count": null,
   "outputs": [],
   "source": [],
   "metadata": {
    "collapsed": false,
    "pycharm": {
     "name": "#%%\n"
    }
   }
  },
  {
   "cell_type": "markdown",
   "source": [
    "## Vegetarian diet"
   ],
   "metadata": {
    "collapsed": false,
    "pycharm": {
     "name": "#%% md\n"
    }
   }
  },
  {
   "cell_type": "code",
   "execution_count": null,
   "outputs": [],
   "source": [
    "df_recipes.head()"
   ],
   "metadata": {
    "collapsed": false,
    "pycharm": {
     "name": "#%%\n"
    }
   }
  },
  {
   "cell_type": "markdown",
   "source": [
    "### Balanced"
   ],
   "metadata": {
    "collapsed": false,
    "pycharm": {
     "name": "#%% md\n"
    }
   }
  },
  {
   "cell_type": "code",
   "execution_count": null,
   "outputs": [],
   "source": [
    "indices_vegetarian_balanced = list(np.where((df_recipes[\"Vegetarian\"] == \"vegetarian\") & (df_recipes['Calories (#)'] >= 300) & (df_recipes['Calories (#)'] <= 800) & (df_recipes['Total Fat (PDV)'] >= 10) & (df_recipes['Total Fat (PDV)'] <= 15) & (df_recipes['Saturated Fat (PDV)'] <= 15) & (df_recipes['Protein (PDV)'] >= 10) & (df_recipes['Carbohydrates (PDV)'] >= 10) & (df_recipes['Carbohydrates (PDV)'] <= 20)))[0]"
   ],
   "metadata": {
    "collapsed": false,
    "pycharm": {
     "name": "#%%\n"
    }
   }
  },
  {
   "cell_type": "code",
   "execution_count": null,
   "outputs": [],
   "source": [
    "len(indices_vegetarian_balanced)"
   ],
   "metadata": {
    "collapsed": false,
    "pycharm": {
     "name": "#%%\n"
    }
   }
  },
  {
   "cell_type": "code",
   "execution_count": null,
   "outputs": [],
   "source": [
    "for index in indices_vegetarian_balanced:\n",
    "    if df_recipes.loc[index,\"Cuisine\"] == 0 and df_recipes.loc[index,\"minutes\"] == 0:\n",
    "        df_recipes_cat.loc[index,\"Category\"] = 150\n",
    "    elif df_recipes.loc[index,\"Cuisine\"] == 0 and df_recipes.loc[index,\"minutes\"] == 1:\n",
    "        df_recipes_cat.loc[index,\"Category\"] = 151\n",
    "    elif df_recipes.loc[index,\"Cuisine\"] == 0 and df_recipes.loc[index,\"minutes\"] == 2:\n",
    "        df_recipes_cat.loc[index,\"Category\"] = 152\n",
    "    elif df_recipes.loc[index,\"Cuisine\"] == 0 and df_recipes.loc[index,\"minutes\"] == 3:\n",
    "        df_recipes_cat.loc[index,\"Category\"] = 153\n",
    "    elif df_recipes.loc[index,\"Cuisine\"] == 0 and df_recipes.loc[index,\"minutes\"] == 4:\n",
    "        df_recipes_cat.loc[index,\"Category\"] = 154\n",
    "    elif df_recipes.loc[index,\"Cuisine\"] == 1 and df_recipes.loc[index,\"minutes\"] == 0:\n",
    "        df_recipes_cat.loc[index,\"Category\"] = 155\n",
    "    elif df_recipes.loc[index,\"Cuisine\"] == 1 and df_recipes.loc[index,\"minutes\"] == 1:\n",
    "        df_recipes_cat.loc[index,\"Category\"] = 156\n",
    "    elif df_recipes.loc[index,\"Cuisine\"] == 1 and df_recipes.loc[index,\"minutes\"] == 2:\n",
    "        df_recipes_cat.loc[index,\"Category\"] = 157\n",
    "    elif df_recipes.loc[index,\"Cuisine\"] == 1 and df_recipes.loc[index,\"minutes\"] == 3:\n",
    "        df_recipes_cat.loc[index,\"Category\"] = 158\n",
    "    elif df_recipes.loc[index,\"Cuisine\"] == 1 and df_recipes.loc[index,\"minutes\"] == 4:\n",
    "        df_recipes_cat.loc[index,\"Category\"] = 159\n",
    "    elif df_recipes.loc[index,\"Cuisine\"] == 2 and df_recipes.loc[index,\"minutes\"] == 0:\n",
    "        df_recipes_cat.loc[index,\"Category\"] = 160\n",
    "    elif df_recipes.loc[index,\"Cuisine\"] == 2 and df_recipes.loc[index,\"minutes\"] == 1:\n",
    "        df_recipes_cat.loc[index,\"Category\"] = 161\n",
    "    elif df_recipes.loc[index,\"Cuisine\"] == 2 and df_recipes.loc[index,\"minutes\"] == 2:\n",
    "        df_recipes_cat.loc[index,\"Category\"] = 162\n",
    "    elif df_recipes.loc[index,\"Cuisine\"] == 2 and df_recipes.loc[index,\"minutes\"] == 3:\n",
    "        df_recipes_cat.loc[index,\"Category\"] = 163\n",
    "    elif df_recipes.loc[index,\"Cuisine\"] == 2 and df_recipes.loc[index,\"minutes\"] == 4:\n",
    "        df_recipes_cat.loc[index,\"Category\"] = 164\n",
    "    elif df_recipes.loc[index,\"Cuisine\"] == 3 and df_recipes.loc[index,\"minutes\"] == 0:\n",
    "        df_recipes_cat.loc[index,\"Category\"] = 165\n",
    "    elif df_recipes.loc[index,\"Cuisine\"] == 3 and df_recipes.loc[index,\"minutes\"] == 1:\n",
    "        df_recipes_cat.loc[index,\"Category\"] = 166\n",
    "    elif df_recipes.loc[index,\"Cuisine\"] == 3 and df_recipes.loc[index,\"minutes\"] == 2:\n",
    "        df_recipes_cat.loc[index,\"Category\"] = 167\n",
    "    elif df_recipes.loc[index,\"Cuisine\"] == 3 and df_recipes.loc[index,\"minutes\"] == 3:\n",
    "        df_recipes_cat.loc[index,\"Category\"] = 168\n",
    "    elif df_recipes.loc[index,\"Cuisine\"] == 3 and df_recipes.loc[index,\"minutes\"] == 4:\n",
    "        df_recipes_cat.loc[index,\"Category\"] = 169\n",
    "    elif df_recipes.loc[index,\"Cuisine\"] == 4 and df_recipes.loc[index,\"minutes\"] == 0:\n",
    "        df_recipes_cat.loc[index,\"Category\"] = 170\n",
    "    elif df_recipes.loc[index,\"Cuisine\"] == 4 and df_recipes.loc[index,\"minutes\"] == 1:\n",
    "        df_recipes_cat.loc[index,\"Category\"] = 171\n",
    "    elif df_recipes.loc[index,\"Cuisine\"] == 4 and df_recipes.loc[index,\"minutes\"] == 2:\n",
    "        df_recipes_cat.loc[index,\"Category\"] = 172\n",
    "    elif df_recipes.loc[index,\"Cuisine\"] == 4 and df_recipes.loc[index,\"minutes\"] == 3:\n",
    "        df_recipes_cat.loc[index,\"Category\"] = 173\n",
    "    elif df_recipes.loc[index,\"Cuisine\"] == 4 and df_recipes.loc[index,\"minutes\"] == 4:\n",
    "        df_recipes_cat.loc[index,\"Category\"] = 174"
   ],
   "metadata": {
    "collapsed": false,
    "pycharm": {
     "name": "#%%\n"
    }
   }
  },
  {
   "cell_type": "code",
   "execution_count": null,
   "outputs": [],
   "source": [],
   "metadata": {
    "collapsed": false,
    "pycharm": {
     "name": "#%%\n"
    }
   }
  },
  {
   "cell_type": "markdown",
   "source": [
    "### Gaining muscle (Calorie surplus)"
   ],
   "metadata": {
    "collapsed": false,
    "pycharm": {
     "name": "#%% md\n"
    }
   }
  },
  {
   "cell_type": "code",
   "execution_count": null,
   "outputs": [],
   "source": [
    "indices_vegetarian_gains = list(np.where((df_recipes[\"Vegetarian\"] == \"vegetarian\") & (df_recipes['Calories (#)'] >= 500) & (df_recipes['Calories (#)'] <= 1200) & (df_recipes['Total Fat (PDV)'] >= 15) & (df_recipes['Total Fat (PDV)'] <= 25) & (df_recipes['Saturated Fat (PDV)'] <= 20) & (df_recipes['Protein (PDV)'] >= 20) & (df_recipes['Carbohydrates (PDV)'] >= 30) & (df_recipes['Carbohydrates (PDV)'] <= 60)))[0]"
   ],
   "metadata": {
    "collapsed": false,
    "pycharm": {
     "name": "#%%\n"
    }
   }
  },
  {
   "cell_type": "code",
   "execution_count": null,
   "outputs": [],
   "source": [
    "len(indices_vegetarian_gains)"
   ],
   "metadata": {
    "collapsed": false,
    "pycharm": {
     "name": "#%%\n"
    }
   }
  },
  {
   "cell_type": "code",
   "execution_count": null,
   "outputs": [],
   "source": [
    "for index in indices_vegetarian_gains:\n",
    "    if df_recipes.loc[index,\"Cuisine\"] == 0 and df_recipes.loc[index,\"minutes\"] == 0:\n",
    "        df_recipes_cat.loc[index,\"Category\"] = 175\n",
    "    elif df_recipes.loc[index,\"Cuisine\"] == 0 and df_recipes.loc[index,\"minutes\"] == 1:\n",
    "        df_recipes_cat.loc[index,\"Category\"] = 176\n",
    "    elif df_recipes.loc[index,\"Cuisine\"] == 0 and df_recipes.loc[index,\"minutes\"] == 2:\n",
    "        df_recipes_cat.loc[index,\"Category\"] = 177\n",
    "    elif df_recipes.loc[index,\"Cuisine\"] == 0 and df_recipes.loc[index,\"minutes\"] == 3:\n",
    "        df_recipes_cat.loc[index,\"Category\"] = 178\n",
    "    elif df_recipes.loc[index,\"Cuisine\"] == 0 and df_recipes.loc[index,\"minutes\"] == 4:\n",
    "        df_recipes_cat.loc[index,\"Category\"] = 179\n",
    "    elif df_recipes.loc[index,\"Cuisine\"] == 1 and df_recipes.loc[index,\"minutes\"] == 0:\n",
    "        df_recipes_cat.loc[index,\"Category\"] = 180\n",
    "    elif df_recipes.loc[index,\"Cuisine\"] == 1 and df_recipes.loc[index,\"minutes\"] == 1:\n",
    "        df_recipes_cat.loc[index,\"Category\"] = 181\n",
    "    elif df_recipes.loc[index,\"Cuisine\"] == 1 and df_recipes.loc[index,\"minutes\"] == 2:\n",
    "        df_recipes_cat.loc[index,\"Category\"] = 182\n",
    "    elif df_recipes.loc[index,\"Cuisine\"] == 1 and df_recipes.loc[index,\"minutes\"] == 3:\n",
    "        df_recipes_cat.loc[index,\"Category\"] = 183\n",
    "    elif df_recipes.loc[index,\"Cuisine\"] == 1 and df_recipes.loc[index,\"minutes\"] == 4:\n",
    "        df_recipes_cat.loc[index,\"Category\"] = 184\n",
    "    elif df_recipes.loc[index,\"Cuisine\"] == 2 and df_recipes.loc[index,\"minutes\"] == 0:\n",
    "        df_recipes_cat.loc[index,\"Category\"] = 185\n",
    "    elif df_recipes.loc[index,\"Cuisine\"] == 2 and df_recipes.loc[index,\"minutes\"] == 1:\n",
    "        df_recipes_cat.loc[index,\"Category\"] = 186\n",
    "    elif df_recipes.loc[index,\"Cuisine\"] == 2 and df_recipes.loc[index,\"minutes\"] == 2:\n",
    "        df_recipes_cat.loc[index,\"Category\"] = 187\n",
    "    elif df_recipes.loc[index,\"Cuisine\"] == 2 and df_recipes.loc[index,\"minutes\"] == 3:\n",
    "        df_recipes_cat.loc[index,\"Category\"] = 188\n",
    "    elif df_recipes.loc[index,\"Cuisine\"] == 2 and df_recipes.loc[index,\"minutes\"] == 4:\n",
    "        df_recipes_cat.loc[index,\"Category\"] = 189\n",
    "    elif df_recipes.loc[index,\"Cuisine\"] == 3 and df_recipes.loc[index,\"minutes\"] == 0:\n",
    "        df_recipes_cat.loc[index,\"Category\"] = 190\n",
    "    elif df_recipes.loc[index,\"Cuisine\"] == 3 and df_recipes.loc[index,\"minutes\"] == 1:\n",
    "        df_recipes_cat.loc[index,\"Category\"] = 191\n",
    "    elif df_recipes.loc[index,\"Cuisine\"] == 3 and df_recipes.loc[index,\"minutes\"] == 2:\n",
    "        df_recipes_cat.loc[index,\"Category\"] = 192\n",
    "    elif df_recipes.loc[index,\"Cuisine\"] == 3 and df_recipes.loc[index,\"minutes\"] == 3:\n",
    "        df_recipes_cat.loc[index,\"Category\"] = 193\n",
    "    elif df_recipes.loc[index,\"Cuisine\"] == 3 and df_recipes.loc[index,\"minutes\"] == 4:\n",
    "        df_recipes_cat.loc[index,\"Category\"] = 194\n",
    "    elif df_recipes.loc[index,\"Cuisine\"] == 4 and df_recipes.loc[index,\"minutes\"] == 0:\n",
    "        df_recipes_cat.loc[index,\"Category\"] = 195\n",
    "    elif df_recipes.loc[index,\"Cuisine\"] == 4 and df_recipes.loc[index,\"minutes\"] == 1:\n",
    "        df_recipes_cat.loc[index,\"Category\"] = 196\n",
    "    elif df_recipes.loc[index,\"Cuisine\"] == 4 and df_recipes.loc[index,\"minutes\"] == 2:\n",
    "        df_recipes_cat.loc[index,\"Category\"] = 197\n",
    "    elif df_recipes.loc[index,\"Cuisine\"] == 4 and df_recipes.loc[index,\"minutes\"] == 3:\n",
    "        df_recipes_cat.loc[index,\"Category\"] = 198\n",
    "    elif df_recipes.loc[index,\"Cuisine\"] == 4 and df_recipes.loc[index,\"minutes\"] == 4:\n",
    "        df_recipes_cat.loc[index,\"Category\"] = 199"
   ],
   "metadata": {
    "collapsed": false,
    "pycharm": {
     "name": "#%%\n"
    }
   }
  },
  {
   "cell_type": "code",
   "execution_count": null,
   "outputs": [],
   "source": [],
   "metadata": {
    "collapsed": false,
    "pycharm": {
     "name": "#%%\n"
    }
   }
  },
  {
   "cell_type": "markdown",
   "source": [
    "### Losing fat (Calorie deficit)"
   ],
   "metadata": {
    "collapsed": false,
    "pycharm": {
     "name": "#%% md\n"
    }
   }
  },
  {
   "cell_type": "code",
   "execution_count": null,
   "outputs": [],
   "source": [
    "indices_vegetarian_losing = list(np.where((df_recipes[\"Vegetarian\"] == \"vegetarian\") & (df_recipes['Calories (#)'] >= 300) & (df_recipes['Calories (#)'] <= 600) & (df_recipes['Total Fat (PDV)'] >= 7.5) & (df_recipes['Total Fat (PDV)'] <= 15) & (df_recipes['Saturated Fat (PDV)'] <= 20) & (df_recipes['Protein (PDV)'] >= 25) & (df_recipes['Carbohydrates (PDV)'] >= 10) & (df_recipes['Carbohydrates (PDV)'] <= 30)))[0]"
   ],
   "metadata": {
    "collapsed": false,
    "pycharm": {
     "name": "#%%\n"
    }
   }
  },
  {
   "cell_type": "code",
   "execution_count": null,
   "outputs": [],
   "source": [
    "len(indices_vegetarian_losing)"
   ],
   "metadata": {
    "collapsed": false,
    "pycharm": {
     "name": "#%%\n"
    }
   }
  },
  {
   "cell_type": "code",
   "execution_count": null,
   "outputs": [],
   "source": [
    "for index in indices_vegetarian_losing:\n",
    "    if df_recipes.loc[index,\"Cuisine\"] == 0 and df_recipes.loc[index,\"minutes\"] == 0:\n",
    "        df_recipes_cat.loc[index,\"Category\"] = 200\n",
    "    elif df_recipes.loc[index,\"Cuisine\"] == 0 and df_recipes.loc[index,\"minutes\"] == 1:\n",
    "        df_recipes_cat.loc[index,\"Category\"] = 201\n",
    "    elif df_recipes.loc[index,\"Cuisine\"] == 0 and df_recipes.loc[index,\"minutes\"] == 2:\n",
    "        df_recipes_cat.loc[index,\"Category\"] = 202\n",
    "    elif df_recipes.loc[index,\"Cuisine\"] == 0 and df_recipes.loc[index,\"minutes\"] == 3:\n",
    "        df_recipes_cat.loc[index,\"Category\"] = 203\n",
    "    elif df_recipes.loc[index,\"Cuisine\"] == 0 and df_recipes.loc[index,\"minutes\"] == 4:\n",
    "        df_recipes_cat.loc[index,\"Category\"] = 204\n",
    "    elif df_recipes.loc[index,\"Cuisine\"] == 1 and df_recipes.loc[index,\"minutes\"] == 0:\n",
    "        df_recipes_cat.loc[index,\"Category\"] = 205\n",
    "    elif df_recipes.loc[index,\"Cuisine\"] == 1 and df_recipes.loc[index,\"minutes\"] == 1:\n",
    "        df_recipes_cat.loc[index,\"Category\"] = 206\n",
    "    elif df_recipes.loc[index,\"Cuisine\"] == 1 and df_recipes.loc[index,\"minutes\"] == 2:\n",
    "        df_recipes_cat.loc[index,\"Category\"] = 207\n",
    "    elif df_recipes.loc[index,\"Cuisine\"] == 1 and df_recipes.loc[index,\"minutes\"] == 3:\n",
    "        df_recipes_cat.loc[index,\"Category\"] = 208\n",
    "    elif df_recipes.loc[index,\"Cuisine\"] == 1 and df_recipes.loc[index,\"minutes\"] == 4:\n",
    "        df_recipes_cat.loc[index,\"Category\"] = 209\n",
    "    elif df_recipes.loc[index,\"Cuisine\"] == 2 and df_recipes.loc[index,\"minutes\"] == 0:\n",
    "        df_recipes_cat.loc[index,\"Category\"] = 210\n",
    "    elif df_recipes.loc[index,\"Cuisine\"] == 2 and df_recipes.loc[index,\"minutes\"] == 1:\n",
    "        df_recipes_cat.loc[index,\"Category\"] = 211\n",
    "    elif df_recipes.loc[index,\"Cuisine\"] == 2 and df_recipes.loc[index,\"minutes\"] == 2:\n",
    "        df_recipes_cat.loc[index,\"Category\"] = 212\n",
    "    elif df_recipes.loc[index,\"Cuisine\"] == 2 and df_recipes.loc[index,\"minutes\"] == 3:\n",
    "        df_recipes_cat.loc[index,\"Category\"] = 213\n",
    "    elif df_recipes.loc[index,\"Cuisine\"] == 2 and df_recipes.loc[index,\"minutes\"] == 4:\n",
    "        df_recipes_cat.loc[index,\"Category\"] = 214\n",
    "    elif df_recipes.loc[index,\"Cuisine\"] == 3 and df_recipes.loc[index,\"minutes\"] == 0:\n",
    "        df_recipes_cat.loc[index,\"Category\"] = 215\n",
    "    elif df_recipes.loc[index,\"Cuisine\"] == 3 and df_recipes.loc[index,\"minutes\"] == 1:\n",
    "        df_recipes_cat.loc[index,\"Category\"] = 216\n",
    "    elif df_recipes.loc[index,\"Cuisine\"] == 3 and df_recipes.loc[index,\"minutes\"] == 2:\n",
    "        df_recipes_cat.loc[index,\"Category\"] = 217\n",
    "    elif df_recipes.loc[index,\"Cuisine\"] == 3 and df_recipes.loc[index,\"minutes\"] == 3:\n",
    "        df_recipes_cat.loc[index,\"Category\"] = 218\n",
    "    elif df_recipes.loc[index,\"Cuisine\"] == 3 and df_recipes.loc[index,\"minutes\"] == 4:\n",
    "        df_recipes_cat.loc[index,\"Category\"] = 219\n",
    "    elif df_recipes.loc[index,\"Cuisine\"] == 4 and df_recipes.loc[index,\"minutes\"] == 0:\n",
    "        df_recipes_cat.loc[index,\"Category\"] = 220\n",
    "    elif df_recipes.loc[index,\"Cuisine\"] == 4 and df_recipes.loc[index,\"minutes\"] == 1:\n",
    "        df_recipes_cat.loc[index,\"Category\"] = 221\n",
    "    elif df_recipes.loc[index,\"Cuisine\"] == 4 and df_recipes.loc[index,\"minutes\"] == 2:\n",
    "        df_recipes_cat.loc[index,\"Category\"] = 222\n",
    "    elif df_recipes.loc[index,\"Cuisine\"] == 4 and df_recipes.loc[index,\"minutes\"] == 3:\n",
    "        df_recipes_cat.loc[index,\"Category\"] = 223\n",
    "    elif df_recipes.loc[index,\"Cuisine\"] == 4 and df_recipes.loc[index,\"minutes\"] == 4:\n",
    "        df_recipes_cat.loc[index,\"Category\"] = 224"
   ],
   "metadata": {
    "collapsed": false,
    "pycharm": {
     "name": "#%%\n"
    }
   }
  },
  {
   "cell_type": "code",
   "execution_count": null,
   "outputs": [],
   "source": [
    "df_recipes = df_recipes[df_recipes[\"Category\"] != 300 ]"
   ],
   "metadata": {
    "collapsed": false,
    "pycharm": {
     "name": "#%%\n"
    }
   }
  },
  {
   "cell_type": "code",
   "execution_count": null,
   "outputs": [],
   "source": [
    "df_recipes[\"Diet\"] = 10\n",
    "\n",
    "for i in indices_normal_balanced:\n",
    "    df_recipes.loc[i,\"Health Goals\"] = 0 # \"balanced\"\n",
    "\n",
    "for j in indices_normal_gains:\n",
    "    df_recipes.loc[j,\"Health Goals\"] = 1 # \"muscle gain\"\n",
    "\n",
    "for k in indices_normal_losing:\n",
    "    df_recipes.loc[k,\"Health Goals\"] = 2 # \"losing fat\"\n",
    "\n",
    "for l in indices_keto_balanced:\n",
    "    df_recipes.loc[l,\"Health Goals\"] = 0 # \"balanced\"\n",
    "\n",
    "for m in indices_keto_gains:\n",
    "    df_recipes.loc[m,\"Health Goals\"] = 1 # \"muscle gain\"\n",
    "\n",
    "for n in indices_keto_losing:\n",
    "    df_recipes.loc[n,\"Health Goals\"] = 2 # \"losing fat\"\n",
    "\n",
    "for o in indices_vegetarian_balanced:\n",
    "    df_recipes.loc[o,\"Health Goals\"] = 0 # \"balanced\"\n",
    "\n",
    "for p in indices_vegetarian_gains:\n",
    "    df_recipes.loc[p,\"Health Goals\"] = 1 # \"muscle gain\"\n",
    "\n",
    "for q in indices_vegetarian_losing:\n",
    "    df_recipes.loc[q,\"Health Goals\"] = 2 # \"losing fat\"\n",
    "\n",
    "df_recipes = df_recipes[df_recipes[\"Health Goals\"] != 10 ]"
   ],
   "metadata": {
    "collapsed": false,
    "pycharm": {
     "name": "#%%\n"
    }
   }
  },
  {
   "cell_type": "code",
   "execution_count": null,
   "outputs": [],
   "source": [
    "df_recipes[\"Diet\"] = 10\n",
    "\n",
    "for i in indices_normal_balanced:\n",
    "    df_recipes.loc[i,\"Diet\"] = 0 # \"normal\"\n",
    "\n",
    "for j in indices_normal_gains:\n",
    "    df_recipes.loc[j,\"Diet\"] = 0 # \"normal\"\n",
    "\n",
    "for k in indices_normal_losing:\n",
    "    df_recipes.loc[k,\"Diet\"] = 0 # \"normal\"\n",
    "\n",
    "for l in indices_keto_balanced:\n",
    "    df_recipes.loc[l,\"Diet\"] = 1 # \"keto\"\n",
    "\n",
    "for m in indices_keto_gains:\n",
    "    df_recipes.loc[m,\"Diet\"] = 1 # \"keto\"\n",
    "\n",
    "for n in indices_keto_losing:\n",
    "    df_recipes.loc[n,\"Diet\"] = 1 # \"keto\"\n",
    "\n",
    "for o in indices_vegetarian_balanced:\n",
    "    df_recipes.loc[o,\"Diet\"] = 2 # \"vegetarian\"\n",
    "\n",
    "for p in indices_vegetarian_gains:\n",
    "    df_recipes.loc[p,\"Diet\"] = 2 # \"vegetarian\"\n",
    "\n",
    "for q in indices_vegetarian_losing:\n",
    "    df_recipes.loc[q,\"Diet\"] = 2 # \"vegetarian\"\n",
    "\n",
    "df_recipes = df_recipes[df_recipes[\"Diet\"] != 10 ]\n",
    "# df_health_goals = pd.get_dummies(df_recipes[[\"Diet_&_Health_Goals\"]])"
   ],
   "metadata": {
    "collapsed": false,
    "pycharm": {
     "name": "#%%\n"
    }
   }
  },
  {
   "cell_type": "code",
   "execution_count": null,
   "outputs": [],
   "source": [],
   "metadata": {
    "collapsed": false,
    "pycharm": {
     "name": "#%%\n"
    }
   }
  },
  {
   "cell_type": "markdown",
   "source": [
    "# Features & Correlations"
   ],
   "metadata": {
    "collapsed": false,
    "pycharm": {
     "name": "#%% md\n"
    }
   }
  },
  {
   "cell_type": "code",
   "execution_count": null,
   "outputs": [],
   "source": [
    "df_recipes"
   ],
   "metadata": {
    "collapsed": false,
    "pycharm": {
     "name": "#%%\n"
    }
   }
  },
  {
   "cell_type": "code",
   "execution_count": null,
   "outputs": [],
   "source": [
    "filepath = Path('updated_recipes.csv')\n",
    "filepath.parent.mkdir(parents=True, exist_ok=True)\n",
    "df_recipes.to_csv(filepath)"
   ],
   "metadata": {
    "collapsed": false,
    "pycharm": {
     "name": "#%%\n"
    }
   }
  },
  {
   "cell_type": "code",
   "execution_count": 311,
   "outputs": [],
   "source": [
    "df_recipes_corr = df_recipes.drop([\"name\", \"id\", \"contributor_id\", \"submitted\", \"tags\", \"nutrition\", \"n_steps\", \"steps\", \"description\", \"ingredients\", \"n_ingredients\", \"Vegetarian\", \"Calories (#)\", \"Total Fat (PDV)\", \"Sugar (PDV)\", \"Sodium (PDV)\", \"Protein (PDV)\", \"Saturated Fat (PDV)\", \"Carbohydrates (PDV)\"], axis=1)"
   ],
   "metadata": {
    "collapsed": false,
    "pycharm": {
     "name": "#%%\n"
    }
   }
  },
  {
   "cell_type": "code",
   "execution_count": 312,
   "outputs": [
    {
     "data": {
      "text/plain": "     minutes  Cuisine  Category  Diet  Health Goals\n22         1        0        51     0           2.0\n60         0        1        55     0           2.0\n163        0        0        50     0           2.0\n227        0        3        65     0           2.0\n238        2        3       167     2           0.0",
      "text/html": "<div>\n<style scoped>\n    .dataframe tbody tr th:only-of-type {\n        vertical-align: middle;\n    }\n\n    .dataframe tbody tr th {\n        vertical-align: top;\n    }\n\n    .dataframe thead th {\n        text-align: right;\n    }\n</style>\n<table border=\"1\" class=\"dataframe\">\n  <thead>\n    <tr style=\"text-align: right;\">\n      <th></th>\n      <th>minutes</th>\n      <th>Cuisine</th>\n      <th>Category</th>\n      <th>Diet</th>\n      <th>Health Goals</th>\n    </tr>\n  </thead>\n  <tbody>\n    <tr>\n      <th>22</th>\n      <td>1</td>\n      <td>0</td>\n      <td>51</td>\n      <td>0</td>\n      <td>2.0</td>\n    </tr>\n    <tr>\n      <th>60</th>\n      <td>0</td>\n      <td>1</td>\n      <td>55</td>\n      <td>0</td>\n      <td>2.0</td>\n    </tr>\n    <tr>\n      <th>163</th>\n      <td>0</td>\n      <td>0</td>\n      <td>50</td>\n      <td>0</td>\n      <td>2.0</td>\n    </tr>\n    <tr>\n      <th>227</th>\n      <td>0</td>\n      <td>3</td>\n      <td>65</td>\n      <td>0</td>\n      <td>2.0</td>\n    </tr>\n    <tr>\n      <th>238</th>\n      <td>2</td>\n      <td>3</td>\n      <td>167</td>\n      <td>2</td>\n      <td>0.0</td>\n    </tr>\n  </tbody>\n</table>\n</div>"
     },
     "execution_count": 312,
     "metadata": {},
     "output_type": "execute_result"
    }
   ],
   "source": [
    "df_recipes_corr.head()"
   ],
   "metadata": {
    "collapsed": false,
    "pycharm": {
     "name": "#%%\n"
    }
   }
  },
  {
   "cell_type": "code",
   "execution_count": 313,
   "outputs": [],
   "source": [
    "# index_id_list = list(range(len(df_recipes_corr)))\n",
    "# df_recipes_corr[\"id\"] = index_id_list\n",
    "# # df_recipes_corr.index = index_id_list\n",
    "# to_categorical(df_recipes_corr[\"id\"])"
   ],
   "metadata": {
    "collapsed": false,
    "pycharm": {
     "name": "#%%\n"
    }
   }
  },
  {
   "cell_type": "code",
   "execution_count": 314,
   "outputs": [
    {
     "data": {
      "text/plain": "<AxesSubplot:>"
     },
     "execution_count": 314,
     "metadata": {},
     "output_type": "execute_result"
    },
    {
     "data": {
      "text/plain": "<Figure size 1200x1200 with 2 Axes>",
      "image/png": "[encoded data removed]"
     },
     "metadata": {},
     "output_type": "display_data"
    }
   ],
   "source": [
    "fig, ax = plt.subplots(figsize=(12,12))\n",
    "sns.heatmap(df_recipes_corr.corr(), annot = True, vmin=-1, vmax=1, center= 0, ax=ax)"
   ],
   "metadata": {
    "collapsed": false,
    "pycharm": {
     "name": "#%%\n"
    }
   }
  },
  {
   "cell_type": "code",
   "execution_count": 315,
   "outputs": [],
   "source": [
    "mms = MinMaxScaler()\n",
    "\n",
    "for i, feature in enumerate(['minutes', 'Cuisine', 'Health Goals', 'Diet']):\n",
    "    df_recipes_corr[feature + ' mms'] = mms.fit_transform(df_recipes_corr[[feature]])\n",
    "    df_recipes_corr = df_recipes_corr.drop(feature, axis=1)"
   ],
   "metadata": {
    "collapsed": false,
    "pycharm": {
     "name": "#%%\n"
    }
   }
  },
  {
   "cell_type": "code",
   "execution_count": 316,
   "outputs": [],
   "source": [
    "X = df_recipes_corr.drop(\"Category\", axis=1)\n",
    "y_cat = to_categorical(df_recipes_corr[\"Category\"])\n",
    "\n",
    "X_train, X_test, y_train, y_test = train_test_split(X.values, y_cat, test_size=0.3, random_state=22)"
   ],
   "metadata": {
    "collapsed": false,
    "pycharm": {
     "name": "#%%\n"
    }
   }
  },
  {
   "cell_type": "code",
   "execution_count": 317,
   "outputs": [
    {
     "name": "stdout",
     "output_type": "stream",
     "text": [
      "[[0. 0. 0. ... 0. 0. 0.]\n",
      " [0. 0. 0. ... 0. 0. 0.]\n",
      " [0. 0. 0. ... 0. 0. 0.]\n",
      " ...\n",
      " [0. 0. 0. ... 0. 0. 0.]\n",
      " [0. 0. 0. ... 0. 0. 0.]\n",
      " [0. 0. 0. ... 0. 0. 0.]]\n"
     ]
    }
   ],
   "source": [
    "print(y_train)"
   ],
   "metadata": {
    "collapsed": false,
    "pycharm": {
     "name": "#%%\n"
    }
   }
  },
  {
   "cell_type": "code",
   "execution_count": 319,
   "outputs": [
    {
     "name": "stdout",
     "output_type": "stream",
     "text": [
      "Epoch 1/100\n",
      "32/32 - 0s - loss: 3.5381 - accuracy: 0.2083 - val_loss: 2.5992 - val_accuracy: 0.3820 - 480ms/epoch - 15ms/step\n",
      "Epoch 2/100\n",
      "32/32 - 0s - loss: 1.9824 - accuracy: 0.4936 - val_loss: 1.5826 - val_accuracy: 0.6152 - 127ms/epoch - 4ms/step\n",
      "Epoch 3/100\n",
      "32/32 - 0s - loss: 1.2874 - accuracy: 0.7335 - val_loss: 1.2005 - val_accuracy: 0.7135 - 120ms/epoch - 4ms/step\n",
      "Epoch 4/100\n",
      "32/32 - 0s - loss: 0.9214 - accuracy: 0.8045 - val_loss: 0.9983 - val_accuracy: 0.7865 - 120ms/epoch - 4ms/step\n",
      "Epoch 5/100\n",
      "32/32 - 0s - loss: 0.7206 - accuracy: 0.8505 - val_loss: 0.7204 - val_accuracy: 0.8118 - 130ms/epoch - 4ms/step\n",
      "Epoch 6/100\n",
      "32/32 - 0s - loss: 0.6104 - accuracy: 0.8617 - val_loss: 0.7870 - val_accuracy: 0.8455 - 130ms/epoch - 4ms/step\n",
      "Epoch 7/100\n",
      "32/32 - 0s - loss: 0.5033 - accuracy: 0.8980 - val_loss: 0.6102 - val_accuracy: 0.8792 - 136ms/epoch - 4ms/step\n",
      "Epoch 8/100\n",
      "32/32 - 0s - loss: 0.4166 - accuracy: 0.9206 - val_loss: 0.4669 - val_accuracy: 0.8933 - 113ms/epoch - 4ms/step\n",
      "Epoch 9/100\n",
      "32/32 - 0s - loss: 0.3523 - accuracy: 0.9290 - val_loss: 0.4356 - val_accuracy: 0.8961 - 110ms/epoch - 3ms/step\n",
      "Epoch 10/100\n",
      "32/32 - 0s - loss: 0.3009 - accuracy: 0.9409 - val_loss: 0.3217 - val_accuracy: 0.9466 - 110ms/epoch - 3ms/step\n",
      "Epoch 11/100\n",
      "32/32 - 0s - loss: 0.2841 - accuracy: 0.9449 - val_loss: 0.4020 - val_accuracy: 0.9382 - 120ms/epoch - 4ms/step\n",
      "Epoch 12/100\n",
      "32/32 - 0s - loss: 0.2473 - accuracy: 0.9518 - val_loss: 0.3918 - val_accuracy: 0.9326 - 110ms/epoch - 3ms/step\n",
      "Epoch 13/100\n",
      "32/32 - 0s - loss: 0.1863 - accuracy: 0.9612 - val_loss: 0.2217 - val_accuracy: 0.9747 - 111ms/epoch - 3ms/step\n",
      "Epoch 14/100\n",
      "32/32 - 0s - loss: 0.1742 - accuracy: 0.9665 - val_loss: 0.2744 - val_accuracy: 0.9635 - 110ms/epoch - 3ms/step\n",
      "Epoch 15/100\n",
      "32/32 - 0s - loss: 0.1263 - accuracy: 0.9740 - val_loss: 0.2212 - val_accuracy: 0.9663 - 120ms/epoch - 4ms/step\n",
      "Epoch 16/100\n",
      "32/32 - 0s - loss: 0.1396 - accuracy: 0.9706 - val_loss: 0.2494 - val_accuracy: 0.9663 - 110ms/epoch - 3ms/step\n",
      "Epoch 17/100\n",
      "32/32 - 0s - loss: 0.1211 - accuracy: 0.9744 - val_loss: 0.2072 - val_accuracy: 0.9831 - 110ms/epoch - 3ms/step\n",
      "Epoch 18/100\n",
      "32/32 - 0s - loss: 0.0999 - accuracy: 0.9809 - val_loss: 0.2363 - val_accuracy: 0.9719 - 110ms/epoch - 3ms/step\n",
      "Epoch 19/100\n",
      "32/32 - 0s - loss: 0.0945 - accuracy: 0.9812 - val_loss: 0.2153 - val_accuracy: 0.9831 - 120ms/epoch - 4ms/step\n",
      "Epoch 20/100\n",
      "32/32 - 0s - loss: 0.0838 - accuracy: 0.9844 - val_loss: 0.1998 - val_accuracy: 0.9888 - 110ms/epoch - 3ms/step\n",
      "Epoch 21/100\n",
      "32/32 - 0s - loss: 0.0668 - accuracy: 0.9862 - val_loss: 0.1922 - val_accuracy: 0.9916 - 116ms/epoch - 4ms/step\n",
      "Epoch 22/100\n",
      "32/32 - 0s - loss: 0.0717 - accuracy: 0.9869 - val_loss: 0.1737 - val_accuracy: 0.9888 - 108ms/epoch - 3ms/step\n",
      "Epoch 23/100\n",
      "32/32 - 0s - loss: 0.0505 - accuracy: 0.9900 - val_loss: 0.1662 - val_accuracy: 0.9944 - 120ms/epoch - 4ms/step\n",
      "Epoch 24/100\n",
      "32/32 - 0s - loss: 0.0449 - accuracy: 0.9909 - val_loss: 0.2067 - val_accuracy: 0.9803 - 110ms/epoch - 3ms/step\n",
      "Epoch 25/100\n",
      "32/32 - 0s - loss: 0.0571 - accuracy: 0.9865 - val_loss: 0.1952 - val_accuracy: 0.9860 - 110ms/epoch - 3ms/step\n",
      "Epoch 26/100\n",
      "32/32 - 0s - loss: 0.0452 - accuracy: 0.9922 - val_loss: 0.1656 - val_accuracy: 0.9944 - 111ms/epoch - 3ms/step\n",
      "Epoch 27/100\n",
      "32/32 - 0s - loss: 0.0416 - accuracy: 0.9925 - val_loss: 0.1692 - val_accuracy: 0.9888 - 119ms/epoch - 4ms/step\n",
      "Epoch 28/100\n",
      "32/32 - 0s - loss: 0.0369 - accuracy: 0.9909 - val_loss: 0.1701 - val_accuracy: 0.9916 - 125ms/epoch - 4ms/step\n",
      "Epoch 29/100\n",
      "32/32 - 0s - loss: 0.0483 - accuracy: 0.9894 - val_loss: 0.1914 - val_accuracy: 0.9916 - 116ms/epoch - 4ms/step\n",
      "Epoch 30/100\n",
      "32/32 - 0s - loss: 0.0500 - accuracy: 0.9906 - val_loss: 0.1737 - val_accuracy: 0.9972 - 114ms/epoch - 4ms/step\n",
      "Epoch 31/100\n",
      "32/32 - 0s - loss: 0.0436 - accuracy: 0.9928 - val_loss: 0.1795 - val_accuracy: 0.9916 - 111ms/epoch - 3ms/step\n",
      "Epoch 32/100\n",
      "32/32 - 0s - loss: 0.0325 - accuracy: 0.9950 - val_loss: 0.1876 - val_accuracy: 0.9888 - 115ms/epoch - 4ms/step\n",
      "Epoch 33/100\n",
      "32/32 - 0s - loss: 0.0429 - accuracy: 0.9922 - val_loss: 0.1857 - val_accuracy: 0.9860 - 120ms/epoch - 4ms/step\n",
      "Epoch 34/100\n",
      "32/32 - 0s - loss: 0.0371 - accuracy: 0.9934 - val_loss: 0.1875 - val_accuracy: 0.9831 - 110ms/epoch - 3ms/step\n",
      "Epoch 35/100\n",
      "32/32 - 0s - loss: 0.0304 - accuracy: 0.9947 - val_loss: 0.1783 - val_accuracy: 0.9944 - 111ms/epoch - 3ms/step\n",
      "Epoch 36/100\n",
      "32/32 - 0s - loss: 0.0209 - accuracy: 0.9972 - val_loss: 0.1658 - val_accuracy: 0.9972 - 119ms/epoch - 4ms/step\n",
      "Epoch 37/100\n",
      "32/32 - 0s - loss: 0.0160 - accuracy: 0.9975 - val_loss: 0.1729 - val_accuracy: 0.9972 - 110ms/epoch - 3ms/step\n",
      "Epoch 38/100\n",
      "32/32 - 0s - loss: 0.0112 - accuracy: 0.9978 - val_loss: 0.1745 - val_accuracy: 0.9916 - 110ms/epoch - 3ms/step\n",
      "Epoch 39/100\n",
      "32/32 - 0s - loss: 0.0140 - accuracy: 0.9975 - val_loss: 0.1783 - val_accuracy: 0.9972 - 98ms/epoch - 3ms/step\n",
      "Epoch 40/100\n",
      "32/32 - 0s - loss: 0.0123 - accuracy: 0.9978 - val_loss: 0.1763 - val_accuracy: 0.9916 - 110ms/epoch - 3ms/step\n",
      "Epoch 41/100\n",
      "32/32 - 0s - loss: 0.0192 - accuracy: 0.9984 - val_loss: 0.1786 - val_accuracy: 0.9972 - 116ms/epoch - 4ms/step\n",
      "Epoch 42/100\n",
      "32/32 - 0s - loss: 0.0125 - accuracy: 0.9981 - val_loss: 0.2010 - val_accuracy: 0.9944 - 115ms/epoch - 4ms/step\n",
      "Epoch 43/100\n",
      "32/32 - 0s - loss: 0.0168 - accuracy: 0.9981 - val_loss: 0.1738 - val_accuracy: 0.9972 - 118ms/epoch - 4ms/step\n",
      "Epoch 44/100\n",
      "32/32 - 0s - loss: 0.0061 - accuracy: 0.9991 - val_loss: 0.1738 - val_accuracy: 0.9972 - 115ms/epoch - 4ms/step\n",
      "Epoch 45/100\n",
      "32/32 - 0s - loss: 0.0106 - accuracy: 0.9987 - val_loss: 0.1753 - val_accuracy: 0.9972 - 115ms/epoch - 4ms/step\n",
      "Epoch 46/100\n",
      "32/32 - 0s - loss: 0.0087 - accuracy: 0.9978 - val_loss: 0.1796 - val_accuracy: 0.9972 - 126ms/epoch - 4ms/step\n",
      "Epoch 47/100\n",
      "32/32 - 0s - loss: 0.0076 - accuracy: 0.9981 - val_loss: 0.1794 - val_accuracy: 0.9972 - 134ms/epoch - 4ms/step\n",
      "Epoch 48/100\n",
      "32/32 - 0s - loss: 0.0087 - accuracy: 0.9987 - val_loss: 0.1749 - val_accuracy: 0.9972 - 116ms/epoch - 4ms/step\n",
      "Epoch 49/100\n",
      "32/32 - 0s - loss: 0.0068 - accuracy: 0.9984 - val_loss: 0.1863 - val_accuracy: 0.9944 - 130ms/epoch - 4ms/step\n",
      "Epoch 50/100\n",
      "32/32 - 0s - loss: 0.0107 - accuracy: 0.9978 - val_loss: 0.1881 - val_accuracy: 0.9944 - 127ms/epoch - 4ms/step\n",
      "Epoch 51/100\n",
      "32/32 - 0s - loss: 0.0117 - accuracy: 0.9972 - val_loss: 0.1958 - val_accuracy: 0.9944 - 123ms/epoch - 4ms/step\n",
      "Epoch 52/100\n",
      "32/32 - 0s - loss: 0.0168 - accuracy: 0.9962 - val_loss: 0.1887 - val_accuracy: 0.9972 - 120ms/epoch - 4ms/step\n",
      "Epoch 53/100\n",
      "32/32 - 0s - loss: 0.0281 - accuracy: 0.9962 - val_loss: 0.1894 - val_accuracy: 0.9972 - 120ms/epoch - 4ms/step\n",
      "Epoch 54/100\n",
      "32/32 - 0s - loss: 0.0193 - accuracy: 0.9956 - val_loss: 0.2759 - val_accuracy: 0.9860 - 120ms/epoch - 4ms/step\n",
      "Epoch 55/100\n",
      "32/32 - 0s - loss: 0.1056 - accuracy: 0.9831 - val_loss: 0.3050 - val_accuracy: 0.9747 - 132ms/epoch - 4ms/step\n",
      "Epoch 56/100\n",
      "32/32 - 0s - loss: 0.2360 - accuracy: 0.9546 - val_loss: 0.5707 - val_accuracy: 0.9410 - 125ms/epoch - 4ms/step\n",
      "Epoch 57/100\n",
      "32/32 - 0s - loss: 0.3050 - accuracy: 0.9603 - val_loss: 0.4673 - val_accuracy: 0.9663 - 120ms/epoch - 4ms/step\n",
      "Epoch 58/100\n",
      "32/32 - 0s - loss: 0.2322 - accuracy: 0.9615 - val_loss: 0.3384 - val_accuracy: 0.9803 - 120ms/epoch - 4ms/step\n",
      "Epoch 59/100\n",
      "32/32 - 0s - loss: 0.1300 - accuracy: 0.9781 - val_loss: 0.2293 - val_accuracy: 0.9916 - 134ms/epoch - 4ms/step\n",
      "Epoch 60/100\n",
      "32/32 - 0s - loss: 0.1025 - accuracy: 0.9844 - val_loss: 0.3230 - val_accuracy: 0.9803 - 126ms/epoch - 4ms/step\n",
      "Epoch 61/100\n",
      "32/32 - 0s - loss: 0.0487 - accuracy: 0.9916 - val_loss: 0.2225 - val_accuracy: 0.9972 - 130ms/epoch - 4ms/step\n",
      "Epoch 62/100\n",
      "32/32 - 0s - loss: 0.0276 - accuracy: 0.9953 - val_loss: 0.2328 - val_accuracy: 0.9916 - 125ms/epoch - 4ms/step\n",
      "Epoch 63/100\n",
      "32/32 - 0s - loss: 0.0200 - accuracy: 0.9950 - val_loss: 0.2126 - val_accuracy: 0.9972 - 121ms/epoch - 4ms/step\n",
      "Epoch 64/100\n",
      "32/32 - 0s - loss: 0.0178 - accuracy: 0.9959 - val_loss: 0.2225 - val_accuracy: 0.9972 - 130ms/epoch - 4ms/step\n",
      "Epoch 65/100\n",
      "32/32 - 0s - loss: 0.0198 - accuracy: 0.9969 - val_loss: 0.2229 - val_accuracy: 0.9944 - 134ms/epoch - 4ms/step\n",
      "Epoch 66/100\n",
      "32/32 - 0s - loss: 0.0143 - accuracy: 0.9972 - val_loss: 0.2184 - val_accuracy: 0.9972 - 128ms/epoch - 4ms/step\n",
      "Epoch 67/100\n",
      "32/32 - 0s - loss: 0.0063 - accuracy: 0.9984 - val_loss: 0.2171 - val_accuracy: 0.9972 - 128ms/epoch - 4ms/step\n",
      "Epoch 68/100\n",
      "32/32 - 0s - loss: 0.0071 - accuracy: 0.9984 - val_loss: 0.2178 - val_accuracy: 0.9972 - 130ms/epoch - 4ms/step\n",
      "Epoch 69/100\n",
      "32/32 - 0s - loss: 0.0088 - accuracy: 0.9984 - val_loss: 0.2196 - val_accuracy: 0.9972 - 124ms/epoch - 4ms/step\n",
      "Epoch 70/100\n",
      "32/32 - 0s - loss: 0.0062 - accuracy: 0.9987 - val_loss: 0.2189 - val_accuracy: 0.9972 - 127ms/epoch - 4ms/step\n",
      "Epoch 71/100\n",
      "32/32 - 0s - loss: 0.0115 - accuracy: 0.9984 - val_loss: 0.2250 - val_accuracy: 0.9972 - 128ms/epoch - 4ms/step\n",
      "Epoch 72/100\n",
      "32/32 - 0s - loss: 0.0069 - accuracy: 0.9987 - val_loss: 0.2188 - val_accuracy: 0.9972 - 120ms/epoch - 4ms/step\n",
      "Epoch 73/100\n",
      "32/32 - 0s - loss: 0.0057 - accuracy: 0.9987 - val_loss: 0.2217 - val_accuracy: 0.9972 - 120ms/epoch - 4ms/step\n",
      "Epoch 74/100\n",
      "32/32 - 0s - loss: 0.0025 - accuracy: 0.9991 - val_loss: 0.2196 - val_accuracy: 0.9972 - 130ms/epoch - 4ms/step\n",
      "Epoch 75/100\n",
      "32/32 - 0s - loss: 0.0077 - accuracy: 0.9991 - val_loss: 0.2211 - val_accuracy: 0.9972 - 130ms/epoch - 4ms/step\n",
      "Epoch 76/100\n",
      "32/32 - 0s - loss: 0.0064 - accuracy: 0.9991 - val_loss: 0.2223 - val_accuracy: 0.9972 - 127ms/epoch - 4ms/step\n",
      "Epoch 77/100\n",
      "32/32 - 0s - loss: 0.0029 - accuracy: 0.9994 - val_loss: 0.2198 - val_accuracy: 0.9972 - 122ms/epoch - 4ms/step\n",
      "Epoch 78/100\n",
      "32/32 - 0s - loss: 0.0055 - accuracy: 0.9994 - val_loss: 0.2222 - val_accuracy: 0.9972 - 115ms/epoch - 4ms/step\n",
      "Epoch 79/100\n",
      "32/32 - 0s - loss: 5.9653e-04 - accuracy: 0.9997 - val_loss: 0.2214 - val_accuracy: 0.9972 - 120ms/epoch - 4ms/step\n",
      "Epoch 80/100\n",
      "32/32 - 0s - loss: 0.0026 - accuracy: 0.9997 - val_loss: 0.2193 - val_accuracy: 0.9972 - 120ms/epoch - 4ms/step\n",
      "Epoch 81/100\n",
      "32/32 - 0s - loss: 5.5955e-04 - accuracy: 0.9997 - val_loss: 0.2198 - val_accuracy: 0.9972 - 120ms/epoch - 4ms/step\n",
      "Epoch 82/100\n",
      "32/32 - 0s - loss: 7.2018e-04 - accuracy: 0.9997 - val_loss: 0.2196 - val_accuracy: 0.9972 - 120ms/epoch - 4ms/step\n",
      "Epoch 83/100\n",
      "32/32 - 0s - loss: 6.9005e-04 - accuracy: 0.9997 - val_loss: 0.2233 - val_accuracy: 0.9972 - 120ms/epoch - 4ms/step\n",
      "Epoch 84/100\n",
      "32/32 - 0s - loss: 0.0036 - accuracy: 0.9997 - val_loss: 0.2190 - val_accuracy: 0.9972 - 126ms/epoch - 4ms/step\n",
      "Epoch 85/100\n",
      "32/32 - 0s - loss: 0.0028 - accuracy: 0.9994 - val_loss: 0.2197 - val_accuracy: 0.9972 - 124ms/epoch - 4ms/step\n",
      "Epoch 86/100\n",
      "32/32 - 0s - loss: 0.0014 - accuracy: 0.9994 - val_loss: 0.2229 - val_accuracy: 0.9972 - 117ms/epoch - 4ms/step\n",
      "Epoch 87/100\n",
      "32/32 - 0s - loss: 0.0074 - accuracy: 0.9997 - val_loss: 0.2185 - val_accuracy: 0.9972 - 121ms/epoch - 4ms/step\n",
      "Epoch 88/100\n",
      "32/32 - 0s - loss: 1.5759e-04 - accuracy: 1.0000 - val_loss: 0.2172 - val_accuracy: 0.9972 - 124ms/epoch - 4ms/step\n",
      "Epoch 89/100\n",
      "32/32 - 0s - loss: 9.3740e-05 - accuracy: 1.0000 - val_loss: 0.2176 - val_accuracy: 0.9972 - 126ms/epoch - 4ms/step\n",
      "Epoch 90/100\n",
      "32/32 - 0s - loss: 7.8620e-05 - accuracy: 1.0000 - val_loss: 0.2177 - val_accuracy: 0.9972 - 130ms/epoch - 4ms/step\n",
      "Epoch 91/100\n",
      "32/32 - 0s - loss: 7.2535e-05 - accuracy: 1.0000 - val_loss: 0.2176 - val_accuracy: 0.9972 - 124ms/epoch - 4ms/step\n",
      "Epoch 92/100\n",
      "32/32 - 0s - loss: 6.9097e-05 - accuracy: 1.0000 - val_loss: 0.2176 - val_accuracy: 0.9972 - 120ms/epoch - 4ms/step\n",
      "Epoch 93/100\n",
      "32/32 - 0s - loss: 6.6575e-05 - accuracy: 1.0000 - val_loss: 0.2175 - val_accuracy: 0.9972 - 130ms/epoch - 4ms/step\n",
      "Epoch 94/100\n",
      "32/32 - 0s - loss: 6.4657e-05 - accuracy: 1.0000 - val_loss: 0.2175 - val_accuracy: 0.9972 - 120ms/epoch - 4ms/step\n",
      "Epoch 95/100\n",
      "32/32 - 0s - loss: 6.2991e-05 - accuracy: 1.0000 - val_loss: 0.2174 - val_accuracy: 0.9972 - 133ms/epoch - 4ms/step\n",
      "Epoch 96/100\n",
      "32/32 - 0s - loss: 6.1382e-05 - accuracy: 1.0000 - val_loss: 0.2173 - val_accuracy: 0.9972 - 117ms/epoch - 4ms/step\n",
      "Epoch 97/100\n",
      "32/32 - 0s - loss: 6.0037e-05 - accuracy: 1.0000 - val_loss: 0.2173 - val_accuracy: 0.9972 - 119ms/epoch - 4ms/step\n",
      "Epoch 98/100\n",
      "32/32 - 0s - loss: 5.8895e-05 - accuracy: 1.0000 - val_loss: 0.2172 - val_accuracy: 0.9972 - 130ms/epoch - 4ms/step\n",
      "Epoch 99/100\n",
      "32/32 - 0s - loss: 5.7800e-05 - accuracy: 1.0000 - val_loss: 0.2171 - val_accuracy: 0.9972 - 121ms/epoch - 4ms/step\n",
      "Epoch 100/100\n",
      "32/32 - 0s - loss: 5.6849e-05 - accuracy: 1.0000 - val_loss: 0.2171 - val_accuracy: 0.9972 - 122ms/epoch - 4ms/step\n"
     ]
    },
    {
     "data": {
      "text/plain": "<keras.callbacks.History at 0x1995f578d60>"
     },
     "execution_count": 319,
     "metadata": {},
     "output_type": "execute_result"
    }
   ],
   "source": [
    "model = Sequential()\n",
    "model.add(Dense(6, input_shape=(4,), activation='tanh'))\n",
    "model.add(Dense(36, activation='tanh'))\n",
    "model.add(Dense(1296, activation='tanh'))\n",
    "model.add(Dense(225, activation='softmax'))\n",
    "model.compile(Adam(learning_rate=0.003),\n",
    "              loss='categorical_crossentropy',\n",
    "              metrics=['accuracy'])\n",
    "\n",
    "history = model.fit(X_train, y_train, epochs=100,\n",
    "            validation_split=0.1, batch_size=100,\n",
    "            verbose=2)\n",
    "history\n"
   ],
   "metadata": {
    "collapsed": false,
    "pycharm": {
     "name": "#%%\n"
    }
   }
  },
  {
   "cell_type": "code",
   "execution_count": 320,
   "outputs": [
    {
     "name": "stdout",
     "output_type": "stream",
     "text": [
      "48/48 [==============================] - 0s 1ms/step - loss: 0.6157 - accuracy: 0.9915\n"
     ]
    },
    {
     "data": {
      "text/plain": "[0.6157119870185852, 0.9914641976356506]"
     },
     "execution_count": 320,
     "metadata": {},
     "output_type": "execute_result"
    }
   ],
   "source": [
    "result = model.evaluate(X_test, y_test)\n",
    "result"
   ],
   "metadata": {
    "collapsed": false,
    "pycharm": {
     "name": "#%%\n"
    }
   }
  },
  {
   "cell_type": "code",
   "execution_count": 321,
   "outputs": [],
   "source": [
    "model.save('model.h5')"
   ],
   "metadata": {
    "collapsed": false,
    "pycharm": {
     "name": "#%%\n"
    }
   }
  },
  {
   "cell_type": "code",
   "execution_count": 327,
   "outputs": [
    {
     "data": {
      "text/plain": "array([[0.25, 0.75, 1.  , 0.  ],\n       [1.  , 0.5 , 0.5 , 1.  ],\n       [0.  , 0.  , 1.  , 0.  ],\n       ...,\n       [0.  , 0.25, 1.  , 0.  ],\n       [0.5 , 0.75, 1.  , 0.  ],\n       [0.  , 0.  , 0.5 , 0.  ]])"
     },
     "execution_count": 327,
     "metadata": {},
     "output_type": "execute_result"
    }
   ],
   "source": [
    "X_test"
   ],
   "metadata": {
    "collapsed": false,
    "pycharm": {
     "name": "#%%\n"
    }
   }
  },
  {
   "cell_type": "code",
   "execution_count": 329,
   "outputs": [
    {
     "name": "stdout",
     "output_type": "stream",
     "text": [
      "48/48 [==============================] - 0s 1ms/step\n"
     ]
    },
    {
     "data": {
      "text/plain": "1.0"
     },
     "execution_count": 329,
     "metadata": {},
     "output_type": "execute_result"
    }
   ],
   "source": [
    "recipe = model.predict(X_test)\n",
    "recipe"
   ],
   "metadata": {
    "collapsed": false,
    "pycharm": {
     "name": "#%%\n"
    }
   }
  },
  {
   "cell_type": "code",
   "execution_count": 197,
   "outputs": [
    {
     "data": {
      "text/plain": "DecisionTreeClassifier()",
      "text/html": "<style>#sk-container-id-17 {color: black;background-color: white;}#sk-container-id-17 pre{padding: 0;}#sk-container-id-17 div.sk-toggleable {background-color: white;}#sk-container-id-17 label.sk-toggleable__label {cursor: pointer;display: block;width: 100%;margin-bottom: 0;padding: 0.3em;box-sizing: border-box;text-align: center;}#sk-container-id-17 label.sk-toggleable__label-arrow:before {content: \"▸\";float: left;margin-right: 0.25em;color: #696969;}#sk-container-id-17 label.sk-toggleable__label-arrow:hover:before {color: black;}#sk-container-id-17 div.sk-estimator:hover label.sk-toggleable__label-arrow:before {color: black;}#sk-container-id-17 div.sk-toggleable__content {max-height: 0;max-width: 0;overflow: hidden;text-align: left;background-color: #f0f8ff;}#sk-container-id-17 div.sk-toggleable__content pre {margin: 0.2em;color: black;border-radius: 0.25em;background-color: #f0f8ff;}#sk-container-id-17 input.sk-toggleable__control:checked~div.sk-toggleable__content {max-height: 200px;max-width: 100%;overflow: auto;}#sk-container-id-17 input.sk-toggleable__control:checked~label.sk-toggleable__label-arrow:before {content: \"▾\";}#sk-container-id-17 div.sk-estimator input.sk-toggleable__control:checked~label.sk-toggleable__label {background-color: #d4ebff;}#sk-container-id-17 div.sk-label input.sk-toggleable__control:checked~label.sk-toggleable__label {background-color: #d4ebff;}#sk-container-id-17 input.sk-hidden--visually {border: 0;clip: rect(1px 1px 1px 1px);clip: rect(1px, 1px, 1px, 1px);height: 1px;margin: -1px;overflow: hidden;padding: 0;position: absolute;width: 1px;}#sk-container-id-17 div.sk-estimator {font-family: monospace;background-color: #f0f8ff;border: 1px dotted black;border-radius: 0.25em;box-sizing: border-box;margin-bottom: 0.5em;}#sk-container-id-17 div.sk-estimator:hover {background-color: #d4ebff;}#sk-container-id-17 div.sk-parallel-item::after {content: \"\";width: 100%;border-bottom: 1px solid gray;flex-grow: 1;}#sk-container-id-17 div.sk-label:hover label.sk-toggleable__label {background-color: #d4ebff;}#sk-container-id-17 div.sk-serial::before {content: \"\";position: absolute;border-left: 1px solid gray;box-sizing: border-box;top: 0;bottom: 0;left: 50%;z-index: 0;}#sk-container-id-17 div.sk-serial {display: flex;flex-direction: column;align-items: center;background-color: white;padding-right: 0.2em;padding-left: 0.2em;position: relative;}#sk-container-id-17 div.sk-item {position: relative;z-index: 1;}#sk-container-id-17 div.sk-parallel {display: flex;align-items: stretch;justify-content: center;background-color: white;position: relative;}#sk-container-id-17 div.sk-item::before, #sk-container-id-17 div.sk-parallel-item::before {content: \"\";position: absolute;border-left: 1px solid gray;box-sizing: border-box;top: 0;bottom: 0;left: 50%;z-index: -1;}#sk-container-id-17 div.sk-parallel-item {display: flex;flex-direction: column;z-index: 1;position: relative;background-color: white;}#sk-container-id-17 div.sk-parallel-item:first-child::after {align-self: flex-end;width: 50%;}#sk-container-id-17 div.sk-parallel-item:last-child::after {align-self: flex-start;width: 50%;}#sk-container-id-17 div.sk-parallel-item:only-child::after {width: 0;}#sk-container-id-17 div.sk-dashed-wrapped {border: 1px dashed gray;margin: 0 0.4em 0.5em 0.4em;box-sizing: border-box;padding-bottom: 0.4em;background-color: white;}#sk-container-id-17 div.sk-label label {font-family: monospace;font-weight: bold;display: inline-block;line-height: 1.2em;}#sk-container-id-17 div.sk-label-container {text-align: center;}#sk-container-id-17 div.sk-container {/* jupyter's `normalize.less` sets `[hidden] { display: none; }` but bootstrap.min.css set `[hidden] { display: none !important; }` so we also need the `!important` here to be able to override the default hidden behavior on the sphinx rendered scikit-learn.org. See: https://github.com/scikit-learn/scikit-learn/issues/21755 */display: inline-block !important;position: relative;}#sk-container-id-17 div.sk-text-repr-fallback {display: none;}</style><div id=\"sk-container-id-17\" class=\"sk-top-container\"><div class=\"sk-text-repr-fallback\"><pre>DecisionTreeClassifier()</pre><b>In a Jupyter environment, please rerun this cell to show the HTML representation or trust the notebook. <br />On GitHub, the HTML representation is unable to render, please try loading this page with nbviewer.org.</b></div><div class=\"sk-container\" hidden><div class=\"sk-item\"><div class=\"sk-estimator sk-toggleable\"><input class=\"sk-toggleable__control sk-hidden--visually\" id=\"sk-estimator-id-17\" type=\"checkbox\" checked><label for=\"sk-estimator-id-17\" class=\"sk-toggleable__label sk-toggleable__label-arrow\">DecisionTreeClassifier</label><div class=\"sk-toggleable__content\"><pre>DecisionTreeClassifier()</pre></div></div></div></div></div>"
     },
     "execution_count": 197,
     "metadata": {},
     "output_type": "execute_result"
    }
   ],
   "source": [
    "# def compute_auroc(truth, prediction):\n",
    "#     fpr, tpr, thresholds = metrics.roc_curve(truth, prediction, pos_label=1)\n",
    "#     return metrics.auc(fpr, tpr)\n",
    "#\n",
    "# def plot_auroc(truth, predictions):\n",
    "#     fpr, tpr, threshold = metrics.roc_curve(truth, predictions)\n",
    "#     roc_auc = metrics.auc(fpr, tpr)\n",
    "#\n",
    "#     # method I: plt\n",
    "#     import matplotlib.pyplot as plt\n",
    "#     plt.title('Receiver Operating Characteristic')\n",
    "#     plt.plot(fpr, tpr, 'b', label = 'AUC = %0.2f' % roc_auc)\n",
    "#     plt.legend(loc = 'lower right')\n",
    "#     plt.plot([0, 1], [0, 1],'r--')\n",
    "#     plt.xlim([0, 1])\n",
    "#     plt.ylim([0, 1])\n",
    "#     plt.ylabel('True Positive Rate')\n",
    "#     plt.xlabel('False Positive Rate')\n",
    "#     plt.show()\n",
    "#\n",
    "# def apply_model(model, features, validation_function = compute_auroc, print_to_screen = True, show_auroc = False):\n",
    "#     pred_tree_train = model.predict_proba(X_train)\n",
    "#     pred_tree_test = model.predict_proba(X_test)\n",
    "#\n",
    "#     pred_churn_tree_train = pd.Series(map(lambda x: x[0], pred_tree_train))\n",
    "#     pred_churn_tree_test = pd.Series(map(lambda x: x[0], pred_tree_test))\n",
    "#\n",
    "#     validation_result_train = validation_function(y_train, pred_churn_tree_train)\n",
    "#     validation_result_test = validation_function(y_test, pred_churn_tree_test)\n",
    "#\n",
    "#     if(print_to_screen):\n",
    "#         print( \"Result on trainset:\" )\n",
    "#         print( validation_result_train )\n",
    "#         print()\n",
    "#         print( \"Result on testset:\" )\n",
    "#         print( validation_result_test )\n",
    "#     if(show_auroc):\n",
    "#         plot_auroc(y_test, pred_churn_tree_test)\n",
    "#\n",
    "#     return (validation_result_train, validation_result_test)\n",
    "#\n",
    "# def plot_tree(model, features):\n",
    "#     # Generate plot data\n",
    "#     dot_data = tree.export_graphviz(model, out_file=None,\n",
    "#                           feature_names=features,\n",
    "#                           class_names=['High Grade', 'Medium Grade', 'Low Grade'],\n",
    "#                           filled=True, rounded=True,\n",
    "#                           special_characters=True)\n",
    "#\n",
    "#     # Turn into graph using graphviz\n",
    "#     graph = graphviz.Source(dot_data)\n",
    "#\n",
    "#     # Write out a pdf\n",
    "#     graph.render(\"decision_tree\")\n",
    "#\n",
    "#     # Display in the notebook\n",
    "#     return graph\n",
    "#\n",
    "# from sklearn.tree import DecisionTreeClassifier\n",
    "#\n",
    "# dt = DecisionTreeClassifier()\n",
    "# dt.fit(X_train, y_train)"
   ],
   "metadata": {
    "collapsed": false,
    "pycharm": {
     "name": "#%%\n"
    }
   }
  },
  {
   "cell_type": "code",
   "execution_count": 198,
   "outputs": [],
   "source": [
    "# # joblib.dump(dt,'model.h5')"
   ],
   "metadata": {
    "collapsed": false,
    "pycharm": {
     "name": "#%%\n"
    }
   }
  },
  {
   "cell_type": "code",
   "execution_count": 199,
   "outputs": [
    {
     "name": "stdout",
     "output_type": "stream",
     "text": [
      "Result on trainset:\n",
      "nan\n",
      "\n",
      "Result on testset:\n",
      "0.43988173455978974\n"
     ]
    },
    {
     "name": "stderr",
     "output_type": "stream",
     "text": [
      "C:\\Users\\Gebruiker\\anaconda3\\envs\\food\\lib\\site-packages\\sklearn\\metrics\\_ranking.py:1018: UndefinedMetricWarning: No positive samples in y_true, true positive value should be meaningless\n",
      "  warnings.warn(\n"
     ]
    },
    {
     "ename": "ValueError",
     "evalue": "multiclass format is not supported",
     "output_type": "error",
     "traceback": [
      "\u001B[1;31m---------------------------------------------------------------------------\u001B[0m",
      "\u001B[1;31mValueError\u001B[0m                                Traceback (most recent call last)",
      "Input \u001B[1;32mIn [199]\u001B[0m, in \u001B[0;36m<cell line: 1>\u001B[1;34m()\u001B[0m\n\u001B[1;32m----> 1\u001B[0m \u001B[43mapply_model\u001B[49m\u001B[43m(\u001B[49m\u001B[43mdt\u001B[49m\u001B[43m,\u001B[49m\u001B[43m \u001B[49m\u001B[43m[\u001B[49m\u001B[43m]\u001B[49m\u001B[43m,\u001B[49m\u001B[43m \u001B[49m\u001B[43mshow_auroc\u001B[49m\u001B[38;5;241;43m=\u001B[39;49m\u001B[38;5;28;43;01mTrue\u001B[39;49;00m\u001B[43m)\u001B[49m\n",
      "Input \u001B[1;32mIn [197]\u001B[0m, in \u001B[0;36mapply_model\u001B[1;34m(model, features, validation_function, print_to_screen, show_auroc)\u001B[0m\n\u001B[0;32m     36\u001B[0m     \u001B[38;5;28mprint\u001B[39m( validation_result_test )\n\u001B[0;32m     37\u001B[0m \u001B[38;5;28;01mif\u001B[39;00m(show_auroc):\n\u001B[1;32m---> 38\u001B[0m     \u001B[43mplot_auroc\u001B[49m\u001B[43m(\u001B[49m\u001B[43my_test\u001B[49m\u001B[43m,\u001B[49m\u001B[43m \u001B[49m\u001B[43mpred_churn_tree_test\u001B[49m\u001B[43m)\u001B[49m\n\u001B[0;32m     40\u001B[0m \u001B[38;5;28;01mreturn\u001B[39;00m (validation_result_train, validation_result_test)\n",
      "Input \u001B[1;32mIn [197]\u001B[0m, in \u001B[0;36mplot_auroc\u001B[1;34m(truth, predictions)\u001B[0m\n\u001B[0;32m      5\u001B[0m \u001B[38;5;28;01mdef\u001B[39;00m \u001B[38;5;21mplot_auroc\u001B[39m(truth, predictions):\n\u001B[1;32m----> 6\u001B[0m     fpr, tpr, threshold \u001B[38;5;241m=\u001B[39m \u001B[43mmetrics\u001B[49m\u001B[38;5;241;43m.\u001B[39;49m\u001B[43mroc_curve\u001B[49m\u001B[43m(\u001B[49m\u001B[43mtruth\u001B[49m\u001B[43m,\u001B[49m\u001B[43m \u001B[49m\u001B[43mpredictions\u001B[49m\u001B[43m)\u001B[49m\n\u001B[0;32m      7\u001B[0m     roc_auc \u001B[38;5;241m=\u001B[39m metrics\u001B[38;5;241m.\u001B[39mauc(fpr, tpr)\n\u001B[0;32m      9\u001B[0m     \u001B[38;5;66;03m# method I: plt\u001B[39;00m\n",
      "File \u001B[1;32m~\\anaconda3\\envs\\food\\lib\\site-packages\\sklearn\\metrics\\_ranking.py:981\u001B[0m, in \u001B[0;36mroc_curve\u001B[1;34m(y_true, y_score, pos_label, sample_weight, drop_intermediate)\u001B[0m\n\u001B[0;32m    892\u001B[0m \u001B[38;5;28;01mdef\u001B[39;00m \u001B[38;5;21mroc_curve\u001B[39m(\n\u001B[0;32m    893\u001B[0m     y_true, y_score, \u001B[38;5;241m*\u001B[39m, pos_label\u001B[38;5;241m=\u001B[39m\u001B[38;5;28;01mNone\u001B[39;00m, sample_weight\u001B[38;5;241m=\u001B[39m\u001B[38;5;28;01mNone\u001B[39;00m, drop_intermediate\u001B[38;5;241m=\u001B[39m\u001B[38;5;28;01mTrue\u001B[39;00m\n\u001B[0;32m    894\u001B[0m ):\n\u001B[0;32m    895\u001B[0m     \u001B[38;5;124;03m\"\"\"Compute Receiver operating characteristic (ROC).\u001B[39;00m\n\u001B[0;32m    896\u001B[0m \n\u001B[0;32m    897\u001B[0m \u001B[38;5;124;03m    Note: this implementation is restricted to the binary classification task.\u001B[39;00m\n\u001B[1;32m   (...)\u001B[0m\n\u001B[0;32m    979\u001B[0m \n\u001B[0;32m    980\u001B[0m \u001B[38;5;124;03m    \"\"\"\u001B[39;00m\n\u001B[1;32m--> 981\u001B[0m     fps, tps, thresholds \u001B[38;5;241m=\u001B[39m \u001B[43m_binary_clf_curve\u001B[49m\u001B[43m(\u001B[49m\n\u001B[0;32m    982\u001B[0m \u001B[43m        \u001B[49m\u001B[43my_true\u001B[49m\u001B[43m,\u001B[49m\u001B[43m \u001B[49m\u001B[43my_score\u001B[49m\u001B[43m,\u001B[49m\u001B[43m \u001B[49m\u001B[43mpos_label\u001B[49m\u001B[38;5;241;43m=\u001B[39;49m\u001B[43mpos_label\u001B[49m\u001B[43m,\u001B[49m\u001B[43m \u001B[49m\u001B[43msample_weight\u001B[49m\u001B[38;5;241;43m=\u001B[39;49m\u001B[43msample_weight\u001B[49m\n\u001B[0;32m    983\u001B[0m \u001B[43m    \u001B[49m\u001B[43m)\u001B[49m\n\u001B[0;32m    985\u001B[0m     \u001B[38;5;66;03m# Attempt to drop thresholds corresponding to points in between and\u001B[39;00m\n\u001B[0;32m    986\u001B[0m     \u001B[38;5;66;03m# collinear with other points. These are always suboptimal and do not\u001B[39;00m\n\u001B[0;32m    987\u001B[0m     \u001B[38;5;66;03m# appear on a plotted ROC curve (and thus do not affect the AUC).\u001B[39;00m\n\u001B[1;32m   (...)\u001B[0m\n\u001B[0;32m    992\u001B[0m     \u001B[38;5;66;03m# but does not drop more complicated cases like fps = [1, 3, 7],\u001B[39;00m\n\u001B[0;32m    993\u001B[0m     \u001B[38;5;66;03m# tps = [1, 2, 4]; there is no harm in keeping too many thresholds.\u001B[39;00m\n\u001B[0;32m    994\u001B[0m     \u001B[38;5;28;01mif\u001B[39;00m drop_intermediate \u001B[38;5;129;01mand\u001B[39;00m \u001B[38;5;28mlen\u001B[39m(fps) \u001B[38;5;241m>\u001B[39m \u001B[38;5;241m2\u001B[39m:\n",
      "File \u001B[1;32m~\\anaconda3\\envs\\food\\lib\\site-packages\\sklearn\\metrics\\_ranking.py:740\u001B[0m, in \u001B[0;36m_binary_clf_curve\u001B[1;34m(y_true, y_score, pos_label, sample_weight)\u001B[0m\n\u001B[0;32m    738\u001B[0m y_type \u001B[38;5;241m=\u001B[39m type_of_target(y_true, input_name\u001B[38;5;241m=\u001B[39m\u001B[38;5;124m\"\u001B[39m\u001B[38;5;124my_true\u001B[39m\u001B[38;5;124m\"\u001B[39m)\n\u001B[0;32m    739\u001B[0m \u001B[38;5;28;01mif\u001B[39;00m \u001B[38;5;129;01mnot\u001B[39;00m (y_type \u001B[38;5;241m==\u001B[39m \u001B[38;5;124m\"\u001B[39m\u001B[38;5;124mbinary\u001B[39m\u001B[38;5;124m\"\u001B[39m \u001B[38;5;129;01mor\u001B[39;00m (y_type \u001B[38;5;241m==\u001B[39m \u001B[38;5;124m\"\u001B[39m\u001B[38;5;124mmulticlass\u001B[39m\u001B[38;5;124m\"\u001B[39m \u001B[38;5;129;01mand\u001B[39;00m pos_label \u001B[38;5;129;01mis\u001B[39;00m \u001B[38;5;129;01mnot\u001B[39;00m \u001B[38;5;28;01mNone\u001B[39;00m)):\n\u001B[1;32m--> 740\u001B[0m     \u001B[38;5;28;01mraise\u001B[39;00m \u001B[38;5;167;01mValueError\u001B[39;00m(\u001B[38;5;124m\"\u001B[39m\u001B[38;5;132;01m{0}\u001B[39;00m\u001B[38;5;124m format is not supported\u001B[39m\u001B[38;5;124m\"\u001B[39m\u001B[38;5;241m.\u001B[39mformat(y_type))\n\u001B[0;32m    742\u001B[0m check_consistent_length(y_true, y_score, sample_weight)\n\u001B[0;32m    743\u001B[0m y_true \u001B[38;5;241m=\u001B[39m column_or_1d(y_true)\n",
      "\u001B[1;31mValueError\u001B[0m: multiclass format is not supported"
     ]
    }
   ],
   "source": [
    "# apply_model(dt, [], show_auroc=True)"
   ],
   "metadata": {
    "collapsed": false,
    "pycharm": {
     "name": "#%%\n"
    }
   }
  },
  {
   "cell_type": "code",
   "execution_count": null,
   "outputs": [],
   "source": [
    "# plot_tree(dt,['minutes', 'Cuisine', 'Calories (#)', 'Total Fat (PDV)', 'Sugar (PDV)', 'Sodium (PDV)', 'Protein (PDV)', 'Saturated Fat (PDV)', \"Carbohydrates (PDV)\"])"
   ],
   "metadata": {
    "collapsed": false,
    "pycharm": {
     "name": "#%%\n"
    }
   }
  },
  {
   "cell_type": "code",
   "execution_count": 254,
   "outputs": [
    {
     "name": "stdout",
     "output_type": "stream",
     "text": [
      "48/48 [==============================] - 0s 7ms/step\n",
      "================================================================================\n",
      "RandomForestClassifier()\n",
      "--------------------------------------------------------------------------------\n",
      "Accuracy score: 0.000657\n",
      "Confusion Matrix:\n",
      "[[1 0 0 ... 0 0 0]\n",
      " [1 0 0 ... 0 0 0]\n",
      " [1 0 0 ... 0 0 0]\n",
      " ...\n",
      " [1 0 0 ... 0 0 0]\n",
      " [1 0 0 ... 0 0 0]\n",
      " [1 0 0 ... 0 0 0]]\n",
      "\n"
     ]
    },
    {
     "ename": "ValueError",
     "evalue": "The number of classes has to be greater than one; got 1 class",
     "output_type": "error",
     "traceback": [
      "\u001B[1;31m---------------------------------------------------------------------------\u001B[0m",
      "\u001B[1;31mValueError\u001B[0m                                Traceback (most recent call last)",
      "Input \u001B[1;32mIn [254]\u001B[0m, in \u001B[0;36m<cell line: 11>\u001B[1;34m()\u001B[0m\n\u001B[0;32m      9\u001B[0m y_pred_class \u001B[38;5;241m=\u001B[39m np\u001B[38;5;241m.\u001B[39margmax(y_pred, axis\u001B[38;5;241m=\u001B[39m\u001B[38;5;241m1\u001B[39m)\n\u001B[0;32m     11\u001B[0m \u001B[38;5;28;01mfor\u001B[39;00m mod \u001B[38;5;129;01min\u001B[39;00m [RandomForestClassifier(), SVC(), GaussianNB()]:\n\u001B[1;32m---> 12\u001B[0m     \u001B[43mmod\u001B[49m\u001B[38;5;241;43m.\u001B[39;49m\u001B[43mfit\u001B[49m\u001B[43m(\u001B[49m\u001B[43mX_train\u001B[49m\u001B[43m,\u001B[49m\u001B[43m \u001B[49m\u001B[43my_train\u001B[49m\u001B[43m[\u001B[49m\u001B[43m:\u001B[49m\u001B[43m,\u001B[49m\u001B[43m \u001B[49m\u001B[38;5;241;43m1\u001B[39;49m\u001B[43m]\u001B[49m\u001B[43m)\u001B[49m\n\u001B[0;32m     13\u001B[0m     y_pred \u001B[38;5;241m=\u001B[39m mod\u001B[38;5;241m.\u001B[39mpredict(X_test)\n\u001B[0;32m     14\u001B[0m     \u001B[38;5;28mprint\u001B[39m(\u001B[38;5;124m\"\u001B[39m\u001B[38;5;124m=\u001B[39m\u001B[38;5;124m\"\u001B[39m\u001B[38;5;241m*\u001B[39m\u001B[38;5;241m80\u001B[39m)\n",
      "File \u001B[1;32m~\\anaconda3\\envs\\food\\lib\\site-packages\\sklearn\\svm\\_base.py:182\u001B[0m, in \u001B[0;36mBaseLibSVM.fit\u001B[1;34m(self, X, y, sample_weight)\u001B[0m\n\u001B[0;32m    172\u001B[0m \u001B[38;5;28;01melse\u001B[39;00m:\n\u001B[0;32m    173\u001B[0m     X, y \u001B[38;5;241m=\u001B[39m \u001B[38;5;28mself\u001B[39m\u001B[38;5;241m.\u001B[39m_validate_data(\n\u001B[0;32m    174\u001B[0m         X,\n\u001B[0;32m    175\u001B[0m         y,\n\u001B[1;32m   (...)\u001B[0m\n\u001B[0;32m    179\u001B[0m         accept_large_sparse\u001B[38;5;241m=\u001B[39m\u001B[38;5;28;01mFalse\u001B[39;00m,\n\u001B[0;32m    180\u001B[0m     )\n\u001B[1;32m--> 182\u001B[0m y \u001B[38;5;241m=\u001B[39m \u001B[38;5;28;43mself\u001B[39;49m\u001B[38;5;241;43m.\u001B[39;49m\u001B[43m_validate_targets\u001B[49m\u001B[43m(\u001B[49m\u001B[43my\u001B[49m\u001B[43m)\u001B[49m\n\u001B[0;32m    184\u001B[0m sample_weight \u001B[38;5;241m=\u001B[39m np\u001B[38;5;241m.\u001B[39masarray(\n\u001B[0;32m    185\u001B[0m     [] \u001B[38;5;28;01mif\u001B[39;00m sample_weight \u001B[38;5;129;01mis\u001B[39;00m \u001B[38;5;28;01mNone\u001B[39;00m \u001B[38;5;28;01melse\u001B[39;00m sample_weight, dtype\u001B[38;5;241m=\u001B[39mnp\u001B[38;5;241m.\u001B[39mfloat64\n\u001B[0;32m    186\u001B[0m )\n\u001B[0;32m    187\u001B[0m solver_type \u001B[38;5;241m=\u001B[39m LIBSVM_IMPL\u001B[38;5;241m.\u001B[39mindex(\u001B[38;5;28mself\u001B[39m\u001B[38;5;241m.\u001B[39m_impl)\n",
      "File \u001B[1;32m~\\anaconda3\\envs\\food\\lib\\site-packages\\sklearn\\svm\\_base.py:739\u001B[0m, in \u001B[0;36mBaseSVC._validate_targets\u001B[1;34m(self, y)\u001B[0m\n\u001B[0;32m    737\u001B[0m \u001B[38;5;28mself\u001B[39m\u001B[38;5;241m.\u001B[39mclass_weight_ \u001B[38;5;241m=\u001B[39m compute_class_weight(\u001B[38;5;28mself\u001B[39m\u001B[38;5;241m.\u001B[39mclass_weight, classes\u001B[38;5;241m=\u001B[39m\u001B[38;5;28mcls\u001B[39m, y\u001B[38;5;241m=\u001B[39my_)\n\u001B[0;32m    738\u001B[0m \u001B[38;5;28;01mif\u001B[39;00m \u001B[38;5;28mlen\u001B[39m(\u001B[38;5;28mcls\u001B[39m) \u001B[38;5;241m<\u001B[39m \u001B[38;5;241m2\u001B[39m:\n\u001B[1;32m--> 739\u001B[0m     \u001B[38;5;28;01mraise\u001B[39;00m \u001B[38;5;167;01mValueError\u001B[39;00m(\n\u001B[0;32m    740\u001B[0m         \u001B[38;5;124m\"\u001B[39m\u001B[38;5;124mThe number of classes has to be greater than one; got \u001B[39m\u001B[38;5;132;01m%d\u001B[39;00m\u001B[38;5;124m class\u001B[39m\u001B[38;5;124m\"\u001B[39m\n\u001B[0;32m    741\u001B[0m         \u001B[38;5;241m%\u001B[39m \u001B[38;5;28mlen\u001B[39m(\u001B[38;5;28mcls\u001B[39m)\n\u001B[0;32m    742\u001B[0m     )\n\u001B[0;32m    744\u001B[0m \u001B[38;5;28mself\u001B[39m\u001B[38;5;241m.\u001B[39mclasses_ \u001B[38;5;241m=\u001B[39m \u001B[38;5;28mcls\u001B[39m\n\u001B[0;32m    746\u001B[0m \u001B[38;5;28;01mreturn\u001B[39;00m np\u001B[38;5;241m.\u001B[39masarray(y, dtype\u001B[38;5;241m=\u001B[39mnp\u001B[38;5;241m.\u001B[39mfloat64, order\u001B[38;5;241m=\u001B[39m\u001B[38;5;124m\"\u001B[39m\u001B[38;5;124mC\u001B[39m\u001B[38;5;124m\"\u001B[39m)\n",
      "\u001B[1;31mValueError\u001B[0m: The number of classes has to be greater than one; got 1 class"
     ]
    }
   ],
   "source": [
    "# from sklearn.ensemble import RandomForestClassifier\n",
    "# from sklearn.svm import SVC\n",
    "# from sklearn.naive_bayes import GaussianNB\n",
    "# from sklearn.metrics import accuracy_score\n",
    "# from sklearn.metrics import confusion_matrix\n",
    "#\n",
    "# y_pred = model.predict(X_test)\n",
    "# y_test_class = np.argmax(y_test, axis=1)\n",
    "# y_pred_class = np.argmax(y_pred, axis=1)\n",
    "#\n",
    "# for mod in [RandomForestClassifier(), SVC(), GaussianNB()]:\n",
    "#     mod.fit(X_train, y_train[:, 1])\n",
    "#     y_pred = mod.predict(X_test)\n",
    "#     print(\"=\"*80)\n",
    "#     print(mod)\n",
    "#     print(\"-\"*80)\n",
    "#     print(\"Accuracy score: {:0.3}\".format(accuracy_score(y_test_class,\n",
    "#                                                          y_pred)))\n",
    "#     print(\"Confusion Matrix:\")\n",
    "#     print(confusion_matrix(y_test_class, y_pred))\n",
    "#     print()"
   ],
   "metadata": {
    "collapsed": false,
    "pycharm": {
     "name": "#%%\n"
    }
   }
  },
  {
   "cell_type": "code",
   "execution_count": null,
   "outputs": [],
   "source": [],
   "metadata": {
    "collapsed": false,
    "pycharm": {
     "name": "#%%\n"
    }
   }
  }
 ],
 "metadata": {
  "kernelspec": {
   "display_name": "Python 3",
   "language": "python",
   "name": "python3"
  },
  "language_info": {
   "codemirror_mode": {
    "name": "ipython",
    "version": 2
   },
   "file_extension": ".py",
   "mimetype": "text/x-python",
   "name": "python",
   "nbconvert_exporter": "python",
   "pygments_lexer": "ipython2",
   "version": "2.7.6"
  }
 },
 "nbformat": 4,
 "nbformat_minor": 0
}